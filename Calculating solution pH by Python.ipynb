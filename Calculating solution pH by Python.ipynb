{
 "cells": [
  {
   "cell_type": "markdown",
   "metadata": {},
   "source": [
    "# Calculating solution pH by Python"
   ]
  },
  {
   "cell_type": "markdown",
   "metadata": {},
   "source": [
    "### See more: https://pypi.org/project/pHcalc/"
   ]
  },
  {
   "cell_type": "markdown",
   "metadata": {},
   "source": [
    "## Project description\n",
    "pHcalc\n",
    "pHcalc is a Python library for systematically calculating solution pH, distribution diagrams, and titration curves.\n",
    "\n",
    "This package is Python 3.5 compatible with dependencies only on Numpy and Scipy. If you will be plotting the data, then there is an optional dependency on Matplotlib as well.\n",
    "\n",
    "Bug fixes, questions, and update requests are encouraged and can be filed at the GitHub repo.\n",
    "\n",
    "## Dependencies\n",
    "Numpy >= 1.10\n",
    "Scipy >= 0.17\n",
    "Optional Packages\n",
    "Matplotlib >= 1.5\n",
    "## Installation\n",
    "pHcalc is only a single Python file, so installation is quite simple. After installation of the dependencies, the most recent version of pHcalc is available via pip, either from PyPI (stable) or the GitHub repo (most recent).\n",
    "\n",
    "## From PyPI:"
   ]
  },
  {
   "cell_type": "code",
   "execution_count": 15,
   "metadata": {
    "scrolled": false
   },
   "outputs": [
    {
     "name": "stdout",
     "output_type": "stream",
     "text": [
      "Requirement already satisfied: pHcalc in c:\\users\\rnd\\anaconda3\\lib\\site-packages (0.1.2)\n",
      "Requirement already satisfied: scipy>=0.17.0 in c:\\users\\rnd\\anaconda3\\lib\\site-packages (from pHcalc) (1.2.1)\n",
      "Requirement already satisfied: numpy>=1.10.0 in c:\\users\\rnd\\anaconda3\\lib\\site-packages (from pHcalc) (1.16.2)\n"
     ]
    },
    {
     "name": "stderr",
     "output_type": "stream",
     "text": [
      "WARNING: You are using pip version 20.2.2; however, version 20.2.3 is available.\n",
      "You should consider upgrading via the 'c:\\users\\rnd\\anaconda3\\python.exe -m pip install --upgrade pip' command.\n"
     ]
    }
   ],
   "source": [
    "!pip install pHcalc"
   ]
  },
  {
   "cell_type": "markdown",
   "metadata": {},
   "source": [
    "## Background\n",
    "pHcalc calculates the pH of a complex system of potentially strong and weak acids and bases using a systematic equilibrium solution method. This method is described in detail in the Journal of Chemical Education and in this ChemWiki article, for example. (There is also another, older Pascal program called PHCALC, which uses matrix algebra to accomplish the same task. To the best of my knowledge, the source code for this program is no longer available.)\n",
    "\n",
    "Basically, this method finds the optimum pH for the mixture by systematically adjusting the pH until a charge balance is achieved, i.e. the concentrations of positively charged ions equals the charge for the negatively charged ions. For (polyprotic) weak acids, the fractional distribution of the species at a given pH value is determined. Multiplying this by the concentration of acid in solution provides the concentration of each acidic species in the system, and these concentrations are used to balance the charge.\n",
    "\n",
    "Using this methodology bases and strong acids can be described using neutral, charged species. These are ions that do not react with water, such as Na+ and Cl-. In this context, any Cl- in solution must be charged balanced with an appropriate amount of H3O+, which would define HCl in solution. Na+ must be offset by an equivalent amount of OH-, which defines a solution of NaOH. A 1:1 combination of Na+ and H2CO3 would describe a solution of NaHCO3, the additional equivalent of OH- is implied by the charge imbalance."
   ]
  },
  {
   "cell_type": "markdown",
   "metadata": {},
   "source": [
    "## Example Usage\n",
    "pHcalc defines three classes - Acid, Neutral, and System - which are used in calculating the pH of the system. H3O+ and OH- are never explicitly defined. The H3O+ concentration is adjusted internally, and OH- is calculated using KW."
   ]
  },
  {
   "cell_type": "code",
   "execution_count": 2,
   "metadata": {},
   "outputs": [],
   "source": [
    "from pHcalc.pHcalc import Acid, Neutral, System\n",
    "import numpy as np\n",
    "import matplotlib.pyplot as plt # Optional for plotting below"
   ]
  },
  {
   "cell_type": "markdown",
   "metadata": {},
   "source": [
    "## pH of 0.01 M HCl\n",
    "First of all, HCl completely dissociates in water to give equal amounts of H3O+ and Cl-. Because H3O+ is adjusted internally, all you need to define is Cl-. This implies a single equivalent of H3O+ in order to balance the charge of the system."
   ]
  },
  {
   "cell_type": "code",
   "execution_count": 3,
   "metadata": {},
   "outputs": [
    {
     "name": "stdout",
     "output_type": "stream",
     "text": [
      "1.9999977111816385\n"
     ]
    }
   ],
   "source": [
    "cl = Neutral(charge=-1, conc=0.01)\n",
    "system = System(cl)\n",
    "system.pHsolve()\n",
    "print(system.pH) # Should print 1.9999"
   ]
  },
  {
   "cell_type": "markdown",
   "metadata": {},
   "source": [
    "## pH of 1e-8 M HCl\n",
    "This is a notoriously tricky example for introductory chemistry students; however, pHcalc handles it nicely."
   ]
  },
  {
   "cell_type": "code",
   "execution_count": 5,
   "metadata": {},
   "outputs": [
    {
     "name": "stdout",
     "output_type": "stream",
     "text": [
      "6.9782958984375005\n"
     ]
    }
   ],
   "source": [
    "cl = Neutral(charge=-1, conc=1e-8)\n",
    "system = System(cl)\n",
    "system.pHsolve()\n",
    "print(system.pH) # Should print 6.978295898 (NOT 8!)"
   ]
  },
  {
   "cell_type": "markdown",
   "metadata": {},
   "source": [
    "## pH of 0.01 M NaOH\n",
    "This example is very similar to our HCl example, except that our Neutral species must have a positive charge. The charge balance is achieved internally by the System using an equivalent amount of OH-."
   ]
  },
  {
   "cell_type": "code",
   "execution_count": 6,
   "metadata": {},
   "outputs": [
    {
     "name": "stdout",
     "output_type": "stream",
     "text": [
      "12.000002288818362\n"
     ]
    }
   ],
   "source": [
    "na = Neutral(charge=1, conc=0.01)\n",
    "system = System(na)\n",
    "system.pHsolve()\n",
    "print(system.pH) # Should print 12.00000"
   ]
  },
  {
   "cell_type": "markdown",
   "metadata": {},
   "source": [
    "## pH of 0.01 M HF\n",
    "Here we will use an Acid object instance to define the weak acid HF, which has a Ka of 6.76e-4 and a pKa of 3.17. You can use either value when you create the Acid instance. When defining an Acid species, you must always define a charge keyword argument, which is the charge of the fully protonated species."
   ]
  },
  {
   "cell_type": "code",
   "execution_count": 8,
   "metadata": {},
   "outputs": [
    {
     "name": "stdout",
     "output_type": "stream",
     "text": [
      "2.6413261413574203\n"
     ]
    }
   ],
   "source": [
    "hf = Acid(Ka=6.76e-4, charge=0, conc=0.01)\n",
    "# hf = Acid(pKa=3.17, charge=0, conc=0.01) will also work\n",
    "system = System(hf)\n",
    "system.pHsolve()\n",
    "print(system.pH) # Should print 2.6413261"
   ]
  },
  {
   "cell_type": "code",
   "execution_count": 10,
   "metadata": {},
   "outputs": [
    {
     "name": "stdout",
     "output_type": "stream",
     "text": [
      "2.641304779052733\n"
     ]
    }
   ],
   "source": [
    "# hf = Acid(Ka=6.76e-4, charge=0, conc=0.01)\n",
    "hf = Acid(pKa=3.17, charge=0, conc=0.01) # will also work\n",
    "system = System(hf)\n",
    "system.pHsolve()\n",
    "print(system.pH) # Should print 2.6413261"
   ]
  },
  {
   "cell_type": "markdown",
   "metadata": {},
   "source": [
    "## pH of 0.01 M NaF\n",
    "This system consist of a 1:1 mixture of an HF Acid instance and a Na+ Neutral instance. The System object can be instantiated with an arbitrary number of Acids and Neutral objects. Again, there is an implied equivalent of OH- necessary to balance the charge of the system."
   ]
  },
  {
   "cell_type": "code",
   "execution_count": 11,
   "metadata": {},
   "outputs": [
    {
     "name": "stdout",
     "output_type": "stream",
     "text": [
      "7.59922332763672\n"
     ]
    }
   ],
   "source": [
    "hf = Acid(Ka=6.76e-4, charge=0, conc=0.01)\n",
    "na = Neutral(charge=1, conc=0.01)\n",
    "system = System(hf, na)\n",
    "system.pHsolve()\n",
    "print(system.pH) # Should print 7.5992233"
   ]
  },
  {
   "cell_type": "markdown",
   "metadata": {},
   "source": [
    "## pH of 0.01 M H2CO3\n",
    "The Ka and pKa attributes can also accept lists of values for polyprotic species."
   ]
  },
  {
   "cell_type": "code",
   "execution_count": 12,
   "metadata": {},
   "outputs": [
    {
     "name": "stdout",
     "output_type": "stream",
     "text": [
      "2.8343772888183576\n"
     ]
    }
   ],
   "source": [
    "carbonic = Acid(pKa=[3.6, 10.32], charge=0, conc=0.01)\n",
    "system = System(carbonic)\n",
    "system.pHsolve()\n",
    "print(system.pH) # Should print 2.8343772"
   ]
  },
  {
   "cell_type": "markdown",
   "metadata": {},
   "source": [
    "## pH of 0.01 M Alanine Zwitterion Form\n",
    "Alanine has two pKa values, 2.35 and 9.69, but the fully protonated form is positively charged. In order to define the neutral zwitterion, only the positively charged Acid object needs to be defined. The charge balance in this case implies a single equivalent of OH-."
   ]
  },
  {
   "cell_type": "code",
   "execution_count": 13,
   "metadata": {},
   "outputs": [
    {
     "name": "stdout",
     "output_type": "stream",
     "text": [
      "6.099156951904295\n"
     ]
    }
   ],
   "source": [
    "ala = Acid(pKa=[2.35, 9.69], charge=1, conc=0.01)\n",
    "system = System(ala)\n",
    "system.pHsolve()\n",
    "print(system.pH) # Should print 6.0991569"
   ]
  },
  {
   "cell_type": "markdown",
   "metadata": {},
   "source": [
    "## pH of 0.01 M (NH4)3PO4\n",
    "This is equivalent to a 1:3 mixture of H3PO4 and NH4+, both of which are defined by Acid objects. Three equivalents of OH- are implied to balance the charge of the system."
   ]
  },
  {
   "cell_type": "code",
   "execution_count": 14,
   "metadata": {},
   "outputs": [
    {
     "name": "stdout",
     "output_type": "stream",
     "text": [
      "8.95915298461914\n"
     ]
    }
   ],
   "source": [
    "phos = Acid(pKa=[2.148, 7.198, 12.319], charge=0, conc=0.01)\n",
    "nh4 = Acid(pKa=9.25, charge=1, conc=0.01*3)\n",
    "system = System(phos, nh4)\n",
    "system.pHsolve()\n",
    "print(system.pH) # Should print 8.95915298"
   ]
  },
  {
   "cell_type": "markdown",
   "metadata": {},
   "source": [
    "## Distribution Diagrams\n",
    "Acid objects also define a function called alpha, which calculates the fractional distribution of species at a given pH. This function can be used to create distribution diagrams for weak acid species. alpha takes a single argument, which is a single pH value or a Numpy array of values. For a single pH value, the function returns a Numpy array of fractional distributions ordered from most acid to least acidic species."
   ]
  },
  {
   "cell_type": "code",
   "execution_count": 21,
   "metadata": {},
   "outputs": [
    {
     "data": {
      "text/plain": [
       "array([8.60553811e-06, 6.12037500e-01, 3.87952033e-01, 1.86113567e-06])"
      ]
     },
     "execution_count": 21,
     "metadata": {},
     "output_type": "execute_result"
    }
   ],
   "source": [
    "phos = Acid(pKa=[2.148, 7.198, 12.319], charge=0, conc=0.01)\n",
    "phos.alpha(7.0)\n",
    "#array([ 8.6055e-06, 6.1204e-01, 3.8795e-01, 1.8611e-06])\n",
    "# This is H3PO4, H2PO4-, HPO4_2-, and HPO4_3-"
   ]
  },
  {
   "cell_type": "code",
   "execution_count": 19,
   "metadata": {},
   "outputs": [
    {
     "name": "stdout",
     "output_type": "stream",
     "text": [
      "Requirement already up-to-date: pip in c:\\users\\rnd\\anaconda3\\lib\\site-packages (20.2.3)\n",
      "Requirement already up-to-date: pip in c:\\users\\rnd\\anaconda3\\lib\\site-packages (20.2.3)\n"
     ]
    }
   ],
   "source": [
    "!pip install --upgrade pip\n",
    "!pip install --upgrade --user pip"
   ]
  },
  {
   "cell_type": "markdown",
   "metadata": {},
   "source": [
    "For a Numpy array og pH values, a 2D array of fractional distribution values is returned, where each row is a series of distributions for each given pH. The 2D returned array can be used to plot a distribution diagram."
   ]
  },
  {
   "cell_type": "code",
   "execution_count": 22,
   "metadata": {},
   "outputs": [
    {
     "data": {
      "image/png": "[encoded data removed]",
      "text/plain": [
       "<Figure size 432x288 with 1 Axes>"
      ]
     },
     "metadata": {
      "needs_background": "light"
     },
     "output_type": "display_data"
    }
   ],
   "source": [
    "phos = Acid(pKa=[2.148, 7.198, 12.319], charge=0, conc=0.01)\n",
    "phs = np.linspace(0, 14, 1000)\n",
    "fracs = phos.alpha(phs)\n",
    "plt.plot(phs, fracs)\n",
    "plt.show()"
   ]
  },
  {
   "cell_type": "markdown",
   "metadata": {},
   "source": [
    "## Titration Curves\n",
    "Using a simple loop, we can also construct arbitrary titration curves as well. In this example, we will titrate H3PO4 with NaOH. The guess_est keyword argument for the System.pHsolve method forces the calculation of a best guess for starting the pH optimization algorithm. This may speed up the evaluation of the pH and can also be used if the minimizer throws an error during the pH calculation."
   ]
  },
  {
   "cell_type": "code",
   "execution_count": 24,
   "metadata": {},
   "outputs": [
    {
     "data": {
      "image/png": "[encoded data removed]",
      "text/plain": [
       "<Figure size 432x288 with 1 Axes>"
      ]
     },
     "metadata": {
      "needs_background": "light"
     },
     "output_type": "display_data"
    }
   ],
   "source": [
    "na_moles = np.linspace(1e-8, 5.e-3, 500)\n",
    "sol_volume = 1. # Liter\n",
    "phos = Acid(pKa=[2.148, 7.198, 12.375], charge=0, conc=1.e-3)\n",
    "phs = []\n",
    "for mol in na_moles:\n",
    "    na = Neutral(charge=1, conc=mol/sol_volume)\n",
    "    system = System(phos, na)\n",
    "    system.pHsolve(guess_est=True)\n",
    "    phs.append(system.pH)\n",
    "plt.plot(na_moles, phs)\n",
    "plt.show()"
   ]
  },
  {
   "cell_type": "markdown",
   "metadata": {},
   "source": [
    "# "
   ]
  },
  {
   "cell_type": "code",
   "execution_count": null,
   "metadata": {},
   "outputs": [],
   "source": []
  }
 ],
 "metadata": {
  "kernelspec": {
   "display_name": "Python 3",
   "language": "python",
   "name": "python3"
  },
  "language_info": {
   "codemirror_mode": {
    "name": "ipython",
    "version": 3
   },
   "file_extension": ".py",
   "mimetype": "text/x-python",
   "name": "python",
   "nbconvert_exporter": "python",
   "pygments_lexer": "ipython3",
   "version": "3.7.3"
  }
 },
 "nbformat": 4,
 "nbformat_minor": 2
}
