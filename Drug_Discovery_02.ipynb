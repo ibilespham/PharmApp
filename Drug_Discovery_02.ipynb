{
 "cells": [
  {
   "cell_type": "markdown",
   "metadata": {},
   "source": [
    "# Drug Discovery"
   ]
  },
  {
   "cell_type": "markdown",
   "metadata": {},
   "source": [
    "# ChEMBL webresource client\n",
    "https://github.com/chembl/chembl_webresource_client"
   ]
  },
  {
   "cell_type": "code",
   "execution_count": 6,
   "metadata": {},
   "outputs": [],
   "source": [
    "# pip install chembl_webresource_client"
   ]
  },
  {
   "cell_type": "code",
   "execution_count": 7,
   "metadata": {},
   "outputs": [],
   "source": [
    "from chembl_webresource_client.new_client import new_client\n",
    "molecule = new_client.molecule\n",
    "res = molecule.search('viagra')"
   ]
  },
  {
   "cell_type": "code",
   "execution_count": 43,
   "metadata": {
    "scrolled": false
   },
   "outputs": [
    {
     "data": {
      "text/plain": [
       "[{'atc_classifications': ['C10AA07'], 'availability_type': 1, 'biotherapeutic': None, 'black_box_warning': 0, 'chebi_par_id': 38545, 'chirality': 1, 'cross_references': [{'xref_id': 'rosuvastatin%20calcium', 'xref_name': 'rosuvastatin calcium', 'xref_src': 'DailyMed'}, {'xref_id': 'Rosuvastatin', 'xref_name': None, 'xref_src': 'Wikipedia'}], 'dosed_ingredient': False, 'first_approval': 2003, 'first_in_class': 0, 'helm_notation': None, 'indication_class': None, 'inorganic_flag': 0, 'max_phase': 4, 'molecule_chembl_id': 'CHEMBL1496', 'molecule_hierarchy': {'molecule_chembl_id': 'CHEMBL1496', 'parent_chembl_id': 'CHEMBL1496'}, 'molecule_properties': {'alogp': '2.40', 'aromatic_rings': 2, 'cx_logd': '-1.24', 'cx_logp': '1.92', 'cx_most_apka': '4.00', 'cx_most_bpka': None, 'full_molformula': 'C22H28FN3O6S', 'full_mwt': '481.55', 'hba': 7, 'hba_lipinski': 9, 'hbd': 3, 'hbd_lipinski': 3, 'heavy_atoms': 33, 'molecular_species': 'ACID', 'mw_freebase': '481.55', 'mw_monoisotopic': '481.1683', 'num_lipinski_ro5_violations': 0, 'num_ro5_violations': 0, 'psa': '140.92', 'qed_weighted': '0.47', 'ro3_pass': 'N', 'rtb': 10}, 'molecule_structures': {'canonical_smiles': 'CC(C)c1nc(N(C)S(C)(=O)=O)nc(-c2ccc(F)cc2)c1/C=C/[C@@H](O)C[C@@H](O)CC(=O)O', 'molfile': '\\n     RDKit          2D\\n\\n 33 34  0  0  1  0  0  0  0  0999 V2000\\n    3.6387   -0.8963    0.0000 C   0  0  0  0  0  0  0  0  0  0  0  0\\n    2.6003   -1.4977    0.0000 C   0  0  0  0  0  0  0  0  0  0  0  0\\n    2.6024   -2.6977    0.0000 C   0  0  0  0  0  0  0  0  0  0  0  0\\n    1.2990   -0.7500    0.0000 C   0  0  0  0  0  0  0  0  0  0  0  0\\n    1.2990    0.7500    0.0000 N   0  0  0  0  0  0  0  0  0  0  0  0\\n    0.0000    1.5000    0.0000 C   0  0  0  0  0  0  0  0  0  0  0  0\\n   -1.2990    0.7500    0.0000 N   0  0  0  0  0  0  0  0  0  0  0  0\\n   -1.2990   -0.7500    0.0000 C   0  0  0  0  0  0  0  0  0  0  0  0\\n   -2.5987   -1.5004    0.0000 C   0  0  0  0  0  0  0  0  0  0  0  0\\n   -3.8991   -0.7525    0.0000 C   0  0  0  0  0  0  0  0  0  0  0  0\\n   -5.1969   -1.5046    0.0000 C   0  0  0  0  0  0  0  0  0  0  0  0\\n   -5.1945   -3.0046    0.0000 C   0  0  0  0  0  0  0  0  0  0  0  0\\n   -6.2328   -3.6062    0.0000 F   0  0  0  0  0  0  0  0  0  0  0  0\\n   -3.8943   -3.7525    0.0000 C   0  0  0  0  0  0  0  0  0  0  0  0\\n   -2.5964   -3.0004    0.0000 C   0  0  0  0  0  0  0  0  0  0  0  0\\n    0.0000   -1.5000    0.0000 C   0  0  0  0  0  0  0  0  0  0  0  0\\n    0.0031   -3.0008    0.0000 C   0  0  0  0  0  0  0  0  0  0  0  0\\n    1.3039   -3.7494    0.0000 C   0  0  0  0  0  0  0  0  0  0  0  0\\n    1.3070   -5.2502    0.0000 C   0  0  0  0  0  0  0  0  0  0  0  0\\n    0.2688   -5.8520    0.0000 O   0  0  0  0  0  0  0  0  0  0  0  0\\n    2.6078   -5.9988    0.0000 C   0  0  0  0  0  0  0  0  0  0  0  0\\n    2.6109   -7.4996    0.0000 C   0  0  0  0  0  0  0  0  0  0  0  0\\n    1.5727   -8.1014    0.0000 O   0  0  0  0  0  0  0  0  0  0  0  0\\n    3.9117   -8.2481    0.0000 C   0  0  0  0  0  0  0  0  0  0  0  0\\n    3.9148   -9.7490    0.0000 C   0  0  0  0  0  0  0  0  0  0  0  0\\n    4.9549  -10.3475    0.0000 O   0  0  0  0  0  0  0  0  0  0  0  0\\n    2.8767  -10.3508    0.0000 O   0  0  0  0  0  0  0  0  0  0  0  0\\n   -0.0031    3.0008    0.0000 N   0  0  0  0  0  0  0  0  0  0  0  0\\n    1.0351    3.6026    0.0000 C   0  0  0  0  0  0  0  0  0  0  0  0\\n   -1.3039    3.7494    0.0000 S   0  0  0  0  0  0  0  0  0  0  0  0\\n   -1.3064    4.9494    0.0000 O   0  0  0  0  0  0  0  0  0  0  0  0\\n   -2.3443    4.3474    0.0000 O   0  0  0  0  0  0  0  0  0  0  0  0\\n   -2.3421    3.1476    0.0000 C   0  0  0  0  0  0  0  0  0  0  0  0\\n  1  2  1  0\\n  2  3  1  0\\n  2  4  1  0\\n  4  5  2  0\\n  5  6  1  0\\n  6  7  2  0\\n  7  8  1  0\\n  8  9  1  0\\n  9 10  2  0\\n 10 11  1  0\\n 11 12  2  0\\n 12 13  1  0\\n 12 14  1  0\\n 14 15  2  0\\n 15  9  1  0\\n  8 16  2  0\\n 16  4  1  0\\n 16 17  1  0\\n 17 18  2  0\\n 18 19  1  0\\n 19 20  1  6\\n 19 21  1  0\\n 21 22  1  0\\n 22 23  1  6\\n 22 24  1  0\\n 24 25  1  0\\n 25 26  2  0\\n 25 27  1  0\\n  6 28  1  0\\n 28 29  1  0\\n 28 30  1  0\\n 30 31  2  0\\n 30 32  2  0\\n 30 33  1  0\\nM  END\\n\\n> <chembl_id>\\nCHEMBL1496\\n\\n> <chembl_pref_name>\\nROSUVASTATIN\\n\\n', 'standard_inchi': 'InChI=1S/C22H28FN3O6S/c1-13(2)20-18(10-9-16(27)11-17(28)12-19(29)30)21(14-5-7-15(23)8-6-14)25-22(24-20)26(3)33(4,31)32/h5-10,13,16-17,27-28H,11-12H2,1-4H3,(H,29,30)/b10-9+/t16-,17-/m1/s1', 'standard_inchi_key': 'BPRHUIZQVSMCRT-VEUZHWNKSA-N'}, 'molecule_synonyms': [{'molecule_synonym': 'Rosuvastatin', 'syn_type': 'FDA', 'synonyms': 'Rosuvastatin'}, {'molecule_synonym': 'Rosuvastatin', 'syn_type': 'ATC', 'synonyms': 'ROSUVASTATIN'}, {'molecule_synonym': 'Rosuvastatin', 'syn_type': 'BAN', 'synonyms': 'ROSUVASTATIN'}, {'molecule_synonym': 'Rosuvastatin', 'syn_type': 'INN', 'synonyms': 'ROSUVASTATIN'}, {'molecule_synonym': 'Rosuvastatin', 'syn_type': 'MERCK_INDEX', 'synonyms': 'ROSUVASTATIN'}, {'molecule_synonym': 'Rosuvastatin', 'syn_type': 'OTHER', 'synonyms': 'ROSUVASTATIN'}, {'molecule_synonym': 'ZD4522', 'syn_type': 'RESEARCH_CODE', 'synonyms': 'ZD4522'}, {'molecule_synonym': 'ZD-4522', 'syn_type': 'RESEARCH_CODE', 'synonyms': 'ZD-4522'}], 'molecule_type': 'Small molecule', 'natural_product': 0, 'oral': True, 'parenteral': False, 'polymer_flag': False, 'pref_name': 'ROSUVASTATIN', 'prodrug': 0, 'score': 6.0, 'structure_type': 'MOL', 'therapeutic_flag': True, 'topical': False, 'usan_stem': '-stat-', 'usan_stem_definition': 'enzyme inhibitors: antihyperlipidemics (HMG-CoA inhibitors)', 'usan_substem': '-stat- (-statin)', 'usan_year': 2000, 'withdrawn_class': None, 'withdrawn_country': None, 'withdrawn_flag': False, 'withdrawn_reason': None, 'withdrawn_year': None}, {'atc_classifications': [], 'availability_type': 1, 'biotherapeutic': None, 'black_box_warning': 0, 'chebi_par_id': 77249, 'chirality': 1, 'cross_references': [{'xref_id': 'rosuvastatin%20calcium', 'xref_name': 'rosuvastatin calcium', 'xref_src': 'DailyMed'}], 'dosed_ingredient': True, 'first_approval': 2003, 'first_in_class': 0, 'helm_notation': None, 'indication_class': None, 'inorganic_flag': 0, 'max_phase': 4, 'molecule_chembl_id': 'CHEMBL1744447', 'molecule_hierarchy': {'molecule_chembl_id': 'CHEMBL1744447', 'parent_chembl_id': 'CHEMBL1496'}, 'molecule_properties': {'alogp': '2.40', 'aromatic_rings': 2, 'cx_logd': '-1.24', 'cx_logp': '1.92', 'cx_most_apka': '4.00', 'cx_most_bpka': None, 'full_molformula': 'C44H54CaF2N6O12S2', 'full_mwt': '1001.15', 'hba': 7, 'hba_lipinski': 9, 'hbd': 3, 'hbd_lipinski': 3, 'heavy_atoms': 33, 'molecular_species': 'ACID', 'mw_freebase': '481.55', 'mw_monoisotopic': '481.1683', 'num_lipinski_ro5_violations': 0, 'num_ro5_violations': 0, 'psa': '140.92', 'qed_weighted': '0.47', 'ro3_pass': 'N', 'rtb': 10}, 'molecule_structures': {'canonical_smiles': 'CC(C)c1nc(N(C)S(C)(=O)=O)nc(-c2ccc(F)cc2)c1/C=C/[C@@H](O)C[C@@H](O)CC(=O)[O-].CC(C)c1nc(N(C)S(C)(=O)=O)nc(-c2ccc(F)cc2)c1/C=C/[C@@H](O)C[C@@H](O)CC(=O)[O-].[Ca+2]', 'molfile': '\\n     RDKit          2D\\n\\n 67 68  0  0  0  0  0  0  0  0999 V2000\\n    6.5262   -7.0501    0.0000 C   0  0  0  0  0  0  0  0  0  0  0  0\\n    5.0981   -7.0501    0.0000 S   0  0  0  0  0  0  0  0  0  0  0  0\\n    7.2402   -6.6400    0.0000 N   0  0  0  0  0  0  0  0  0  0  0  0\\n    6.5262   -7.8847    0.0000 N   0  0  0  0  0  0  0  0  0  0  0  0\\n    5.8122   -6.6400    0.0000 N   0  0  0  0  0  0  0  0  0  0  0  0\\n    7.9542   -7.8847    0.0000 C   0  0  0  0  0  0  0  0  0  0  0  0\\n    7.9542   -7.0501    0.0000 C   0  0  0  0  0  0  0  0  0  0  0  0\\n    7.2402   -8.2948    0.0000 C   0  0  0  0  0  0  0  0  0  0  0  0\\n    8.6730   -8.2948    0.0000 C   0  0  0  0  0  0  0  0  0  0  0  0\\n   12.9572   -8.2803    0.0000 C   0  0  0  0  0  0  0  0  0  0  0  0\\n   12.2432   -7.8655    0.0000 C   0  0  0  0  0  0  0  0  0  0  0  0\\n    5.5082   -7.7642    0.0000 O   0  0  0  0  0  0  0  0  0  0  0  0\\n    4.6832   -7.7642    0.0000 O   0  0  0  0  0  0  0  0  0  0  0  0\\n    8.6634   -6.6352    0.0000 C   0  0  0  0  0  0  0  0  0  0  0  0\\n    9.3822   -7.8800    0.0000 C   0  0  0  0  0  0  0  0  0  0  0  0\\n   13.6712   -7.8606    0.0000 O   0  0  0  0  0  0  0  0  0  0  0  0\\n   12.9620   -9.1053    0.0000 O   0  0  0  0  0  0  0  0  0  0  0  0\\n   11.5292   -8.2852    0.0000 C   0  0  0  0  0  0  0  0  0  0  0  0\\n   10.8104   -7.8702    0.0000 C   0  0  0  0  0  0  0  0  0  0  0  0\\n    7.2450   -9.1198    0.0000 C   0  0  0  0  0  0  0  0  0  0  0  0\\n    9.3775   -7.0452    0.0000 C   0  0  0  0  0  0  0  0  0  0  0  0\\n    8.6586   -5.8150    0.0000 C   0  0  0  0  0  0  0  0  0  0  0  0\\n    4.3793   -6.6400    0.0000 C   0  0  0  0  0  0  0  0  0  0  0  0\\n   10.0867   -5.8103    0.0000 C   0  0  0  0  0  0  0  0  0  0  0  0\\n   10.0963   -8.2900    0.0000 C   0  0  0  0  0  0  0  0  0  0  0  0\\n    5.8122   -5.8150    0.0000 C   0  0  0  0  0  0  0  0  0  0  0  0\\n   10.0867   -6.6352    0.0000 C   0  0  0  0  0  0  0  0  0  0  0  0\\n    9.3630   -5.3953    0.0000 C   0  0  0  0  0  0  0  0  0  0  0  0\\n   10.8006   -5.3905    0.0000 F   0  0  0  0  0  0  0  0  0  0  0  0\\n   11.5292   -9.1102    0.0000 O   0  0  0  0  0  0  0  0  0  0  0  0\\n   10.1012   -9.1149    0.0000 O   0  0  0  0  0  0  0  0  0  0  0  0\\n    6.5310   -9.5347    0.0000 C   0  0  0  0  0  0  0  0  0  0  0  0\\n    7.9591   -9.5347    0.0000 C   0  0  0  0  0  0  0  0  0  0  0  0\\n   -3.7780   -8.8881    0.0000 C   0  0  0  0  0  0  0  0  0  0  0  0\\n   -5.2061   -8.8881    0.0000 S   0  0  0  0  0  0  0  0  0  0  0  0\\n   -3.0640   -8.4780    0.0000 N   0  0  0  0  0  0  0  0  0  0  0  0\\n   -3.7780   -9.7227    0.0000 N   0  0  0  0  0  0  0  0  0  0  0  0\\n   -4.4920   -8.4780    0.0000 N   0  0  0  0  0  0  0  0  0  0  0  0\\n   -2.3500   -9.7227    0.0000 C   0  0  0  0  0  0  0  0  0  0  0  0\\n   -2.3500   -8.8881    0.0000 C   0  0  0  0  0  0  0  0  0  0  0  0\\n   -3.0640  -10.1328    0.0000 C   0  0  0  0  0  0  0  0  0  0  0  0\\n   -1.6311  -10.1328    0.0000 C   0  0  0  0  0  0  0  0  0  0  0  0\\n    2.6530  -10.1183    0.0000 C   0  0  0  0  0  0  0  0  0  0  0  0\\n    1.9390   -9.7035    0.0000 C   0  0  0  0  0  0  0  0  0  0  0  0\\n   -4.7960   -9.6021    0.0000 O   0  0  0  0  0  0  0  0  0  0  0  0\\n   -5.6210   -9.6021    0.0000 O   0  0  0  0  0  0  0  0  0  0  0  0\\n   -1.6408   -8.4732    0.0000 C   0  0  0  0  0  0  0  0  0  0  0  0\\n   -0.9219   -9.7179    0.0000 C   0  0  0  0  0  0  0  0  0  0  0  0\\n    3.3671   -9.6986    0.0000 O   0  0  0  0  0  0  0  0  0  0  0  0\\n    2.6579  -10.9433    0.0000 O   0  0  0  0  0  0  0  0  0  0  0  0\\n    1.2250  -10.1232    0.0000 C   0  0  0  0  0  0  0  0  0  0  0  0\\n    0.5062   -9.7082    0.0000 C   0  0  0  0  0  0  0  0  0  0  0  0\\n   -3.0592  -10.9578    0.0000 C   0  0  0  0  0  0  0  0  0  0  0  0\\n   -0.9267   -8.8832    0.0000 C   0  0  0  0  0  0  0  0  0  0  0  0\\n   -1.6456   -7.6530    0.0000 C   0  0  0  0  0  0  0  0  0  0  0  0\\n   -5.9249   -8.4780    0.0000 C   0  0  0  0  0  0  0  0  0  0  0  0\\n   -0.2175   -7.6482    0.0000 C   0  0  0  0  0  0  0  0  0  0  0  0\\n   -0.2079  -10.1279    0.0000 C   0  0  0  0  0  0  0  0  0  0  0  0\\n   -4.4920   -7.6530    0.0000 C   0  0  0  0  0  0  0  0  0  0  0  0\\n   -0.2175   -8.4732    0.0000 C   0  0  0  0  0  0  0  0  0  0  0  0\\n   -0.9412   -7.2332    0.0000 C   0  0  0  0  0  0  0  0  0  0  0  0\\n    0.4964   -7.2285    0.0000 F   0  0  0  0  0  0  0  0  0  0  0  0\\n    1.2250  -10.9482    0.0000 O   0  0  0  0  0  0  0  0  0  0  0  0\\n   -0.2030  -10.9529    0.0000 O   0  0  0  0  0  0  0  0  0  0  0  0\\n   -3.7732  -11.3726    0.0000 C   0  0  0  0  0  0  0  0  0  0  0  0\\n   -2.3451  -11.3726    0.0000 C   0  0  0  0  0  0  0  0  0  0  0  0\\n    4.3368   -9.7275    0.0000 Ca  0  0  0  0  0 15  0  0  0  0  0  0\\n  2  5  1  0\\n  3  1  1  0\\n  4  1  2  0\\n  5  1  1  0\\n  6  7  1  0\\n  7  3  2  0\\n  8  4  1  0\\n  9  6  1  0\\n 10 11  1  0\\n 11 18  1  0\\n 12  2  2  0\\n 13  2  2  0\\n 14  7  1  0\\n 15  9  2  0\\n 16 10  1  0\\n 17 10  2  0\\n 18 19  1  0\\n 19 25  1  0\\n 20  8  1  0\\n 21 14  2  0\\n 22 14  1  0\\n 23  2  1  0\\n 24 28  1  0\\n 25 15  1  0\\n 26  5  1  0\\n 27 21  1  0\\n 28 22  2  0\\n 29 24  1  0\\n 18 30  1  6\\n 25 31  1  6\\n 32 20  1  0\\n 33 20  1  0\\n  6  8  2  0\\n 24 27  2  0\\n 35 38  1  0\\n 36 34  1  0\\n 37 34  2  0\\n 38 34  1  0\\n 39 40  1  0\\n 40 36  2  0\\n 41 37  1  0\\n 42 39  1  0\\n 43 44  1  0\\n 44 51  1  0\\n 45 35  2  0\\n 46 35  2  0\\n 47 40  1  0\\n 48 42  2  0\\n 49 43  1  0\\n 50 43  2  0\\n 51 52  1  0\\n 52 58  1  0\\n 53 41  1  0\\n 54 47  2  0\\n 55 47  1  0\\n 56 35  1  0\\n 57 61  1  0\\n 58 48  1  0\\n 59 38  1  0\\n 60 54  1  0\\n 61 55  2  0\\n 62 57  1  0\\n 51 63  1  6\\n 58 64  1  6\\n 65 53  1  0\\n 66 53  1  0\\n 39 41  2  0\\n 57 60  2  0\\nM  CHG  3  16  -1  49  -1  67   2\\nM  END\\n\\n> <chembl_id>\\nCHEMBL1744447\\n\\n> <chembl_pref_name>\\nROSUVASTATIN CALCIUM\\n\\n', 'standard_inchi': 'InChI=1S/2C22H28FN3O6S.Ca/c2*1-13(2)20-18(10-9-16(27)11-17(28)12-19(29)30)21(14-5-7-15(23)8-6-14)25-22(24-20)26(3)33(4,31)32;/h2*5-10,13,16-17,27-28H,11-12H2,1-4H3,(H,29,30);/q;;+2/p-2/b2*10-9+;/t2*16-,17-;/m11./s1', 'standard_inchi_key': 'LALFOYNTGMUKGG-BGRFNVSISA-L'}, 'molecule_synonyms': [{'molecule_synonym': 'Crestor', 'syn_type': 'TRADE_NAME', 'synonyms': 'CRESTOR'}, {'molecule_synonym': 'Ezallor', 'syn_type': 'TRADE_NAME', 'synonyms': 'EZALLOR'}, {'molecule_synonym': 'Rosuvastatin Calcium', 'syn_type': 'BNF', 'synonyms': 'ROSUVASTATIN CALCIUM'}, {'molecule_synonym': 'Rosuvastatin Calcium', 'syn_type': 'FDA', 'synonyms': 'ROSUVASTATIN CALCIUM'}, {'molecule_synonym': 'Rosuvastatin Calcium', 'syn_type': 'JAN', 'synonyms': 'ROSUVASTATIN CALCIUM'}, {'molecule_synonym': 'Rosuvastatin Calcium', 'syn_type': 'OTHER', 'synonyms': 'ROSUVASTATIN CALCIUM'}, {'molecule_synonym': 'Rosuvastatin Calcium', 'syn_type': 'TRADE_NAME', 'synonyms': 'ROSUVASTATIN CALCIUM'}, {'molecule_synonym': 'Rosuvastatin Calcium', 'syn_type': 'USAN', 'synonyms': 'ROSUVASTATIN CALCIUM'}, {'molecule_synonym': 'Rosuvastatin calcium salt', 'syn_type': 'MERCK_INDEX', 'synonyms': 'ROSUVASTATIN CALCIUM SALT'}, {'molecule_synonym': 'S-4522', 'syn_type': 'RESEARCH_CODE', 'synonyms': 'S-4522'}, {'molecule_synonym': 'ZD-4522', 'syn_type': 'RESEARCH_CODE', 'synonyms': 'ZD-4522'}, {'molecule_synonym': 'ZD-4522 (Calcium salt)', 'syn_type': 'RESEARCH_CODE', 'synonyms': 'ZD4522 (CALCIUM SALT)'}], 'molecule_type': 'Small molecule', 'natural_product': 0, 'oral': True, 'parenteral': False, 'polymer_flag': False, 'pref_name': 'ROSUVASTATIN CALCIUM', 'prodrug': 0, 'score': 5.0, 'structure_type': 'MOL', 'therapeutic_flag': True, 'topical': False, 'usan_stem': '-stat-', 'usan_stem_definition': 'enzyme inhibitors: antihyperlipidemics (HMG-CoA inhibitors)', 'usan_substem': '-stat- (-statin)', 'usan_year': 2000, 'withdrawn_class': None, 'withdrawn_country': None, 'withdrawn_flag': False, 'withdrawn_reason': None, 'withdrawn_year': None}]"
      ]
     },
     "execution_count": 43,
     "metadata": {},
     "output_type": "execute_result"
    }
   ],
   "source": [
    "res = molecule.search('crestor')\n",
    "res"
   ]
  },
  {
   "cell_type": "code",
   "execution_count": 46,
   "metadata": {},
   "outputs": [
    {
     "data": {
      "text/plain": [
       "[{'cross_references': [], 'organism': 'Homo sapiens', 'pref_name': 'BRD4/HDAC1', 'score': 17.0, 'species_group_flag': False, 'target_chembl_id': 'CHEMBL4106143', 'target_components': [{'accession': 'Q13547', 'component_description': 'Histone deacetylase 1', 'component_id': 107, 'component_type': 'PROTEIN', 'relationship': 'PROTEIN SUBUNIT', 'target_component_synonyms': [{'component_synonym': '3.5.1.98', 'syn_type': 'EC_NUMBER'}, {'component_synonym': 'HD1', 'syn_type': 'UNIPROT'}, {'component_synonym': 'HDAC1', 'syn_type': 'GENE_SYMBOL'}, {'component_synonym': 'Histone deacetylase 1', 'syn_type': 'UNIPROT'}, {'component_synonym': 'RPD3L1', 'syn_type': 'GENE_SYMBOL_OTHER'}], 'target_component_xrefs': [{'xref_id': 'ENSG00000116478', 'xref_name': None, 'xref_src_db': 'EnsemblGene'}, {'xref_id': 'Q13547', 'xref_name': None, 'xref_src_db': 'ExpressionAtlas'}, {'xref_id': 'GO:0000118', 'xref_name': 'histone deacetylase complex', 'xref_src_db': 'GoComponent'}, {'xref_id': 'GO:0000785', 'xref_name': 'chromatin', 'xref_src_db': 'GoComponent'}, {'xref_id': 'GO:0000790', 'xref_name': 'nuclear chromatin', 'xref_src_db': 'GoComponent'}, {'xref_id': 'GO:0000792', 'xref_name': 'heterochromatin', 'xref_src_db': 'GoComponent'}, {'xref_id': 'GO:0005634', 'xref_name': 'nucleus', 'xref_src_db': 'GoComponent'}, {'xref_id': 'GO:0005654', 'xref_name': 'nucleoplasm', 'xref_src_db': 'GoComponent'}, {'xref_id': 'GO:0005667', 'xref_name': 'transcription regulator complex', 'xref_src_db': 'GoComponent'}, {'xref_id': 'GO:0005737', 'xref_name': 'cytoplasm', 'xref_src_db': 'GoComponent'}, {'xref_id': 'GO:0005829', 'xref_name': 'cytosol', 'xref_src_db': 'GoComponent'}, {'xref_id': 'GO:0016580', 'xref_name': 'Sin3 complex', 'xref_src_db': 'GoComponent'}, {'xref_id': 'GO:0016581', 'xref_name': 'NuRD complex', 'xref_src_db': 'GoComponent'}, {'xref_id': 'GO:0017053', 'xref_name': 'transcription repressor complex', 'xref_src_db': 'GoComponent'}, {'xref_id': 'GO:0032991', 'xref_name': 'protein-containing complex', 'xref_src_db': 'GoComponent'}, {'xref_id': 'GO:0043025', 'xref_name': 'neuronal cell body', 'xref_src_db': 'GoComponent'}, {'xref_id': 'GO:0070822', 'xref_name': 'Sin3-type complex', 'xref_src_db': 'GoComponent'}, {'xref_id': 'GO:0000976', 'xref_name': 'transcription regulatory region sequence-specific DNA binding', 'xref_src_db': 'GoFunction'}, {'xref_id': 'GO:0000978', 'xref_name': 'RNA polymerase II cis-regulatory region sequence-specific DNA binding', 'xref_src_db': 'GoFunction'}, {'xref_id': 'GO:0000979', 'xref_name': 'RNA polymerase II core promoter sequence-specific DNA binding', 'xref_src_db': 'GoFunction'}, {'xref_id': 'GO:0001046', 'xref_name': 'core promoter sequence-specific DNA binding', 'xref_src_db': 'GoFunction'}, {'xref_id': 'GO:0001085', 'xref_name': 'RNA polymerase II transcription factor binding', 'xref_src_db': 'GoFunction'}, {'xref_id': 'GO:0001103', 'xref_name': 'RNA polymerase II repressing transcription factor binding', 'xref_src_db': 'GoFunction'}, {'xref_id': 'GO:0002039', 'xref_name': 'p53 binding', 'xref_src_db': 'GoFunction'}, {'xref_id': 'GO:0003677', 'xref_name': 'DNA binding', 'xref_src_db': 'GoFunction'}, {'xref_id': 'GO:0003682', 'xref_name': 'chromatin binding', 'xref_src_db': 'GoFunction'}, {'xref_id': 'GO:0003714', 'xref_name': 'transcription corepressor activity', 'xref_src_db': 'GoFunction'}, {'xref_id': 'GO:0004407', 'xref_name': 'histone deacetylase activity', 'xref_src_db': 'GoFunction'}, {'xref_id': 'GO:0005515', 'xref_name': 'protein binding', 'xref_src_db': 'GoFunction'}, {'xref_id': 'GO:0008134', 'xref_name': 'transcription factor binding', 'xref_src_db': 'GoFunction'}, {'xref_id': 'GO:0016787', 'xref_name': 'hydrolase activity', 'xref_src_db': 'GoFunction'}, {'xref_id': 'GO:0019213', 'xref_name': 'deacetylase activity', 'xref_src_db': 'GoFunction'}, {'xref_id': 'GO:0019899', 'xref_name': 'enzyme binding', 'xref_src_db': 'GoFunction'}, {'xref_id': 'GO:0031492', 'xref_name': 'nucleosomal DNA binding', 'xref_src_db': 'GoFunction'}, {'xref_id': 'GO:0032041', 'xref_name': 'NAD-dependent histone deacetylase activity (H3-K14 specific)', 'xref_src_db': 'GoFunction'}, {'xref_id': 'GO:0033558', 'xref_name': 'protein deacetylase activity', 'xref_src_db': 'GoFunction'}, {'xref_id': 'GO:0033613', 'xref_name': 'activating transcription factor binding', 'xref_src_db': 'GoFunction'}, {'xref_id': 'GO:0035851', 'xref_name': 'Krueppel-associated box domain binding', 'xref_src_db': 'GoFunction'}, {'xref_id': 'GO:0042826', 'xref_name': 'histone deacetylase binding', 'xref_src_db': 'GoFunction'}, {'xref_id': 'GO:0047485', 'xref_name': 'protein N-terminus binding', 'xref_src_db': 'GoFunction'}, {'xref_id': 'GO:0051059', 'xref_name': 'NF-kappaB binding', 'xref_src_db': 'GoFunction'}, {'xref_id': 'GO:0070491', 'xref_name': 'repressing transcription factor binding', 'xref_src_db': 'GoFunction'}, {'xref_id': 'GO:0070888', 'xref_name': 'E-box binding', 'xref_src_db': 'GoFunction'}, {'xref_id': 'GO:1990841', 'xref_name': 'promoter-specific chromatin binding', 'xref_src_db': 'GoFunction'}, {'xref_id': 'GO:0000122', 'xref_name': 'negative regulation of transcription by RNA polymerase II', 'xref_src_db': 'GoProcess'}, {'xref_id': 'GO:0006325', 'xref_name': 'chromatin organization', 'xref_src_db': 'GoProcess'}, {'xref_id': 'GO:0006338', 'xref_name': 'chromatin remodeling', 'xref_src_db': 'GoProcess'}, {'xref_id': 'GO:0006346', 'xref_name': 'DNA methylation-dependent heterochromatin assembly', 'xref_src_db': 'GoProcess'}, {'xref_id': 'GO:0006357', 'xref_name': 'regulation of transcription by RNA polymerase II', 'xref_src_db': 'GoProcess'}, {'xref_id': 'GO:0006476', 'xref_name': 'protein deacetylation', 'xref_src_db': 'GoProcess'}, {'xref_id': 'GO:0007492', 'xref_name': 'endoderm development', 'xref_src_db': 'GoProcess'}, {'xref_id': 'GO:0007596', 'xref_name': 'blood coagulation', 'xref_src_db': 'GoProcess'}, {'xref_id': 'GO:0007623', 'xref_name': 'circadian rhythm', 'xref_src_db': 'GoProcess'}, {'xref_id': 'GO:0008284', 'xref_name': 'positive regulation of cell population proliferation', 'xref_src_db': 'GoProcess'}, {'xref_id': 'GO:0009913', 'xref_name': 'epidermal cell differentiation', 'xref_src_db': 'GoProcess'}, {'xref_id': 'GO:0010629', 'xref_name': 'negative regulation of gene expression', 'xref_src_db': 'GoProcess'}, {'xref_id': 'GO:0010832', 'xref_name': 'negative regulation of myotube differentiation', 'xref_src_db': 'GoProcess'}, {'xref_id': 'GO:0010870', 'xref_name': 'positive regulation of receptor biosynthetic process', 'xref_src_db': 'GoProcess'}, {'xref_id': 'GO:0016575', 'xref_name': 'histone deacetylation', 'xref_src_db': 'GoProcess'}, {'xref_id': 'GO:0021766', 'xref_name': 'hippocampus development', 'xref_src_db': 'GoProcess'}, {'xref_id': 'GO:0030182', 'xref_name': 'neuron differentiation', 'xref_src_db': 'GoProcess'}, {'xref_id': 'GO:0032922', 'xref_name': 'circadian regulation of gene expression', 'xref_src_db': 'GoProcess'}, {'xref_id': 'GO:0042475', 'xref_name': 'odontogenesis of dentin-containing tooth', 'xref_src_db': 'GoProcess'}, {'xref_id': 'GO:0042733', 'xref_name': 'embryonic digit morphogenesis', 'xref_src_db': 'GoProcess'}, {'xref_id': 'GO:0043044', 'xref_name': 'ATP-dependent chromatin remodeling', 'xref_src_db': 'GoProcess'}, {'xref_id': 'GO:0043066', 'xref_name': 'negative regulation of apoptotic process', 'xref_src_db': 'GoProcess'}, {'xref_id': 'GO:0043124', 'xref_name': 'negative regulation of I-kappaB kinase/NF-kappaB signaling', 'xref_src_db': 'GoProcess'}, {'xref_id': 'GO:0043922', 'xref_name': 'negative regulation by host of viral transcription', 'xref_src_db': 'GoProcess'}, {'xref_id': 'GO:0045652', 'xref_name': 'regulation of megakaryocyte differentiation', 'xref_src_db': 'GoProcess'}, {'xref_id': 'GO:0045892', 'xref_name': 'negative regulation of transcription, DNA-templated', 'xref_src_db': 'GoProcess'}, {'xref_id': 'GO:0045893', 'xref_name': 'positive regulation of transcription, DNA-templated', 'xref_src_db': 'GoProcess'}, {'xref_id': 'GO:0045944', 'xref_name': 'positive regulation of transcription by RNA polymerase II', 'xref_src_db': 'GoProcess'}, {'xref_id': 'GO:0048511', 'xref_name': 'rhythmic process', 'xref_src_db': 'GoProcess'}, {'xref_id': 'GO:0048714', 'xref_name': 'positive regulation of oligodendrocyte differentiation', 'xref_src_db': 'GoProcess'}, {'xref_id': 'GO:0052548', 'xref_name': 'regulation of endopeptidase activity', 'xref_src_db': 'GoProcess'}, {'xref_id': 'GO:0060766', 'xref_name': 'negative regulation of androgen receptor signaling pathway', 'xref_src_db': 'GoProcess'}, {'xref_id': 'GO:0060789', 'xref_name': 'hair follicle placode formation', 'xref_src_db': 'GoProcess'}, {'xref_id': 'GO:0061029', 'xref_name': 'eyelid development in camera-type eye', 'xref_src_db': 'GoProcess'}, {'xref_id': 'GO:0061198', 'xref_name': 'fungiform papilla formation', 'xref_src_db': 'GoProcess'}, {'xref_id': 'GO:0070932', 'xref_name': 'histone H3 deacetylation', 'xref_src_db': 'GoProcess'}, {'xref_id': 'GO:0070933', 'xref_name': 'histone H4 deacetylation', 'xref_src_db': 'GoProcess'}, {'xref_id': 'GO:0090090', 'xref_name': 'negative regulation of canonical Wnt signaling pathway', 'xref_src_db': 'GoProcess'}, {'xref_id': 'GO:1900221', 'xref_name': 'regulation of amyloid-beta clearance', 'xref_src_db': 'GoProcess'}, {'xref_id': 'GO:1901796', 'xref_name': 'regulation of signal transduction by p53 class mediator', 'xref_src_db': 'GoProcess'}, {'xref_id': 'GO:1904837', 'xref_name': 'beta-catenin-TCF complex assembly', 'xref_src_db': 'GoProcess'}, {'xref_id': 'GO:2001243', 'xref_name': 'negative regulation of intrinsic apoptotic signaling pathway', 'xref_src_db': 'GoProcess'}, {'xref_id': '2658', 'xref_name': None, 'xref_src_db': 'GuideToPHARMACOLOGY'}, {'xref_id': 'Q13547', 'xref_name': None, 'xref_src_db': 'IntAct'}, {'xref_id': 'IPR000286', 'xref_name': 'His_deacetylse.', 'xref_src_db': 'InterPro'}, {'xref_id': 'IPR003084', 'xref_name': 'His_deacetylse_1.', 'xref_src_db': 'InterPro'}, {'xref_id': 'IPR023696', 'xref_name': 'Ureohydrolase_dom_sf.', 'xref_src_db': 'InterPro'}, {'xref_id': 'IPR023801', 'xref_name': 'His_deacetylse_dom.', 'xref_src_db': 'InterPro'}, {'xref_id': 'IPR037138', 'xref_name': 'His_deacetylse_dom_sf.', 'xref_src_db': 'InterPro'}, {'xref_id': '4BKX', 'xref_name': 'A', 'xref_src_db': 'PDBe'}, {'xref_id': '5ICN', 'xref_name': 'A', 'xref_src_db': 'PDBe'}, {'xref_id': 'PF00850', 'xref_name': 'Hist_deacetyl', 'xref_src_db': 'Pfam'}, {'xref_id': 'PA29226', 'xref_name': 'histone deacetylase 1', 'xref_src_db': 'PharmGKB'}, {'xref_id': 'R-HSA-1362277', 'xref_name': 'Transcription of E2F targets under negative control by DREAM complex.', 'xref_src_db': 'Reactome'}, {'xref_id': 'R-HSA-1362300', 'xref_name': 'Transcription of E2F targets under negative control by p107 (RBL1) and p130 (RBL2) in complex with HDAC1.', 'xref_src_db': 'Reactome'}, {'xref_id': 'R-HSA-1538133', 'xref_name': 'G0 and Early G1.', 'xref_src_db': 'Reactome'}, {'xref_id': 'R-HSA-193670', 'xref_name': 'p75NTR negatively regulates cell cycle via SC1.', 'xref_src_db': 'Reactome'}, {'xref_id': 'R-HSA-201722', 'xref_name': 'Formation of the beta-catenin:TCF transactivating complex.', 'xref_src_db': 'Reactome'}, {'xref_id': 'R-HSA-2122947', 'xref_name': 'NOTCH1 Intracellular Domain Regulates Transcription.', 'xref_src_db': 'Reactome'}, {'xref_id': 'R-HSA-2173795', 'xref_name': 'Downregulation of SMAD2/3:SMAD4 transcriptional activity.', 'xref_src_db': 'Reactome'}, {'xref_id': 'R-HSA-2173796', 'xref_name': 'SMAD2/SMAD3:SMAD4 heterotrimer regulates transcription.', 'xref_src_db': 'Reactome'}, {'xref_id': 'R-HSA-2644606', 'xref_name': 'Constitutive Signaling by NOTCH1 PEST Domain Mutants.', 'xref_src_db': 'Reactome'}, {'xref_id': 'R-HSA-2894862', 'xref_name': 'Constitutive Signaling by NOTCH1 HD+PEST Domain Mutants.', 'xref_src_db': 'Reactome'}, {'xref_id': 'R-HSA-3214815', 'xref_name': 'HDACs deacetylate histones.', 'xref_src_db': 'Reactome'}, {'xref_id': 'R-HSA-350054', 'xref_name': 'Notch-HLH transcription pathway.', 'xref_src_db': 'Reactome'}, {'xref_id': 'R-HSA-3769402', 'xref_name': 'Deactivation of the beta-catenin transactivating complex.', 'xref_src_db': 'Reactome'}, {'xref_id': 'R-HSA-427389', 'xref_name': 'ERCC6 (CSB) and EHMT2 (G9a) positively regulate rRNA expression.', 'xref_src_db': 'Reactome'}, {'xref_id': 'R-HSA-427413', 'xref_name': 'NoRC negatively regulates rRNA expression.', 'xref_src_db': 'Reactome'}, {'xref_id': 'R-HSA-4551638', 'xref_name': 'SUMOylation of chromatin organization proteins.', 'xref_src_db': 'Reactome'}, {'xref_id': 'R-HSA-4641265', 'xref_name': 'Repression of WNT target genes.', 'xref_src_db': 'Reactome'}, {'xref_id': 'R-HSA-6804758', 'xref_name': 'Regulation of TP53 Activity through Acetylation.', 'xref_src_db': 'Reactome'}, {'xref_id': 'R-HSA-69205', 'xref_name': 'G1/S-Specific Transcription.', 'xref_src_db': 'Reactome'}, {'xref_id': 'R-HSA-73762', 'xref_name': 'RNA Polymerase I Transcription Initiation.', 'xref_src_db': 'Reactome'}, {'xref_id': 'R-HSA-8936459', 'xref_name': 'RUNX1 regulates genes involved in megakaryocyte differentiation and platelet function.', 'xref_src_db': 'Reactome'}, {'xref_id': 'R-HSA-8943724', 'xref_name': 'Regulation of PTEN gene transcription.', 'xref_src_db': 'Reactome'}, {'xref_id': 'R-HSA-9018519', 'xref_name': 'Estrogen-dependent gene expression.', 'xref_src_db': 'Reactome'}, {'xref_id': 'R-HSA-9022538', 'xref_name': 'Loss of MECP2 binding ability to 5mC-DNA.', 'xref_src_db': 'Reactome'}, {'xref_id': 'R-HSA-9022692', 'xref_name': 'Regulation of MECP2 expression and activity.', 'xref_src_db': 'Reactome'}, {'xref_id': 'R-HSA-9022699', 'xref_name': 'MECP2 regulates neuronal receptors and channels.', 'xref_src_db': 'Reactome'}, {'xref_id': 'R-HSA-9022702', 'xref_name': 'MECP2 regulates transcription of neuronal ligands.', 'xref_src_db': 'Reactome'}, {'xref_id': 'R-HSA-9615017', 'xref_name': 'FOXO-mediated transcription of oxidative stress, metabolic and neuronal genes.', 'xref_src_db': 'Reactome'}, {'xref_id': 'R-HSA-983231', 'xref_name': 'Factors involved in megakaryocyte development and platelet production.', 'xref_src_db': 'Reactome'}, {'xref_id': 'Q13547', 'xref_name': None, 'xref_src_db': 'UniProt'}, {'xref_id': 'Q92534', 'xref_name': None, 'xref_src_db': 'UniProt'}]}, {'accession': 'O60885', 'component_description': 'Bromodomain-containing protein 4', 'component_id': 5501, 'component_type': 'PROTEIN', 'relationship': 'PROTEIN SUBUNIT', 'target_component_synonyms': [{'component_synonym': 'BRD4', 'syn_type': 'GENE_SYMBOL'}, {'component_synonym': 'Bromodomain-containing protein 4', 'syn_type': 'UNIPROT'}, {'component_synonym': 'HUNK1', 'syn_type': 'GENE_SYMBOL_OTHER'}, {'component_synonym': 'Protein HUNK1', 'syn_type': 'UNIPROT'}], 'target_component_xrefs': [{'xref_id': 'ENSG00000141867', 'xref_name': None, 'xref_src_db': 'EnsemblGene'}, {'xref_id': 'O60885', 'xref_name': None, 'xref_src_db': 'ExpressionAtlas'}, {'xref_id': 'GO:0000794', 'xref_name': 'condensed nuclear chromosome', 'xref_src_db': 'GoComponent'}, {'xref_id': 'GO:0005634', 'xref_name': 'nucleus', 'xref_src_db': 'GoComponent'}, {'xref_id': 'GO:0005654', 'xref_name': 'nucleoplasm', 'xref_src_db': 'GoComponent'}, {'xref_id': 'GO:0005694', 'xref_name': 'chromosome', 'xref_src_db': 'GoComponent'}, {'xref_id': 'GO:0002039', 'xref_name': 'p53 binding', 'xref_src_db': 'GoFunction'}, {'xref_id': 'GO:0003682', 'xref_name': 'chromatin binding', 'xref_src_db': 'GoFunction'}, {'xref_id': 'GO:0003712', 'xref_name': 'transcription coregulator activity', 'xref_src_db': 'GoFunction'}, {'xref_id': 'GO:0005515', 'xref_name': 'protein binding', 'xref_src_db': 'GoFunction'}, {'xref_id': 'GO:0008353', 'xref_name': 'RNA polymerase II CTD heptapeptide repeat kinase activity', 'xref_src_db': 'GoFunction'}, {'xref_id': 'GO:0019899', 'xref_name': 'enzyme binding', 'xref_src_db': 'GoFunction'}, {'xref_id': 'GO:0070577', 'xref_name': 'lysine-acetylated histone binding', 'xref_src_db': 'GoFunction'}, {'xref_id': 'GO:0099122', 'xref_name': 'RNA polymerase II C-terminal domain binding', 'xref_src_db': 'GoFunction'}, {'xref_id': 'GO:0106140', 'xref_name': 'P-TEFb complex binding', 'xref_src_db': 'GoFunction'}, {'xref_id': 'GO:0000083', 'xref_name': 'regulation of transcription involved in G1/S transition of mitotic cell cycle', 'xref_src_db': 'GoProcess'}, {'xref_id': 'GO:0006325', 'xref_name': 'chromatin organization', 'xref_src_db': 'GoProcess'}, {'xref_id': 'GO:0006338', 'xref_name': 'chromatin remodeling', 'xref_src_db': 'GoProcess'}, {'xref_id': 'GO:0006468', 'xref_name': 'protein phosphorylation', 'xref_src_db': 'GoProcess'}, {'xref_id': 'GO:0006974', 'xref_name': 'cellular response to DNA damage stimulus', 'xref_src_db': 'GoProcess'}, {'xref_id': 'GO:0010971', 'xref_name': 'positive regulation of G2/M transition of mitotic cell cycle', 'xref_src_db': 'GoProcess'}, {'xref_id': 'GO:0016032', 'xref_name': 'viral process', 'xref_src_db': 'GoProcess'}, {'xref_id': 'GO:0032968', 'xref_name': 'positive regulation of transcription elongation from RNA polymerase II promoter', 'xref_src_db': 'GoProcess'}, {'xref_id': 'GO:0043123', 'xref_name': 'positive regulation of I-kappaB kinase/NF-kappaB signaling', 'xref_src_db': 'GoProcess'}, {'xref_id': 'GO:0045893', 'xref_name': 'positive regulation of transcription, DNA-templated', 'xref_src_db': 'GoProcess'}, {'xref_id': 'GO:0045944', 'xref_name': 'positive regulation of transcription by RNA polymerase II', 'xref_src_db': 'GoProcess'}, {'xref_id': 'GO:0050727', 'xref_name': 'regulation of inflammatory response', 'xref_src_db': 'GoProcess'}, {'xref_id': 'GO:1901407', 'xref_name': 'regulation of phosphorylation of RNA polymerase II C-terminal domain', 'xref_src_db': 'GoProcess'}, {'xref_id': 'GO:2000002', 'xref_name': 'negative regulation of DNA damage checkpoint', 'xref_src_db': 'GoProcess'}, {'xref_id': 'GO:2001255', 'xref_name': 'positive regulation of histone H3-K36 trimethylation', 'xref_src_db': 'GoProcess'}, {'xref_id': '1945', 'xref_name': None, 'xref_src_db': 'GuideToPHARMACOLOGY'}, {'xref_id': 'O60885', 'xref_name': None, 'xref_src_db': 'IntAct'}, {'xref_id': 'IPR001487', 'xref_name': 'Bromodomain.', 'xref_src_db': 'InterPro'}, {'xref_id': 'IPR018359', 'xref_name': 'Bromodomain_CS.', 'xref_src_db': 'InterPro'}, {'xref_id': 'IPR027353', 'xref_name': 'NET_dom.', 'xref_src_db': 'InterPro'}, {'xref_id': 'IPR031354', 'xref_name': 'BRD4_CDT.', 'xref_src_db': 'InterPro'}, {'xref_id': 'IPR036427', 'xref_name': 'Bromodomain-like_sf.', 'xref_src_db': 'InterPro'}, {'xref_id': 'IPR038336', 'xref_name': 'NET_sf.', 'xref_src_db': 'InterPro'}, {'xref_id': '2NNU', 'xref_name': 'A', 'xref_src_db': 'PDBe'}, {'xref_id': '2OSS', 'xref_name': 'A', 'xref_src_db': 'PDBe'}, {'xref_id': '2OUO', 'xref_name': 'A', 'xref_src_db': 'PDBe'}, {'xref_id': '2YEL', 'xref_name': 'A', 'xref_src_db': 'PDBe'}, {'xref_id': '2YEM', 'xref_name': 'A', 'xref_src_db': 'PDBe'}, {'xref_id': '3MXF', 'xref_name': 'A', 'xref_src_db': 'PDBe'}, {'xref_id': '3P5O', 'xref_name': 'A', 'xref_src_db': 'PDBe'}, {'xref_id': '3SVF', 'xref_name': 'A', 'xref_src_db': 'PDBe'}, {'xref_id': '3SVG', 'xref_name': 'A', 'xref_src_db': 'PDBe'}, {'xref_id': '3U5J', 'xref_name': 'A', 'xref_src_db': 'PDBe'}, {'xref_id': '3U5K', 'xref_name': 'A', 'xref_src_db': 'PDBe'}, {'xref_id': '3U5L', 'xref_name': 'A', 'xref_src_db': 'PDBe'}, {'xref_id': '3UVW', 'xref_name': 'A', 'xref_src_db': 'PDBe'}, {'xref_id': '3UVX', 'xref_name': 'A', 'xref_src_db': 'PDBe'}, {'xref_id': '3UVY', 'xref_name': 'A', 'xref_src_db': 'PDBe'}, {'xref_id': '3UW9', 'xref_name': 'A', 'xref_src_db': 'PDBe'}, {'xref_id': '3ZYU', 'xref_name': 'A', 'xref_src_db': 'PDBe'}, {'xref_id': '4A9L', 'xref_name': 'A', 'xref_src_db': 'PDBe'}, {'xref_id': '4BJX', 'xref_name': 'A', 'xref_src_db': 'PDBe'}, {'xref_id': '4BW1', 'xref_name': 'A', 'xref_src_db': 'PDBe'}, {'xref_id': '4BW2', 'xref_name': 'A', 'xref_src_db': 'PDBe'}, {'xref_id': '4BW3', 'xref_name': 'A', 'xref_src_db': 'PDBe'}, {'xref_id': '4BW4', 'xref_name': 'A', 'xref_src_db': 'PDBe'}, {'xref_id': '4C66', 'xref_name': 'A', 'xref_src_db': 'PDBe'}, {'xref_id': '4C67', 'xref_name': 'A', 'xref_src_db': 'PDBe'}, {'xref_id': '4CFK', 'xref_name': 'A', 'xref_src_db': 'PDBe'}, {'xref_id': '4CFL', 'xref_name': 'A', 'xref_src_db': 'PDBe'}, {'xref_id': '4CL9', 'xref_name': 'A', 'xref_src_db': 'PDBe'}, {'xref_id': '4CLB', 'xref_name': 'A', 'xref_src_db': 'PDBe'}, {'xref_id': '4DON', 'xref_name': 'A', 'xref_src_db': 'PDBe'}, {'xref_id': '4E96', 'xref_name': 'A', 'xref_src_db': 'PDBe'}, {'xref_id': '4F3I', 'xref_name': 'A', 'xref_src_db': 'PDBe'}, {'xref_id': '4GPJ', 'xref_name': 'A', 'xref_src_db': 'PDBe'}, {'xref_id': '4HBV', 'xref_name': 'A', 'xref_src_db': 'PDBe'}, {'xref_id': '4HBW', 'xref_name': 'A', 'xref_src_db': 'PDBe'}, {'xref_id': '4HBX', 'xref_name': 'A', 'xref_src_db': 'PDBe'}, {'xref_id': '4HBY', 'xref_name': 'A', 'xref_src_db': 'PDBe'}, {'xref_id': '4HXK', 'xref_name': 'A', 'xref_src_db': 'PDBe'}, {'xref_id': '4HXL', 'xref_name': 'A', 'xref_src_db': 'PDBe'}, {'xref_id': '4HXM', 'xref_name': 'A', 'xref_src_db': 'PDBe'}, {'xref_id': '4HXN', 'xref_name': 'A', 'xref_src_db': 'PDBe'}, {'xref_id': '4HXO', 'xref_name': 'A', 'xref_src_db': 'PDBe'}, {'xref_id': '4HXP', 'xref_name': 'A', 'xref_src_db': 'PDBe'}, {'xref_id': '4HXR', 'xref_name': 'A', 'xref_src_db': 'PDBe'}, {'xref_id': '4HXS', 'xref_name': 'A', 'xref_src_db': 'PDBe'}, {'xref_id': '4IOO', 'xref_name': 'A', 'xref_src_db': 'PDBe'}, {'xref_id': '4IOQ', 'xref_name': 'A', 'xref_src_db': 'PDBe'}, {'xref_id': '4IOR', 'xref_name': 'A', 'xref_src_db': 'PDBe'}, {'xref_id': '4J0R', 'xref_name': 'A', 'xref_src_db': 'PDBe'}, {'xref_id': '4J0S', 'xref_name': 'A', 'xref_src_db': 'PDBe'}, {'xref_id': '4J3I', 'xref_name': 'A', 'xref_src_db': 'PDBe'}, {'xref_id': '4KV1', 'xref_name': 'A', 'xref_src_db': 'PDBe'}, {'xref_id': '4KV4', 'xref_name': 'A', 'xref_src_db': 'PDBe'}, {'xref_id': '4LR6', 'xref_name': 'A', 'xref_src_db': 'PDBe'}, {'xref_id': '4LRG', 'xref_name': 'A', 'xref_src_db': 'PDBe'}, {'xref_id': '4LYI', 'xref_name': 'A', 'xref_src_db': 'PDBe'}, {'xref_id': '4LYS', 'xref_name': 'A', 'xref_src_db': 'PDBe'}, {'xref_id': '4LYW', 'xref_name': 'A', 'xref_src_db': 'PDBe'}, {'xref_id': '4LZR', 'xref_name': 'A', 'xref_src_db': 'PDBe'}, {'xref_id': '4LZS', 'xref_name': 'A', 'xref_src_db': 'PDBe'}, {'xref_id': '4MEN', 'xref_name': 'A', 'xref_src_db': 'PDBe'}, {'xref_id': '4MEO', 'xref_name': 'A', 'xref_src_db': 'PDBe'}, {'xref_id': '4MEP', 'xref_name': 'A', 'xref_src_db': 'PDBe'}, {'xref_id': '4MEQ', 'xref_name': 'A', 'xref_src_db': 'PDBe'}, {'xref_id': '4MR3', 'xref_name': 'A', 'xref_src_db': 'PDBe'}, {'xref_id': '4MR4', 'xref_name': 'A', 'xref_src_db': 'PDBe'}, {'xref_id': '4NQM', 'xref_name': 'A', 'xref_src_db': 'PDBe'}, {'xref_id': '4NR8', 'xref_name': 'A', 'xref_src_db': 'PDBe'}, {'xref_id': '4NUC', 'xref_name': 'A', 'xref_src_db': 'PDBe'}, {'xref_id': '4NUD', 'xref_name': 'A', 'xref_src_db': 'PDBe'}, {'xref_id': '4NUE', 'xref_name': 'A', 'xref_src_db': 'PDBe'}, {'xref_id': '4O70', 'xref_name': 'A', 'xref_src_db': 'PDBe'}, {'xref_id': '4O71', 'xref_name': 'A', 'xref_src_db': 'PDBe'}, {'xref_id': '4O72', 'xref_name': 'A', 'xref_src_db': 'PDBe'}, {'xref_id': '4O74', 'xref_name': 'A', 'xref_src_db': 'PDBe'}, {'xref_id': '4O75', 'xref_name': 'A', 'xref_src_db': 'PDBe'}, {'xref_id': '4O76', 'xref_name': 'A', 'xref_src_db': 'PDBe'}, {'xref_id': '4O77', 'xref_name': 'A', 'xref_src_db': 'PDBe'}, {'xref_id': '4O78', 'xref_name': 'A', 'xref_src_db': 'PDBe'}, {'xref_id': '4O7A', 'xref_name': 'A', 'xref_src_db': 'PDBe'}, {'xref_id': '4O7B', 'xref_name': 'A', 'xref_src_db': 'PDBe'}, {'xref_id': '4O7C', 'xref_name': 'A', 'xref_src_db': 'PDBe'}, {'xref_id': '4O7E', 'xref_name': 'A', 'xref_src_db': 'PDBe'}, {'xref_id': '4O7F', 'xref_name': 'A', 'xref_src_db': 'PDBe'}, {'xref_id': '4OGI', 'xref_name': 'A', 'xref_src_db': 'PDBe'}, {'xref_id': '4OGJ', 'xref_name': 'A', 'xref_src_db': 'PDBe'}, {'xref_id': '4PCE', 'xref_name': 'A', 'xref_src_db': 'PDBe'}, {'xref_id': '4PCI', 'xref_name': 'A', 'xref_src_db': 'PDBe'}, {'xref_id': '4PS5', 'xref_name': 'A', 'xref_src_db': 'PDBe'}, {'xref_id': '4QB3', 'xref_name': 'A', 'xref_src_db': 'PDBe'}, {'xref_id': '4QR3', 'xref_name': 'A', 'xref_src_db': 'PDBe'}, {'xref_id': '4QR4', 'xref_name': 'A', 'xref_src_db': 'PDBe'}, {'xref_id': '4QR5', 'xref_name': 'A', 'xref_src_db': 'PDBe'}, {'xref_id': '4QZS', 'xref_name': 'A', 'xref_src_db': 'PDBe'}, {'xref_id': '4UIX', 'xref_name': 'A', 'xref_src_db': 'PDBe'}, {'xref_id': '4UIY', 'xref_name': 'A', 'xref_src_db': 'PDBe'}, {'xref_id': '4UIZ', 'xref_name': 'A', 'xref_src_db': 'PDBe'}, {'xref_id': '4UYD', 'xref_name': 'A', 'xref_src_db': 'PDBe'}, {'xref_id': '4WHW', 'xref_name': 'A', 'xref_src_db': 'PDBe'}, {'xref_id': '4WIV', 'xref_name': 'A', 'xref_src_db': 'PDBe'}, {'xref_id': '4X2I', 'xref_name': 'A', 'xref_src_db': 'PDBe'}, {'xref_id': '4XY9', 'xref_name': 'A', 'xref_src_db': 'PDBe'}, {'xref_id': '4XYA', 'xref_name': 'A', 'xref_src_db': 'PDBe'}, {'xref_id': '4YH3', 'xref_name': 'A', 'xref_src_db': 'PDBe'}, {'xref_id': '4YH4', 'xref_name': 'A', 'xref_src_db': 'PDBe'}, {'xref_id': '4Z1Q', 'xref_name': 'A', 'xref_src_db': 'PDBe'}, {'xref_id': '4Z1S', 'xref_name': 'A', 'xref_src_db': 'PDBe'}, {'xref_id': '4Z93', 'xref_name': 'A', 'xref_src_db': 'PDBe'}, {'xref_id': '4ZC9', 'xref_name': 'A', 'xref_src_db': 'PDBe'}, {'xref_id': '4ZW1', 'xref_name': 'A', 'xref_src_db': 'PDBe'}, {'xref_id': '5A5S', 'xref_name': 'A', 'xref_src_db': 'PDBe'}, {'xref_id': '5A85', 'xref_name': 'A', 'xref_src_db': 'PDBe'}, {'xref_id': '5ACY', 'xref_name': 'A', 'xref_src_db': 'PDBe'}, {'xref_id': '5AD2', 'xref_name': 'A', 'xref_src_db': 'PDBe'}, {'xref_id': '5AD3', 'xref_name': 'A', 'xref_src_db': 'PDBe'}, {'xref_id': '5BT4', 'xref_name': 'A', 'xref_src_db': 'PDBe'}, {'xref_id': '5CFW', 'xref_name': 'A', 'xref_src_db': 'PDBe'}, {'xref_id': '5COI', 'xref_name': 'A', 'xref_src_db': 'PDBe'}, {'xref_id': '5CP5', 'xref_name': 'A', 'xref_src_db': 'PDBe'}, {'xref_id': '5CPE', 'xref_name': 'A', 'xref_src_db': 'PDBe'}, {'xref_id': '5CQT', 'xref_name': 'A', 'xref_src_db': 'PDBe'}, {'xref_id': '5CRM', 'xref_name': 'A', 'xref_src_db': 'PDBe'}, {'xref_id': '5CRZ', 'xref_name': 'A', 'xref_src_db': 'PDBe'}, {'xref_id': '5CS8', 'xref_name': 'A', 'xref_src_db': 'PDBe'}, {'xref_id': '5CTL', 'xref_name': 'A', 'xref_src_db': 'PDBe'}, {'xref_id': '5CY9', 'xref_name': 'A', 'xref_src_db': 'PDBe'}, {'xref_id': '5D0C', 'xref_name': 'A', 'xref_src_db': 'PDBe'}, {'xref_id': '5D24', 'xref_name': 'A', 'xref_src_db': 'PDBe'}, {'xref_id': '5D25', 'xref_name': 'A', 'xref_src_db': 'PDBe'}, {'xref_id': '5D26', 'xref_name': 'A', 'xref_src_db': 'PDBe'}, {'xref_id': '5D3H', 'xref_name': 'A', 'xref_src_db': 'PDBe'}, {'xref_id': '5D3J', 'xref_name': 'A', 'xref_src_db': 'PDBe'}, {'xref_id': '5D3L', 'xref_name': 'A', 'xref_src_db': 'PDBe'}, {'xref_id': '5D3N', 'xref_name': 'A', 'xref_src_db': 'PDBe'}, {'xref_id': '5D3P', 'xref_name': 'A', 'xref_src_db': 'PDBe'}, {'xref_id': '5D3R', 'xref_name': 'A', 'xref_src_db': 'PDBe'}, {'xref_id': '5D3S', 'xref_name': 'A', 'xref_src_db': 'PDBe'}, {'xref_id': '5D3T', 'xref_name': 'A', 'xref_src_db': 'PDBe'}, {'xref_id': '5DLX', 'xref_name': 'A', 'xref_src_db': 'PDBe'}, {'xref_id': '5DLZ', 'xref_name': 'A', 'xref_src_db': 'PDBe'}, {'xref_id': '5DW2', 'xref_name': 'A', 'xref_src_db': 'PDBe'}, {'xref_id': '5DX4', 'xref_name': 'A', 'xref_src_db': 'PDBe'}, {'xref_id': '5E0R', 'xref_name': 'A', 'xref_src_db': 'PDBe'}, {'xref_id': '5EGU', 'xref_name': 'A', 'xref_src_db': 'PDBe'}, {'xref_id': '5EI4', 'xref_name': 'A', 'xref_src_db': 'PDBe'}, {'xref_id': '5EIS', 'xref_name': 'A', 'xref_src_db': 'PDBe'}, {'xref_id': '5F5Z', 'xref_name': 'A', 'xref_src_db': 'PDBe'}, {'xref_id': '5F60', 'xref_name': 'A', 'xref_src_db': 'PDBe'}, {'xref_id': '5F61', 'xref_name': 'A', 'xref_src_db': 'PDBe'}, {'xref_id': '5F62', 'xref_name': 'A', 'xref_src_db': 'PDBe'}, {'xref_id': '5F63', 'xref_name': 'A', 'xref_src_db': 'PDBe'}, {'xref_id': '5FBX', 'xref_name': 'A', 'xref_src_db': 'PDBe'}, {'xref_id': '5H21', 'xref_name': 'A', 'xref_src_db': 'PDBe'}, {'xref_id': '5HCL', 'xref_name': 'A', 'xref_src_db': 'PDBe'}, {'xref_id': '5HLS', 'xref_name': 'A', 'xref_src_db': 'PDBe'}, {'xref_id': '5HM0', 'xref_name': 'A', 'xref_src_db': 'PDBe'}, {'xref_id': '5HQ5', 'xref_name': 'A', 'xref_src_db': 'PDBe'}, {'xref_id': '5HQ6', 'xref_name': 'A', 'xref_src_db': 'PDBe'}, {'xref_id': '5HQ7', 'xref_name': 'A', 'xref_src_db': 'PDBe'}, {'xref_id': '5I80', 'xref_name': 'A', 'xref_src_db': 'PDBe'}, {'xref_id': '5I88', 'xref_name': 'A', 'xref_src_db': 'PDBe'}, {'xref_id': '5IGK', 'xref_name': 'A', 'xref_src_db': 'PDBe'}, {'xref_id': '5JWM', 'xref_name': 'A', 'xref_src_db': 'PDBe'}, {'xref_id': '5KDH', 'xref_name': 'A', 'xref_src_db': 'PDBe'}, {'xref_id': '5KHM', 'xref_name': 'A', 'xref_src_db': 'PDBe'}, {'xref_id': '5KJ0', 'xref_name': 'A', 'xref_src_db': 'PDBe'}, {'xref_id': '5KU3', 'xref_name': 'A', 'xref_src_db': 'PDBe'}, {'xref_id': '5LJ1', 'xref_name': 'A', 'xref_src_db': 'PDBe'}, {'xref_id': '5LJ2', 'xref_name': 'A', 'xref_src_db': 'PDBe'}, {'xref_id': '5LRQ', 'xref_name': 'A', 'xref_src_db': 'PDBe'}, {'xref_id': '5LUU', 'xref_name': 'A', 'xref_src_db': 'PDBe'}, {'xref_id': '5M39', 'xref_name': 'A', 'xref_src_db': 'PDBe'}, {'xref_id': '5M3A', 'xref_name': 'A', 'xref_src_db': 'PDBe'}, {'xref_id': '5MKZ', 'xref_name': 'A', 'xref_src_db': 'PDBe'}, {'xref_id': '5MLI', 'xref_name': 'A', 'xref_src_db': 'PDBe'}, {'xref_id': '5N2M', 'xref_name': 'A', 'xref_src_db': 'PDBe'}, {'xref_id': '5NNC', 'xref_name': 'A', 'xref_src_db': 'PDBe'}, {'xref_id': '5NND', 'xref_name': 'A', 'xref_src_db': 'PDBe'}, {'xref_id': '5NNE', 'xref_name': 'A', 'xref_src_db': 'PDBe'}, {'xref_id': '5NNF', 'xref_name': 'A', 'xref_src_db': 'PDBe'}, {'xref_id': '5NNG', 'xref_name': 'A', 'xref_src_db': 'PDBe'}, {'xref_id': '5O97', 'xref_name': 'A', 'xref_src_db': 'PDBe'}, {'xref_id': '5OVB', 'xref_name': 'A', 'xref_src_db': 'PDBe'}, {'xref_id': '5OWM', 'xref_name': 'A', 'xref_src_db': 'PDBe'}, {'xref_id': '5OWW', 'xref_name': 'A', 'xref_src_db': 'PDBe'}, {'xref_id': '5T35', 'xref_name': 'A', 'xref_src_db': 'PDBe'}, {'xref_id': '5TI2', 'xref_name': 'A', 'xref_src_db': 'PDBe'}, {'xref_id': '5TI3', 'xref_name': 'A', 'xref_src_db': 'PDBe'}, {'xref_id': '5TI4', 'xref_name': 'A', 'xref_src_db': 'PDBe'}, {'xref_id': '5TI5', 'xref_name': 'A', 'xref_src_db': 'PDBe'}, {'xref_id': '5TI6', 'xref_name': 'A', 'xref_src_db': 'PDBe'}, {'xref_id': '5TI7', 'xref_name': 'A', 'xref_src_db': 'PDBe'}, {'xref_id': '5U28', 'xref_name': 'A', 'xref_src_db': 'PDBe'}, {'xref_id': '5U2C', 'xref_name': 'A', 'xref_src_db': 'PDBe'}, {'xref_id': '5U2E', 'xref_name': 'A', 'xref_src_db': 'PDBe'}, {'xref_id': '5U2F', 'xref_name': 'A', 'xref_src_db': 'PDBe'}, {'xref_id': '5UEO', 'xref_name': 'A', 'xref_src_db': 'PDBe'}, {'xref_id': '5UEP', 'xref_name': 'A', 'xref_src_db': 'PDBe'}, {'xref_id': '5UEQ', 'xref_name': 'A', 'xref_src_db': 'PDBe'}, {'xref_id': '5UER', 'xref_name': 'A', 'xref_src_db': 'PDBe'}, {'xref_id': '5UES', 'xref_name': 'A', 'xref_src_db': 'PDBe'}, {'xref_id': '5UET', 'xref_name': 'A', 'xref_src_db': 'PDBe'}, {'xref_id': '5UEU', 'xref_name': 'A', 'xref_src_db': 'PDBe'}, {'xref_id': '5UEV', 'xref_name': 'A', 'xref_src_db': 'PDBe'}, {'xref_id': '5UEX', 'xref_name': 'A', 'xref_src_db': 'PDBe'}, {'xref_id': '5UEY', 'xref_name': 'A', 'xref_src_db': 'PDBe'}, {'xref_id': '5UEZ', 'xref_name': 'A', 'xref_src_db': 'PDBe'}, {'xref_id': '5UF0', 'xref_name': 'A', 'xref_src_db': 'PDBe'}, {'xref_id': '5ULA', 'xref_name': 'A', 'xref_src_db': 'PDBe'}, {'xref_id': '5UOO', 'xref_name': 'A', 'xref_src_db': 'PDBe'}, {'xref_id': '5UVS', 'xref_name': 'A', 'xref_src_db': 'PDBe'}, {'xref_id': '5UVT', 'xref_name': 'A', 'xref_src_db': 'PDBe'}, {'xref_id': '5UVU', 'xref_name': 'A', 'xref_src_db': 'PDBe'}, {'xref_id': '5UVV', 'xref_name': 'A', 'xref_src_db': 'PDBe'}, {'xref_id': '5UVW', 'xref_name': 'A', 'xref_src_db': 'PDBe'}, {'xref_id': '5UVX', 'xref_name': 'A', 'xref_src_db': 'PDBe'}, {'xref_id': '5UVY', 'xref_name': 'A', 'xref_src_db': 'PDBe'}, {'xref_id': '5UVZ', 'xref_name': 'A', 'xref_src_db': 'PDBe'}, {'xref_id': '5V67', 'xref_name': 'A', 'xref_src_db': 'PDBe'}, {'xref_id': '5VBO', 'xref_name': 'A', 'xref_src_db': 'PDBe'}, {'xref_id': '5VBP', 'xref_name': 'A', 'xref_src_db': 'PDBe'}, {'xref_id': '5VOM', 'xref_name': 'A', 'xref_src_db': 'PDBe'}, {'xref_id': '5VZS', 'xref_name': 'A', 'xref_src_db': 'PDBe'}, {'xref_id': '5W55', 'xref_name': 'A', 'xref_src_db': 'PDBe'}, {'xref_id': '5WA5', 'xref_name': 'A', 'xref_src_db': 'PDBe'}, {'xref_id': '5WMA', 'xref_name': 'A', 'xref_src_db': 'PDBe'}, {'xref_id': '5WMD', 'xref_name': 'A', 'xref_src_db': 'PDBe'}, {'xref_id': '5WMG', 'xref_name': 'A', 'xref_src_db': 'PDBe'}, {'xref_id': '5WUU', 'xref_name': 'A', 'xref_src_db': 'PDBe'}, {'xref_id': '5XHY', 'xref_name': 'A', 'xref_src_db': 'PDBe'}, {'xref_id': '5XI2', 'xref_name': 'A', 'xref_src_db': 'PDBe'}, {'xref_id': '5XI3', 'xref_name': 'A', 'xref_src_db': 'PDBe'}, {'xref_id': '5XI4', 'xref_name': 'A', 'xref_src_db': 'PDBe'}, {'xref_id': '5Y1Y', 'xref_name': 'A', 'xref_src_db': 'PDBe'}, {'xref_id': '5Y8C', 'xref_name': 'A', 'xref_src_db': 'PDBe'}, {'xref_id': '5Y8W', 'xref_name': 'A', 'xref_src_db': 'PDBe'}, {'xref_id': '5Y8Y', 'xref_name': 'A', 'xref_src_db': 'PDBe'}, {'xref_id': '5Y8Z', 'xref_name': 'A', 'xref_src_db': 'PDBe'}, {'xref_id': '5Y93', 'xref_name': 'A', 'xref_src_db': 'PDBe'}, {'xref_id': '5Y94', 'xref_name': 'A', 'xref_src_db': 'PDBe'}, {'xref_id': '5YOU', 'xref_name': 'A', 'xref_src_db': 'PDBe'}, {'xref_id': '5YOV', 'xref_name': 'A', 'xref_src_db': 'PDBe'}, {'xref_id': '5YQX', 'xref_name': 'A', 'xref_src_db': 'PDBe'}, {'xref_id': '5Z1R', 'xref_name': 'A', 'xref_src_db': 'PDBe'}, {'xref_id': '5Z1S', 'xref_name': 'A', 'xref_src_db': 'PDBe'}, {'xref_id': '5Z1T', 'xref_name': 'A', 'xref_src_db': 'PDBe'}, {'xref_id': '5Z5T', 'xref_name': 'A', 'xref_src_db': 'PDBe'}, {'xref_id': '5Z5U', 'xref_name': 'A', 'xref_src_db': 'PDBe'}, {'xref_id': '5Z5V', 'xref_name': 'A', 'xref_src_db': 'PDBe'}, {'xref_id': '5Z8G', 'xref_name': 'A', 'xref_src_db': 'PDBe'}, {'xref_id': '5Z8R', 'xref_name': 'A', 'xref_src_db': 'PDBe'}, {'xref_id': '5Z8Z', 'xref_name': 'A', 'xref_src_db': 'PDBe'}, {'xref_id': '5Z90', 'xref_name': 'A', 'xref_src_db': 'PDBe'}, {'xref_id': '5Z9K', 'xref_name': 'A', 'xref_src_db': 'PDBe'}, {'xref_id': '6AFR', 'xref_name': 'A', 'xref_src_db': 'PDBe'}, {'xref_id': '6AJV', 'xref_name': 'A', 'xref_src_db': 'PDBe'}, {'xref_id': '6AJW', 'xref_name': 'A', 'xref_src_db': 'PDBe'}, {'xref_id': '6AJX', 'xref_name': 'A', 'xref_src_db': 'PDBe'}, {'xref_id': '6AJY', 'xref_name': 'A', 'xref_src_db': 'PDBe'}, {'xref_id': '6BN7', 'xref_name': 'A', 'xref_src_db': 'PDBe'}, {'xref_id': '6BN8', 'xref_name': 'A', 'xref_src_db': 'PDBe'}, {'xref_id': '6BN9', 'xref_name': 'A', 'xref_src_db': 'PDBe'}, {'xref_id': '6BNB', 'xref_name': 'A', 'xref_src_db': 'PDBe'}, {'xref_id': '6BOY', 'xref_name': 'A', 'xref_src_db': 'PDBe'}, {'xref_id': '6C7Q', 'xref_name': 'A', 'xref_src_db': 'PDBe'}, {'xref_id': '6C7R', 'xref_name': 'A', 'xref_src_db': 'PDBe'}, {'xref_id': '6CD4', 'xref_name': 'A', 'xref_src_db': 'PDBe'}, {'xref_id': '6CD5', 'xref_name': 'A', 'xref_src_db': 'PDBe'}, {'xref_id': '6CIS', 'xref_name': 'A', 'xref_src_db': 'PDBe'}, {'xref_id': '6CIY', 'xref_name': 'A', 'xref_src_db': 'PDBe'}, {'xref_id': '6CJ1', 'xref_name': 'A', 'xref_src_db': 'PDBe'}, {'xref_id': '6CJ2', 'xref_name': 'A', 'xref_src_db': 'PDBe'}, {'xref_id': '6CKR', 'xref_name': 'A', 'xref_src_db': 'PDBe'}, {'xref_id': '6CKS', 'xref_name': 'A', 'xref_src_db': 'PDBe'}, {'xref_id': '6CZU', 'xref_name': 'A', 'xref_src_db': 'PDBe'}, {'xref_id': '6CZV', 'xref_name': 'A', 'xref_src_db': 'PDBe'}, {'xref_id': '6DJC', 'xref_name': 'A', 'xref_src_db': 'PDBe'}, {'xref_id': '6DL2', 'xref_name': 'A', 'xref_src_db': 'PDBe'}, {'xref_id': '6DMJ', 'xref_name': 'A', 'xref_src_db': 'PDBe'}, {'xref_id': '6DML', 'xref_name': 'A', 'xref_src_db': 'PDBe'}, {'xref_id': '6DNE', 'xref_name': 'A', 'xref_src_db': 'PDBe'}, {'xref_id': '6DUV', 'xref_name': 'A', 'xref_src_db': 'PDBe'}, {'xref_id': '6E4A', 'xref_name': 'A', 'xref_src_db': 'PDBe'}, {'xref_id': '6FFD', 'xref_name': 'A', 'xref_src_db': 'PDBe'}, {'xref_id': '6FNX', 'xref_name': 'A', 'xref_src_db': 'PDBe'}, {'xref_id': '6FO5', 'xref_name': 'A', 'xref_src_db': 'PDBe'}, {'xref_id': '6FSY', 'xref_name': 'A', 'xref_src_db': 'PDBe'}, {'xref_id': '6FT3', 'xref_name': 'A', 'xref_src_db': 'PDBe'}, {'xref_id': '6FT4', 'xref_name': 'A', 'xref_src_db': 'PDBe'}, {'xref_id': '6G0O', 'xref_name': 'A', 'xref_src_db': 'PDBe'}, {'xref_id': '6G0P', 'xref_name': 'A', 'xref_src_db': 'PDBe'}, {'xref_id': '6G0Q', 'xref_name': 'A', 'xref_src_db': 'PDBe'}, {'xref_id': '6G0R', 'xref_name': 'A', 'xref_src_db': 'PDBe'}, {'xref_id': '6G0S', 'xref_name': 'A', 'xref_src_db': 'PDBe'}, {'xref_id': '6HDQ', 'xref_name': 'A', 'xref_src_db': 'PDBe'}, {'xref_id': '6MAU', 'xref_name': 'A', 'xref_src_db': 'PDBe'}, {'xref_id': '6MH1', 'xref_name': 'A', 'xref_src_db': 'PDBe'}, {'xref_id': '6MH7', 'xref_name': 'A', 'xref_src_db': 'PDBe'}, {'xref_id': '6Q3Y', 'xref_name': 'A', 'xref_src_db': 'PDBe'}, {'xref_id': '6Q3Z', 'xref_name': 'A', 'xref_src_db': 'PDBe'}, {'xref_id': '6S25', 'xref_name': 'A', 'xref_src_db': 'PDBe'}, {'xref_id': '6SE4', 'xref_name': 'A', 'xref_src_db': 'PDBe'}, {'xref_id': 'PF00439', 'xref_name': 'Bromodomain', 'xref_src_db': 'Pfam'}, {'xref_id': 'PF17035', 'xref_name': 'BET', 'xref_src_db': 'Pfam'}, {'xref_id': 'PF17105', 'xref_name': 'BRD4_CDT', 'xref_src_db': 'Pfam'}, {'xref_id': 'PA25416', 'xref_name': 'bromodomain containing 4', 'xref_src_db': 'PharmGKB'}, {'xref_id': 'BRD4', 'xref_name': 'BRD4', 'xref_src_db': 'TIMBAL'}, {'xref_id': 'O60433', 'xref_name': None, 'xref_src_db': 'UniProt'}, {'xref_id': 'O60885', 'xref_name': None, 'xref_src_db': 'UniProt'}, {'xref_id': 'Q4G0X8', 'xref_name': None, 'xref_src_db': 'UniProt'}, {'xref_id': 'Q86YS8', 'xref_name': None, 'xref_src_db': 'UniProt'}, {'xref_id': 'Q96PD3', 'xref_name': None, 'xref_src_db': 'UniProt'}]}], 'target_type': 'PROTEIN COMPLEX', 'tax_id': 9606}, {'cross_references': [{'xref_id': 'O60885', 'xref_name': None, 'xref_src': 'canSAR-Target'}, {'xref_id': 'BRD4', 'xref_name': None, 'xref_src': 'Wikipedia'}], 'organism': 'Homo sapiens', 'pref_name': 'Bromodomain-containing protein 4', 'score': 14.0, 'species_group_flag': False, 'target_chembl_id': 'CHEMBL1163125', 'target_components': [{'accession': 'O60885', 'component_description': 'Bromodomain-containing protein 4', 'component_id': 5501, 'component_type': 'PROTEIN', 'relationship': 'SINGLE PROTEIN', 'target_component_synonyms': [{'component_synonym': 'BRD4', 'syn_type': 'GENE_SYMBOL'}, {'component_synonym': 'Bromodomain-containing protein 4', 'syn_type': 'UNIPROT'}, {'component_synonym': 'HUNK1', 'syn_type': 'GENE_SYMBOL_OTHER'}, {'component_synonym': 'Protein HUNK1', 'syn_type': 'UNIPROT'}], 'target_component_xrefs': [{'xref_id': 'ENSG00000141867', 'xref_name': None, 'xref_src_db': 'EnsemblGene'}, {'xref_id': 'O60885', 'xref_name': None, 'xref_src_db': 'ExpressionAtlas'}, {'xref_id': 'GO:0000794', 'xref_name': 'condensed nuclear chromosome', 'xref_src_db': 'GoComponent'}, {'xref_id': 'GO:0005634', 'xref_name': 'nucleus', 'xref_src_db': 'GoComponent'}, {'xref_id': 'GO:0005654', 'xref_name': 'nucleoplasm', 'xref_src_db': 'GoComponent'}, {'xref_id': 'GO:0005694', 'xref_name': 'chromosome', 'xref_src_db': 'GoComponent'}, {'xref_id': 'GO:0002039', 'xref_name': 'p53 binding', 'xref_src_db': 'GoFunction'}, {'xref_id': 'GO:0003682', 'xref_name': 'chromatin binding', 'xref_src_db': 'GoFunction'}, {'xref_id': 'GO:0003712', 'xref_name': 'transcription coregulator activity', 'xref_src_db': 'GoFunction'}, {'xref_id': 'GO:0005515', 'xref_name': 'protein binding', 'xref_src_db': 'GoFunction'}, {'xref_id': 'GO:0008353', 'xref_name': 'RNA polymerase II CTD heptapeptide repeat kinase activity', 'xref_src_db': 'GoFunction'}, {'xref_id': 'GO:0019899', 'xref_name': 'enzyme binding', 'xref_src_db': 'GoFunction'}, {'xref_id': 'GO:0070577', 'xref_name': 'lysine-acetylated histone binding', 'xref_src_db': 'GoFunction'}, {'xref_id': 'GO:0099122', 'xref_name': 'RNA polymerase II C-terminal domain binding', 'xref_src_db': 'GoFunction'}, {'xref_id': 'GO:0106140', 'xref_name': 'P-TEFb complex binding', 'xref_src_db': 'GoFunction'}, {'xref_id': 'GO:0000083', 'xref_name': 'regulation of transcription involved in G1/S transition of mitotic cell cycle', 'xref_src_db': 'GoProcess'}, {'xref_id': 'GO:0006325', 'xref_name': 'chromatin organization', 'xref_src_db': 'GoProcess'}, {'xref_id': 'GO:0006338', 'xref_name': 'chromatin remodeling', 'xref_src_db': 'GoProcess'}, {'xref_id': 'GO:0006468', 'xref_name': 'protein phosphorylation', 'xref_src_db': 'GoProcess'}, {'xref_id': 'GO:0006974', 'xref_name': 'cellular response to DNA damage stimulus', 'xref_src_db': 'GoProcess'}, {'xref_id': 'GO:0010971', 'xref_name': 'positive regulation of G2/M transition of mitotic cell cycle', 'xref_src_db': 'GoProcess'}, {'xref_id': 'GO:0016032', 'xref_name': 'viral process', 'xref_src_db': 'GoProcess'}, {'xref_id': 'GO:0032968', 'xref_name': 'positive regulation of transcription elongation from RNA polymerase II promoter', 'xref_src_db': 'GoProcess'}, {'xref_id': 'GO:0043123', 'xref_name': 'positive regulation of I-kappaB kinase/NF-kappaB signaling', 'xref_src_db': 'GoProcess'}, {'xref_id': 'GO:0045893', 'xref_name': 'positive regulation of transcription, DNA-templated', 'xref_src_db': 'GoProcess'}, {'xref_id': 'GO:0045944', 'xref_name': 'positive regulation of transcription by RNA polymerase II', 'xref_src_db': 'GoProcess'}, {'xref_id': 'GO:0050727', 'xref_name': 'regulation of inflammatory response', 'xref_src_db': 'GoProcess'}, {'xref_id': 'GO:1901407', 'xref_name': 'regulation of phosphorylation of RNA polymerase II C-terminal domain', 'xref_src_db': 'GoProcess'}, {'xref_id': 'GO:2000002', 'xref_name': 'negative regulation of DNA damage checkpoint', 'xref_src_db': 'GoProcess'}, {'xref_id': 'GO:2001255', 'xref_name': 'positive regulation of histone H3-K36 trimethylation', 'xref_src_db': 'GoProcess'}, {'xref_id': '1945', 'xref_name': None, 'xref_src_db': 'GuideToPHARMACOLOGY'}, {'xref_id': 'O60885', 'xref_name': None, 'xref_src_db': 'IntAct'}, {'xref_id': 'IPR001487', 'xref_name': 'Bromodomain.', 'xref_src_db': 'InterPro'}, {'xref_id': 'IPR018359', 'xref_name': 'Bromodomain_CS.', 'xref_src_db': 'InterPro'}, {'xref_id': 'IPR027353', 'xref_name': 'NET_dom.', 'xref_src_db': 'InterPro'}, {'xref_id': 'IPR031354', 'xref_name': 'BRD4_CDT.', 'xref_src_db': 'InterPro'}, {'xref_id': 'IPR036427', 'xref_name': 'Bromodomain-like_sf.', 'xref_src_db': 'InterPro'}, {'xref_id': 'IPR038336', 'xref_name': 'NET_sf.', 'xref_src_db': 'InterPro'}, {'xref_id': '2NNU', 'xref_name': 'A', 'xref_src_db': 'PDBe'}, {'xref_id': '2OSS', 'xref_name': 'A', 'xref_src_db': 'PDBe'}, {'xref_id': '2OUO', 'xref_name': 'A', 'xref_src_db': 'PDBe'}, {'xref_id': '2YEL', 'xref_name': 'A', 'xref_src_db': 'PDBe'}, {'xref_id': '2YEM', 'xref_name': 'A', 'xref_src_db': 'PDBe'}, {'xref_id': '3MXF', 'xref_name': 'A', 'xref_src_db': 'PDBe'}, {'xref_id': '3P5O', 'xref_name': 'A', 'xref_src_db': 'PDBe'}, {'xref_id': '3SVF', 'xref_name': 'A', 'xref_src_db': 'PDBe'}, {'xref_id': '3SVG', 'xref_name': 'A', 'xref_src_db': 'PDBe'}, {'xref_id': '3U5J', 'xref_name': 'A', 'xref_src_db': 'PDBe'}, {'xref_id': '3U5K', 'xref_name': 'A', 'xref_src_db': 'PDBe'}, {'xref_id': '3U5L', 'xref_name': 'A', 'xref_src_db': 'PDBe'}, {'xref_id': '3UVW', 'xref_name': 'A', 'xref_src_db': 'PDBe'}, {'xref_id': '3UVX', 'xref_name': 'A', 'xref_src_db': 'PDBe'}, {'xref_id': '3UVY', 'xref_name': 'A', 'xref_src_db': 'PDBe'}, {'xref_id': '3UW9', 'xref_name': 'A', 'xref_src_db': 'PDBe'}, {'xref_id': '3ZYU', 'xref_name': 'A', 'xref_src_db': 'PDBe'}, {'xref_id': '4A9L', 'xref_name': 'A', 'xref_src_db': 'PDBe'}, {'xref_id': '4BJX', 'xref_name': 'A', 'xref_src_db': 'PDBe'}, {'xref_id': '4BW1', 'xref_name': 'A', 'xref_src_db': 'PDBe'}, {'xref_id': '4BW2', 'xref_name': 'A', 'xref_src_db': 'PDBe'}, {'xref_id': '4BW3', 'xref_name': 'A', 'xref_src_db': 'PDBe'}, {'xref_id': '4BW4', 'xref_name': 'A', 'xref_src_db': 'PDBe'}, {'xref_id': '4C66', 'xref_name': 'A', 'xref_src_db': 'PDBe'}, {'xref_id': '4C67', 'xref_name': 'A', 'xref_src_db': 'PDBe'}, {'xref_id': '4CFK', 'xref_name': 'A', 'xref_src_db': 'PDBe'}, {'xref_id': '4CFL', 'xref_name': 'A', 'xref_src_db': 'PDBe'}, {'xref_id': '4CL9', 'xref_name': 'A', 'xref_src_db': 'PDBe'}, {'xref_id': '4CLB', 'xref_name': 'A', 'xref_src_db': 'PDBe'}, {'xref_id': '4DON', 'xref_name': 'A', 'xref_src_db': 'PDBe'}, {'xref_id': '4E96', 'xref_name': 'A', 'xref_src_db': 'PDBe'}, {'xref_id': '4F3I', 'xref_name': 'A', 'xref_src_db': 'PDBe'}, {'xref_id': '4GPJ', 'xref_name': 'A', 'xref_src_db': 'PDBe'}, {'xref_id': '4HBV', 'xref_name': 'A', 'xref_src_db': 'PDBe'}, {'xref_id': '4HBW', 'xref_name': 'A', 'xref_src_db': 'PDBe'}, {'xref_id': '4HBX', 'xref_name': 'A', 'xref_src_db': 'PDBe'}, {'xref_id': '4HBY', 'xref_name': 'A', 'xref_src_db': 'PDBe'}, {'xref_id': '4HXK', 'xref_name': 'A', 'xref_src_db': 'PDBe'}, {'xref_id': '4HXL', 'xref_name': 'A', 'xref_src_db': 'PDBe'}, {'xref_id': '4HXM', 'xref_name': 'A', 'xref_src_db': 'PDBe'}, {'xref_id': '4HXN', 'xref_name': 'A', 'xref_src_db': 'PDBe'}, {'xref_id': '4HXO', 'xref_name': 'A', 'xref_src_db': 'PDBe'}, {'xref_id': '4HXP', 'xref_name': 'A', 'xref_src_db': 'PDBe'}, {'xref_id': '4HXR', 'xref_name': 'A', 'xref_src_db': 'PDBe'}, {'xref_id': '4HXS', 'xref_name': 'A', 'xref_src_db': 'PDBe'}, {'xref_id': '4IOO', 'xref_name': 'A', 'xref_src_db': 'PDBe'}, {'xref_id': '4IOQ', 'xref_name': 'A', 'xref_src_db': 'PDBe'}, {'xref_id': '4IOR', 'xref_name': 'A', 'xref_src_db': 'PDBe'}, {'xref_id': '4J0R', 'xref_name': 'A', 'xref_src_db': 'PDBe'}, {'xref_id': '4J0S', 'xref_name': 'A', 'xref_src_db': 'PDBe'}, {'xref_id': '4J3I', 'xref_name': 'A', 'xref_src_db': 'PDBe'}, {'xref_id': '4KV1', 'xref_name': 'A', 'xref_src_db': 'PDBe'}, {'xref_id': '4KV4', 'xref_name': 'A', 'xref_src_db': 'PDBe'}, {'xref_id': '4LR6', 'xref_name': 'A', 'xref_src_db': 'PDBe'}, {'xref_id': '4LRG', 'xref_name': 'A', 'xref_src_db': 'PDBe'}, {'xref_id': '4LYI', 'xref_name': 'A', 'xref_src_db': 'PDBe'}, {'xref_id': '4LYS', 'xref_name': 'A', 'xref_src_db': 'PDBe'}, {'xref_id': '4LYW', 'xref_name': 'A', 'xref_src_db': 'PDBe'}, {'xref_id': '4LZR', 'xref_name': 'A', 'xref_src_db': 'PDBe'}, {'xref_id': '4LZS', 'xref_name': 'A', 'xref_src_db': 'PDBe'}, {'xref_id': '4MEN', 'xref_name': 'A', 'xref_src_db': 'PDBe'}, {'xref_id': '4MEO', 'xref_name': 'A', 'xref_src_db': 'PDBe'}, {'xref_id': '4MEP', 'xref_name': 'A', 'xref_src_db': 'PDBe'}, {'xref_id': '4MEQ', 'xref_name': 'A', 'xref_src_db': 'PDBe'}, {'xref_id': '4MR3', 'xref_name': 'A', 'xref_src_db': 'PDBe'}, {'xref_id': '4MR4', 'xref_name': 'A', 'xref_src_db': 'PDBe'}, {'xref_id': '4NQM', 'xref_name': 'A', 'xref_src_db': 'PDBe'}, {'xref_id': '4NR8', 'xref_name': 'A', 'xref_src_db': 'PDBe'}, {'xref_id': '4NUC', 'xref_name': 'A', 'xref_src_db': 'PDBe'}, {'xref_id': '4NUD', 'xref_name': 'A', 'xref_src_db': 'PDBe'}, {'xref_id': '4NUE', 'xref_name': 'A', 'xref_src_db': 'PDBe'}, {'xref_id': '4O70', 'xref_name': 'A', 'xref_src_db': 'PDBe'}, {'xref_id': '4O71', 'xref_name': 'A', 'xref_src_db': 'PDBe'}, {'xref_id': '4O72', 'xref_name': 'A', 'xref_src_db': 'PDBe'}, {'xref_id': '4O74', 'xref_name': 'A', 'xref_src_db': 'PDBe'}, {'xref_id': '4O75', 'xref_name': 'A', 'xref_src_db': 'PDBe'}, {'xref_id': '4O76', 'xref_name': 'A', 'xref_src_db': 'PDBe'}, {'xref_id': '4O77', 'xref_name': 'A', 'xref_src_db': 'PDBe'}, {'xref_id': '4O78', 'xref_name': 'A', 'xref_src_db': 'PDBe'}, {'xref_id': '4O7A', 'xref_name': 'A', 'xref_src_db': 'PDBe'}, {'xref_id': '4O7B', 'xref_name': 'A', 'xref_src_db': 'PDBe'}, {'xref_id': '4O7C', 'xref_name': 'A', 'xref_src_db': 'PDBe'}, {'xref_id': '4O7E', 'xref_name': 'A', 'xref_src_db': 'PDBe'}, {'xref_id': '4O7F', 'xref_name': 'A', 'xref_src_db': 'PDBe'}, {'xref_id': '4OGI', 'xref_name': 'A', 'xref_src_db': 'PDBe'}, {'xref_id': '4OGJ', 'xref_name': 'A', 'xref_src_db': 'PDBe'}, {'xref_id': '4PCE', 'xref_name': 'A', 'xref_src_db': 'PDBe'}, {'xref_id': '4PCI', 'xref_name': 'A', 'xref_src_db': 'PDBe'}, {'xref_id': '4PS5', 'xref_name': 'A', 'xref_src_db': 'PDBe'}, {'xref_id': '4QB3', 'xref_name': 'A', 'xref_src_db': 'PDBe'}, {'xref_id': '4QR3', 'xref_name': 'A', 'xref_src_db': 'PDBe'}, {'xref_id': '4QR4', 'xref_name': 'A', 'xref_src_db': 'PDBe'}, {'xref_id': '4QR5', 'xref_name': 'A', 'xref_src_db': 'PDBe'}, {'xref_id': '4QZS', 'xref_name': 'A', 'xref_src_db': 'PDBe'}, {'xref_id': '4UIX', 'xref_name': 'A', 'xref_src_db': 'PDBe'}, {'xref_id': '4UIY', 'xref_name': 'A', 'xref_src_db': 'PDBe'}, {'xref_id': '4UIZ', 'xref_name': 'A', 'xref_src_db': 'PDBe'}, {'xref_id': '4UYD', 'xref_name': 'A', 'xref_src_db': 'PDBe'}, {'xref_id': '4WHW', 'xref_name': 'A', 'xref_src_db': 'PDBe'}, {'xref_id': '4WIV', 'xref_name': 'A', 'xref_src_db': 'PDBe'}, {'xref_id': '4X2I', 'xref_name': 'A', 'xref_src_db': 'PDBe'}, {'xref_id': '4XY9', 'xref_name': 'A', 'xref_src_db': 'PDBe'}, {'xref_id': '4XYA', 'xref_name': 'A', 'xref_src_db': 'PDBe'}, {'xref_id': '4YH3', 'xref_name': 'A', 'xref_src_db': 'PDBe'}, {'xref_id': '4YH4', 'xref_name': 'A', 'xref_src_db': 'PDBe'}, {'xref_id': '4Z1Q', 'xref_name': 'A', 'xref_src_db': 'PDBe'}, {'xref_id': '4Z1S', 'xref_name': 'A', 'xref_src_db': 'PDBe'}, {'xref_id': '4Z93', 'xref_name': 'A', 'xref_src_db': 'PDBe'}, {'xref_id': '4ZC9', 'xref_name': 'A', 'xref_src_db': 'PDBe'}, {'xref_id': '4ZW1', 'xref_name': 'A', 'xref_src_db': 'PDBe'}, {'xref_id': '5A5S', 'xref_name': 'A', 'xref_src_db': 'PDBe'}, {'xref_id': '5A85', 'xref_name': 'A', 'xref_src_db': 'PDBe'}, {'xref_id': '5ACY', 'xref_name': 'A', 'xref_src_db': 'PDBe'}, {'xref_id': '5AD2', 'xref_name': 'A', 'xref_src_db': 'PDBe'}, {'xref_id': '5AD3', 'xref_name': 'A', 'xref_src_db': 'PDBe'}, {'xref_id': '5BT4', 'xref_name': 'A', 'xref_src_db': 'PDBe'}, {'xref_id': '5CFW', 'xref_name': 'A', 'xref_src_db': 'PDBe'}, {'xref_id': '5COI', 'xref_name': 'A', 'xref_src_db': 'PDBe'}, {'xref_id': '5CP5', 'xref_name': 'A', 'xref_src_db': 'PDBe'}, {'xref_id': '5CPE', 'xref_name': 'A', 'xref_src_db': 'PDBe'}, {'xref_id': '5CQT', 'xref_name': 'A', 'xref_src_db': 'PDBe'}, {'xref_id': '5CRM', 'xref_name': 'A', 'xref_src_db': 'PDBe'}, {'xref_id': '5CRZ', 'xref_name': 'A', 'xref_src_db': 'PDBe'}, {'xref_id': '5CS8', 'xref_name': 'A', 'xref_src_db': 'PDBe'}, {'xref_id': '5CTL', 'xref_name': 'A', 'xref_src_db': 'PDBe'}, {'xref_id': '5CY9', 'xref_name': 'A', 'xref_src_db': 'PDBe'}, {'xref_id': '5D0C', 'xref_name': 'A', 'xref_src_db': 'PDBe'}, {'xref_id': '5D24', 'xref_name': 'A', 'xref_src_db': 'PDBe'}, {'xref_id': '5D25', 'xref_name': 'A', 'xref_src_db': 'PDBe'}, {'xref_id': '5D26', 'xref_name': 'A', 'xref_src_db': 'PDBe'}, {'xref_id': '5D3H', 'xref_name': 'A', 'xref_src_db': 'PDBe'}, {'xref_id': '5D3J', 'xref_name': 'A', 'xref_src_db': 'PDBe'}, {'xref_id': '5D3L', 'xref_name': 'A', 'xref_src_db': 'PDBe'}, {'xref_id': '5D3N', 'xref_name': 'A', 'xref_src_db': 'PDBe'}, {'xref_id': '5D3P', 'xref_name': 'A', 'xref_src_db': 'PDBe'}, {'xref_id': '5D3R', 'xref_name': 'A', 'xref_src_db': 'PDBe'}, {'xref_id': '5D3S', 'xref_name': 'A', 'xref_src_db': 'PDBe'}, {'xref_id': '5D3T', 'xref_name': 'A', 'xref_src_db': 'PDBe'}, {'xref_id': '5DLX', 'xref_name': 'A', 'xref_src_db': 'PDBe'}, {'xref_id': '5DLZ', 'xref_name': 'A', 'xref_src_db': 'PDBe'}, {'xref_id': '5DW2', 'xref_name': 'A', 'xref_src_db': 'PDBe'}, {'xref_id': '5DX4', 'xref_name': 'A', 'xref_src_db': 'PDBe'}, {'xref_id': '5E0R', 'xref_name': 'A', 'xref_src_db': 'PDBe'}, {'xref_id': '5EGU', 'xref_name': 'A', 'xref_src_db': 'PDBe'}, {'xref_id': '5EI4', 'xref_name': 'A', 'xref_src_db': 'PDBe'}, {'xref_id': '5EIS', 'xref_name': 'A', 'xref_src_db': 'PDBe'}, {'xref_id': '5F5Z', 'xref_name': 'A', 'xref_src_db': 'PDBe'}, {'xref_id': '5F60', 'xref_name': 'A', 'xref_src_db': 'PDBe'}, {'xref_id': '5F61', 'xref_name': 'A', 'xref_src_db': 'PDBe'}, {'xref_id': '5F62', 'xref_name': 'A', 'xref_src_db': 'PDBe'}, {'xref_id': '5F63', 'xref_name': 'A', 'xref_src_db': 'PDBe'}, {'xref_id': '5FBX', 'xref_name': 'A', 'xref_src_db': 'PDBe'}, {'xref_id': '5H21', 'xref_name': 'A', 'xref_src_db': 'PDBe'}, {'xref_id': '5HCL', 'xref_name': 'A', 'xref_src_db': 'PDBe'}, {'xref_id': '5HLS', 'xref_name': 'A', 'xref_src_db': 'PDBe'}, {'xref_id': '5HM0', 'xref_name': 'A', 'xref_src_db': 'PDBe'}, {'xref_id': '5HQ5', 'xref_name': 'A', 'xref_src_db': 'PDBe'}, {'xref_id': '5HQ6', 'xref_name': 'A', 'xref_src_db': 'PDBe'}, {'xref_id': '5HQ7', 'xref_name': 'A', 'xref_src_db': 'PDBe'}, {'xref_id': '5I80', 'xref_name': 'A', 'xref_src_db': 'PDBe'}, {'xref_id': '5I88', 'xref_name': 'A', 'xref_src_db': 'PDBe'}, {'xref_id': '5IGK', 'xref_name': 'A', 'xref_src_db': 'PDBe'}, {'xref_id': '5JWM', 'xref_name': 'A', 'xref_src_db': 'PDBe'}, {'xref_id': '5KDH', 'xref_name': 'A', 'xref_src_db': 'PDBe'}, {'xref_id': '5KHM', 'xref_name': 'A', 'xref_src_db': 'PDBe'}, {'xref_id': '5KJ0', 'xref_name': 'A', 'xref_src_db': 'PDBe'}, {'xref_id': '5KU3', 'xref_name': 'A', 'xref_src_db': 'PDBe'}, {'xref_id': '5LJ1', 'xref_name': 'A', 'xref_src_db': 'PDBe'}, {'xref_id': '5LJ2', 'xref_name': 'A', 'xref_src_db': 'PDBe'}, {'xref_id': '5LRQ', 'xref_name': 'A', 'xref_src_db': 'PDBe'}, {'xref_id': '5LUU', 'xref_name': 'A', 'xref_src_db': 'PDBe'}, {'xref_id': '5M39', 'xref_name': 'A', 'xref_src_db': 'PDBe'}, {'xref_id': '5M3A', 'xref_name': 'A', 'xref_src_db': 'PDBe'}, {'xref_id': '5MKZ', 'xref_name': 'A', 'xref_src_db': 'PDBe'}, {'xref_id': '5MLI', 'xref_name': 'A', 'xref_src_db': 'PDBe'}, {'xref_id': '5N2M', 'xref_name': 'A', 'xref_src_db': 'PDBe'}, {'xref_id': '5NNC', 'xref_name': 'A', 'xref_src_db': 'PDBe'}, {'xref_id': '5NND', 'xref_name': 'A', 'xref_src_db': 'PDBe'}, {'xref_id': '5NNE', 'xref_name': 'A', 'xref_src_db': 'PDBe'}, {'xref_id': '5NNF', 'xref_name': 'A', 'xref_src_db': 'PDBe'}, {'xref_id': '5NNG', 'xref_name': 'A', 'xref_src_db': 'PDBe'}, {'xref_id': '5O97', 'xref_name': 'A', 'xref_src_db': 'PDBe'}, {'xref_id': '5OVB', 'xref_name': 'A', 'xref_src_db': 'PDBe'}, {'xref_id': '5OWM', 'xref_name': 'A', 'xref_src_db': 'PDBe'}, {'xref_id': '5OWW', 'xref_name': 'A', 'xref_src_db': 'PDBe'}, {'xref_id': '5T35', 'xref_name': 'A', 'xref_src_db': 'PDBe'}, {'xref_id': '5TI2', 'xref_name': 'A', 'xref_src_db': 'PDBe'}, {'xref_id': '5TI3', 'xref_name': 'A', 'xref_src_db': 'PDBe'}, {'xref_id': '5TI4', 'xref_name': 'A', 'xref_src_db': 'PDBe'}, {'xref_id': '5TI5', 'xref_name': 'A', 'xref_src_db': 'PDBe'}, {'xref_id': '5TI6', 'xref_name': 'A', 'xref_src_db': 'PDBe'}, {'xref_id': '5TI7', 'xref_name': 'A', 'xref_src_db': 'PDBe'}, {'xref_id': '5U28', 'xref_name': 'A', 'xref_src_db': 'PDBe'}, {'xref_id': '5U2C', 'xref_name': 'A', 'xref_src_db': 'PDBe'}, {'xref_id': '5U2E', 'xref_name': 'A', 'xref_src_db': 'PDBe'}, {'xref_id': '5U2F', 'xref_name': 'A', 'xref_src_db': 'PDBe'}, {'xref_id': '5UEO', 'xref_name': 'A', 'xref_src_db': 'PDBe'}, {'xref_id': '5UEP', 'xref_name': 'A', 'xref_src_db': 'PDBe'}, {'xref_id': '5UEQ', 'xref_name': 'A', 'xref_src_db': 'PDBe'}, {'xref_id': '5UER', 'xref_name': 'A', 'xref_src_db': 'PDBe'}, {'xref_id': '5UES', 'xref_name': 'A', 'xref_src_db': 'PDBe'}, {'xref_id': '5UET', 'xref_name': 'A', 'xref_src_db': 'PDBe'}, {'xref_id': '5UEU', 'xref_name': 'A', 'xref_src_db': 'PDBe'}, {'xref_id': '5UEV', 'xref_name': 'A', 'xref_src_db': 'PDBe'}, {'xref_id': '5UEX', 'xref_name': 'A', 'xref_src_db': 'PDBe'}, {'xref_id': '5UEY', 'xref_name': 'A', 'xref_src_db': 'PDBe'}, {'xref_id': '5UEZ', 'xref_name': 'A', 'xref_src_db': 'PDBe'}, {'xref_id': '5UF0', 'xref_name': 'A', 'xref_src_db': 'PDBe'}, {'xref_id': '5ULA', 'xref_name': 'A', 'xref_src_db': 'PDBe'}, {'xref_id': '5UOO', 'xref_name': 'A', 'xref_src_db': 'PDBe'}, {'xref_id': '5UVS', 'xref_name': 'A', 'xref_src_db': 'PDBe'}, {'xref_id': '5UVT', 'xref_name': 'A', 'xref_src_db': 'PDBe'}, {'xref_id': '5UVU', 'xref_name': 'A', 'xref_src_db': 'PDBe'}, {'xref_id': '5UVV', 'xref_name': 'A', 'xref_src_db': 'PDBe'}, {'xref_id': '5UVW', 'xref_name': 'A', 'xref_src_db': 'PDBe'}, {'xref_id': '5UVX', 'xref_name': 'A', 'xref_src_db': 'PDBe'}, {'xref_id': '5UVY', 'xref_name': 'A', 'xref_src_db': 'PDBe'}, {'xref_id': '5UVZ', 'xref_name': 'A', 'xref_src_db': 'PDBe'}, {'xref_id': '5V67', 'xref_name': 'A', 'xref_src_db': 'PDBe'}, {'xref_id': '5VBO', 'xref_name': 'A', 'xref_src_db': 'PDBe'}, {'xref_id': '5VBP', 'xref_name': 'A', 'xref_src_db': 'PDBe'}, {'xref_id': '5VOM', 'xref_name': 'A', 'xref_src_db': 'PDBe'}, {'xref_id': '5VZS', 'xref_name': 'A', 'xref_src_db': 'PDBe'}, {'xref_id': '5W55', 'xref_name': 'A', 'xref_src_db': 'PDBe'}, {'xref_id': '5WA5', 'xref_name': 'A', 'xref_src_db': 'PDBe'}, {'xref_id': '5WMA', 'xref_name': 'A', 'xref_src_db': 'PDBe'}, {'xref_id': '5WMD', 'xref_name': 'A', 'xref_src_db': 'PDBe'}, {'xref_id': '5WMG', 'xref_name': 'A', 'xref_src_db': 'PDBe'}, {'xref_id': '5WUU', 'xref_name': 'A', 'xref_src_db': 'PDBe'}, {'xref_id': '5XHY', 'xref_name': 'A', 'xref_src_db': 'PDBe'}, {'xref_id': '5XI2', 'xref_name': 'A', 'xref_src_db': 'PDBe'}, {'xref_id': '5XI3', 'xref_name': 'A', 'xref_src_db': 'PDBe'}, {'xref_id': '5XI4', 'xref_name': 'A', 'xref_src_db': 'PDBe'}, {'xref_id': '5Y1Y', 'xref_name': 'A', 'xref_src_db': 'PDBe'}, {'xref_id': '5Y8C', 'xref_name': 'A', 'xref_src_db': 'PDBe'}, {'xref_id': '5Y8W', 'xref_name': 'A', 'xref_src_db': 'PDBe'}, {'xref_id': '5Y8Y', 'xref_name': 'A', 'xref_src_db': 'PDBe'}, {'xref_id': '5Y8Z', 'xref_name': 'A', 'xref_src_db': 'PDBe'}, {'xref_id': '5Y93', 'xref_name': 'A', 'xref_src_db': 'PDBe'}, {'xref_id': '5Y94', 'xref_name': 'A', 'xref_src_db': 'PDBe'}, {'xref_id': '5YOU', 'xref_name': 'A', 'xref_src_db': 'PDBe'}, {'xref_id': '5YOV', 'xref_name': 'A', 'xref_src_db': 'PDBe'}, {'xref_id': '5YQX', 'xref_name': 'A', 'xref_src_db': 'PDBe'}, {'xref_id': '5Z1R', 'xref_name': 'A', 'xref_src_db': 'PDBe'}, {'xref_id': '5Z1S', 'xref_name': 'A', 'xref_src_db': 'PDBe'}, {'xref_id': '5Z1T', 'xref_name': 'A', 'xref_src_db': 'PDBe'}, {'xref_id': '5Z5T', 'xref_name': 'A', 'xref_src_db': 'PDBe'}, {'xref_id': '5Z5U', 'xref_name': 'A', 'xref_src_db': 'PDBe'}, {'xref_id': '5Z5V', 'xref_name': 'A', 'xref_src_db': 'PDBe'}, {'xref_id': '5Z8G', 'xref_name': 'A', 'xref_src_db': 'PDBe'}, {'xref_id': '5Z8R', 'xref_name': 'A', 'xref_src_db': 'PDBe'}, {'xref_id': '5Z8Z', 'xref_name': 'A', 'xref_src_db': 'PDBe'}, {'xref_id': '5Z90', 'xref_name': 'A', 'xref_src_db': 'PDBe'}, {'xref_id': '5Z9K', 'xref_name': 'A', 'xref_src_db': 'PDBe'}, {'xref_id': '6AFR', 'xref_name': 'A', 'xref_src_db': 'PDBe'}, {'xref_id': '6AJV', 'xref_name': 'A', 'xref_src_db': 'PDBe'}, {'xref_id': '6AJW', 'xref_name': 'A', 'xref_src_db': 'PDBe'}, {'xref_id': '6AJX', 'xref_name': 'A', 'xref_src_db': 'PDBe'}, {'xref_id': '6AJY', 'xref_name': 'A', 'xref_src_db': 'PDBe'}, {'xref_id': '6BN7', 'xref_name': 'A', 'xref_src_db': 'PDBe'}, {'xref_id': '6BN8', 'xref_name': 'A', 'xref_src_db': 'PDBe'}, {'xref_id': '6BN9', 'xref_name': 'A', 'xref_src_db': 'PDBe'}, {'xref_id': '6BNB', 'xref_name': 'A', 'xref_src_db': 'PDBe'}, {'xref_id': '6BOY', 'xref_name': 'A', 'xref_src_db': 'PDBe'}, {'xref_id': '6C7Q', 'xref_name': 'A', 'xref_src_db': 'PDBe'}, {'xref_id': '6C7R', 'xref_name': 'A', 'xref_src_db': 'PDBe'}, {'xref_id': '6CD4', 'xref_name': 'A', 'xref_src_db': 'PDBe'}, {'xref_id': '6CD5', 'xref_name': 'A', 'xref_src_db': 'PDBe'}, {'xref_id': '6CIS', 'xref_name': 'A', 'xref_src_db': 'PDBe'}, {'xref_id': '6CIY', 'xref_name': 'A', 'xref_src_db': 'PDBe'}, {'xref_id': '6CJ1', 'xref_name': 'A', 'xref_src_db': 'PDBe'}, {'xref_id': '6CJ2', 'xref_name': 'A', 'xref_src_db': 'PDBe'}, {'xref_id': '6CKR', 'xref_name': 'A', 'xref_src_db': 'PDBe'}, {'xref_id': '6CKS', 'xref_name': 'A', 'xref_src_db': 'PDBe'}, {'xref_id': '6CZU', 'xref_name': 'A', 'xref_src_db': 'PDBe'}, {'xref_id': '6CZV', 'xref_name': 'A', 'xref_src_db': 'PDBe'}, {'xref_id': '6DJC', 'xref_name': 'A', 'xref_src_db': 'PDBe'}, {'xref_id': '6DL2', 'xref_name': 'A', 'xref_src_db': 'PDBe'}, {'xref_id': '6DMJ', 'xref_name': 'A', 'xref_src_db': 'PDBe'}, {'xref_id': '6DML', 'xref_name': 'A', 'xref_src_db': 'PDBe'}, {'xref_id': '6DNE', 'xref_name': 'A', 'xref_src_db': 'PDBe'}, {'xref_id': '6DUV', 'xref_name': 'A', 'xref_src_db': 'PDBe'}, {'xref_id': '6E4A', 'xref_name': 'A', 'xref_src_db': 'PDBe'}, {'xref_id': '6FFD', 'xref_name': 'A', 'xref_src_db': 'PDBe'}, {'xref_id': '6FNX', 'xref_name': 'A', 'xref_src_db': 'PDBe'}, {'xref_id': '6FO5', 'xref_name': 'A', 'xref_src_db': 'PDBe'}, {'xref_id': '6FSY', 'xref_name': 'A', 'xref_src_db': 'PDBe'}, {'xref_id': '6FT3', 'xref_name': 'A', 'xref_src_db': 'PDBe'}, {'xref_id': '6FT4', 'xref_name': 'A', 'xref_src_db': 'PDBe'}, {'xref_id': '6G0O', 'xref_name': 'A', 'xref_src_db': 'PDBe'}, {'xref_id': '6G0P', 'xref_name': 'A', 'xref_src_db': 'PDBe'}, {'xref_id': '6G0Q', 'xref_name': 'A', 'xref_src_db': 'PDBe'}, {'xref_id': '6G0R', 'xref_name': 'A', 'xref_src_db': 'PDBe'}, {'xref_id': '6G0S', 'xref_name': 'A', 'xref_src_db': 'PDBe'}, {'xref_id': '6HDQ', 'xref_name': 'A', 'xref_src_db': 'PDBe'}, {'xref_id': '6MAU', 'xref_name': 'A', 'xref_src_db': 'PDBe'}, {'xref_id': '6MH1', 'xref_name': 'A', 'xref_src_db': 'PDBe'}, {'xref_id': '6MH7', 'xref_name': 'A', 'xref_src_db': 'PDBe'}, {'xref_id': '6Q3Y', 'xref_name': 'A', 'xref_src_db': 'PDBe'}, {'xref_id': '6Q3Z', 'xref_name': 'A', 'xref_src_db': 'PDBe'}, {'xref_id': '6S25', 'xref_name': 'A', 'xref_src_db': 'PDBe'}, {'xref_id': '6SE4', 'xref_name': 'A', 'xref_src_db': 'PDBe'}, {'xref_id': 'PF00439', 'xref_name': 'Bromodomain', 'xref_src_db': 'Pfam'}, {'xref_id': 'PF17035', 'xref_name': 'BET', 'xref_src_db': 'Pfam'}, {'xref_id': 'PF17105', 'xref_name': 'BRD4_CDT', 'xref_src_db': 'Pfam'}, {'xref_id': 'PA25416', 'xref_name': 'bromodomain containing 4', 'xref_src_db': 'PharmGKB'}, {'xref_id': 'BRD4', 'xref_name': 'BRD4', 'xref_src_db': 'TIMBAL'}, {'xref_id': 'O60433', 'xref_name': None, 'xref_src_db': 'UniProt'}, {'xref_id': 'O60885', 'xref_name': None, 'xref_src_db': 'UniProt'}, {'xref_id': 'Q4G0X8', 'xref_name': None, 'xref_src_db': 'UniProt'}, {'xref_id': 'Q86YS8', 'xref_name': None, 'xref_src_db': 'UniProt'}, {'xref_id': 'Q96PD3', 'xref_name': None, 'xref_src_db': 'UniProt'}]}], 'target_type': 'SINGLE PROTEIN', 'tax_id': 9606}, {'cross_references': [], 'organism': 'Mus musculus', 'pref_name': 'Bromodomain-containing protein 4', 'score': 13.0, 'species_group_flag': False, 'target_chembl_id': 'CHEMBL3085619', 'target_components': [{'accession': 'Q9ESU6', 'component_description': 'Bromodomain-containing protein 4', 'component_id': 8253, 'component_type': 'PROTEIN', 'relationship': 'SINGLE PROTEIN', 'target_component_synonyms': [{'component_synonym': 'Brd4', 'syn_type': 'GENE_SYMBOL'}, {'component_synonym': 'Bromodomain-containing protein 4', 'syn_type': 'UNIPROT'}, {'component_synonym': 'Mcap', 'syn_type': 'GENE_SYMBOL_OTHER'}, {'component_synonym': 'MCAP', 'syn_type': 'UNIPROT'}, {'component_synonym': 'Mitotic chromosome-associated protein', 'syn_type': 'UNIPROT'}], 'target_component_xrefs': [{'xref_id': 'Q9ESU6', 'xref_name': None, 'xref_src_db': 'ExpressionAtlas'}, {'xref_id': 'GO:0000790', 'xref_name': 'nuclear chromatin', 'xref_src_db': 'GoComponent'}, {'xref_id': 'GO:0000794', 'xref_name': 'condensed nuclear chromosome', 'xref_src_db': 'GoComponent'}, {'xref_id': 'GO:0005634', 'xref_name': 'nucleus', 'xref_src_db': 'GoComponent'}, {'xref_id': 'GO:0005694', 'xref_name': 'chromosome', 'xref_src_db': 'GoComponent'}, {'xref_id': 'GO:0005730', 'xref_name': 'nucleolus', 'xref_src_db': 'GoComponent'}, {'xref_id': 'GO:0008024', 'xref_name': 'cyclin/CDK positive transcription elongation factor complex', 'xref_src_db': 'GoComponent'}, {'xref_id': 'GO:0002039', 'xref_name': 'p53 binding', 'xref_src_db': 'GoFunction'}, {'xref_id': 'GO:0003677', 'xref_name': 'DNA binding', 'xref_src_db': 'GoFunction'}, {'xref_id': 'GO:0003682', 'xref_name': 'chromatin binding', 'xref_src_db': 'GoFunction'}, {'xref_id': 'GO:0003712', 'xref_name': 'transcription coregulator activity', 'xref_src_db': 'GoFunction'}, {'xref_id': 'GO:0005515', 'xref_name': 'protein binding', 'xref_src_db': 'GoFunction'}, {'xref_id': 'GO:0008353', 'xref_name': 'RNA polymerase II CTD heptapeptide repeat kinase activity', 'xref_src_db': 'GoFunction'}, {'xref_id': 'GO:0034211', 'xref_name': 'GTP-dependent protein kinase activity', 'xref_src_db': 'GoFunction'}, {'xref_id': 'GO:0070577', 'xref_name': 'lysine-acetylated histone binding', 'xref_src_db': 'GoFunction'}, {'xref_id': 'GO:0099122', 'xref_name': 'RNA polymerase II C-terminal domain binding', 'xref_src_db': 'GoFunction'}, {'xref_id': 'GO:0000083', 'xref_name': 'regulation of transcription involved in G1/S transition of mitotic cell cycle', 'xref_src_db': 'GoProcess'}, {'xref_id': 'GO:0001833', 'xref_name': 'inner cell mass cell proliferation', 'xref_src_db': 'GoProcess'}, {'xref_id': 'GO:0006325', 'xref_name': 'chromatin organization', 'xref_src_db': 'GoProcess'}, {'xref_id': 'GO:0006468', 'xref_name': 'protein phosphorylation', 'xref_src_db': 'GoProcess'}, {'xref_id': 'GO:0007059', 'xref_name': 'chromosome segregation', 'xref_src_db': 'GoProcess'}, {'xref_id': 'GO:0010971', 'xref_name': 'positive regulation of G2/M transition of mitotic cell cycle', 'xref_src_db': 'GoProcess'}, {'xref_id': 'GO:0032968', 'xref_name': 'positive regulation of transcription elongation from RNA polymerase II promoter', 'xref_src_db': 'GoProcess'}, {'xref_id': 'GO:0043123', 'xref_name': 'positive regulation of I-kappaB kinase/NF-kappaB signaling', 'xref_src_db': 'GoProcess'}, {'xref_id': 'GO:0043388', 'xref_name': 'positive regulation of DNA binding', 'xref_src_db': 'GoProcess'}, {'xref_id': 'GO:0043983', 'xref_name': 'histone H4-K12 acetylation', 'xref_src_db': 'GoProcess'}, {'xref_id': 'GO:0044154', 'xref_name': 'histone H3-K14 acetylation', 'xref_src_db': 'GoProcess'}, {'xref_id': 'GO:0045893', 'xref_name': 'positive regulation of transcription, DNA-templated', 'xref_src_db': 'GoProcess'}, {'xref_id': 'GO:0045944', 'xref_name': 'positive regulation of transcription by RNA polymerase II', 'xref_src_db': 'GoProcess'}, {'xref_id': 'GO:0046777', 'xref_name': 'protein autophosphorylation', 'xref_src_db': 'GoProcess'}, {'xref_id': 'GO:0050727', 'xref_name': 'regulation of inflammatory response', 'xref_src_db': 'GoProcess'}, {'xref_id': 'GO:1901407', 'xref_name': 'regulation of phosphorylation of RNA polymerase II C-terminal domain', 'xref_src_db': 'GoProcess'}, {'xref_id': 'GO:2001255', 'xref_name': 'positive regulation of histone H3-K36 trimethylation', 'xref_src_db': 'GoProcess'}, {'xref_id': 'Q9ESU6', 'xref_name': None, 'xref_src_db': 'IntAct'}, {'xref_id': 'IPR001487', 'xref_name': 'Bromodomain.', 'xref_src_db': 'InterPro'}, {'xref_id': 'IPR018359', 'xref_name': 'Bromodomain_CS.', 'xref_src_db': 'InterPro'}, {'xref_id': 'IPR027353', 'xref_name': 'NET_dom.', 'xref_src_db': 'InterPro'}, {'xref_id': 'IPR031354', 'xref_name': 'BRD4_CDT.', 'xref_src_db': 'InterPro'}, {'xref_id': 'IPR036427', 'xref_name': 'Bromodomain-like_sf.', 'xref_src_db': 'InterPro'}, {'xref_id': 'IPR038336', 'xref_name': 'NET_sf.', 'xref_src_db': 'InterPro'}, {'xref_id': '2DWW', 'xref_name': 'A', 'xref_src_db': 'PDBe'}, {'xref_id': '3JVJ', 'xref_name': 'A', 'xref_src_db': 'PDBe'}, {'xref_id': '3JVK', 'xref_name': 'A', 'xref_src_db': 'PDBe'}, {'xref_id': '3JVL', 'xref_name': 'A', 'xref_src_db': 'PDBe'}, {'xref_id': '3JVM', 'xref_name': 'A', 'xref_src_db': 'PDBe'}, {'xref_id': '3MUK', 'xref_name': 'A', 'xref_src_db': 'PDBe'}, {'xref_id': '3MUL', 'xref_name': 'A', 'xref_src_db': 'PDBe'}, {'xref_id': 'PF00439', 'xref_name': 'Bromodomain', 'xref_src_db': 'Pfam'}, {'xref_id': 'PF17035', 'xref_name': 'BET', 'xref_src_db': 'Pfam'}, {'xref_id': 'PF17105', 'xref_name': 'BRD4_CDT', 'xref_src_db': 'Pfam'}, {'xref_id': 'B0V2V7', 'xref_name': None, 'xref_src_db': 'UniProt'}, {'xref_id': 'Q8VHF7', 'xref_name': None, 'xref_src_db': 'UniProt'}, {'xref_id': 'Q8VHF8', 'xref_name': None, 'xref_src_db': 'UniProt'}, {'xref_id': 'Q9ESU6', 'xref_name': None, 'xref_src_db': 'UniProt'}]}], 'target_type': 'SINGLE PROTEIN', 'tax_id': 10090}, {'cross_references': [], 'organism': 'Homo sapiens', 'pref_name': 'Cereblon/Bromodomain-containing protein 4', 'score': 13.0, 'species_group_flag': False, 'target_chembl_id': 'CHEMBL4296138', 'target_components': [{'accession': 'O60885', 'component_description': 'Bromodomain-containing protein 4', 'component_id': 5501, 'component_type': 'PROTEIN', 'relationship': 'INTERACTING PROTEIN', 'target_component_synonyms': [{'component_synonym': 'BRD4', 'syn_type': 'GENE_SYMBOL'}, {'component_synonym': 'Bromodomain-containing protein 4', 'syn_type': 'UNIPROT'}, {'component_synonym': 'HUNK1', 'syn_type': 'GENE_SYMBOL_OTHER'}, {'component_synonym': 'Protein HUNK1', 'syn_type': 'UNIPROT'}], 'target_component_xrefs': [{'xref_id': 'ENSG00000141867', 'xref_name': None, 'xref_src_db': 'EnsemblGene'}, {'xref_id': 'O60885', 'xref_name': None, 'xref_src_db': 'ExpressionAtlas'}, {'xref_id': 'GO:0000794', 'xref_name': 'condensed nuclear chromosome', 'xref_src_db': 'GoComponent'}, {'xref_id': 'GO:0005634', 'xref_name': 'nucleus', 'xref_src_db': 'GoComponent'}, {'xref_id': 'GO:0005654', 'xref_name': 'nucleoplasm', 'xref_src_db': 'GoComponent'}, {'xref_id': 'GO:0005694', 'xref_name': 'chromosome', 'xref_src_db': 'GoComponent'}, {'xref_id': 'GO:0002039', 'xref_name': 'p53 binding', 'xref_src_db': 'GoFunction'}, {'xref_id': 'GO:0003682', 'xref_name': 'chromatin binding', 'xref_src_db': 'GoFunction'}, {'xref_id': 'GO:0003712', 'xref_name': 'transcription coregulator activity', 'xref_src_db': 'GoFunction'}, {'xref_id': 'GO:0005515', 'xref_name': 'protein binding', 'xref_src_db': 'GoFunction'}, {'xref_id': 'GO:0008353', 'xref_name': 'RNA polymerase II CTD heptapeptide repeat kinase activity', 'xref_src_db': 'GoFunction'}, {'xref_id': 'GO:0019899', 'xref_name': 'enzyme binding', 'xref_src_db': 'GoFunction'}, {'xref_id': 'GO:0070577', 'xref_name': 'lysine-acetylated histone binding', 'xref_src_db': 'GoFunction'}, {'xref_id': 'GO:0099122', 'xref_name': 'RNA polymerase II C-terminal domain binding', 'xref_src_db': 'GoFunction'}, {'xref_id': 'GO:0106140', 'xref_name': 'P-TEFb complex binding', 'xref_src_db': 'GoFunction'}, {'xref_id': 'GO:0000083', 'xref_name': 'regulation of transcription involved in G1/S transition of mitotic cell cycle', 'xref_src_db': 'GoProcess'}, {'xref_id': 'GO:0006325', 'xref_name': 'chromatin organization', 'xref_src_db': 'GoProcess'}, {'xref_id': 'GO:0006338', 'xref_name': 'chromatin remodeling', 'xref_src_db': 'GoProcess'}, {'xref_id': 'GO:0006468', 'xref_name': 'protein phosphorylation', 'xref_src_db': 'GoProcess'}, {'xref_id': 'GO:0006974', 'xref_name': 'cellular response to DNA damage stimulus', 'xref_src_db': 'GoProcess'}, {'xref_id': 'GO:0010971', 'xref_name': 'positive regulation of G2/M transition of mitotic cell cycle', 'xref_src_db': 'GoProcess'}, {'xref_id': 'GO:0016032', 'xref_name': 'viral process', 'xref_src_db': 'GoProcess'}, {'xref_id': 'GO:0032968', 'xref_name': 'positive regulation of transcription elongation from RNA polymerase II promoter', 'xref_src_db': 'GoProcess'}, {'xref_id': 'GO:0043123', 'xref_name': 'positive regulation of I-kappaB kinase/NF-kappaB signaling', 'xref_src_db': 'GoProcess'}, {'xref_id': 'GO:0045893', 'xref_name': 'positive regulation of transcription, DNA-templated', 'xref_src_db': 'GoProcess'}, {'xref_id': 'GO:0045944', 'xref_name': 'positive regulation of transcription by RNA polymerase II', 'xref_src_db': 'GoProcess'}, {'xref_id': 'GO:0050727', 'xref_name': 'regulation of inflammatory response', 'xref_src_db': 'GoProcess'}, {'xref_id': 'GO:1901407', 'xref_name': 'regulation of phosphorylation of RNA polymerase II C-terminal domain', 'xref_src_db': 'GoProcess'}, {'xref_id': 'GO:2000002', 'xref_name': 'negative regulation of DNA damage checkpoint', 'xref_src_db': 'GoProcess'}, {'xref_id': 'GO:2001255', 'xref_name': 'positive regulation of histone H3-K36 trimethylation', 'xref_src_db': 'GoProcess'}, {'xref_id': '1945', 'xref_name': None, 'xref_src_db': 'GuideToPHARMACOLOGY'}, {'xref_id': 'O60885', 'xref_name': None, 'xref_src_db': 'IntAct'}, {'xref_id': 'IPR001487', 'xref_name': 'Bromodomain.', 'xref_src_db': 'InterPro'}, {'xref_id': 'IPR018359', 'xref_name': 'Bromodomain_CS.', 'xref_src_db': 'InterPro'}, {'xref_id': 'IPR027353', 'xref_name': 'NET_dom.', 'xref_src_db': 'InterPro'}, {'xref_id': 'IPR031354', 'xref_name': 'BRD4_CDT.', 'xref_src_db': 'InterPro'}, {'xref_id': 'IPR036427', 'xref_name': 'Bromodomain-like_sf.', 'xref_src_db': 'InterPro'}, {'xref_id': 'IPR038336', 'xref_name': 'NET_sf.', 'xref_src_db': 'InterPro'}, {'xref_id': '2NNU', 'xref_name': 'A', 'xref_src_db': 'PDBe'}, {'xref_id': '2OSS', 'xref_name': 'A', 'xref_src_db': 'PDBe'}, {'xref_id': '2OUO', 'xref_name': 'A', 'xref_src_db': 'PDBe'}, {'xref_id': '2YEL', 'xref_name': 'A', 'xref_src_db': 'PDBe'}, {'xref_id': '2YEM', 'xref_name': 'A', 'xref_src_db': 'PDBe'}, {'xref_id': '3MXF', 'xref_name': 'A', 'xref_src_db': 'PDBe'}, {'xref_id': '3P5O', 'xref_name': 'A', 'xref_src_db': 'PDBe'}, {'xref_id': '3SVF', 'xref_name': 'A', 'xref_src_db': 'PDBe'}, {'xref_id': '3SVG', 'xref_name': 'A', 'xref_src_db': 'PDBe'}, {'xref_id': '3U5J', 'xref_name': 'A', 'xref_src_db': 'PDBe'}, {'xref_id': '3U5K', 'xref_name': 'A', 'xref_src_db': 'PDBe'}, {'xref_id': '3U5L', 'xref_name': 'A', 'xref_src_db': 'PDBe'}, {'xref_id': '3UVW', 'xref_name': 'A', 'xref_src_db': 'PDBe'}, {'xref_id': '3UVX', 'xref_name': 'A', 'xref_src_db': 'PDBe'}, {'xref_id': '3UVY', 'xref_name': 'A', 'xref_src_db': 'PDBe'}, {'xref_id': '3UW9', 'xref_name': 'A', 'xref_src_db': 'PDBe'}, {'xref_id': '3ZYU', 'xref_name': 'A', 'xref_src_db': 'PDBe'}, {'xref_id': '4A9L', 'xref_name': 'A', 'xref_src_db': 'PDBe'}, {'xref_id': '4BJX', 'xref_name': 'A', 'xref_src_db': 'PDBe'}, {'xref_id': '4BW1', 'xref_name': 'A', 'xref_src_db': 'PDBe'}, {'xref_id': '4BW2', 'xref_name': 'A', 'xref_src_db': 'PDBe'}, {'xref_id': '4BW3', 'xref_name': 'A', 'xref_src_db': 'PDBe'}, {'xref_id': '4BW4', 'xref_name': 'A', 'xref_src_db': 'PDBe'}, {'xref_id': '4C66', 'xref_name': 'A', 'xref_src_db': 'PDBe'}, {'xref_id': '4C67', 'xref_name': 'A', 'xref_src_db': 'PDBe'}, {'xref_id': '4CFK', 'xref_name': 'A', 'xref_src_db': 'PDBe'}, {'xref_id': '4CFL', 'xref_name': 'A', 'xref_src_db': 'PDBe'}, {'xref_id': '4CL9', 'xref_name': 'A', 'xref_src_db': 'PDBe'}, {'xref_id': '4CLB', 'xref_name': 'A', 'xref_src_db': 'PDBe'}, {'xref_id': '4DON', 'xref_name': 'A', 'xref_src_db': 'PDBe'}, {'xref_id': '4E96', 'xref_name': 'A', 'xref_src_db': 'PDBe'}, {'xref_id': '4F3I', 'xref_name': 'A', 'xref_src_db': 'PDBe'}, {'xref_id': '4GPJ', 'xref_name': 'A', 'xref_src_db': 'PDBe'}, {'xref_id': '4HBV', 'xref_name': 'A', 'xref_src_db': 'PDBe'}, {'xref_id': '4HBW', 'xref_name': 'A', 'xref_src_db': 'PDBe'}, {'xref_id': '4HBX', 'xref_name': 'A', 'xref_src_db': 'PDBe'}, {'xref_id': '4HBY', 'xref_name': 'A', 'xref_src_db': 'PDBe'}, {'xref_id': '4HXK', 'xref_name': 'A', 'xref_src_db': 'PDBe'}, {'xref_id': '4HXL', 'xref_name': 'A', 'xref_src_db': 'PDBe'}, {'xref_id': '4HXM', 'xref_name': 'A', 'xref_src_db': 'PDBe'}, {'xref_id': '4HXN', 'xref_name': 'A', 'xref_src_db': 'PDBe'}, {'xref_id': '4HXO', 'xref_name': 'A', 'xref_src_db': 'PDBe'}, {'xref_id': '4HXP', 'xref_name': 'A', 'xref_src_db': 'PDBe'}, {'xref_id': '4HXR', 'xref_name': 'A', 'xref_src_db': 'PDBe'}, {'xref_id': '4HXS', 'xref_name': 'A', 'xref_src_db': 'PDBe'}, {'xref_id': '4IOO', 'xref_name': 'A', 'xref_src_db': 'PDBe'}, {'xref_id': '4IOQ', 'xref_name': 'A', 'xref_src_db': 'PDBe'}, {'xref_id': '4IOR', 'xref_name': 'A', 'xref_src_db': 'PDBe'}, {'xref_id': '4J0R', 'xref_name': 'A', 'xref_src_db': 'PDBe'}, {'xref_id': '4J0S', 'xref_name': 'A', 'xref_src_db': 'PDBe'}, {'xref_id': '4J3I', 'xref_name': 'A', 'xref_src_db': 'PDBe'}, {'xref_id': '4KV1', 'xref_name': 'A', 'xref_src_db': 'PDBe'}, {'xref_id': '4KV4', 'xref_name': 'A', 'xref_src_db': 'PDBe'}, {'xref_id': '4LR6', 'xref_name': 'A', 'xref_src_db': 'PDBe'}, {'xref_id': '4LRG', 'xref_name': 'A', 'xref_src_db': 'PDBe'}, {'xref_id': '4LYI', 'xref_name': 'A', 'xref_src_db': 'PDBe'}, {'xref_id': '4LYS', 'xref_name': 'A', 'xref_src_db': 'PDBe'}, {'xref_id': '4LYW', 'xref_name': 'A', 'xref_src_db': 'PDBe'}, {'xref_id': '4LZR', 'xref_name': 'A', 'xref_src_db': 'PDBe'}, {'xref_id': '4LZS', 'xref_name': 'A', 'xref_src_db': 'PDBe'}, {'xref_id': '4MEN', 'xref_name': 'A', 'xref_src_db': 'PDBe'}, {'xref_id': '4MEO', 'xref_name': 'A', 'xref_src_db': 'PDBe'}, {'xref_id': '4MEP', 'xref_name': 'A', 'xref_src_db': 'PDBe'}, {'xref_id': '4MEQ', 'xref_name': 'A', 'xref_src_db': 'PDBe'}, {'xref_id': '4MR3', 'xref_name': 'A', 'xref_src_db': 'PDBe'}, {'xref_id': '4MR4', 'xref_name': 'A', 'xref_src_db': 'PDBe'}, {'xref_id': '4NQM', 'xref_name': 'A', 'xref_src_db': 'PDBe'}, {'xref_id': '4NR8', 'xref_name': 'A', 'xref_src_db': 'PDBe'}, {'xref_id': '4NUC', 'xref_name': 'A', 'xref_src_db': 'PDBe'}, {'xref_id': '4NUD', 'xref_name': 'A', 'xref_src_db': 'PDBe'}, {'xref_id': '4NUE', 'xref_name': 'A', 'xref_src_db': 'PDBe'}, {'xref_id': '4O70', 'xref_name': 'A', 'xref_src_db': 'PDBe'}, {'xref_id': '4O71', 'xref_name': 'A', 'xref_src_db': 'PDBe'}, {'xref_id': '4O72', 'xref_name': 'A', 'xref_src_db': 'PDBe'}, {'xref_id': '4O74', 'xref_name': 'A', 'xref_src_db': 'PDBe'}, {'xref_id': '4O75', 'xref_name': 'A', 'xref_src_db': 'PDBe'}, {'xref_id': '4O76', 'xref_name': 'A', 'xref_src_db': 'PDBe'}, {'xref_id': '4O77', 'xref_name': 'A', 'xref_src_db': 'PDBe'}, {'xref_id': '4O78', 'xref_name': 'A', 'xref_src_db': 'PDBe'}, {'xref_id': '4O7A', 'xref_name': 'A', 'xref_src_db': 'PDBe'}, {'xref_id': '4O7B', 'xref_name': 'A', 'xref_src_db': 'PDBe'}, {'xref_id': '4O7C', 'xref_name': 'A', 'xref_src_db': 'PDBe'}, {'xref_id': '4O7E', 'xref_name': 'A', 'xref_src_db': 'PDBe'}, {'xref_id': '4O7F', 'xref_name': 'A', 'xref_src_db': 'PDBe'}, {'xref_id': '4OGI', 'xref_name': 'A', 'xref_src_db': 'PDBe'}, {'xref_id': '4OGJ', 'xref_name': 'A', 'xref_src_db': 'PDBe'}, {'xref_id': '4PCE', 'xref_name': 'A', 'xref_src_db': 'PDBe'}, {'xref_id': '4PCI', 'xref_name': 'A', 'xref_src_db': 'PDBe'}, {'xref_id': '4PS5', 'xref_name': 'A', 'xref_src_db': 'PDBe'}, {'xref_id': '4QB3', 'xref_name': 'A', 'xref_src_db': 'PDBe'}, {'xref_id': '4QR3', 'xref_name': 'A', 'xref_src_db': 'PDBe'}, {'xref_id': '4QR4', 'xref_name': 'A', 'xref_src_db': 'PDBe'}, {'xref_id': '4QR5', 'xref_name': 'A', 'xref_src_db': 'PDBe'}, {'xref_id': '4QZS', 'xref_name': 'A', 'xref_src_db': 'PDBe'}, {'xref_id': '4UIX', 'xref_name': 'A', 'xref_src_db': 'PDBe'}, {'xref_id': '4UIY', 'xref_name': 'A', 'xref_src_db': 'PDBe'}, {'xref_id': '4UIZ', 'xref_name': 'A', 'xref_src_db': 'PDBe'}, {'xref_id': '4UYD', 'xref_name': 'A', 'xref_src_db': 'PDBe'}, {'xref_id': '4WHW', 'xref_name': 'A', 'xref_src_db': 'PDBe'}, {'xref_id': '4WIV', 'xref_name': 'A', 'xref_src_db': 'PDBe'}, {'xref_id': '4X2I', 'xref_name': 'A', 'xref_src_db': 'PDBe'}, {'xref_id': '4XY9', 'xref_name': 'A', 'xref_src_db': 'PDBe'}, {'xref_id': '4XYA', 'xref_name': 'A', 'xref_src_db': 'PDBe'}, {'xref_id': '4YH3', 'xref_name': 'A', 'xref_src_db': 'PDBe'}, {'xref_id': '4YH4', 'xref_name': 'A', 'xref_src_db': 'PDBe'}, {'xref_id': '4Z1Q', 'xref_name': 'A', 'xref_src_db': 'PDBe'}, {'xref_id': '4Z1S', 'xref_name': 'A', 'xref_src_db': 'PDBe'}, {'xref_id': '4Z93', 'xref_name': 'A', 'xref_src_db': 'PDBe'}, {'xref_id': '4ZC9', 'xref_name': 'A', 'xref_src_db': 'PDBe'}, {'xref_id': '4ZW1', 'xref_name': 'A', 'xref_src_db': 'PDBe'}, {'xref_id': '5A5S', 'xref_name': 'A', 'xref_src_db': 'PDBe'}, {'xref_id': '5A85', 'xref_name': 'A', 'xref_src_db': 'PDBe'}, {'xref_id': '5ACY', 'xref_name': 'A', 'xref_src_db': 'PDBe'}, {'xref_id': '5AD2', 'xref_name': 'A', 'xref_src_db': 'PDBe'}, {'xref_id': '5AD3', 'xref_name': 'A', 'xref_src_db': 'PDBe'}, {'xref_id': '5BT4', 'xref_name': 'A', 'xref_src_db': 'PDBe'}, {'xref_id': '5CFW', 'xref_name': 'A', 'xref_src_db': 'PDBe'}, {'xref_id': '5COI', 'xref_name': 'A', 'xref_src_db': 'PDBe'}, {'xref_id': '5CP5', 'xref_name': 'A', 'xref_src_db': 'PDBe'}, {'xref_id': '5CPE', 'xref_name': 'A', 'xref_src_db': 'PDBe'}, {'xref_id': '5CQT', 'xref_name': 'A', 'xref_src_db': 'PDBe'}, {'xref_id': '5CRM', 'xref_name': 'A', 'xref_src_db': 'PDBe'}, {'xref_id': '5CRZ', 'xref_name': 'A', 'xref_src_db': 'PDBe'}, {'xref_id': '5CS8', 'xref_name': 'A', 'xref_src_db': 'PDBe'}, {'xref_id': '5CTL', 'xref_name': 'A', 'xref_src_db': 'PDBe'}, {'xref_id': '5CY9', 'xref_name': 'A', 'xref_src_db': 'PDBe'}, {'xref_id': '5D0C', 'xref_name': 'A', 'xref_src_db': 'PDBe'}, {'xref_id': '5D24', 'xref_name': 'A', 'xref_src_db': 'PDBe'}, {'xref_id': '5D25', 'xref_name': 'A', 'xref_src_db': 'PDBe'}, {'xref_id': '5D26', 'xref_name': 'A', 'xref_src_db': 'PDBe'}, {'xref_id': '5D3H', 'xref_name': 'A', 'xref_src_db': 'PDBe'}, {'xref_id': '5D3J', 'xref_name': 'A', 'xref_src_db': 'PDBe'}, {'xref_id': '5D3L', 'xref_name': 'A', 'xref_src_db': 'PDBe'}, {'xref_id': '5D3N', 'xref_name': 'A', 'xref_src_db': 'PDBe'}, {'xref_id': '5D3P', 'xref_name': 'A', 'xref_src_db': 'PDBe'}, {'xref_id': '5D3R', 'xref_name': 'A', 'xref_src_db': 'PDBe'}, {'xref_id': '5D3S', 'xref_name': 'A', 'xref_src_db': 'PDBe'}, {'xref_id': '5D3T', 'xref_name': 'A', 'xref_src_db': 'PDBe'}, {'xref_id': '5DLX', 'xref_name': 'A', 'xref_src_db': 'PDBe'}, {'xref_id': '5DLZ', 'xref_name': 'A', 'xref_src_db': 'PDBe'}, {'xref_id': '5DW2', 'xref_name': 'A', 'xref_src_db': 'PDBe'}, {'xref_id': '5DX4', 'xref_name': 'A', 'xref_src_db': 'PDBe'}, {'xref_id': '5E0R', 'xref_name': 'A', 'xref_src_db': 'PDBe'}, {'xref_id': '5EGU', 'xref_name': 'A', 'xref_src_db': 'PDBe'}, {'xref_id': '5EI4', 'xref_name': 'A', 'xref_src_db': 'PDBe'}, {'xref_id': '5EIS', 'xref_name': 'A', 'xref_src_db': 'PDBe'}, {'xref_id': '5F5Z', 'xref_name': 'A', 'xref_src_db': 'PDBe'}, {'xref_id': '5F60', 'xref_name': 'A', 'xref_src_db': 'PDBe'}, {'xref_id': '5F61', 'xref_name': 'A', 'xref_src_db': 'PDBe'}, {'xref_id': '5F62', 'xref_name': 'A', 'xref_src_db': 'PDBe'}, {'xref_id': '5F63', 'xref_name': 'A', 'xref_src_db': 'PDBe'}, {'xref_id': '5FBX', 'xref_name': 'A', 'xref_src_db': 'PDBe'}, {'xref_id': '5H21', 'xref_name': 'A', 'xref_src_db': 'PDBe'}, {'xref_id': '5HCL', 'xref_name': 'A', 'xref_src_db': 'PDBe'}, {'xref_id': '5HLS', 'xref_name': 'A', 'xref_src_db': 'PDBe'}, {'xref_id': '5HM0', 'xref_name': 'A', 'xref_src_db': 'PDBe'}, {'xref_id': '5HQ5', 'xref_name': 'A', 'xref_src_db': 'PDBe'}, {'xref_id': '5HQ6', 'xref_name': 'A', 'xref_src_db': 'PDBe'}, {'xref_id': '5HQ7', 'xref_name': 'A', 'xref_src_db': 'PDBe'}, {'xref_id': '5I80', 'xref_name': 'A', 'xref_src_db': 'PDBe'}, {'xref_id': '5I88', 'xref_name': 'A', 'xref_src_db': 'PDBe'}, {'xref_id': '5IGK', 'xref_name': 'A', 'xref_src_db': 'PDBe'}, {'xref_id': '5JWM', 'xref_name': 'A', 'xref_src_db': 'PDBe'}, {'xref_id': '5KDH', 'xref_name': 'A', 'xref_src_db': 'PDBe'}, {'xref_id': '5KHM', 'xref_name': 'A', 'xref_src_db': 'PDBe'}, {'xref_id': '5KJ0', 'xref_name': 'A', 'xref_src_db': 'PDBe'}, {'xref_id': '5KU3', 'xref_name': 'A', 'xref_src_db': 'PDBe'}, {'xref_id': '5LJ1', 'xref_name': 'A', 'xref_src_db': 'PDBe'}, {'xref_id': '5LJ2', 'xref_name': 'A', 'xref_src_db': 'PDBe'}, {'xref_id': '5LRQ', 'xref_name': 'A', 'xref_src_db': 'PDBe'}, {'xref_id': '5LUU', 'xref_name': 'A', 'xref_src_db': 'PDBe'}, {'xref_id': '5M39', 'xref_name': 'A', 'xref_src_db': 'PDBe'}, {'xref_id': '5M3A', 'xref_name': 'A', 'xref_src_db': 'PDBe'}, {'xref_id': '5MKZ', 'xref_name': 'A', 'xref_src_db': 'PDBe'}, {'xref_id': '5MLI', 'xref_name': 'A', 'xref_src_db': 'PDBe'}, {'xref_id': '5N2M', 'xref_name': 'A', 'xref_src_db': 'PDBe'}, {'xref_id': '5NNC', 'xref_name': 'A', 'xref_src_db': 'PDBe'}, {'xref_id': '5NND', 'xref_name': 'A', 'xref_src_db': 'PDBe'}, {'xref_id': '5NNE', 'xref_name': 'A', 'xref_src_db': 'PDBe'}, {'xref_id': '5NNF', 'xref_name': 'A', 'xref_src_db': 'PDBe'}, {'xref_id': '5NNG', 'xref_name': 'A', 'xref_src_db': 'PDBe'}, {'xref_id': '5O97', 'xref_name': 'A', 'xref_src_db': 'PDBe'}, {'xref_id': '5OVB', 'xref_name': 'A', 'xref_src_db': 'PDBe'}, {'xref_id': '5OWM', 'xref_name': 'A', 'xref_src_db': 'PDBe'}, {'xref_id': '5OWW', 'xref_name': 'A', 'xref_src_db': 'PDBe'}, {'xref_id': '5T35', 'xref_name': 'A', 'xref_src_db': 'PDBe'}, {'xref_id': '5TI2', 'xref_name': 'A', 'xref_src_db': 'PDBe'}, {'xref_id': '5TI3', 'xref_name': 'A', 'xref_src_db': 'PDBe'}, {'xref_id': '5TI4', 'xref_name': 'A', 'xref_src_db': 'PDBe'}, {'xref_id': '5TI5', 'xref_name': 'A', 'xref_src_db': 'PDBe'}, {'xref_id': '5TI6', 'xref_name': 'A', 'xref_src_db': 'PDBe'}, {'xref_id': '5TI7', 'xref_name': 'A', 'xref_src_db': 'PDBe'}, {'xref_id': '5U28', 'xref_name': 'A', 'xref_src_db': 'PDBe'}, {'xref_id': '5U2C', 'xref_name': 'A', 'xref_src_db': 'PDBe'}, {'xref_id': '5U2E', 'xref_name': 'A', 'xref_src_db': 'PDBe'}, {'xref_id': '5U2F', 'xref_name': 'A', 'xref_src_db': 'PDBe'}, {'xref_id': '5UEO', 'xref_name': 'A', 'xref_src_db': 'PDBe'}, {'xref_id': '5UEP', 'xref_name': 'A', 'xref_src_db': 'PDBe'}, {'xref_id': '5UEQ', 'xref_name': 'A', 'xref_src_db': 'PDBe'}, {'xref_id': '5UER', 'xref_name': 'A', 'xref_src_db': 'PDBe'}, {'xref_id': '5UES', 'xref_name': 'A', 'xref_src_db': 'PDBe'}, {'xref_id': '5UET', 'xref_name': 'A', 'xref_src_db': 'PDBe'}, {'xref_id': '5UEU', 'xref_name': 'A', 'xref_src_db': 'PDBe'}, {'xref_id': '5UEV', 'xref_name': 'A', 'xref_src_db': 'PDBe'}, {'xref_id': '5UEX', 'xref_name': 'A', 'xref_src_db': 'PDBe'}, {'xref_id': '5UEY', 'xref_name': 'A', 'xref_src_db': 'PDBe'}, {'xref_id': '5UEZ', 'xref_name': 'A', 'xref_src_db': 'PDBe'}, {'xref_id': '5UF0', 'xref_name': 'A', 'xref_src_db': 'PDBe'}, {'xref_id': '5ULA', 'xref_name': 'A', 'xref_src_db': 'PDBe'}, {'xref_id': '5UOO', 'xref_name': 'A', 'xref_src_db': 'PDBe'}, {'xref_id': '5UVS', 'xref_name': 'A', 'xref_src_db': 'PDBe'}, {'xref_id': '5UVT', 'xref_name': 'A', 'xref_src_db': 'PDBe'}, {'xref_id': '5UVU', 'xref_name': 'A', 'xref_src_db': 'PDBe'}, {'xref_id': '5UVV', 'xref_name': 'A', 'xref_src_db': 'PDBe'}, {'xref_id': '5UVW', 'xref_name': 'A', 'xref_src_db': 'PDBe'}, {'xref_id': '5UVX', 'xref_name': 'A', 'xref_src_db': 'PDBe'}, {'xref_id': '5UVY', 'xref_name': 'A', 'xref_src_db': 'PDBe'}, {'xref_id': '5UVZ', 'xref_name': 'A', 'xref_src_db': 'PDBe'}, {'xref_id': '5V67', 'xref_name': 'A', 'xref_src_db': 'PDBe'}, {'xref_id': '5VBO', 'xref_name': 'A', 'xref_src_db': 'PDBe'}, {'xref_id': '5VBP', 'xref_name': 'A', 'xref_src_db': 'PDBe'}, {'xref_id': '5VOM', 'xref_name': 'A', 'xref_src_db': 'PDBe'}, {'xref_id': '5VZS', 'xref_name': 'A', 'xref_src_db': 'PDBe'}, {'xref_id': '5W55', 'xref_name': 'A', 'xref_src_db': 'PDBe'}, {'xref_id': '5WA5', 'xref_name': 'A', 'xref_src_db': 'PDBe'}, {'xref_id': '5WMA', 'xref_name': 'A', 'xref_src_db': 'PDBe'}, {'xref_id': '5WMD', 'xref_name': 'A', 'xref_src_db': 'PDBe'}, {'xref_id': '5WMG', 'xref_name': 'A', 'xref_src_db': 'PDBe'}, {'xref_id': '5WUU', 'xref_name': 'A', 'xref_src_db': 'PDBe'}, {'xref_id': '5XHY', 'xref_name': 'A', 'xref_src_db': 'PDBe'}, {'xref_id': '5XI2', 'xref_name': 'A', 'xref_src_db': 'PDBe'}, {'xref_id': '5XI3', 'xref_name': 'A', 'xref_src_db': 'PDBe'}, {'xref_id': '5XI4', 'xref_name': 'A', 'xref_src_db': 'PDBe'}, {'xref_id': '5Y1Y', 'xref_name': 'A', 'xref_src_db': 'PDBe'}, {'xref_id': '5Y8C', 'xref_name': 'A', 'xref_src_db': 'PDBe'}, {'xref_id': '5Y8W', 'xref_name': 'A', 'xref_src_db': 'PDBe'}, {'xref_id': '5Y8Y', 'xref_name': 'A', 'xref_src_db': 'PDBe'}, {'xref_id': '5Y8Z', 'xref_name': 'A', 'xref_src_db': 'PDBe'}, {'xref_id': '5Y93', 'xref_name': 'A', 'xref_src_db': 'PDBe'}, {'xref_id': '5Y94', 'xref_name': 'A', 'xref_src_db': 'PDBe'}, {'xref_id': '5YOU', 'xref_name': 'A', 'xref_src_db': 'PDBe'}, {'xref_id': '5YOV', 'xref_name': 'A', 'xref_src_db': 'PDBe'}, {'xref_id': '5YQX', 'xref_name': 'A', 'xref_src_db': 'PDBe'}, {'xref_id': '5Z1R', 'xref_name': 'A', 'xref_src_db': 'PDBe'}, {'xref_id': '5Z1S', 'xref_name': 'A', 'xref_src_db': 'PDBe'}, {'xref_id': '5Z1T', 'xref_name': 'A', 'xref_src_db': 'PDBe'}, {'xref_id': '5Z5T', 'xref_name': 'A', 'xref_src_db': 'PDBe'}, {'xref_id': '5Z5U', 'xref_name': 'A', 'xref_src_db': 'PDBe'}, {'xref_id': '5Z5V', 'xref_name': 'A', 'xref_src_db': 'PDBe'}, {'xref_id': '5Z8G', 'xref_name': 'A', 'xref_src_db': 'PDBe'}, {'xref_id': '5Z8R', 'xref_name': 'A', 'xref_src_db': 'PDBe'}, {'xref_id': '5Z8Z', 'xref_name': 'A', 'xref_src_db': 'PDBe'}, {'xref_id': '5Z90', 'xref_name': 'A', 'xref_src_db': 'PDBe'}, {'xref_id': '5Z9K', 'xref_name': 'A', 'xref_src_db': 'PDBe'}, {'xref_id': '6AFR', 'xref_name': 'A', 'xref_src_db': 'PDBe'}, {'xref_id': '6AJV', 'xref_name': 'A', 'xref_src_db': 'PDBe'}, {'xref_id': '6AJW', 'xref_name': 'A', 'xref_src_db': 'PDBe'}, {'xref_id': '6AJX', 'xref_name': 'A', 'xref_src_db': 'PDBe'}, {'xref_id': '6AJY', 'xref_name': 'A', 'xref_src_db': 'PDBe'}, {'xref_id': '6BN7', 'xref_name': 'A', 'xref_src_db': 'PDBe'}, {'xref_id': '6BN8', 'xref_name': 'A', 'xref_src_db': 'PDBe'}, {'xref_id': '6BN9', 'xref_name': 'A', 'xref_src_db': 'PDBe'}, {'xref_id': '6BNB', 'xref_name': 'A', 'xref_src_db': 'PDBe'}, {'xref_id': '6BOY', 'xref_name': 'A', 'xref_src_db': 'PDBe'}, {'xref_id': '6C7Q', 'xref_name': 'A', 'xref_src_db': 'PDBe'}, {'xref_id': '6C7R', 'xref_name': 'A', 'xref_src_db': 'PDBe'}, {'xref_id': '6CD4', 'xref_name': 'A', 'xref_src_db': 'PDBe'}, {'xref_id': '6CD5', 'xref_name': 'A', 'xref_src_db': 'PDBe'}, {'xref_id': '6CIS', 'xref_name': 'A', 'xref_src_db': 'PDBe'}, {'xref_id': '6CIY', 'xref_name': 'A', 'xref_src_db': 'PDBe'}, {'xref_id': '6CJ1', 'xref_name': 'A', 'xref_src_db': 'PDBe'}, {'xref_id': '6CJ2', 'xref_name': 'A', 'xref_src_db': 'PDBe'}, {'xref_id': '6CKR', 'xref_name': 'A', 'xref_src_db': 'PDBe'}, {'xref_id': '6CKS', 'xref_name': 'A', 'xref_src_db': 'PDBe'}, {'xref_id': '6CZU', 'xref_name': 'A', 'xref_src_db': 'PDBe'}, {'xref_id': '6CZV', 'xref_name': 'A', 'xref_src_db': 'PDBe'}, {'xref_id': '6DJC', 'xref_name': 'A', 'xref_src_db': 'PDBe'}, {'xref_id': '6DL2', 'xref_name': 'A', 'xref_src_db': 'PDBe'}, {'xref_id': '6DMJ', 'xref_name': 'A', 'xref_src_db': 'PDBe'}, {'xref_id': '6DML', 'xref_name': 'A', 'xref_src_db': 'PDBe'}, {'xref_id': '6DNE', 'xref_name': 'A', 'xref_src_db': 'PDBe'}, {'xref_id': '6DUV', 'xref_name': 'A', 'xref_src_db': 'PDBe'}, {'xref_id': '6E4A', 'xref_name': 'A', 'xref_src_db': 'PDBe'}, {'xref_id': '6FFD', 'xref_name': 'A', 'xref_src_db': 'PDBe'}, {'xref_id': '6FNX', 'xref_name': 'A', 'xref_src_db': 'PDBe'}, {'xref_id': '6FO5', 'xref_name': 'A', 'xref_src_db': 'PDBe'}, {'xref_id': '6FSY', 'xref_name': 'A', 'xref_src_db': 'PDBe'}, {'xref_id': '6FT3', 'xref_name': 'A', 'xref_src_db': 'PDBe'}, {'xref_id': '6FT4', 'xref_name': 'A', 'xref_src_db': 'PDBe'}, {'xref_id': '6G0O', 'xref_name': 'A', 'xref_src_db': 'PDBe'}, {'xref_id': '6G0P', 'xref_name': 'A', 'xref_src_db': 'PDBe'}, {'xref_id': '6G0Q', 'xref_name': 'A', 'xref_src_db': 'PDBe'}, {'xref_id': '6G0R', 'xref_name': 'A', 'xref_src_db': 'PDBe'}, {'xref_id': '6G0S', 'xref_name': 'A', 'xref_src_db': 'PDBe'}, {'xref_id': '6HDQ', 'xref_name': 'A', 'xref_src_db': 'PDBe'}, {'xref_id': '6MAU', 'xref_name': 'A', 'xref_src_db': 'PDBe'}, {'xref_id': '6MH1', 'xref_name': 'A', 'xref_src_db': 'PDBe'}, {'xref_id': '6MH7', 'xref_name': 'A', 'xref_src_db': 'PDBe'}, {'xref_id': '6Q3Y', 'xref_name': 'A', 'xref_src_db': 'PDBe'}, {'xref_id': '6Q3Z', 'xref_name': 'A', 'xref_src_db': 'PDBe'}, {'xref_id': '6S25', 'xref_name': 'A', 'xref_src_db': 'PDBe'}, {'xref_id': '6SE4', 'xref_name': 'A', 'xref_src_db': 'PDBe'}, {'xref_id': 'PF00439', 'xref_name': 'Bromodomain', 'xref_src_db': 'Pfam'}, {'xref_id': 'PF17035', 'xref_name': 'BET', 'xref_src_db': 'Pfam'}, {'xref_id': 'PF17105', 'xref_name': 'BRD4_CDT', 'xref_src_db': 'Pfam'}, {'xref_id': 'PA25416', 'xref_name': 'bromodomain containing 4', 'xref_src_db': 'PharmGKB'}, {'xref_id': 'BRD4', 'xref_name': 'BRD4', 'xref_src_db': 'TIMBAL'}, {'xref_id': 'O60433', 'xref_name': None, 'xref_src_db': 'UniProt'}, {'xref_id': 'O60885', 'xref_name': None, 'xref_src_db': 'UniProt'}, {'xref_id': 'Q4G0X8', 'xref_name': None, 'xref_src_db': 'UniProt'}, {'xref_id': 'Q86YS8', 'xref_name': None, 'xref_src_db': 'UniProt'}, {'xref_id': 'Q96PD3', 'xref_name': None, 'xref_src_db': 'UniProt'}]}, {'accession': 'Q96SW2', 'component_description': 'Protein cereblon', 'component_id': 16927, 'component_type': 'PROTEIN', 'relationship': 'INTERACTING PROTEIN', 'target_component_synonyms': [{'component_synonym': 'CRBN', 'syn_type': 'GENE_SYMBOL'}, {'component_synonym': 'Protein cereblon', 'syn_type': 'UNIPROT'}], 'target_component_xrefs': [{'xref_id': 'ENSG00000113851', 'xref_name': None, 'xref_src_db': 'EnsemblGene'}, {'xref_id': 'Q96SW2', 'xref_name': None, 'xref_src_db': 'ExpressionAtlas'}, {'xref_id': 'GO:0005634', 'xref_name': 'nucleus', 'xref_src_db': 'GoComponent'}, {'xref_id': 'GO:0005737', 'xref_name': 'cytoplasm', 'xref_src_db': 'GoComponent'}, {'xref_id': 'GO:0016020', 'xref_name': 'membrane', 'xref_src_db': 'GoComponent'}, {'xref_id': 'GO:0031464', 'xref_name': 'Cul4A-RING E3 ubiquitin ligase complex', 'xref_src_db': 'GoComponent'}, {'xref_id': 'GO:0048471', 'xref_name': 'perinuclear region of cytoplasm', 'xref_src_db': 'GoComponent'}, {'xref_id': 'GO:0005515', 'xref_name': 'protein binding', 'xref_src_db': 'GoFunction'}, {'xref_id': 'GO:0044325', 'xref_name': 'ion channel binding', 'xref_src_db': 'GoFunction'}, {'xref_id': 'GO:0046872', 'xref_name': 'metal ion binding', 'xref_src_db': 'GoFunction'}, {'xref_id': 'GO:0016567', 'xref_name': 'protein ubiquitination', 'xref_src_db': 'GoProcess'}, {'xref_id': 'GO:0031333', 'xref_name': 'negative regulation of protein-containing complex assembly', 'xref_src_db': 'GoProcess'}, {'xref_id': 'GO:0031334', 'xref_name': 'positive regulation of protein-containing complex assembly', 'xref_src_db': 'GoProcess'}, {'xref_id': 'GO:0034766', 'xref_name': 'negative regulation of ion transmembrane transport', 'xref_src_db': 'GoProcess'}, {'xref_id': 'GO:0043161', 'xref_name': 'proteasome-mediated ubiquitin-dependent protein catabolic process', 'xref_src_db': 'GoProcess'}, {'xref_id': '3086', 'xref_name': None, 'xref_src_db': 'GuideToPHARMACOLOGY'}, {'xref_id': 'Q96SW2', 'xref_name': None, 'xref_src_db': 'IntAct'}, {'xref_id': 'IPR003111', 'xref_name': 'Lon_substr-bd.', 'xref_src_db': 'InterPro'}, {'xref_id': 'IPR004910', 'xref_name': 'Yippee/Mis18/Cereblon.', 'xref_src_db': 'InterPro'}, {'xref_id': 'IPR015947', 'xref_name': 'PUA-like_sf.', 'xref_src_db': 'InterPro'}, {'xref_id': 'IPR034750', 'xref_name': 'CULT.', 'xref_src_db': 'InterPro'}, {'xref_id': '4M91', 'xref_name': 'A', 'xref_src_db': 'PDBe'}, {'xref_id': '4TZ4', 'xref_name': 'A', 'xref_src_db': 'PDBe'}, {'xref_id': '5FQD', 'xref_name': 'A', 'xref_src_db': 'PDBe'}, {'xref_id': '5HXB', 'xref_name': 'A', 'xref_src_db': 'PDBe'}, {'xref_id': '5V3O', 'xref_name': 'A', 'xref_src_db': 'PDBe'}, {'xref_id': '6BN7', 'xref_name': 'A', 'xref_src_db': 'PDBe'}, {'xref_id': '6BN8', 'xref_name': 'A', 'xref_src_db': 'PDBe'}, {'xref_id': '6BN9', 'xref_name': 'A', 'xref_src_db': 'PDBe'}, {'xref_id': '6BNB', 'xref_name': 'A', 'xref_src_db': 'PDBe'}, {'xref_id': '6BOY', 'xref_name': 'A', 'xref_src_db': 'PDBe'}, {'xref_id': '6H0F', 'xref_name': 'A', 'xref_src_db': 'PDBe'}, {'xref_id': '6H0G', 'xref_name': 'A', 'xref_src_db': 'PDBe'}, {'xref_id': 'PF02190', 'xref_name': 'LON_substr_bdg', 'xref_src_db': 'Pfam'}, {'xref_id': 'PF03226', 'xref_name': 'Yippee-Mis18', 'xref_src_db': 'Pfam'}, {'xref_id': 'B2R6H4', 'xref_name': None, 'xref_src_db': 'UniProt'}, {'xref_id': 'C9IZA9', 'xref_name': None, 'xref_src_db': 'UniProt'}, {'xref_id': 'C9JAH6', 'xref_name': None, 'xref_src_db': 'UniProt'}, {'xref_id': 'Q6AI62', 'xref_name': None, 'xref_src_db': 'UniProt'}, {'xref_id': 'Q6NVZ0', 'xref_name': None, 'xref_src_db': 'UniProt'}, {'xref_id': 'Q96SW2', 'xref_name': None, 'xref_src_db': 'UniProt'}, {'xref_id': 'Q9UHW4', 'xref_name': None, 'xref_src_db': 'UniProt'}]}], 'target_type': 'PROTEIN-PROTEIN INTERACTION', 'tax_id': 9606}, '...(remaining elements truncated)...']"
      ]
     },
     "execution_count": 46,
     "metadata": {},
     "output_type": "execute_result"
    }
   ],
   "source": [
    "from chembl_webresource_client.new_client import new_client\n",
    "target = new_client.target\n",
    "gene_name = 'BRD4'\n",
    "res = target.search(gene_name)\n",
    "res"
   ]
  },
  {
   "cell_type": "code",
   "execution_count": 9,
   "metadata": {},
   "outputs": [],
   "source": [
    "from chembl_webresource_client.new_client import new_client\n",
    "target = new_client.target\n",
    "gene_name = 'GABRB2'\n",
    "res = target.filter(target_synonym__icontains=gene_name)"
   ]
  },
  {
   "cell_type": "markdown",
   "metadata": {},
   "source": [
    "#  chembl_webresource_client demo\n",
    "https://github.com/chembl/chembl_webresource_client/blob/master/demo_wrc.ipynb"
   ]
  },
  {
   "cell_type": "markdown",
   "metadata": {},
   "source": [
    "## Configuration and setup"
   ]
  },
  {
   "cell_type": "code",
   "execution_count": 10,
   "metadata": {},
   "outputs": [],
   "source": [
    "import logging\n",
    "from operator import itemgetter\n",
    "from IPython.display import display, SVG"
   ]
  },
  {
   "cell_type": "code",
   "execution_count": 11,
   "metadata": {},
   "outputs": [],
   "source": [
    "# Python modules used for API access...\n",
    "from chembl_webresource_client.new_client import new_client"
   ]
  },
  {
   "cell_type": "markdown",
   "metadata": {},
   "source": [
    "## List of available resources"
   ]
  },
  {
   "cell_type": "code",
   "execution_count": 12,
   "metadata": {
    "scrolled": true
   },
   "outputs": [
    {
     "name": "stdout",
     "output_type": "stream",
     "text": [
      "['activity', 'activity_supplementary_data_by_activity', 'assay', 'assay_class', 'atc_class', 'binding_site', 'biotherapeutic', 'cell_line', 'chembl_id_lookup', 'compound_record', 'compound_structural_alert', 'description', 'document', 'document_similarity', 'drug', 'drug_indication', 'go_slim', 'image', 'mechanism', 'metabolism', 'molecule', 'molecule_form', 'official', 'organism', 'protein_class', 'similarity', 'source', 'substructure', 'target', 'target_component', 'target_relation', 'tissue', 'xref_source']\n",
      "33\n"
     ]
    }
   ],
   "source": [
    "available_resources = [resource for resource in dir(new_client) if not resource.startswith('_')]\n",
    "print(available_resources)\n",
    "print(len(available_resources))"
   ]
  },
  {
   "cell_type": "markdown",
   "metadata": {},
   "source": [
    "#  Molecules"
   ]
  },
  {
   "cell_type": "code",
   "execution_count": 13,
   "metadata": {},
   "outputs": [
    {
     "name": "stdout",
     "output_type": "stream",
     "text": [
      "1961462 molecules available in ChEMBL\n"
     ]
    }
   ],
   "source": [
    "# Get a molecule-handler object for API access and check the connection to the database...\n",
    "molecule = new_client.molecule\n",
    "molecule.set_format('json')\n",
    "print(\"%s molecules available in ChEMBL\" % len(molecule.all()))"
   ]
  },
  {
   "cell_type": "markdown",
   "metadata": {},
   "source": [
    "https://github.com/chembl/chembl_webresource_client/blob/master/demo_wrc.ipynb"
   ]
  },
  {
   "cell_type": "markdown",
   "metadata": {},
   "source": [
    "https://github.com/chembl/chembl_webresource_client\n"
   ]
  },
  {
   "cell_type": "markdown",
   "metadata": {},
   "source": [
    "## Getting a single molecule"
   ]
  },
  {
   "cell_type": "code",
   "execution_count": 19,
   "metadata": {},
   "outputs": [
    {
     "data": {
      "text/plain": [
       "True"
      ]
     },
     "execution_count": 19,
     "metadata": {},
     "output_type": "execute_result"
    }
   ],
   "source": [
    "# so this:\n",
    "# 1.\n",
    "m1 = molecule.get('CHEMBL25')\n",
    "# 2.\n",
    "m2 = molecule.get('BSYNRYMUTXBXSQ-UHFFFAOYSA-N')\n",
    "#\n",
    "m3 = molecule.get('CC(=O)Oc1ccccc1C(=O)O')\n",
    "# will return the same data:\n",
    "m1 == m2 == m3"
   ]
  },
  {
   "cell_type": "markdown",
   "metadata": {},
   "source": [
    "# ChEMBL ID"
   ]
  },
  {
   "cell_type": "code",
   "execution_count": 20,
   "metadata": {},
   "outputs": [],
   "source": [
    "# Lapatinib, the bioactive component of the anti-cancer drug Tykerb\n",
    "chembl_id = \"CHEMBL554\""
   ]
  },
  {
   "cell_type": "code",
   "execution_count": 21,
   "metadata": {
    "scrolled": false
   },
   "outputs": [
    {
     "data": {
      "text/plain": [
       "{'atc_classifications': ['L01XE07'],\n",
       " 'availability_type': 1,\n",
       " 'biotherapeutic': None,\n",
       " 'black_box_warning': 1,\n",
       " 'chebi_par_id': 49603,\n",
       " 'chirality': 2,\n",
       " 'cross_references': [{'xref_id': 'lapatinib%20ditosylate',\n",
       "   'xref_name': 'lapatinib ditosylate',\n",
       "   'xref_src': 'DailyMed'},\n",
       "  {'xref_id': '103905567',\n",
       "   'xref_name': 'SID: 103905567',\n",
       "   'xref_src': 'PubChem'},\n",
       "  {'xref_id': '103905568',\n",
       "   'xref_name': 'SID: 103905568',\n",
       "   'xref_src': 'PubChem'},\n",
       "  {'xref_id': '144206058',\n",
       "   'xref_name': 'SID: 144206058',\n",
       "   'xref_src': 'PubChem'},\n",
       "  {'xref_id': '170465125',\n",
       "   'xref_name': 'SID: 170465125',\n",
       "   'xref_src': 'PubChem'},\n",
       "  {'xref_id': '50100107', 'xref_name': 'SID: 50100107', 'xref_src': 'PubChem'},\n",
       "  {'xref_id': 'Lapatinib', 'xref_name': None, 'xref_src': 'Wikipedia'}],\n",
       " 'dosed_ingredient': True,\n",
       " 'first_approval': 2007,\n",
       " 'first_in_class': 0,\n",
       " 'helm_notation': None,\n",
       " 'indication_class': None,\n",
       " 'inorganic_flag': 0,\n",
       " 'max_phase': 4,\n",
       " 'molecule_chembl_id': 'CHEMBL554',\n",
       " 'molecule_hierarchy': {'molecule_chembl_id': 'CHEMBL554',\n",
       "  'parent_chembl_id': 'CHEMBL554'},\n",
       " 'molecule_properties': {'alogp': '6.14',\n",
       "  'aromatic_rings': 5,\n",
       "  'cx_logd': '4.40',\n",
       "  'cx_logp': '4.64',\n",
       "  'cx_most_apka': None,\n",
       "  'cx_most_bpka': '7.26',\n",
       "  'full_molformula': 'C29H26ClFN4O4S',\n",
       "  'full_mwt': '581.07',\n",
       "  'hba': 8,\n",
       "  'hba_lipinski': 8,\n",
       "  'hbd': 2,\n",
       "  'hbd_lipinski': 2,\n",
       "  'heavy_atoms': 40,\n",
       "  'molecular_species': 'NEUTRAL',\n",
       "  'mw_freebase': '581.07',\n",
       "  'mw_monoisotopic': '580.1347',\n",
       "  'num_lipinski_ro5_violations': 2,\n",
       "  'num_ro5_violations': 2,\n",
       "  'psa': '106.35',\n",
       "  'qed_weighted': '0.18',\n",
       "  'ro3_pass': 'N',\n",
       "  'rtb': 11},\n",
       " 'molecule_structures': {'canonical_smiles': 'CS(=O)(=O)CCNCc1ccc(-c2ccc3ncnc(Nc4ccc(OCc5cccc(F)c5)c(Cl)c4)c3c2)o1',\n",
       "  'molfile': '\\n     RDKit          2D\\n\\n 40 44  0  0  0  0  0  0  0  0999 V2000\\n    1.2602   -2.6079    0.0000 C   0  0  0  0  0  0  0  0  0  0  0  0\\n    0.4340   -2.6079    0.0000 C   0  0  0  0  0  0  0  0  0  0  0  0\\n    0.1797   -3.3915    0.0000 C   0  0  0  0  0  0  0  0  0  0  0  0\\n    0.8495   -3.8833    0.0000 O   0  0  0  0  0  0  0  0  0  0  0  0\\n    1.5192   -3.3915    0.0000 C   0  0  0  0  0  0  0  0  0  0  0  0\\n    2.2352   -3.8070    0.0000 C   0  0  0  0  0  0  0  0  0  0  0  0\\n    2.2338   -4.6360    0.0000 C   0  0  0  0  0  0  0  0  0  0  0  0\\n    2.9517   -5.0470    0.0000 C   0  0  0  0  0  0  0  0  0  0  0  0\\n    2.9496   -3.3912    0.0000 C   0  0  0  0  0  0  0  0  0  0  0  0\\n    3.6583   -3.8027    0.0000 C   0  0  0  0  0  0  0  0  0  0  0  0\\n    3.6594   -4.6317    0.0000 C   0  0  0  0  0  0  0  0  0  0  0  0\\n    4.3775   -5.0409    0.0000 N   0  0  0  0  0  0  0  0  0  0  0  0\\n    5.0945   -4.6272    0.0000 C   0  0  0  0  0  0  0  0  0  0  0  0\\n    5.0893   -3.7951    0.0000 N   0  0  0  0  0  0  0  0  0  0  0  0\\n    4.3709   -3.3848    0.0000 C   0  0  0  0  0  0  0  0  0  0  0  0\\n    4.3661   -2.5587    0.0000 N   0  0  0  0  0  0  0  0  0  0  0  0\\n    5.0797   -2.1438    0.0000 C   0  0  0  0  0  0  0  0  0  0  0  0\\n    5.7943   -2.5532    0.0000 C   0  0  0  0  0  0  0  0  0  0  0  0\\n    6.5075   -2.1392    0.0000 C   0  0  0  0  0  0  0  0  0  0  0  0\\n    6.5031   -1.3121    0.0000 C   0  0  0  0  0  0  0  0  0  0  0  0\\n    5.7796   -0.9011    0.0000 C   0  0  0  0  0  0  0  0  0  0  0  0\\n    5.0693   -1.3223    0.0000 C   0  0  0  0  0  0  0  0  0  0  0  0\\n    7.2162   -0.8915    0.0000 O   0  0  0  0  0  0  0  0  0  0  0  0\\n    7.9354   -1.3019    0.0000 C   0  0  0  0  0  0  0  0  0  0  0  0\\n    8.6436   -0.8813    0.0000 C   0  0  0  0  0  0  0  0  0  0  0  0\\n    5.7719   -0.0749    0.0000 Cl  0  0  0  0  0  0  0  0  0  0  0  0\\n    9.3606   -1.2940    0.0000 C   0  0  0  0  0  0  0  0  0  0  0  0\\n   10.0731   -0.8742    0.0000 C   0  0  0  0  0  0  0  0  0  0  0  0\\n   10.0677   -0.0472    0.0000 C   0  0  0  0  0  0  0  0  0  0  0  0\\n    9.3437    0.3582    0.0000 C   0  0  0  0  0  0  0  0  0  0  0  0\\n    8.6340   -0.0593    0.0000 C   0  0  0  0  0  0  0  0  0  0  0  0\\n   10.7920   -1.2849    0.0000 F   0  0  0  0  0  0  0  0  0  0  0  0\\n   -0.5410   -3.7974    0.0000 C   0  0  0  0  0  0  0  0  0  0  0  0\\n   -1.2518   -3.3728    0.0000 N   0  0  0  0  0  0  0  0  0  0  0  0\\n   -1.9684   -3.7790    0.0000 C   0  0  0  0  0  0  0  0  0  0  0  0\\n   -2.6792   -3.3544    0.0000 C   0  0  0  0  0  0  0  0  0  0  0  0\\n   -3.4005   -3.7605    0.0000 S   0  0  0  0  0  0  0  0  0  0  0  0\\n   -4.1113   -3.3359    0.0000 C   0  0  0  0  0  0  0  0  0  0  0  0\\n   -2.9954   -4.4689    0.0000 O   0  0  0  0  0  0  0  0  0  0  0  0\\n   -3.8215   -4.4689    0.0000 O   0  0  0  0  0  0  0  0  0  0  0  0\\n 16 17  1  0\\n 37 39  2  0\\n 37 40  2  0\\n 17 18  2  0\\n  7  8  1  0\\n 18 19  1  0\\n  8 11  2  0\\n 19 20  2  0\\n 20 21  1  0\\n 10  9  2  0\\n 21 22  2  0\\n 22 17  1  0\\n  9  6  1  0\\n 20 23  1  0\\n  1  2  1  0\\n 23 24  1  0\\n  2  3  2  0\\n 24 25  1  0\\n 10 11  1  0\\n 21 26  1  0\\n  3  4  1  0\\n 25 27  2  0\\n 11 12  1  0\\n 27 28  1  0\\n  4  5  1  0\\n 28 29  2  0\\n 12 13  2  0\\n 29 30  1  0\\n  5  1  2  0\\n 30 31  2  0\\n 31 25  1  0\\n 13 14  1  0\\n 28 32  1  0\\n  6  5  1  0\\n  3 33  1  0\\n 14 15  2  0\\n 33 34  1  0\\n 15 10  1  0\\n 34 35  1  0\\n 35 36  1  0\\n 15 16  1  0\\n 36 37  1  0\\n  6  7  2  0\\n 37 38  1  0\\nM  END\\n\\n> <chembl_id>\\nCHEMBL554\\n\\n> <chembl_pref_name>\\nLAPATINIB\\n\\n',\n",
       "  'standard_inchi': 'InChI=1S/C29H26ClFN4O4S/c1-40(36,37)12-11-32-16-23-7-10-27(39-23)20-5-8-26-24(14-20)29(34-18-33-26)35-22-6-9-28(25(30)15-22)38-17-19-3-2-4-21(31)13-19/h2-10,13-15,18,32H,11-12,16-17H2,1H3,(H,33,34,35)',\n",
       "  'standard_inchi_key': 'BCFGMOOMADDAQU-UHFFFAOYSA-N'},\n",
       " 'molecule_synonyms': [{'molecule_synonym': 'GSK-572016',\n",
       "   'syn_type': 'RESEARCH_CODE',\n",
       "   'synonyms': 'GSK-572016'},\n",
       "  {'molecule_synonym': 'GW-2016',\n",
       "   'syn_type': 'RESEARCH_CODE',\n",
       "   'synonyms': 'GW-2016'},\n",
       "  {'molecule_synonym': 'GW572016',\n",
       "   'syn_type': 'RESEARCH_CODE',\n",
       "   'synonyms': 'GW572016'},\n",
       "  {'molecule_synonym': 'GW-572016',\n",
       "   'syn_type': 'RESEARCH_CODE',\n",
       "   'synonyms': 'GW-572016'},\n",
       "  {'molecule_synonym': 'GW-572016X',\n",
       "   'syn_type': 'RESEARCH_CODE',\n",
       "   'synonyms': 'GW-572016X'},\n",
       "  {'molecule_synonym': 'Lapatinib',\n",
       "   'syn_type': 'FDA',\n",
       "   'synonyms': 'Lapatinib'},\n",
       "  {'molecule_synonym': 'Lapatinib',\n",
       "   'syn_type': 'ATC',\n",
       "   'synonyms': 'LAPATINIB'},\n",
       "  {'molecule_synonym': 'Lapatinib',\n",
       "   'syn_type': 'BNF',\n",
       "   'synonyms': 'LAPATINIB'},\n",
       "  {'molecule_synonym': 'Lapatinib',\n",
       "   'syn_type': 'INN',\n",
       "   'synonyms': 'LAPATINIB'},\n",
       "  {'molecule_synonym': 'Lapatinib',\n",
       "   'syn_type': 'MERCK_INDEX',\n",
       "   'synonyms': 'LAPATINIB'},\n",
       "  {'molecule_synonym': 'Lapatinib',\n",
       "   'syn_type': 'OTHER',\n",
       "   'synonyms': 'LAPATINIB'},\n",
       "  {'molecule_synonym': 'Tyverb',\n",
       "   'syn_type': 'TRADE_NAME',\n",
       "   'synonyms': 'TYVERB'}],\n",
       " 'molecule_type': 'Small molecule',\n",
       " 'natural_product': 0,\n",
       " 'oral': True,\n",
       " 'parenteral': False,\n",
       " 'polymer_flag': False,\n",
       " 'pref_name': 'LAPATINIB',\n",
       " 'prodrug': 0,\n",
       " 'structure_type': 'MOL',\n",
       " 'therapeutic_flag': True,\n",
       " 'topical': False,\n",
       " 'usan_stem': '-tinib',\n",
       " 'usan_stem_definition': 'tyrosine kinase inhibitors',\n",
       " 'usan_substem': '-tinib',\n",
       " 'usan_year': 2003,\n",
       " 'withdrawn_class': None,\n",
       " 'withdrawn_country': None,\n",
       " 'withdrawn_flag': False,\n",
       " 'withdrawn_reason': None,\n",
       " 'withdrawn_year': None}"
      ]
     },
     "execution_count": 21,
     "metadata": {},
     "output_type": "execute_result"
    }
   ],
   "source": [
    "# Get compound record using client...\n",
    "record_via_client = molecule.get(chembl_id)\n",
    "record_via_client"
   ]
  },
  {
   "cell_type": "markdown",
   "metadata": {},
   "source": [
    "## InChIKey"
   ]
  },
  {
   "cell_type": "code",
   "execution_count": 22,
   "metadata": {
    "scrolled": false
   },
   "outputs": [
    {
     "data": {
      "text/plain": [
       "{'atc_classifications': ['L01XE07'],\n",
       " 'availability_type': 1,\n",
       " 'biotherapeutic': None,\n",
       " 'black_box_warning': 1,\n",
       " 'chebi_par_id': 49603,\n",
       " 'chirality': 2,\n",
       " 'cross_references': [{'xref_id': 'lapatinib%20ditosylate',\n",
       "   'xref_name': 'lapatinib ditosylate',\n",
       "   'xref_src': 'DailyMed'},\n",
       "  {'xref_id': '103905567',\n",
       "   'xref_name': 'SID: 103905567',\n",
       "   'xref_src': 'PubChem'},\n",
       "  {'xref_id': '103905568',\n",
       "   'xref_name': 'SID: 103905568',\n",
       "   'xref_src': 'PubChem'},\n",
       "  {'xref_id': '144206058',\n",
       "   'xref_name': 'SID: 144206058',\n",
       "   'xref_src': 'PubChem'},\n",
       "  {'xref_id': '170465125',\n",
       "   'xref_name': 'SID: 170465125',\n",
       "   'xref_src': 'PubChem'},\n",
       "  {'xref_id': '50100107', 'xref_name': 'SID: 50100107', 'xref_src': 'PubChem'},\n",
       "  {'xref_id': 'Lapatinib', 'xref_name': None, 'xref_src': 'Wikipedia'}],\n",
       " 'dosed_ingredient': True,\n",
       " 'first_approval': 2007,\n",
       " 'first_in_class': 0,\n",
       " 'helm_notation': None,\n",
       " 'indication_class': None,\n",
       " 'inorganic_flag': 0,\n",
       " 'max_phase': 4,\n",
       " 'molecule_chembl_id': 'CHEMBL554',\n",
       " 'molecule_hierarchy': {'molecule_chembl_id': 'CHEMBL554',\n",
       "  'parent_chembl_id': 'CHEMBL554'},\n",
       " 'molecule_properties': {'alogp': '6.14',\n",
       "  'aromatic_rings': 5,\n",
       "  'cx_logd': '4.40',\n",
       "  'cx_logp': '4.64',\n",
       "  'cx_most_apka': None,\n",
       "  'cx_most_bpka': '7.26',\n",
       "  'full_molformula': 'C29H26ClFN4O4S',\n",
       "  'full_mwt': '581.07',\n",
       "  'hba': 8,\n",
       "  'hba_lipinski': 8,\n",
       "  'hbd': 2,\n",
       "  'hbd_lipinski': 2,\n",
       "  'heavy_atoms': 40,\n",
       "  'molecular_species': 'NEUTRAL',\n",
       "  'mw_freebase': '581.07',\n",
       "  'mw_monoisotopic': '580.1347',\n",
       "  'num_lipinski_ro5_violations': 2,\n",
       "  'num_ro5_violations': 2,\n",
       "  'psa': '106.35',\n",
       "  'qed_weighted': '0.18',\n",
       "  'ro3_pass': 'N',\n",
       "  'rtb': 11},\n",
       " 'molecule_structures': {'canonical_smiles': 'CS(=O)(=O)CCNCc1ccc(-c2ccc3ncnc(Nc4ccc(OCc5cccc(F)c5)c(Cl)c4)c3c2)o1',\n",
       "  'molfile': '\\n     RDKit          2D\\n\\n 40 44  0  0  0  0  0  0  0  0999 V2000\\n    1.2602   -2.6079    0.0000 C   0  0  0  0  0  0  0  0  0  0  0  0\\n    0.4340   -2.6079    0.0000 C   0  0  0  0  0  0  0  0  0  0  0  0\\n    0.1797   -3.3915    0.0000 C   0  0  0  0  0  0  0  0  0  0  0  0\\n    0.8495   -3.8833    0.0000 O   0  0  0  0  0  0  0  0  0  0  0  0\\n    1.5192   -3.3915    0.0000 C   0  0  0  0  0  0  0  0  0  0  0  0\\n    2.2352   -3.8070    0.0000 C   0  0  0  0  0  0  0  0  0  0  0  0\\n    2.2338   -4.6360    0.0000 C   0  0  0  0  0  0  0  0  0  0  0  0\\n    2.9517   -5.0470    0.0000 C   0  0  0  0  0  0  0  0  0  0  0  0\\n    2.9496   -3.3912    0.0000 C   0  0  0  0  0  0  0  0  0  0  0  0\\n    3.6583   -3.8027    0.0000 C   0  0  0  0  0  0  0  0  0  0  0  0\\n    3.6594   -4.6317    0.0000 C   0  0  0  0  0  0  0  0  0  0  0  0\\n    4.3775   -5.0409    0.0000 N   0  0  0  0  0  0  0  0  0  0  0  0\\n    5.0945   -4.6272    0.0000 C   0  0  0  0  0  0  0  0  0  0  0  0\\n    5.0893   -3.7951    0.0000 N   0  0  0  0  0  0  0  0  0  0  0  0\\n    4.3709   -3.3848    0.0000 C   0  0  0  0  0  0  0  0  0  0  0  0\\n    4.3661   -2.5587    0.0000 N   0  0  0  0  0  0  0  0  0  0  0  0\\n    5.0797   -2.1438    0.0000 C   0  0  0  0  0  0  0  0  0  0  0  0\\n    5.7943   -2.5532    0.0000 C   0  0  0  0  0  0  0  0  0  0  0  0\\n    6.5075   -2.1392    0.0000 C   0  0  0  0  0  0  0  0  0  0  0  0\\n    6.5031   -1.3121    0.0000 C   0  0  0  0  0  0  0  0  0  0  0  0\\n    5.7796   -0.9011    0.0000 C   0  0  0  0  0  0  0  0  0  0  0  0\\n    5.0693   -1.3223    0.0000 C   0  0  0  0  0  0  0  0  0  0  0  0\\n    7.2162   -0.8915    0.0000 O   0  0  0  0  0  0  0  0  0  0  0  0\\n    7.9354   -1.3019    0.0000 C   0  0  0  0  0  0  0  0  0  0  0  0\\n    8.6436   -0.8813    0.0000 C   0  0  0  0  0  0  0  0  0  0  0  0\\n    5.7719   -0.0749    0.0000 Cl  0  0  0  0  0  0  0  0  0  0  0  0\\n    9.3606   -1.2940    0.0000 C   0  0  0  0  0  0  0  0  0  0  0  0\\n   10.0731   -0.8742    0.0000 C   0  0  0  0  0  0  0  0  0  0  0  0\\n   10.0677   -0.0472    0.0000 C   0  0  0  0  0  0  0  0  0  0  0  0\\n    9.3437    0.3582    0.0000 C   0  0  0  0  0  0  0  0  0  0  0  0\\n    8.6340   -0.0593    0.0000 C   0  0  0  0  0  0  0  0  0  0  0  0\\n   10.7920   -1.2849    0.0000 F   0  0  0  0  0  0  0  0  0  0  0  0\\n   -0.5410   -3.7974    0.0000 C   0  0  0  0  0  0  0  0  0  0  0  0\\n   -1.2518   -3.3728    0.0000 N   0  0  0  0  0  0  0  0  0  0  0  0\\n   -1.9684   -3.7790    0.0000 C   0  0  0  0  0  0  0  0  0  0  0  0\\n   -2.6792   -3.3544    0.0000 C   0  0  0  0  0  0  0  0  0  0  0  0\\n   -3.4005   -3.7605    0.0000 S   0  0  0  0  0  0  0  0  0  0  0  0\\n   -4.1113   -3.3359    0.0000 C   0  0  0  0  0  0  0  0  0  0  0  0\\n   -2.9954   -4.4689    0.0000 O   0  0  0  0  0  0  0  0  0  0  0  0\\n   -3.8215   -4.4689    0.0000 O   0  0  0  0  0  0  0  0  0  0  0  0\\n 16 17  1  0\\n 37 39  2  0\\n 37 40  2  0\\n 17 18  2  0\\n  7  8  1  0\\n 18 19  1  0\\n  8 11  2  0\\n 19 20  2  0\\n 20 21  1  0\\n 10  9  2  0\\n 21 22  2  0\\n 22 17  1  0\\n  9  6  1  0\\n 20 23  1  0\\n  1  2  1  0\\n 23 24  1  0\\n  2  3  2  0\\n 24 25  1  0\\n 10 11  1  0\\n 21 26  1  0\\n  3  4  1  0\\n 25 27  2  0\\n 11 12  1  0\\n 27 28  1  0\\n  4  5  1  0\\n 28 29  2  0\\n 12 13  2  0\\n 29 30  1  0\\n  5  1  2  0\\n 30 31  2  0\\n 31 25  1  0\\n 13 14  1  0\\n 28 32  1  0\\n  6  5  1  0\\n  3 33  1  0\\n 14 15  2  0\\n 33 34  1  0\\n 15 10  1  0\\n 34 35  1  0\\n 35 36  1  0\\n 15 16  1  0\\n 36 37  1  0\\n  6  7  2  0\\n 37 38  1  0\\nM  END\\n\\n> <chembl_id>\\nCHEMBL554\\n\\n> <chembl_pref_name>\\nLAPATINIB\\n\\n',\n",
       "  'standard_inchi': 'InChI=1S/C29H26ClFN4O4S/c1-40(36,37)12-11-32-16-23-7-10-27(39-23)20-5-8-26-24(14-20)29(34-18-33-26)35-22-6-9-28(25(30)15-22)38-17-19-3-2-4-21(31)13-19/h2-10,13-15,18,32H,11-12,16-17H2,1H3,(H,33,34,35)',\n",
       "  'standard_inchi_key': 'BCFGMOOMADDAQU-UHFFFAOYSA-N'},\n",
       " 'molecule_synonyms': [{'molecule_synonym': 'GSK-572016',\n",
       "   'syn_type': 'RESEARCH_CODE',\n",
       "   'synonyms': 'GSK-572016'},\n",
       "  {'molecule_synonym': 'GW-2016',\n",
       "   'syn_type': 'RESEARCH_CODE',\n",
       "   'synonyms': 'GW-2016'},\n",
       "  {'molecule_synonym': 'GW572016',\n",
       "   'syn_type': 'RESEARCH_CODE',\n",
       "   'synonyms': 'GW572016'},\n",
       "  {'molecule_synonym': 'GW-572016',\n",
       "   'syn_type': 'RESEARCH_CODE',\n",
       "   'synonyms': 'GW-572016'},\n",
       "  {'molecule_synonym': 'GW-572016X',\n",
       "   'syn_type': 'RESEARCH_CODE',\n",
       "   'synonyms': 'GW-572016X'},\n",
       "  {'molecule_synonym': 'Lapatinib',\n",
       "   'syn_type': 'FDA',\n",
       "   'synonyms': 'Lapatinib'},\n",
       "  {'molecule_synonym': 'Lapatinib',\n",
       "   'syn_type': 'ATC',\n",
       "   'synonyms': 'LAPATINIB'},\n",
       "  {'molecule_synonym': 'Lapatinib',\n",
       "   'syn_type': 'BNF',\n",
       "   'synonyms': 'LAPATINIB'},\n",
       "  {'molecule_synonym': 'Lapatinib',\n",
       "   'syn_type': 'INN',\n",
       "   'synonyms': 'LAPATINIB'},\n",
       "  {'molecule_synonym': 'Lapatinib',\n",
       "   'syn_type': 'MERCK_INDEX',\n",
       "   'synonyms': 'LAPATINIB'},\n",
       "  {'molecule_synonym': 'Lapatinib',\n",
       "   'syn_type': 'OTHER',\n",
       "   'synonyms': 'LAPATINIB'},\n",
       "  {'molecule_synonym': 'Tyverb',\n",
       "   'syn_type': 'TRADE_NAME',\n",
       "   'synonyms': 'TYVERB'}],\n",
       " 'molecule_type': 'Small molecule',\n",
       " 'natural_product': 0,\n",
       " 'oral': True,\n",
       " 'parenteral': False,\n",
       " 'polymer_flag': False,\n",
       " 'pref_name': 'LAPATINIB',\n",
       " 'prodrug': 0,\n",
       " 'structure_type': 'MOL',\n",
       " 'therapeutic_flag': True,\n",
       " 'topical': False,\n",
       " 'usan_stem': '-tinib',\n",
       " 'usan_stem_definition': 'tyrosine kinase inhibitors',\n",
       " 'usan_substem': '-tinib',\n",
       " 'usan_year': 2003,\n",
       " 'withdrawn_class': None,\n",
       " 'withdrawn_country': None,\n",
       " 'withdrawn_flag': False,\n",
       " 'withdrawn_reason': None,\n",
       " 'withdrawn_year': None}"
      ]
     },
     "execution_count": 22,
     "metadata": {},
     "output_type": "execute_result"
    }
   ],
   "source": [
    "\n",
    "# InChI Key for Lapatinib\n",
    "inchi_key = \"BCFGMOOMADDAQU-UHFFFAOYSA-N\"\n",
    "\n",
    "# getting molecule via client\n",
    "molecule.set_format('json')\n",
    "record_via_client = molecule.get(inchi_key)\n",
    "record_via_client"
   ]
  },
  {
   "cell_type": "markdown",
   "metadata": {},
   "source": [
    "## SMILES"
   ]
  },
  {
   "cell_type": "code",
   "execution_count": 23,
   "metadata": {
    "scrolled": false
   },
   "outputs": [
    {
     "data": {
      "text/plain": [
       "{'atc_classifications': ['L01XE07'],\n",
       " 'availability_type': 1,\n",
       " 'biotherapeutic': None,\n",
       " 'black_box_warning': 1,\n",
       " 'chebi_par_id': 49603,\n",
       " 'chirality': 2,\n",
       " 'cross_references': [{'xref_id': 'lapatinib%20ditosylate',\n",
       "   'xref_name': 'lapatinib ditosylate',\n",
       "   'xref_src': 'DailyMed'},\n",
       "  {'xref_id': '103905567',\n",
       "   'xref_name': 'SID: 103905567',\n",
       "   'xref_src': 'PubChem'},\n",
       "  {'xref_id': '103905568',\n",
       "   'xref_name': 'SID: 103905568',\n",
       "   'xref_src': 'PubChem'},\n",
       "  {'xref_id': '144206058',\n",
       "   'xref_name': 'SID: 144206058',\n",
       "   'xref_src': 'PubChem'},\n",
       "  {'xref_id': '170465125',\n",
       "   'xref_name': 'SID: 170465125',\n",
       "   'xref_src': 'PubChem'},\n",
       "  {'xref_id': '50100107', 'xref_name': 'SID: 50100107', 'xref_src': 'PubChem'},\n",
       "  {'xref_id': 'Lapatinib', 'xref_name': None, 'xref_src': 'Wikipedia'}],\n",
       " 'dosed_ingredient': True,\n",
       " 'first_approval': 2007,\n",
       " 'first_in_class': 0,\n",
       " 'helm_notation': None,\n",
       " 'indication_class': None,\n",
       " 'inorganic_flag': 0,\n",
       " 'max_phase': 4,\n",
       " 'molecule_chembl_id': 'CHEMBL554',\n",
       " 'molecule_hierarchy': {'molecule_chembl_id': 'CHEMBL554',\n",
       "  'parent_chembl_id': 'CHEMBL554'},\n",
       " 'molecule_properties': {'alogp': '6.14',\n",
       "  'aromatic_rings': 5,\n",
       "  'cx_logd': '4.40',\n",
       "  'cx_logp': '4.64',\n",
       "  'cx_most_apka': None,\n",
       "  'cx_most_bpka': '7.26',\n",
       "  'full_molformula': 'C29H26ClFN4O4S',\n",
       "  'full_mwt': '581.07',\n",
       "  'hba': 8,\n",
       "  'hba_lipinski': 8,\n",
       "  'hbd': 2,\n",
       "  'hbd_lipinski': 2,\n",
       "  'heavy_atoms': 40,\n",
       "  'molecular_species': 'NEUTRAL',\n",
       "  'mw_freebase': '581.07',\n",
       "  'mw_monoisotopic': '580.1347',\n",
       "  'num_lipinski_ro5_violations': 2,\n",
       "  'num_ro5_violations': 2,\n",
       "  'psa': '106.35',\n",
       "  'qed_weighted': '0.18',\n",
       "  'ro3_pass': 'N',\n",
       "  'rtb': 11},\n",
       " 'molecule_structures': {'canonical_smiles': 'CS(=O)(=O)CCNCc1ccc(-c2ccc3ncnc(Nc4ccc(OCc5cccc(F)c5)c(Cl)c4)c3c2)o1',\n",
       "  'molfile': '\\n     RDKit          2D\\n\\n 40 44  0  0  0  0  0  0  0  0999 V2000\\n    1.2602   -2.6079    0.0000 C   0  0  0  0  0  0  0  0  0  0  0  0\\n    0.4340   -2.6079    0.0000 C   0  0  0  0  0  0  0  0  0  0  0  0\\n    0.1797   -3.3915    0.0000 C   0  0  0  0  0  0  0  0  0  0  0  0\\n    0.8495   -3.8833    0.0000 O   0  0  0  0  0  0  0  0  0  0  0  0\\n    1.5192   -3.3915    0.0000 C   0  0  0  0  0  0  0  0  0  0  0  0\\n    2.2352   -3.8070    0.0000 C   0  0  0  0  0  0  0  0  0  0  0  0\\n    2.2338   -4.6360    0.0000 C   0  0  0  0  0  0  0  0  0  0  0  0\\n    2.9517   -5.0470    0.0000 C   0  0  0  0  0  0  0  0  0  0  0  0\\n    2.9496   -3.3912    0.0000 C   0  0  0  0  0  0  0  0  0  0  0  0\\n    3.6583   -3.8027    0.0000 C   0  0  0  0  0  0  0  0  0  0  0  0\\n    3.6594   -4.6317    0.0000 C   0  0  0  0  0  0  0  0  0  0  0  0\\n    4.3775   -5.0409    0.0000 N   0  0  0  0  0  0  0  0  0  0  0  0\\n    5.0945   -4.6272    0.0000 C   0  0  0  0  0  0  0  0  0  0  0  0\\n    5.0893   -3.7951    0.0000 N   0  0  0  0  0  0  0  0  0  0  0  0\\n    4.3709   -3.3848    0.0000 C   0  0  0  0  0  0  0  0  0  0  0  0\\n    4.3661   -2.5587    0.0000 N   0  0  0  0  0  0  0  0  0  0  0  0\\n    5.0797   -2.1438    0.0000 C   0  0  0  0  0  0  0  0  0  0  0  0\\n    5.7943   -2.5532    0.0000 C   0  0  0  0  0  0  0  0  0  0  0  0\\n    6.5075   -2.1392    0.0000 C   0  0  0  0  0  0  0  0  0  0  0  0\\n    6.5031   -1.3121    0.0000 C   0  0  0  0  0  0  0  0  0  0  0  0\\n    5.7796   -0.9011    0.0000 C   0  0  0  0  0  0  0  0  0  0  0  0\\n    5.0693   -1.3223    0.0000 C   0  0  0  0  0  0  0  0  0  0  0  0\\n    7.2162   -0.8915    0.0000 O   0  0  0  0  0  0  0  0  0  0  0  0\\n    7.9354   -1.3019    0.0000 C   0  0  0  0  0  0  0  0  0  0  0  0\\n    8.6436   -0.8813    0.0000 C   0  0  0  0  0  0  0  0  0  0  0  0\\n    5.7719   -0.0749    0.0000 Cl  0  0  0  0  0  0  0  0  0  0  0  0\\n    9.3606   -1.2940    0.0000 C   0  0  0  0  0  0  0  0  0  0  0  0\\n   10.0731   -0.8742    0.0000 C   0  0  0  0  0  0  0  0  0  0  0  0\\n   10.0677   -0.0472    0.0000 C   0  0  0  0  0  0  0  0  0  0  0  0\\n    9.3437    0.3582    0.0000 C   0  0  0  0  0  0  0  0  0  0  0  0\\n    8.6340   -0.0593    0.0000 C   0  0  0  0  0  0  0  0  0  0  0  0\\n   10.7920   -1.2849    0.0000 F   0  0  0  0  0  0  0  0  0  0  0  0\\n   -0.5410   -3.7974    0.0000 C   0  0  0  0  0  0  0  0  0  0  0  0\\n   -1.2518   -3.3728    0.0000 N   0  0  0  0  0  0  0  0  0  0  0  0\\n   -1.9684   -3.7790    0.0000 C   0  0  0  0  0  0  0  0  0  0  0  0\\n   -2.6792   -3.3544    0.0000 C   0  0  0  0  0  0  0  0  0  0  0  0\\n   -3.4005   -3.7605    0.0000 S   0  0  0  0  0  0  0  0  0  0  0  0\\n   -4.1113   -3.3359    0.0000 C   0  0  0  0  0  0  0  0  0  0  0  0\\n   -2.9954   -4.4689    0.0000 O   0  0  0  0  0  0  0  0  0  0  0  0\\n   -3.8215   -4.4689    0.0000 O   0  0  0  0  0  0  0  0  0  0  0  0\\n 16 17  1  0\\n 37 39  2  0\\n 37 40  2  0\\n 17 18  2  0\\n  7  8  1  0\\n 18 19  1  0\\n  8 11  2  0\\n 19 20  2  0\\n 20 21  1  0\\n 10  9  2  0\\n 21 22  2  0\\n 22 17  1  0\\n  9  6  1  0\\n 20 23  1  0\\n  1  2  1  0\\n 23 24  1  0\\n  2  3  2  0\\n 24 25  1  0\\n 10 11  1  0\\n 21 26  1  0\\n  3  4  1  0\\n 25 27  2  0\\n 11 12  1  0\\n 27 28  1  0\\n  4  5  1  0\\n 28 29  2  0\\n 12 13  2  0\\n 29 30  1  0\\n  5  1  2  0\\n 30 31  2  0\\n 31 25  1  0\\n 13 14  1  0\\n 28 32  1  0\\n  6  5  1  0\\n  3 33  1  0\\n 14 15  2  0\\n 33 34  1  0\\n 15 10  1  0\\n 34 35  1  0\\n 35 36  1  0\\n 15 16  1  0\\n 36 37  1  0\\n  6  7  2  0\\n 37 38  1  0\\nM  END\\n\\n> <chembl_id>\\nCHEMBL554\\n\\n> <chembl_pref_name>\\nLAPATINIB\\n\\n',\n",
       "  'standard_inchi': 'InChI=1S/C29H26ClFN4O4S/c1-40(36,37)12-11-32-16-23-7-10-27(39-23)20-5-8-26-24(14-20)29(34-18-33-26)35-22-6-9-28(25(30)15-22)38-17-19-3-2-4-21(31)13-19/h2-10,13-15,18,32H,11-12,16-17H2,1H3,(H,33,34,35)',\n",
       "  'standard_inchi_key': 'BCFGMOOMADDAQU-UHFFFAOYSA-N'},\n",
       " 'molecule_synonyms': [{'molecule_synonym': 'GSK-572016',\n",
       "   'syn_type': 'RESEARCH_CODE',\n",
       "   'synonyms': 'GSK-572016'},\n",
       "  {'molecule_synonym': 'GW-2016',\n",
       "   'syn_type': 'RESEARCH_CODE',\n",
       "   'synonyms': 'GW-2016'},\n",
       "  {'molecule_synonym': 'GW572016',\n",
       "   'syn_type': 'RESEARCH_CODE',\n",
       "   'synonyms': 'GW572016'},\n",
       "  {'molecule_synonym': 'GW-572016',\n",
       "   'syn_type': 'RESEARCH_CODE',\n",
       "   'synonyms': 'GW-572016'},\n",
       "  {'molecule_synonym': 'GW-572016X',\n",
       "   'syn_type': 'RESEARCH_CODE',\n",
       "   'synonyms': 'GW-572016X'},\n",
       "  {'molecule_synonym': 'Lapatinib',\n",
       "   'syn_type': 'FDA',\n",
       "   'synonyms': 'Lapatinib'},\n",
       "  {'molecule_synonym': 'Lapatinib',\n",
       "   'syn_type': 'ATC',\n",
       "   'synonyms': 'LAPATINIB'},\n",
       "  {'molecule_synonym': 'Lapatinib',\n",
       "   'syn_type': 'BNF',\n",
       "   'synonyms': 'LAPATINIB'},\n",
       "  {'molecule_synonym': 'Lapatinib',\n",
       "   'syn_type': 'INN',\n",
       "   'synonyms': 'LAPATINIB'},\n",
       "  {'molecule_synonym': 'Lapatinib',\n",
       "   'syn_type': 'MERCK_INDEX',\n",
       "   'synonyms': 'LAPATINIB'},\n",
       "  {'molecule_synonym': 'Lapatinib',\n",
       "   'syn_type': 'OTHER',\n",
       "   'synonyms': 'LAPATINIB'},\n",
       "  {'molecule_synonym': 'Tyverb',\n",
       "   'syn_type': 'TRADE_NAME',\n",
       "   'synonyms': 'TYVERB'}],\n",
       " 'molecule_type': 'Small molecule',\n",
       " 'natural_product': 0,\n",
       " 'oral': True,\n",
       " 'parenteral': False,\n",
       " 'polymer_flag': False,\n",
       " 'pref_name': 'LAPATINIB',\n",
       " 'prodrug': 0,\n",
       " 'structure_type': 'MOL',\n",
       " 'therapeutic_flag': True,\n",
       " 'topical': False,\n",
       " 'usan_stem': '-tinib',\n",
       " 'usan_stem_definition': 'tyrosine kinase inhibitors',\n",
       " 'usan_substem': '-tinib',\n",
       " 'usan_year': 2003,\n",
       " 'withdrawn_class': None,\n",
       " 'withdrawn_country': None,\n",
       " 'withdrawn_flag': False,\n",
       " 'withdrawn_reason': None,\n",
       " 'withdrawn_year': None}"
      ]
     },
     "execution_count": 23,
     "metadata": {},
     "output_type": "execute_result"
    }
   ],
   "source": [
    "# Canonoical SMILES for Lapatinib\n",
    "canonical_smiles = \"CS(=O)(=O)CCNCc1ccc(-c2ccc3ncnc(Nc4ccc(OCc5cccc(F)c5)c(Cl)c4)c3c2)o1\"\n",
    "\n",
    "# getting molecule via client\n",
    "molecule.set_format('json')\n",
    "record_via_client = molecule.get(canonical_smiles)\n",
    "record_via_client"
   ]
  },
  {
   "cell_type": "markdown",
   "metadata": {},
   "source": [
    "## Batch queries¶/"
   ]
  },
  {
   "cell_type": "code",
   "execution_count": 25,
   "metadata": {},
   "outputs": [
    {
     "data": {
      "text/plain": [
       "True"
      ]
     },
     "execution_count": 25,
     "metadata": {},
     "output_type": "execute_result"
    }
   ],
   "source": [
    "records1 = molecule.get(['CHEMBL6498', 'CHEMBL6499', 'CHEMBL6505'])\n",
    "records2 = molecule.get(['XSQLHVPPXBBUPP-UHFFFAOYSA-N', 'JXHVRXRRSSBGPY-UHFFFAOYSA-N', 'TUHYVXGNMOGVMR-GASGPIRDSA-N'])\n",
    "records3 = molecule.get(['CNC(=O)c1ccc(cc1)N(CC#C)Cc2ccc3nc(C)nc(O)c3c2',\n",
    "            'Cc1cc2SC(C)(C)CC(C)(C)c2cc1\\\\N=C(/S)\\\\Nc3ccc(cc3)S(=O)(=O)N',\n",
    "            'CC(C)C[C@H](NC(=O)[C@@H](NC(=O)[C@H](Cc1c[nH]c2ccccc12)NC(=O)[C@H]3CCCN3C(=O)C(CCCCN)CCCCN)C(C)(C)C)C(=O)O'])\n",
    "records1 == records2"
   ]
  },
  {
   "cell_type": "code",
   "execution_count": 26,
   "metadata": {},
   "outputs": [
    {
     "data": {
      "text/plain": [
       "170"
      ]
     },
     "execution_count": 26,
     "metadata": {},
     "output_type": "execute_result"
    }
   ],
   "source": [
    "# Generate a list of 300 ChEMBL IDs (N.B. not all will be valid)...\n",
    "chembl_ids = ['CHEMBL{}'.format(x) for x in range(1, 301)]\n",
    "\n",
    "# Get compound records, note `molecule_chembl_id` named parameter.\n",
    "# Named parameters should always be used for longer lists\n",
    "records = molecule.get(molecule_chembl_id=chembl_ids)\n",
    "len(records)"
   ]
  },
  {
   "cell_type": "markdown",
   "metadata": {},
   "source": [
    "## Filtering"
   ]
  },
  {
   "cell_type": "code",
   "execution_count": 27,
   "metadata": {},
   "outputs": [],
   "source": [
    "\n",
    "# 1. Get all approved drugs\n",
    "approved_drugs = molecule.filter(max_phase=4)\n",
    "\n",
    "# 2. Get all molecules in ChEMBL with no Rule-of-Five violations\n",
    "no_violations = molecule.filter(molecule_properties__num_ro5_violations=0)\n",
    "\n",
    "# 3. Get all biotherapeutic molecules\n",
    "biotherapeutics = molecule.filter(biotherapeutic__isnull=False)\n",
    "\n",
    "# 4. Return molecules with molecular weight <= 300\n",
    "light_molecules = molecule.filter(molecule_properties__mw_freebase__lte=300)\n",
    "\n",
    "# 5. Return molecules with molecular weight <= 300 AND pref_name ends with nib\n",
    "light_nib_molecules = molecule.filter(molecule_properties__mw_freebase__lte=300).filter(pref_name__iendswith=\"nib\")"
   ]
  },
  {
   "cell_type": "code",
   "execution_count": 28,
   "metadata": {
    "scrolled": false
   },
   "outputs": [
    {
     "name": "stdout",
     "output_type": "stream",
     "text": [
      "3944\n",
      "{'atc_classifications': ['A02BC03', 'A02BC53'], 'availability_type': 2, 'biotherapeutic': None, 'black_box_warning': 1, 'chebi_par_id': 6375, 'chirality': 0, 'cross_references': [{'xref_id': 'lansoprazole', 'xref_name': 'lansoprazole', 'xref_src': 'DailyMed'}, {'xref_id': '11111389', 'xref_name': 'SID: 11111389', 'xref_src': 'PubChem'}, {'xref_id': '11111390', 'xref_name': 'SID: 11111390', 'xref_src': 'PubChem'}, {'xref_id': '124880589', 'xref_name': 'SID: 124880589', 'xref_src': 'PubChem'}, {'xref_id': '124880592', 'xref_name': 'SID: 124880592', 'xref_src': 'PubChem'}, {'xref_id': '144203735', 'xref_name': 'SID: 144203735', 'xref_src': 'PubChem'}, {'xref_id': '144211340', 'xref_name': 'SID: 144211340', 'xref_src': 'PubChem'}, {'xref_id': '170464649', 'xref_name': 'SID: 170464649', 'xref_src': 'PubChem'}, {'xref_id': '174007196', 'xref_name': 'SID: 174007196', 'xref_src': 'PubChem'}, {'xref_id': '26719660', 'xref_name': 'SID: 26719660', 'xref_src': 'PubChem'}, {'xref_id': '26747053', 'xref_name': 'SID: 26747053', 'xref_src': 'PubChem'}, {'xref_id': '50104195', 'xref_name': 'SID: 50104195', 'xref_src': 'PubChem'}, {'xref_id': '50104197', 'xref_name': 'SID: 50104197', 'xref_src': 'PubChem'}, {'xref_id': '56422192', 'xref_name': 'SID: 56422192', 'xref_src': 'PubChem'}, {'xref_id': '57287635', 'xref_name': 'SID: 57287635', 'xref_src': 'PubChem'}, {'xref_id': '85231117', 'xref_name': 'SID: 85231117', 'xref_src': 'PubChem'}, {'xref_id': '855954', 'xref_name': 'SID: 855954', 'xref_src': 'PubChem'}, {'xref_id': '90341606', 'xref_name': 'SID: 90341606', 'xref_src': 'PubChem'}, {'xref_id': 'Lansoprazole', 'xref_name': None, 'xref_src': 'Wikipedia'}], 'dosed_ingredient': True, 'first_approval': 1995, 'first_in_class': 0, 'helm_notation': None, 'indication_class': 'Anti-Ulcerative', 'inorganic_flag': 0, 'max_phase': 4, 'molecule_chembl_id': 'CHEMBL480', 'molecule_hierarchy': {'molecule_chembl_id': 'CHEMBL480', 'parent_chembl_id': 'CHEMBL480'}, 'molecule_properties': {'alogp': '3.52', 'aromatic_rings': 3, 'cx_logd': '3.03', 'cx_logp': '3.03', 'cx_most_apka': '9.35', 'cx_most_bpka': '4.16', 'full_molformula': 'C16H14F3N3O2S', 'full_mwt': '369.37', 'hba': 4, 'hba_lipinski': 5, 'hbd': 1, 'hbd_lipinski': 1, 'heavy_atoms': 25, 'molecular_species': 'NEUTRAL', 'mw_freebase': '369.37', 'mw_monoisotopic': '369.0759', 'num_lipinski_ro5_violations': 0, 'num_ro5_violations': 0, 'psa': '67.87', 'qed_weighted': '0.75', 'ro3_pass': 'N', 'rtb': 5}, 'molecule_structures': {'canonical_smiles': 'Cc1c(OCC(F)(F)F)ccnc1C[S+]([O-])c1nc2ccccc2[nH]1', 'molfile': '\\n     RDKit          2D\\n\\n 25 27  0  0  0  0  0  0  0  0999 V2000\\n    7.6998   -4.3902    0.0000 C   0  0  0  0  0  0  0  0  0  0  0  0\\n    7.2876   -5.1122    0.0000 C   0  0  0  0  0  0  0  0  0  0  0  0\\n    6.4582   -5.1152    0.0000 C   0  0  0  0  0  0  0  0  0  0  0  0\\n    7.2852   -3.6749    0.0000 C   0  0  0  0  0  0  0  0  0  0  0  0\\n    6.4572   -3.6744    0.0000 C   0  0  0  0  0  0  0  0  0  0  0  0\\n    6.0420   -4.3988    0.0000 C   0  0  0  0  0  0  0  0  0  0  0  0\\n    5.2247   -4.2278    0.0000 N   0  0  0  0  0  0  0  0  0  0  0  0\\n    5.1348   -3.3976    0.0000 C   0  0  0  0  0  0  0  0  0  0  0  0\\n    5.8965   -3.0557    0.0000 N   0  0  0  0  0  0  0  0  0  0  0  0\\n    4.4157   -2.9854    0.0000 S   0  0  0  0  0  0  0  0  0  0  0  0\\n    3.6990   -3.4021    0.0000 C   0  0  0  0  0  0  0  0  0  0  0  0\\n    4.4130   -2.1565    0.0000 O   0  0  0  0  0  0  0  0  0  0  0  0\\n    2.9799   -2.9899    0.0000 C   0  0  0  0  0  0  0  0  0  0  0  0\\n    2.2646   -3.4103    0.0000 C   0  0  0  0  0  0  0  0  0  0  0  0\\n    1.5458   -2.9987    0.0000 C   0  0  0  0  0  0  0  0  0  0  0  0\\n    1.5429   -2.1690    0.0000 C   0  0  0  0  0  0  0  0  0  0  0  0\\n    2.2644   -1.7524    0.0000 C   0  0  0  0  0  0  0  0  0  0  0  0\\n    2.9801   -2.1664    0.0000 N   0  0  0  0  0  0  0  0  0  0  0  0\\n    2.2692   -4.2391    0.0000 C   0  0  0  0  0  0  0  0  0  0  0  0\\n    0.8295   -3.4158    0.0000 O   0  0  0  0  0  0  0  0  0  0  0  0\\n    0.1102   -3.0039    0.0000 C   0  0  0  0  0  0  0  0  0  0  0  0\\n   -0.6062   -3.4209    0.0000 C   0  0  0  0  0  0  0  0  0  0  0  0\\n   -1.3255   -3.0091    0.0000 F   0  0  0  0  0  0  0  0  0  0  0  0\\n   -0.6032   -4.2499    0.0000 F   0  0  0  0  0  0  0  0  0  0  0  0\\n   -1.3163   -3.8386    0.0000 F   0  0  0  0  0  0  0  0  0  0  0  0\\n 10 12  1  0\\n  2  3  1  0\\n 11 13  1  0\\n  3  6  2  0\\n 13 14  2  0\\n  1  2  2  0\\n 14 15  1  0\\n  5  4  2  0\\n 15 16  2  0\\n  6  7  1  0\\n 16 17  1  0\\n  7  8  1  0\\n 17 18  2  0\\n 18 13  1  0\\n  8  9  2  0\\n 14 19  1  0\\n  9  5  1  0\\n 15 20  1  0\\n  4  1  1  0\\n 20 21  1  0\\n  8 10  1  0\\n 21 22  1  0\\n  5  6  1  0\\n 22 23  1  0\\n 10 11  1  0\\n 22 24  1  0\\n 22 25  1  0\\nM  CHG  2  10   1  12  -1\\nM  END\\n\\n> <chembl_id>\\nCHEMBL480\\n\\n> <chembl_pref_name>\\nLANSOPRAZOLE\\n\\n', 'standard_inchi': 'InChI=1S/C16H14F3N3O2S/c1-10-13(20-7-6-14(10)24-9-16(17,18)19)8-25(23)15-21-11-4-2-3-5-12(11)22-15/h2-7H,8-9H2,1H3,(H,21,22)', 'standard_inchi_key': 'MJIHNNLFOKEZEW-UHFFFAOYSA-N'}, 'molecule_synonyms': [{'molecule_synonym': 'A-65006', 'syn_type': 'RESEARCH_CODE', 'synonyms': 'A-65006'}, {'molecule_synonym': 'AG-1749', 'syn_type': 'RESEARCH_CODE', 'synonyms': 'AG-1749'}, {'molecule_synonym': 'Lansoprazole', 'syn_type': 'ATC', 'synonyms': 'LANSOPRAZOLE'}, {'molecule_synonym': 'Lansoprazole', 'syn_type': 'BAN', 'synonyms': 'LANSOPRAZOLE'}, {'molecule_synonym': 'Lansoprazole', 'syn_type': 'BNF', 'synonyms': 'LANSOPRAZOLE'}, {'molecule_synonym': 'Lansoprazole', 'syn_type': 'FDA', 'synonyms': 'LANSOPRAZOLE'}, {'molecule_synonym': 'Lansoprazole', 'syn_type': 'INN', 'synonyms': 'LANSOPRAZOLE'}, {'molecule_synonym': 'Lansoprazole', 'syn_type': 'JAN', 'synonyms': 'LANSOPRAZOLE'}, {'molecule_synonym': 'Lansoprazole', 'syn_type': 'MERCK_INDEX', 'synonyms': 'LANSOPRAZOLE'}, {'molecule_synonym': 'Lansoprazole', 'syn_type': 'OTHER', 'synonyms': 'LANSOPRAZOLE'}, {'molecule_synonym': 'Lansoprazole', 'syn_type': 'TRADE_NAME', 'synonyms': 'LANSOPRAZOLE'}, {'molecule_synonym': 'Lansoprazole', 'syn_type': 'USAN', 'synonyms': 'LANSOPRAZOLE'}, {'molecule_synonym': 'Lansoprazole', 'syn_type': 'USP', 'synonyms': 'LANSOPRAZOLE'}, {'molecule_synonym': 'Opiren', 'syn_type': 'TRADE_NAME', 'synonyms': 'OPIREN'}, {'molecule_synonym': 'Prevacid', 'syn_type': 'TRADE_NAME', 'synonyms': 'PREVACID'}, {'molecule_synonym': 'Prevacid 24hr', 'syn_type': 'TRADE_NAME', 'synonyms': 'PREVACID 24 HR'}, {'molecule_synonym': 'Prevacid Delayed Release', 'syn_type': 'TRADE_NAME', 'synonyms': 'Prevacid Delayed Release'}, {'molecule_synonym': 'Prevacid iv', 'syn_type': 'TRADE_NAME', 'synonyms': 'PREVACID IV'}, {'molecule_synonym': 'Prevacid Solutab', 'syn_type': 'TRADE_NAME', 'synonyms': 'Prevacid SoluTab'}, {'molecule_synonym': 'Zoton', 'syn_type': 'TRADE_NAME', 'synonyms': 'ZOTON'}], 'molecule_type': 'Small molecule', 'natural_product': 0, 'oral': True, 'parenteral': True, 'polymer_flag': False, 'pref_name': 'LANSOPRAZOLE', 'prodrug': 0, 'structure_type': 'MOL', 'therapeutic_flag': True, 'topical': False, 'usan_stem': '-prazole', 'usan_stem_definition': 'antiulcer agents (benzimidazole derivatives)', 'usan_substem': '-prazole', 'usan_year': 1989, 'withdrawn_class': None, 'withdrawn_country': None, 'withdrawn_flag': False, 'withdrawn_reason': None, 'withdrawn_year': None}\n",
      "[{'atc_classifications': ['C02CA01'], 'availability_type': 1, 'biotherapeutic': None, 'black_box_warning': 0, 'chebi_par_id': 8364, 'chirality': 2, 'cross_references': [{'xref_id': 'prazosin%20hydrochloride', 'xref_name': 'prazosin hydrochloride', 'xref_src': 'DailyMed'}, {'xref_id': '11112649', 'xref_name': 'SID: 11112649', 'xref_src': 'PubChem'}, {'xref_id': '11112650', 'xref_name': 'SID: 11112650', 'xref_src': 'PubChem'}, {'xref_id': '11113367', 'xref_name': 'SID: 11113367', 'xref_src': 'PubChem'}, {'xref_id': '124882482', 'xref_name': 'SID: 124882482', 'xref_src': 'PubChem'}, {'xref_id': '124882484', 'xref_name': 'SID: 124882484', 'xref_src': 'PubChem'}, {'xref_id': '124882486', 'xref_name': 'SID: 124882486', 'xref_src': 'PubChem'}, {'xref_id': '124882487', 'xref_name': 'SID: 124882487', 'xref_src': 'PubChem'}, {'xref_id': '144207195', 'xref_name': 'SID: 144207195', 'xref_src': 'PubChem'}, {'xref_id': '170465415', 'xref_name': 'SID: 170465415', 'xref_src': 'PubChem'}, {'xref_id': '26751613', 'xref_name': 'SID: 26751613', 'xref_src': 'PubChem'}, {'xref_id': '26751614', 'xref_name': 'SID: 26751614', 'xref_src': 'PubChem'}, {'xref_id': '50100502', 'xref_name': 'SID: 50100502', 'xref_src': 'PubChem'}, {'xref_id': '50104272', 'xref_name': 'SID: 50104272', 'xref_src': 'PubChem'}, {'xref_id': '50104273', 'xref_name': 'SID: 50104273', 'xref_src': 'PubChem'}, {'xref_id': '50104274', 'xref_name': 'SID: 50104274', 'xref_src': 'PubChem'}, {'xref_id': '50104275', 'xref_name': 'SID: 50104275', 'xref_src': 'PubChem'}, {'xref_id': '90340959', 'xref_name': 'SID: 90340959', 'xref_src': 'PubChem'}, {'xref_id': 'Prazosin', 'xref_name': None, 'xref_src': 'Wikipedia'}], 'dosed_ingredient': False, 'first_approval': 1976, 'first_in_class': 0, 'helm_notation': None, 'indication_class': 'Antihypertensive', 'inorganic_flag': 0, 'max_phase': 4, 'molecule_chembl_id': 'CHEMBL2', 'molecule_hierarchy': {'molecule_chembl_id': 'CHEMBL2', 'parent_chembl_id': 'CHEMBL2'}, 'molecule_properties': {'alogp': '1.78', 'aromatic_rings': 3, 'cx_logd': '1.43', 'cx_logp': '1.65', 'cx_most_apka': None, 'cx_most_bpka': '7.24', 'full_molformula': 'C19H21N5O4', 'full_mwt': '383.41', 'hba': 8, 'hba_lipinski': 9, 'hbd': 1, 'hbd_lipinski': 2, 'heavy_atoms': 28, 'molecular_species': 'NEUTRAL', 'mw_freebase': '383.41', 'mw_monoisotopic': '383.1594', 'num_lipinski_ro5_violations': 0, 'num_ro5_violations': 0, 'psa': '106.95', 'qed_weighted': '0.73', 'ro3_pass': 'N', 'rtb': 4}, 'molecule_structures': {'canonical_smiles': 'COc1cc2nc(N3CCN(C(=O)c4ccco4)CC3)nc(N)c2cc1OC', 'molfile': '\\n     RDKit          2D\\n\\n 28 31  0  0  0  0  0  0  0  0999 V2000\\n    0.9375   -1.9792    0.0000 C   0  0  0  0  0  0  0  0  0  0  0  0\\n    0.9292   -2.6917    0.0000 N   0  0  0  0  0  0  0  0  0  0  0  0\\n   -0.3208   -2.6750    0.0000 C   0  0  0  0  0  0  0  0  0  0  0  0\\n    0.2875   -3.0417    0.0000 C   0  0  0  0  0  0  0  0  0  0  0  0\\n    0.3042   -1.6167    0.0000 N   0  0  0  0  0  0  0  0  0  0  0  0\\n   -0.3208   -1.9625    0.0000 C   0  0  0  0  0  0  0  0  0  0  0  0\\n    3.3917   -0.5917    0.0000 C   0  0  0  0  0  0  0  0  0  0  0  0\\n    1.5542   -1.6417    0.0000 N   0  0  0  0  0  0  0  0  0  0  0  0\\n    2.7792   -0.9542    0.0000 N   0  0  0  0  0  0  0  0  0  0  0  0\\n   -0.9500   -3.0167    0.0000 C   0  0  0  0  0  0  0  0  0  0  0  0\\n    4.0125   -0.9292    0.0000 C   0  0  0  0  0  0  0  0  0  0  0  0\\n   -0.9250   -1.5917    0.0000 C   0  0  0  0  0  0  0  0  0  0  0  0\\n   -1.5833   -2.6542    0.0000 C   0  0  0  0  0  0  0  0  0  0  0  0\\n   -1.5708   -1.9417    0.0000 C   0  0  0  0  0  0  0  0  0  0  0  0\\n    4.2417   -1.5917    0.0000 O   0  0  0  0  0  0  0  0  0  0  0  0\\n    1.5417   -0.9500    0.0000 C   0  0  0  0  0  0  0  0  0  0  0  0\\n    2.1667   -2.0000    0.0000 C   0  0  0  0  0  0  0  0  0  0  0  0\\n    2.1667   -0.5792    0.0000 C   0  0  0  0  0  0  0  0  0  0  0  0\\n    2.7792   -1.6375    0.0000 C   0  0  0  0  0  0  0  0  0  0  0  0\\n    3.4042    0.0875    0.0000 O   0  0  0  0  0  0  0  0  0  0  0  0\\n    4.5792   -0.5125    0.0000 C   0  0  0  0  0  0  0  0  0  0  0  0\\n    4.9417   -1.5917    0.0000 C   0  0  0  0  0  0  0  0  0  0  0  0\\n    5.1542   -0.9292    0.0000 C   0  0  0  0  0  0  0  0  0  0  0  0\\n    0.2667   -3.7542    0.0000 N   0  0  0  0  0  0  0  0  0  0  0  0\\n   -2.2000   -2.9917    0.0000 O   0  0  0  0  0  0  0  0  0  0  0  0\\n   -2.1833   -1.5792    0.0000 O   0  0  0  0  0  0  0  0  0  0  0  0\\n   -2.7958   -1.9125    0.0000 C   0  0  0  0  0  0  0  0  0  0  0  0\\n   -2.7958   -2.6542    0.0000 C   0  0  0  0  0  0  0  0  0  0  0  0\\n  2  1  2  0\\n  3  6  1  0\\n  4  2  1  0\\n  5  1  1  0\\n  6  5  2  0\\n  7  9  1  0\\n  8  1  1  0\\n  9 19  1  0\\n 10  3  1  0\\n 11  7  1  0\\n 12  6  1  0\\n 13 14  1  0\\n 14 12  2  0\\n 15 11  1  0\\n 16  8  1  0\\n 17  8  1  0\\n 18 16  1  0\\n 19 17  1  0\\n 20  7  2  0\\n 21 11  2  0\\n 22 15  1  0\\n 23 21  1  0\\n 24  4  1  0\\n 25 13  1  0\\n 26 14  1  0\\n 27 26  1  0\\n 28 25  1  0\\n  3  4  2  0\\n  9 18  1  0\\n 10 13  2  0\\n 22 23  2  0\\nM  END\\n\\n> <chembl_id>\\nCHEMBL2\\n\\n> <chembl_pref_name>\\nPRAZOSIN\\n\\n', 'standard_inchi': 'InChI=1S/C19H21N5O4/c1-26-15-10-12-13(11-16(15)27-2)21-19(22-17(12)20)24-7-5-23(6-8-24)18(25)14-4-3-9-28-14/h3-4,9-11H,5-8H2,1-2H3,(H2,20,21,22)', 'standard_inchi_key': 'IENZQIKPVFGBNW-UHFFFAOYSA-N'}, 'molecule_synonyms': [{'molecule_synonym': 'CP-12299', 'syn_type': 'RESEARCH_CODE', 'synonyms': 'CP-12299'}, {'molecule_synonym': 'CP-122991', 'syn_type': 'RESEARCH_CODE', 'synonyms': 'CP-122991'}, {'molecule_synonym': 'Prazosin', 'syn_type': 'FDA', 'synonyms': 'Prazosin'}, {'molecule_synonym': 'Prazosin', 'syn_type': 'ATC', 'synonyms': 'PRAZOSIN'}, {'molecule_synonym': 'Prazosin', 'syn_type': 'BAN', 'synonyms': 'PRAZOSIN'}, {'molecule_synonym': 'Prazosin', 'syn_type': 'INN', 'synonyms': 'PRAZOSIN'}, {'molecule_synonym': 'Prazosin', 'syn_type': 'MERCK_INDEX', 'synonyms': 'PRAZOSIN'}, {'molecule_synonym': 'Prazosin', 'syn_type': 'OTHER', 'synonyms': 'PRAZOSIN'}], 'molecule_type': 'Small molecule', 'natural_product': 0, 'oral': True, 'parenteral': False, 'polymer_flag': False, 'pref_name': 'PRAZOSIN', 'prodrug': 0, 'structure_type': 'MOL', 'therapeutic_flag': True, 'topical': False, 'usan_stem': '-azosin', 'usan_stem_definition': 'antihypertensives (prazosin type)', 'usan_substem': '-azosin', 'usan_year': 1968, 'withdrawn_class': None, 'withdrawn_country': None, 'withdrawn_flag': False, 'withdrawn_reason': None, 'withdrawn_year': None}, {'atc_classifications': ['N07BA01'], 'availability_type': 2, 'biotherapeutic': None, 'black_box_warning': 0, 'chebi_par_id': 17688, 'chirality': 1, 'cross_references': [{'xref_id': 'nicotine', 'xref_name': 'nicotine', 'xref_src': 'DailyMed'}, {'xref_id': '144209012', 'xref_name': 'SID: 144209012', 'xref_src': 'PubChem'}, {'xref_id': '144210494', 'xref_name': 'SID: 144210494', 'xref_src': 'PubChem'}, {'xref_id': '17389805', 'xref_name': 'SID: 17389805', 'xref_src': 'PubChem'}, {'xref_id': '26752744', 'xref_name': 'SID: 26752744', 'xref_src': 'PubChem'}, {'xref_id': '26752745', 'xref_name': 'SID: 26752745', 'xref_src': 'PubChem'}, {'xref_id': '26752746', 'xref_name': 'SID: 26752746', 'xref_src': 'PubChem'}, {'xref_id': '50105392', 'xref_name': 'SID: 50105392', 'xref_src': 'PubChem'}, {'xref_id': '50105393', 'xref_name': 'SID: 50105393', 'xref_src': 'PubChem'}, {'xref_id': '56314824', 'xref_name': 'SID: 56314824', 'xref_src': 'PubChem'}, {'xref_id': '90341453', 'xref_name': 'SID: 90341453', 'xref_src': 'PubChem'}, {'xref_id': 'Nicotine', 'xref_name': None, 'xref_src': 'Wikipedia'}], 'dosed_ingredient': True, 'first_approval': 1984, 'first_in_class': 0, 'helm_notation': None, 'indication_class': 'Smoking Cessation Adjunct', 'inorganic_flag': 0, 'max_phase': 4, 'molecule_chembl_id': 'CHEMBL3', 'molecule_hierarchy': {'molecule_chembl_id': 'CHEMBL3', 'parent_chembl_id': 'CHEMBL3'}, 'molecule_properties': {'alogp': '1.85', 'aromatic_rings': 1, 'cx_logd': '-0.04', 'cx_logp': '1.16', 'cx_most_apka': None, 'cx_most_bpka': '8.58', 'full_molformula': 'C10H14N2', 'full_mwt': '162.24', 'hba': 2, 'hba_lipinski': 2, 'hbd': 0, 'hbd_lipinski': 0, 'heavy_atoms': 12, 'molecular_species': 'BASE', 'mw_freebase': '162.24', 'mw_monoisotopic': '162.1157', 'num_lipinski_ro5_violations': 0, 'num_ro5_violations': 0, 'psa': '16.13', 'qed_weighted': '0.63', 'ro3_pass': 'Y', 'rtb': 1}, 'molecule_structures': {'canonical_smiles': 'CN1CCC[C@H]1c1cccnc1', 'molfile': '\\n     RDKit          2D\\n\\n 12 13  0  0  1  0  0  0  0  0999 V2000\\n    4.1955    0.2934    0.0000 C   0  0  0  0  0  0  0  0  0  0  0  0\\n    3.9511   -0.8815    0.0000 N   0  0  0  0  0  0  0  0  0  0  0  0\\n    4.9531   -1.9978    0.0000 C   0  0  0  0  0  0  0  0  0  0  0  0\\n    4.2010   -3.2956    0.0000 C   0  0  0  0  0  0  0  0  0  0  0  0\\n    2.7343   -2.9815    0.0000 C   0  0  0  0  0  0  0  0  0  0  0  0\\n    2.5987   -1.5004    0.0000 C   0  0  0  0  0  0  0  0  0  0  0  0\\n    1.2990   -0.7500    0.0000 C   0  0  0  0  0  0  0  0  0  0  0  0\\n    1.2990    0.7500    0.0000 C   0  0  0  0  0  0  0  0  0  0  0  0\\n    0.0000    1.5000    0.0000 C   0  0  0  0  0  0  0  0  0  0  0  0\\n   -1.2990    0.7500    0.0000 C   0  0  0  0  0  0  0  0  0  0  0  0\\n   -1.2990   -0.7500    0.0000 N   0  0  0  0  0  0  0  0  0  0  0  0\\n    0.0000   -1.5000    0.0000 C   0  0  0  0  0  0  0  0  0  0  0  0\\n  1  2  1  0\\n  2  3  1  0\\n  3  4  1  0\\n  4  5  1  0\\n  5  6  1  0\\n  6  2  1  0\\n  6  7  1  1\\n  7  8  2  0\\n  8  9  1  0\\n  9 10  2  0\\n 10 11  1  0\\n 11 12  2  0\\n 12  7  1  0\\nM  END\\n\\n> <chembl_id>\\nCHEMBL3\\n\\n> <chembl_pref_name>\\nNICOTINE\\n\\n', 'standard_inchi': 'InChI=1S/C10H14N2/c1-12-7-3-5-10(12)9-4-2-6-11-8-9/h2,4,6,8,10H,3,5,7H2,1H3/t10-/m0/s1', 'standard_inchi_key': 'SNICXCGAKADSCV-JTQLQIEISA-N'}, 'molecule_synonyms': [{'molecule_synonym': 'Habitrol', 'syn_type': 'TRADE_NAME', 'synonyms': 'HABITROL'}, {'molecule_synonym': 'Nicabate', 'syn_type': 'TRADE_NAME', 'synonyms': 'NICABATE'}, {'molecule_synonym': 'Nicoderm', 'syn_type': 'TRADE_NAME', 'synonyms': 'NICODERM'}, {'molecule_synonym': 'Nicoderm CQ', 'syn_type': 'TRADE_NAME', 'synonyms': 'NICODERM CQ'}, {'molecule_synonym': 'Nicopass', 'syn_type': 'TRADE_NAME', 'synonyms': 'NICOPASS'}, {'molecule_synonym': 'Nicopatch', 'syn_type': 'TRADE_NAME', 'synonyms': 'NICOPATCH'}, {'molecule_synonym': 'Nicorette Invisi', 'syn_type': 'TRADE_NAME', 'synonyms': 'NICORETTE INVISI'}, {'molecule_synonym': 'Nicotine', 'syn_type': 'USAN', 'synonyms': 'Nicotine'}, {'molecule_synonym': 'Nicotine', 'syn_type': 'ATC', 'synonyms': 'NICOTINE'}, {'molecule_synonym': 'Nicotine', 'syn_type': 'BNF', 'synonyms': 'NICOTINE'}, {'molecule_synonym': 'Nicotine', 'syn_type': 'FDA', 'synonyms': 'NICOTINE'}, {'molecule_synonym': 'Nicotine', 'syn_type': 'MERCK_INDEX', 'synonyms': 'NICOTINE'}, {'molecule_synonym': 'Nicotine', 'syn_type': 'TRADE_NAME', 'synonyms': 'NICOTINE'}, {'molecule_synonym': 'Nicotine', 'syn_type': 'USP', 'synonyms': 'NICOTINE'}, {'molecule_synonym': 'Nicotinell Classic', 'syn_type': 'TRADE_NAME', 'synonyms': 'NICOTINELL CLASSIC'}, {'molecule_synonym': 'Nicotinell Support', 'syn_type': 'TRADE_NAME', 'synonyms': 'NICOTINELL SUPPORT'}, {'molecule_synonym': 'Nicotinell TTS 10', 'syn_type': 'TRADE_NAME', 'synonyms': 'NICOTINELL TTS 10'}, {'molecule_synonym': 'Nicotinell TTS 20', 'syn_type': 'TRADE_NAME', 'synonyms': 'NICOTINELL TTS 20'}, {'molecule_synonym': 'Nicotinell TTS 30', 'syn_type': 'TRADE_NAME', 'synonyms': 'NICOTINELL TTS 30'}, {'molecule_synonym': 'Nicotrol', 'syn_type': 'TRADE_NAME', 'synonyms': 'NICOTROL'}, {'molecule_synonym': 'Nicotrol Inhaler', 'syn_type': 'TRADE_NAME', 'synonyms': 'Nicotrol Inhaler'}, {'molecule_synonym': 'Nicotrol NS', 'syn_type': 'TRADE_NAME', 'synonyms': 'Nicotrol NS'}, {'molecule_synonym': 'Niquitin', 'syn_type': 'TRADE_NAME', 'synonyms': 'NIQUITIN'}, {'molecule_synonym': 'NiQuitin Clr', 'syn_type': 'TRADE_NAME', 'synonyms': 'NIQUITIN CLR'}, {'molecule_synonym': 'NiQuitin Minis Cherry', 'syn_type': 'TRADE_NAME', 'synonyms': 'NIQUITIN MINIS CHERRY'}, {'molecule_synonym': 'NiQuitin Minis Mint', 'syn_type': 'TRADE_NAME', 'synonyms': 'NIQUITIN MINIS MINT'}, {'molecule_synonym': 'NiQuitin Minis Orange', 'syn_type': 'TRADE_NAME', 'synonyms': 'NIQUITIN MINIS ORANGE'}, {'molecule_synonym': 'NiQuitin Mint', 'syn_type': 'TRADE_NAME', 'synonyms': 'NIQUITIN MINT'}, {'molecule_synonym': 'NiQuitin Pre-Quit', 'syn_type': 'TRADE_NAME', 'synonyms': 'NIQUITIN PRE-QUIT'}, {'molecule_synonym': 'NiQuitin Strips Mint', 'syn_type': 'TRADE_NAME', 'synonyms': 'NIQUITIN STRIPS MINT'}, {'molecule_synonym': 'Prostep', 'syn_type': 'TRADE_NAME', 'synonyms': 'PROSTEP'}, {'molecule_synonym': 'Stoppers', 'syn_type': 'TRADE_NAME', 'synonyms': 'STOPPERS'}, {'molecule_synonym': 'Stubit', 'syn_type': 'TRADE_NAME', 'synonyms': 'STUBIT'}], 'molecule_type': 'Small molecule', 'natural_product': 0, 'oral': True, 'parenteral': False, 'polymer_flag': False, 'pref_name': 'NICOTINE', 'prodrug': 0, 'structure_type': 'MOL', 'therapeutic_flag': True, 'topical': True, 'usan_stem': None, 'usan_stem_definition': None, 'usan_substem': None, 'usan_year': 1985, 'withdrawn_class': None, 'withdrawn_country': None, 'withdrawn_flag': False, 'withdrawn_reason': None, 'withdrawn_year': None}, {'atc_classifications': ['J01MA01', 'S01AE01', 'S02AA16'], 'availability_type': 1, 'biotherapeutic': None, 'black_box_warning': 1, 'chebi_par_id': 7731, 'chirality': 0, 'cross_references': [{'xref_id': 'ofloxacin', 'xref_name': 'ofloxacin', 'xref_src': 'DailyMed'}, {'xref_id': '11533038', 'xref_name': 'SID: 11533038', 'xref_src': 'PubChem'}, {'xref_id': '124880995', 'xref_name': 'SID: 124880995', 'xref_src': 'PubChem'}, {'xref_id': '124880996', 'xref_name': 'SID: 124880996', 'xref_src': 'PubChem'}, {'xref_id': '144204254', 'xref_name': 'SID: 144204254', 'xref_src': 'PubChem'}, {'xref_id': '170465035', 'xref_name': 'SID: 170465035', 'xref_src': 'PubChem'}, {'xref_id': '174006255', 'xref_name': 'SID: 174006255', 'xref_src': 'PubChem'}, {'xref_id': '174007433', 'xref_name': 'SID: 174007433', 'xref_src': 'PubChem'}, {'xref_id': '26747609', 'xref_name': 'SID: 26747609', 'xref_src': 'PubChem'}, {'xref_id': '26747610', 'xref_name': 'SID: 26747610', 'xref_src': 'PubChem'}, {'xref_id': '50106760', 'xref_name': 'SID: 50106760', 'xref_src': 'PubChem'}, {'xref_id': '56423109', 'xref_name': 'SID: 56423109', 'xref_src': 'PubChem'}, {'xref_id': '85231170', 'xref_name': 'SID: 85231170', 'xref_src': 'PubChem'}, {'xref_id': '90341488', 'xref_name': 'SID: 90341488', 'xref_src': 'PubChem'}, {'xref_id': 'Ofloxacin', 'xref_name': None, 'xref_src': 'Wikipedia'}], 'dosed_ingredient': True, 'first_approval': 1990, 'first_in_class': 0, 'helm_notation': None, 'indication_class': 'Antibacterial', 'inorganic_flag': 0, 'max_phase': 4, 'molecule_chembl_id': 'CHEMBL4', 'molecule_hierarchy': {'molecule_chembl_id': 'CHEMBL4', 'parent_chembl_id': 'CHEMBL4'}, 'molecule_properties': {'alogp': '1.54', 'aromatic_rings': 2, 'cx_logd': '-0.47', 'cx_logp': '0.51', 'cx_most_apka': '5.29', 'cx_most_bpka': '6.16', 'full_molformula': 'C18H20FN3O4', 'full_mwt': '361.37', 'hba': 6, 'hba_lipinski': 7, 'hbd': 1, 'hbd_lipinski': 1, 'heavy_atoms': 26, 'molecular_species': 'ACID', 'mw_freebase': '361.37', 'mw_monoisotopic': '361.1438', 'num_lipinski_ro5_violations': 0, 'num_ro5_violations': 0, 'psa': '75.01', 'qed_weighted': '0.87', 'ro3_pass': 'N', 'rtb': 2}, 'molecule_structures': {'canonical_smiles': 'CC1COc2c(N3CCN(C)CC3)c(F)cc3c(=O)c(C(=O)O)cn1c23', 'molfile': '\\n     RDKit          2D\\n\\n 26 29  0  0  0  0  0  0  0  0999 V2000\\n   -0.8793    0.0317    0.0000 C   0  0  0  0  0  0  0  0  0  0  0  0\\n   -0.8793    0.8567    0.0000 C   0  0  0  0  0  0  0  0  0  0  0  0\\n   -0.1649    1.2692    0.0000 C   0  0  0  0  0  0  0  0  0  0  0  0\\n    0.5496    0.8567    0.0000 C   0  0  0  0  0  0  0  0  0  0  0  0\\n    1.2641    1.2692    0.0000 C   0  0  0  0  0  0  0  0  0  0  0  0\\n    1.9785    0.8567    0.0000 C   0  0  0  0  0  0  0  0  0  0  0  0\\n    1.9785    0.0317    0.0000 C   0  0  0  0  0  0  0  0  0  0  0  0\\n   -0.1649   -0.3808    0.0000 C   0  0  0  0  0  0  0  0  0  0  0  0\\n    0.5496    0.0317    0.0000 C   0  0  0  0  0  0  0  0  0  0  0  0\\n    1.2641   -0.3808    0.0000 N   0  0  0  0  0  0  0  0  0  0  0  0\\n    1.2641   -1.2058    0.0000 C   0  0  0  0  0  0  0  0  0  0  0  0\\n    0.5496   -1.6183    0.0000 C   0  0  0  0  0  0  0  0  0  0  0  0\\n   -0.1649   -1.2058    0.0000 O   0  0  0  0  0  0  0  0  0  0  0  0\\n   -1.5938   -0.3808    0.0000 N   0  0  0  0  0  0  0  0  0  0  0  0\\n   -1.5938   -1.2058    0.0000 C   0  0  0  0  0  0  0  0  0  0  0  0\\n   -2.3083   -1.6183    0.0000 C   0  0  0  0  0  0  0  0  0  0  0  0\\n   -3.0228   -1.2058    0.0000 N   0  0  0  0  0  0  0  0  0  0  0  0\\n   -3.0228   -0.3808    0.0000 C   0  0  0  0  0  0  0  0  0  0  0  0\\n   -2.3083    0.0317    0.0000 C   0  0  0  0  0  0  0  0  0  0  0  0\\n   -3.7372   -1.6183    0.0000 C   0  0  0  0  0  0  0  0  0  0  0  0\\n    1.9785   -1.6183    0.0000 C   0  0  0  0  0  0  0  0  0  0  0  0\\n   -1.5938    1.2692    0.0000 F   0  0  0  0  0  0  0  0  0  0  0  0\\n    1.2641    2.0942    0.0000 O   0  0  0  0  0  0  0  0  0  0  0  0\\n    2.6930    1.2692    0.0000 C   0  0  0  0  0  0  0  0  0  0  0  0\\n    2.6930    2.0942    0.0000 O   0  0  0  0  0  0  0  0  0  0  0  0\\n    3.4075    0.8567    0.0000 O   0  0  0  0  0  0  0  0  0  0  0  0\\n  1  2  1  0\\n  2  3  2  0\\n  3  4  1  0\\n  4  5  1  0\\n  5  6  1  0\\n  6  7  2  0\\n  1  8  2  0\\n  4  9  2  0\\n  8  9  1  0\\n  7 10  1  0\\n  9 10  1  0\\n 10 11  1  0\\n 11 12  1  0\\n  8 13  1  0\\n 12 13  1  0\\n  1 14  1  0\\n 14 15  1  0\\n 15 16  1  0\\n 16 17  1  0\\n 17 18  1  0\\n 14 19  1  0\\n 18 19  1  0\\n 17 20  1  0\\n 11 21  1  0\\n  2 22  1  0\\n  5 23  2  0\\n  6 24  1  0\\n 24 25  1  0\\n 24 26  2  0\\nM  END\\n\\n> <chembl_id>\\nCHEMBL4\\n\\n> <chembl_pref_name>\\nOFLOXACIN\\n\\n', 'standard_inchi': 'InChI=1S/C18H20FN3O4/c1-10-9-26-17-14-11(16(23)12(18(24)25)8-22(10)14)7-13(19)15(17)21-5-3-20(2)4-6-21/h7-8,10H,3-6,9H2,1-2H3,(H,24,25)', 'standard_inchi_key': 'GSDSWSVVBLHKDQ-UHFFFAOYSA-N'}, 'molecule_synonyms': [{'molecule_synonym': 'DL-8280', 'syn_type': 'RESEARCH_CODE', 'synonyms': 'DL-8280'}, {'molecule_synonym': 'Exocin', 'syn_type': 'TRADE_NAME', 'synonyms': 'EXOCIN'}, {'molecule_synonym': 'Floxin', 'syn_type': 'TRADE_NAME', 'synonyms': 'FLOXIN'}, {'molecule_synonym': 'Floxin Otic', 'syn_type': 'TRADE_NAME', 'synonyms': 'FLOXIN OTIC'}, {'molecule_synonym': 'HOE-280', 'syn_type': 'RESEARCH_CODE', 'synonyms': 'HOE 280'}, {'molecule_synonym': 'J01MA01', 'syn_type': 'RESEARCH_CODE', 'synonyms': 'J01MA01'}, {'molecule_synonym': 'Ocuflox', 'syn_type': 'TRADE_NAME', 'synonyms': 'OCUFLOX'}, {'molecule_synonym': 'Ofloxacin', 'syn_type': 'ATC', 'synonyms': 'OFLOXACIN'}, {'molecule_synonym': 'Ofloxacin', 'syn_type': 'BAN', 'synonyms': 'OFLOXACIN'}, {'molecule_synonym': 'Ofloxacin', 'syn_type': 'BNF', 'synonyms': 'OFLOXACIN'}, {'molecule_synonym': 'Ofloxacin', 'syn_type': 'FDA', 'synonyms': 'OFLOXACIN'}, {'molecule_synonym': 'Ofloxacin', 'syn_type': 'INN', 'synonyms': 'OFLOXACIN'}, {'molecule_synonym': 'Ofloxacin', 'syn_type': 'JAN', 'synonyms': 'OFLOXACIN'}, {'molecule_synonym': 'Ofloxacin', 'syn_type': 'MERCK_INDEX', 'synonyms': 'OFLOXACIN'}, {'molecule_synonym': 'Ofloxacin', 'syn_type': 'OTHER', 'synonyms': 'OFLOXACIN'}, {'molecule_synonym': 'Ofloxacin', 'syn_type': 'TRADE_NAME', 'synonyms': 'OFLOXACIN'}, {'molecule_synonym': 'Ofloxacin', 'syn_type': 'USAN', 'synonyms': 'OFLOXACIN'}, {'molecule_synonym': 'Ofloxacin', 'syn_type': 'USP', 'synonyms': 'OFLOXACIN'}, {'molecule_synonym': 'Tarivid', 'syn_type': 'TRADE_NAME', 'synonyms': 'TARIVID'}, {'molecule_synonym': 'Tarivid 400', 'syn_type': 'TRADE_NAME', 'synonyms': 'TARIVID 400'}, {'molecule_synonym': 'Tarivid I.V.', 'syn_type': 'TRADE_NAME', 'synonyms': 'TARIVID I.V.'}, {'molecule_synonym': 'Visiren', 'syn_type': 'TRADE_NAME', 'synonyms': 'Visiren'}], 'molecule_type': 'Small molecule', 'natural_product': 0, 'oral': True, 'parenteral': True, 'polymer_flag': False, 'pref_name': 'OFLOXACIN', 'prodrug': 0, 'structure_type': 'MOL', 'therapeutic_flag': True, 'topical': True, 'usan_stem': '-oxacin', 'usan_stem_definition': 'antibacterials (quinolone derivatives)', 'usan_substem': '-oxacin', 'usan_year': 1984, 'withdrawn_class': None, 'withdrawn_country': None, 'withdrawn_flag': False, 'withdrawn_reason': None, 'withdrawn_year': None}]\n",
      "COc1cc2nc(N3CCN(C(=O)c4ccco4)CC3)nc(N)c2cc1OC\n",
      "CN1CCC[C@H]1c1cccnc1\n",
      "CC1COc2c(N3CCN(C)CC3)c(F)cc3c(=O)c(C(=O)O)cn1c23\n",
      "CCn1cc(C(=O)O)c(=O)c2ccc(C)nc21\n",
      "COc1ccc2c(c1)c(CC(=O)O)c(C)n2C(=O)c1ccc(Cl)cc1\n",
      "CC1(C)[C@H](C(=O)O)N2C(=O)C[C@H]2S1(=O)=O\n",
      "C[C@]1(Cn2ccnn2)[C@H](C(=O)O)N2C(=O)C[C@H]2S1(=O)=O\n",
      "O=C(O)c1cn(C2CC2)c2cc(N3CCNCC3)c(F)cc2c1=O\n",
      "CCn1cc(C(=O)O)c(=O)c2cc(F)c(N3CCNCC3)cc21\n",
      "CC(N)Cc1ccccc1\n",
      "O=[N+]([O-])O[C@H]1CO[C@H]2[C@@H]1OC[C@H]2O[N+](=O)[O-]\n",
      "CN1CCN2c3ccccc3Cc3ccccc3C2C1\n",
      "CN(C)CCCN1c2ccccc2CCc2ccccc21\n",
      "CC1Cc2ccccc2N1NC(=O)c1ccc(Cl)c(S(N)(=O)=O)c1\n",
      "CCOC(=O)c1ncn2c1CN(C)C(=O)c1cc(F)ccc1-2\n",
      "Cc1c(C)c2c(c(C)c1O)CCC(C)(COc1ccc(CC3SC(=O)NC3=O)cc1)O2\n",
      "CC(O)(CS(=O)(=O)c1ccc(F)cc1)C(=O)Nc1ccc(C#N)c(C(F)(F)F)c1\n",
      "CN1C(=O)CN=C(c2ccccc2)c2cc(Cl)ccc21\n",
      "COCCc1ccc(OCC(O)CNC(C)C)cc1\n",
      "CC/C(=C(/CC)c1ccc(O)cc1)c1ccc(O)cc1\n"
     ]
    }
   ],
   "source": [
    "# The QuerySet object returned by the client is a lazily-evaluated iterator\n",
    "# This means that it's ready to use and it will try to reduce the amount of server requests\n",
    "# All results are cached as well so they are fetched from server only once.\n",
    "approved_drugs = molecule.filter(max_phase=4)\n",
    "\n",
    "# Getting the lenght of the whole result set is easy:\n",
    "print(len(approved_drugs))\n",
    "\n",
    "# So is getting a single element:\n",
    "print(approved_drugs[123])\n",
    "\n",
    "# Or a chunk of elements:\n",
    "print(approved_drugs[2:5])\n",
    "\n",
    "# Or using in the loops or list comprehensions:\n",
    "for drug in approved_drugs[0:20]:\n",
    "    if drug['molecule_structures']:\n",
    "        print(drug['molecule_structures']['canonical_smiles'])"
   ]
  },
  {
   "cell_type": "code",
   "execution_count": 29,
   "metadata": {},
   "outputs": [
    {
     "name": "stdout",
     "output_type": "stream",
     "text": [
      "{'atc_classifications': ['L01XX19'], 'availability_type': 1, 'biotherapeutic': None, 'black_box_warning': 1, 'chebi_par_id': 80630, 'chirality': 1, 'cross_references': [{'xref_id': 'irinotecan%20hydrochloride', 'xref_name': 'irinotecan hydrochloride', 'xref_src': 'DailyMed'}, {'xref_id': '124893595', 'xref_name': 'SID: 124893595', 'xref_src': 'PubChem'}, {'xref_id': 'Irinotecan', 'xref_name': None, 'xref_src': 'Wikipedia'}], 'dosed_ingredient': False, 'first_approval': 1996, 'first_in_class': 0, 'helm_notation': None, 'indication_class': 'Antineoplastic (DNA topoisomerase I Inhibitor)', 'inorganic_flag': 0, 'max_phase': 4, 'molecule_chembl_id': 'CHEMBL481', 'molecule_hierarchy': {'molecule_chembl_id': 'CHEMBL481', 'parent_chembl_id': 'CHEMBL481'}, 'molecule_properties': {'alogp': '4.09', 'aromatic_rings': 3, 'cx_logd': '0.72', 'cx_logp': '2.78', 'cx_most_apka': '11.71', 'cx_most_bpka': '9.47', 'full_molformula': 'C33H38N4O6', 'full_mwt': '586.69', 'hba': 9, 'hba_lipinski': 10, 'hbd': 1, 'hbd_lipinski': 1, 'heavy_atoms': 43, 'molecular_species': 'BASE', 'mw_freebase': '586.69', 'mw_monoisotopic': '586.2791', 'num_lipinski_ro5_violations': 1, 'num_ro5_violations': 1, 'psa': '114.20', 'qed_weighted': '0.36', 'ro3_pass': 'N', 'rtb': 4}, 'molecule_structures': {'canonical_smiles': 'CCc1c2c(nc3ccc(OC(=O)N4CCC(N5CCCCC5)CC4)cc13)-c1cc3c(c(=O)n1C2)COC(=O)[C@]3(O)CC', 'molfile': '\\n     RDKit          2D\\n\\n 43 49  0  0  1  0  0  0  0  0999 V2000\\n    4.1667   -6.3875    0.0000 N   0  0  0  0  0  0  0  0  0  0  0  0\\n    5.1667   -7.1000    0.0000 C   0  0  0  0  0  0  0  0  0  0  0  0\\n    3.7625   -6.9583    0.0000 C   0  0  0  0  0  0  0  0  0  0  0  0\\n    4.7542   -7.6750    0.0000 C   0  0  0  0  0  0  0  0  0  0  0  0\\n    4.8792   -6.4542    0.0000 C   0  0  0  0  0  0  0  0  0  0  0  0\\n    3.0917   -6.7458    0.0000 C   0  0  0  0  0  0  0  0  0  0  0  0\\n    3.0875   -6.0458    0.0000 C   0  0  0  0  0  0  0  0  0  0  0  0\\n    4.0542   -7.6042    0.0000 C   0  0  0  0  0  0  0  0  0  0  0  0\\n    2.4917   -7.1000    0.0000 N   0  0  0  0  0  0  0  0  0  0  0  0\\n    5.0375   -8.3167    0.0000 C   0  0  0  0  0  0  0  0  0  0  0  0\\n    3.7500   -5.8208    0.0000 C   0  0  0  0  0  0  0  0  0  0  0  0\\n   -0.5625   -6.0750    0.0000 C   0  0  0  0  0  0  0  0  0  0  0  0\\n    2.4792   -5.7042    0.0000 C   0  0  0  0  0  0  0  0  0  0  0  0\\n   -1.1750   -5.7208    0.0000 N   0  0  0  0  0  0  0  0  0  0  0  0\\n    5.7417   -8.3917    0.0000 C   0  0  0  0  0  0  0  0  0  0  0  0\\n    1.8792   -6.0583    0.0000 C   0  0  0  0  0  0  0  0  0  0  0  0\\n    1.8833   -6.7583    0.0000 C   0  0  0  0  0  0  0  0  0  0  0  0\\n    5.8708   -7.1708    0.0000 C   0  0  0  0  0  0  0  0  0  0  0  0\\n    6.1583   -7.8167    0.0000 O   0  0  0  0  0  0  0  0  0  0  0  0\\n   -3.0125   -4.6667    0.0000 N   0  0  0  0  0  0  0  0  0  0  0  0\\n    0.0500   -5.7208    0.0000 O   0  0  0  0  0  0  0  0  0  0  0  0\\n   -2.4042   -5.0208    0.0000 C   0  0  0  0  0  0  0  0  0  0  0  0\\n    5.2917   -5.8792    0.0000 O   0  0  0  0  0  0  0  0  0  0  0  0\\n    1.2708   -5.7125    0.0000 C   0  0  0  0  0  0  0  0  0  0  0  0\\n   -2.4000   -5.7292    0.0000 C   0  0  0  0  0  0  0  0  0  0  0  0\\n   -1.7917   -4.6625    0.0000 C   0  0  0  0  0  0  0  0  0  0  0  0\\n   -1.7875   -6.0792    0.0000 C   0  0  0  0  0  0  0  0  0  0  0  0\\n   -1.1750   -5.0167    0.0000 C   0  0  0  0  0  0  0  0  0  0  0  0\\n   -0.5625   -6.7833    0.0000 O   0  0  0  0  0  0  0  0  0  0  0  0\\n    0.6667   -6.0708    0.0000 C   0  0  0  0  0  0  0  0  0  0  0  0\\n    6.0333   -9.0375    0.0000 O   0  0  0  0  0  0  0  0  0  0  0  0\\n    1.2875   -7.1125    0.0000 C   0  0  0  0  0  0  0  0  0  0  0  0\\n    4.4000   -8.6125    0.0000 O   0  0  0  0  0  0  0  0  0  0  0  0\\n    0.6792   -6.7708    0.0000 C   0  0  0  0  0  0  0  0  0  0  0  0\\n    4.9708   -9.0250    0.0000 C   0  0  0  0  0  0  0  0  0  0  0  0\\n    2.4750   -4.9958    0.0000 C   0  0  0  0  0  0  0  0  0  0  0  0\\n   -3.6250   -5.0250    0.0000 C   0  0  0  0  0  0  0  0  0  0  0  0\\n   -3.0167   -3.9625    0.0000 C   0  0  0  0  0  0  0  0  0  0  0  0\\n    4.3292   -9.3208    0.0000 C   0  0  0  0  0  0  0  0  0  0  0  0\\n    3.0833   -4.6333    0.0000 C   0  0  0  0  0  0  0  0  0  0  0  0\\n   -3.6333   -3.6125    0.0000 C   0  0  0  0  0  0  0  0  0  0  0  0\\n   -4.2375   -4.6792    0.0000 C   0  0  0  0  0  0  0  0  0  0  0  0\\n   -4.2458   -3.9708    0.0000 C   0  0  0  0  0  0  0  0  0  0  0  0\\n  2  5  1  0\\n  3  1  1  0\\n  4  8  1  0\\n  5  1  1  0\\n  6  3  1  0\\n  7 11  1  0\\n  8  3  2  0\\n  9  6  2  0\\n 10  4  1  0\\n 11  1  1  0\\n 12 21  1  0\\n 13  7  2  0\\n 14 12  1  0\\n 15 10  1  0\\n 16 13  1  0\\n 17  9  1  0\\n 18  2  1  0\\n 19 18  1  0\\n 20 22  1  0\\n 21 30  1  0\\n 22 26  1  0\\n 23  5  2  0\\n 24 16  1  0\\n 25 27  1  0\\n 26 28  1  0\\n 27 14  1  0\\n 28 14  1  0\\n 29 12  2  0\\n 30 24  2  0\\n 31 15  2  0\\n 32 17  1  0\\n 33 10  1  0\\n 34 32  2  0\\n 10 35  1  6\\n 36 13  1  0\\n 37 20  1  0\\n 38 20  1  0\\n 39 35  1  0\\n 40 36  1  0\\n 41 38  1  0\\n 42 37  1  0\\n 43 41  1  0\\n  7  6  1  0\\n  4  2  2  0\\n 16 17  2  0\\n 15 19  1  0\\n 34 30  1  0\\n 22 25  1  0\\n 43 42  1  0\\nM  END\\n\\n> <chembl_id>\\nCHEMBL481\\n\\n> <chembl_pref_name>\\nIRINOTECAN\\n\\n', 'standard_inchi': 'InChI=1S/C33H38N4O6/c1-3-22-23-16-21(43-32(40)36-14-10-20(11-15-36)35-12-6-5-7-13-35)8-9-27(23)34-29-24(22)18-37-28(29)17-26-25(30(37)38)19-42-31(39)33(26,41)4-2/h8-9,16-17,20,41H,3-7,10-15,18-19H2,1-2H3/t33-/m0/s1', 'standard_inchi_key': 'UWKQSNNFCGGAFS-XIFFEERXSA-N'}, 'molecule_synonyms': [{'molecule_synonym': 'Camptosar', 'syn_type': 'OTHER', 'synonyms': 'Camptosar'}, {'molecule_synonym': 'Irinotecan', 'syn_type': 'FDA', 'synonyms': 'Irinotecan'}, {'molecule_synonym': 'Irinotecan', 'syn_type': 'ATC', 'synonyms': 'IRINOTECAN'}, {'molecule_synonym': 'Irinotecan', 'syn_type': 'BAN', 'synonyms': 'IRINOTECAN'}, {'molecule_synonym': 'Irinotecan', 'syn_type': 'INN', 'synonyms': 'IRINOTECAN'}, {'molecule_synonym': 'Irinotecan', 'syn_type': 'MERCK_INDEX', 'synonyms': 'IRINOTECAN'}, {'molecule_synonym': 'Irinotecan', 'syn_type': 'OTHER', 'synonyms': 'IRINOTECAN'}], 'molecule_type': 'Small molecule', 'natural_product': 1, 'oral': False, 'parenteral': True, 'polymer_flag': False, 'pref_name': 'IRINOTECAN', 'prodrug': 1, 'structure_type': 'MOL', 'therapeutic_flag': True, 'topical': False, 'usan_stem': '-tecan', 'usan_stem_definition': 'antineoplastics (camptothecine derivatives)', 'usan_substem': '-tecan', 'usan_year': 1995, 'withdrawn_class': None, 'withdrawn_country': None, 'withdrawn_flag': False, 'withdrawn_reason': None, 'withdrawn_year': None}\n"
     ]
    }
   ],
   "source": [
    "# So is getting a single element:\n",
    "print(approved_drugs[124])"
   ]
  },
  {
   "cell_type": "markdown",
   "metadata": {},
   "source": [
    "## Ordering results"
   ]
  },
  {
   "cell_type": "code",
   "execution_count": 30,
   "metadata": {},
   "outputs": [
    {
     "data": {
      "text/plain": [
       "'HELIUM'"
      ]
     },
     "execution_count": 30,
     "metadata": {},
     "output_type": "execute_result"
    }
   ],
   "source": [
    "# Sort approved drugs by molecular weight ascending (from lightest to heaviest) and get the first (lightest) element\n",
    "lightest_drug = molecule.filter(max_phase=4).order_by('molecule_properties__mw_freebase')[0]\n",
    "lightest_drug['pref_name']"
   ]
  },
  {
   "cell_type": "code",
   "execution_count": 31,
   "metadata": {},
   "outputs": [
    {
     "data": {
      "text/plain": [
       "'BEMIPARIN SODIUM'"
      ]
     },
     "execution_count": 31,
     "metadata": {},
     "output_type": "execute_result"
    }
   ],
   "source": [
    "# Sort approved drugs by molecular weight descending (from heaviest to lightest) and get the first (heaviest) element\n",
    "heaviest_drug = molecule.filter(max_phase=4).order_by('-molecule_properties__mw_freebase')[0]\n",
    "heaviest_drug['pref_name']"
   ]
  },
  {
   "cell_type": "markdown",
   "metadata": {},
   "source": [
    "## Filtering molecules using SMILES"
   ]
  },
  {
   "cell_type": "code",
   "execution_count": 32,
   "metadata": {},
   "outputs": [
    {
     "name": "stdout",
     "output_type": "stream",
     "text": [
      "1\n",
      "1\n",
      "1\n",
      "True\n",
      "True\n"
     ]
    }
   ],
   "source": [
    "# Atorvastatin...\n",
    "smiles = \"CC(C)c1c(C(=O)Nc2ccccc2)c(-c2ccccc2)c(-c2ccc(F)cc2)n1CC[C@@H](O)C[C@@H](O)CC(=O)O\"\n",
    "\n",
    "# By default, the type of search used is 'exact search' which means that only compounds with exacly same SMILES string will be picked:\n",
    "result = molecule.filter(molecule_structures__canonical_smiles=smiles)\n",
    "print(len(result))\n",
    "\n",
    "# This is quivalent of:\n",
    "result1 = molecule.filter(molecule_structures__canonical_smiles__exact=smiles)\n",
    "print(len(result1))\n",
    "\n",
    "# For convenience, we have a shortcut call:\n",
    "result2 = molecule.filter(smiles=smiles)\n",
    "print(len(result2))\n",
    "\n",
    "# Checking if they are all the same: \n",
    "print(result[0]['pref_name'] == result1[0]['pref_name'] == result2[0]['pref_name'])\n",
    "\n",
    "# And because SMILES string are unique in ChEMBL, this is similar to:\n",
    "result3 = molecule.get(smiles)\n",
    "print(result[0]['pref_name'] == result3['pref_name'])"
   ]
  },
  {
   "cell_type": "code",
   "execution_count": 33,
   "metadata": {},
   "outputs": [
    {
     "name": "stdout",
     "output_type": "stream",
     "text": [
      "5\n",
      "CHEMBL393220    : CC(C)c1c(C(=O)Nc2ccccc2)c(-c2ccccc2)c(-c2ccc(F)cc2)n1CC[C@@H](O)C[C@@H](O)CC(=O)[O-].CC(C)c1c(C(=O)Nc2ccccc2)c(-c2ccccc2)c(-c2ccc(F)cc2)n1CC[C@@H](O)C[C@@H](O)CC(=O)[O-].[Ca+2]\n",
      "CHEMBL1487      : CC(C)c1c(C(=O)Nc2ccccc2)c(-c2ccccc2)c(-c2ccc(F)cc2)n1CC[C@@H](O)C[C@@H](O)CC(=O)O\n",
      "CHEMBL1790017   : CC(C)c1c(C(=O)Nc2ccccc2)c(-c2ccccc2)c(-c2ccc(F)cc2)n1CC[C@@H](O)C[C@@H](O)CC(=O)O.CC(C)c1c(C(=O)Nc2ccccc2)c(-c2ccccc2)c(-c2ccc(F)cc2)n1CC[C@@H](O)C[C@@H](O)CC(=O)O\n",
      "CHEMBL3349878   : CC(C)c1c(C(=O)Nc2ccccc2)c(-c2ccccc2)c(-c2ccc(F)cc2)n1CC[C@@H](O)C[C@@H](O)CC(=O)[O-].[Na+]\n",
      "CHEMBL3392029   : CC(C)c1c(C(=O)Nc2ccccc2)c(-c2ccccc2)c(-c2ccc(F)cc2)n1CC[C@H](O)C[C@@H](O)CC(=O)O\n"
     ]
    }
   ],
   "source": [
    "# Flexmatch will look for structures that match given SMILES, ignoring stereo:\n",
    "records = molecule.filter(molecule_structures__canonical_smiles__flexmatch=smiles)\n",
    "print(len(records))\n",
    "\n",
    "for record in records:\n",
    "    print(\"{:15s} : {}\".format(record[\"molecule_chembl_id\"], record['molecule_structures']['canonical_smiles']))"
   ]
  },
  {
   "cell_type": "markdown",
   "metadata": {},
   "source": [
    "## Substructure-searching"
   ]
  },
  {
   "cell_type": "code",
   "execution_count": 14,
   "metadata": {},
   "outputs": [],
   "source": [
    "from chembl_webresource_client.new_client import new_client"
   ]
  },
  {
   "cell_type": "code",
   "execution_count": 15,
   "metadata": {},
   "outputs": [],
   "source": [
    "# Lapatinib contains the following core...\n",
    "query = \"c4ccc(Nc2ncnc3ccc(c1ccco1)cc23)cc4\""
   ]
  },
  {
   "cell_type": "code",
   "execution_count": 16,
   "metadata": {},
   "outputs": [
    {
     "data": {
      "text/plain": [
       "[]"
      ]
     },
     "execution_count": 16,
     "metadata": {},
     "output_type": "execute_result"
    }
   ],
   "source": [
    "# Perform substructure search on query using client\n",
    "substructure = new_client.substructure\n",
    "records = substructure.filter(smiles=query)\n",
    "records"
   ]
  },
  {
   "cell_type": "markdown",
   "metadata": {},
   "source": [
    "## Similarity searching"
   ]
  },
  {
   "cell_type": "code",
   "execution_count": 21,
   "metadata": {},
   "outputs": [],
   "source": [
    "# Lapatinib\n",
    "smiles = \"CS(=O)(=O)CCNCc1oc(cc1)c2ccc3ncnc(Nc4ccc(OCc5cccc(F)c5)c(Cl)c4)c3c2\""
   ]
  },
  {
   "cell_type": "code",
   "execution_count": 23,
   "metadata": {},
   "outputs": [
    {
     "data": {
      "text/plain": [
       "13"
      ]
     },
     "execution_count": 23,
     "metadata": {},
     "output_type": "execute_result"
    }
   ],
   "source": [
    "# Note that a percentage similarity must be supplied.\n",
    "similarity = new_client.similarity\n",
    "res = similarity.filter(smiles=smiles, similarity=85)\n",
    "len(res)"
   ]
  },
  {
   "cell_type": "code",
   "execution_count": 24,
   "metadata": {
    "scrolled": false
   },
   "outputs": [
    {
     "data": {
      "text/plain": [
       "[{'atc_classifications': [], 'availability_type': -1, 'biotherapeutic': None, 'black_box_warning': 0, 'chebi_par_id': None, 'chirality': -1, 'cross_references': [], 'dosed_ingredient': False, 'first_approval': None, 'first_in_class': -1, 'helm_notation': None, 'indication_class': None, 'inorganic_flag': -1, 'max_phase': 0, 'molecule_chembl_id': 'CHEMBL1201183', 'molecule_hierarchy': {'molecule_chembl_id': 'CHEMBL1201183', 'parent_chembl_id': 'CHEMBL554'}, 'molecule_properties': {'alogp': '6.14', 'aromatic_rings': 5, 'cx_logd': '4.40', 'cx_logp': '4.64', 'cx_most_apka': None, 'cx_most_bpka': '7.26', 'full_molformula': 'C43H42ClFN4O10S3', 'full_mwt': '925.48', 'hba': 8, 'hba_lipinski': 8, 'hbd': 2, 'hbd_lipinski': 2, 'heavy_atoms': 40, 'molecular_species': 'NEUTRAL', 'mw_freebase': '581.07', 'mw_monoisotopic': '580.1347', 'num_lipinski_ro5_violations': 2, 'num_ro5_violations': 2, 'psa': '106.35', 'qed_weighted': '0.18', 'ro3_pass': 'N', 'rtb': 11}, 'molecule_structures': {'canonical_smiles': 'CS(=O)(=O)CCNCc1ccc(-c2ccc3ncnc(Nc4ccc(OCc5cccc(F)c5)c(Cl)c4)c3c2)o1.Cc1ccc(S(=O)(=O)O)cc1.Cc1ccc(S(=O)(=O)O)cc1', 'molfile': '\\n     RDKit          2D\\n\\n 62 66  0  0  0  0  0  0  0  0999 V2000\\n   11.6319   -3.3583    0.0000 C   0  0  0  0  0  0  0  0  0  0  0  0\\n   11.6307   -4.0690    0.0000 C   0  0  0  0  0  0  0  0  0  0  0  0\\n   12.2456   -4.4235    0.0000 C   0  0  0  0  0  0  0  0  0  0  0  0\\n   12.8578   -4.0685    0.0000 C   0  0  0  0  0  0  0  0  0  0  0  0\\n   12.8550   -3.3547    0.0000 C   0  0  0  0  0  0  0  0  0  0  0  0\\n   12.2438   -3.0039    0.0000 C   0  0  0  0  0  0  0  0  0  0  0  0\\n   13.4672   -2.9985    0.0000 S   0  0  0  0  0  0  0  0  0  0  0  0\\n   14.0818   -3.3506    0.0000 O   0  0  0  0  0  0  0  0  0  0  0  0\\n   13.8167   -2.3792    0.0000 O   0  0  0  0  0  0  0  0  0  0  0  0\\n   13.1083   -2.3792    0.0000 O   0  0  0  0  0  0  0  0  0  0  0  0\\n   11.0171   -4.4228    0.0000 C   0  0  0  0  0  0  0  0  0  0  0  0\\n    1.0868   -2.2491    0.0000 C   0  0  0  0  0  0  0  0  0  0  0  0\\n    0.3743   -2.2491    0.0000 C   0  0  0  0  0  0  0  0  0  0  0  0\\n    0.1550   -2.9249    0.0000 C   0  0  0  0  0  0  0  0  0  0  0  0\\n    0.7326   -3.3491    0.0000 O   0  0  0  0  0  0  0  0  0  0  0  0\\n    1.3102   -2.9249    0.0000 C   0  0  0  0  0  0  0  0  0  0  0  0\\n    1.9277   -3.2833    0.0000 C   0  0  0  0  0  0  0  0  0  0  0  0\\n    1.9265   -3.9982    0.0000 C   0  0  0  0  0  0  0  0  0  0  0  0\\n    2.5456   -4.3527    0.0000 C   0  0  0  0  0  0  0  0  0  0  0  0\\n    2.5438   -2.9247    0.0000 C   0  0  0  0  0  0  0  0  0  0  0  0\\n    3.1550   -3.2796    0.0000 C   0  0  0  0  0  0  0  0  0  0  0  0\\n    3.1560   -3.9945    0.0000 C   0  0  0  0  0  0  0  0  0  0  0  0\\n    3.7753   -4.3474    0.0000 N   0  0  0  0  0  0  0  0  0  0  0  0\\n    4.3937   -3.9906    0.0000 C   0  0  0  0  0  0  0  0  0  0  0  0\\n    4.3892   -3.2730    0.0000 N   0  0  0  0  0  0  0  0  0  0  0  0\\n    3.7696   -2.9192    0.0000 C   0  0  0  0  0  0  0  0  0  0  0  0\\n    3.7655   -2.2067    0.0000 N   0  0  0  0  0  0  0  0  0  0  0  0\\n    4.3809   -1.8489    0.0000 C   0  0  0  0  0  0  0  0  0  0  0  0\\n    4.9972   -2.2020    0.0000 C   0  0  0  0  0  0  0  0  0  0  0  0\\n    5.6123   -1.8449    0.0000 C   0  0  0  0  0  0  0  0  0  0  0  0\\n    5.6085   -1.1316    0.0000 C   0  0  0  0  0  0  0  0  0  0  0  0\\n    4.9845   -0.7771    0.0000 C   0  0  0  0  0  0  0  0  0  0  0  0\\n    4.3719   -1.1404    0.0000 C   0  0  0  0  0  0  0  0  0  0  0  0\\n    6.2235   -0.7689    0.0000 O   0  0  0  0  0  0  0  0  0  0  0  0\\n    6.8437   -1.1228    0.0000 C   0  0  0  0  0  0  0  0  0  0  0  0\\n    7.4545   -0.7601    0.0000 C   0  0  0  0  0  0  0  0  0  0  0  0\\n    4.9779   -0.0646    0.0000 Cl  0  0  0  0  0  0  0  0  0  0  0  0\\n    8.0729   -1.1160    0.0000 C   0  0  0  0  0  0  0  0  0  0  0  0\\n    8.6874   -0.7539    0.0000 C   0  0  0  0  0  0  0  0  0  0  0  0\\n    8.6827   -0.0407    0.0000 C   0  0  0  0  0  0  0  0  0  0  0  0\\n    8.0583    0.3089    0.0000 C   0  0  0  0  0  0  0  0  0  0  0  0\\n    7.4462   -0.0511    0.0000 C   0  0  0  0  0  0  0  0  0  0  0  0\\n    9.3074   -1.1081    0.0000 F   0  0  0  0  0  0  0  0  0  0  0  0\\n   -0.4666   -3.2750    0.0000 C   0  0  0  0  0  0  0  0  0  0  0  0\\n   -1.0796   -2.9088    0.0000 N   0  0  0  0  0  0  0  0  0  0  0  0\\n   -1.6976   -3.2591    0.0000 C   0  0  0  0  0  0  0  0  0  0  0  0\\n   -2.3106   -2.8929    0.0000 C   0  0  0  0  0  0  0  0  0  0  0  0\\n   -2.9327   -3.2432    0.0000 S   0  0  0  0  0  0  0  0  0  0  0  0\\n   -3.5457   -2.8770    0.0000 C   0  0  0  0  0  0  0  0  0  0  0  0\\n   -2.5833   -3.8541    0.0000 O   0  0  0  0  0  0  0  0  0  0  0  0\\n   -3.2958   -3.8541    0.0000 O   0  0  0  0  0  0  0  0  0  0  0  0\\n    8.2944   -3.3583    0.0000 C   0  0  0  0  0  0  0  0  0  0  0  0\\n    8.2932   -4.0690    0.0000 C   0  0  0  0  0  0  0  0  0  0  0  0\\n    8.9081   -4.4235    0.0000 C   0  0  0  0  0  0  0  0  0  0  0  0\\n    9.5203   -4.0685    0.0000 C   0  0  0  0  0  0  0  0  0  0  0  0\\n    9.5175   -3.3547    0.0000 C   0  0  0  0  0  0  0  0  0  0  0  0\\n    8.9063   -3.0039    0.0000 C   0  0  0  0  0  0  0  0  0  0  0  0\\n   10.1297   -2.9985    0.0000 S   0  0  0  0  0  0  0  0  0  0  0  0\\n   10.7443   -3.3506    0.0000 O   0  0  0  0  0  0  0  0  0  0  0  0\\n   10.4792   -2.3792    0.0000 O   0  0  0  0  0  0  0  0  0  0  0  0\\n    9.7708   -2.3792    0.0000 O   0  0  0  0  0  0  0  0  0  0  0  0\\n    7.6796   -4.4228    0.0000 C   0  0  0  0  0  0  0  0  0  0  0  0\\n  1  2  2  0\\n  2  3  1  0\\n  3  4  2  0\\n  4  5  1  0\\n  5  6  2  0\\n  6  1  1  0\\n  5  7  1  0\\n  7  8  1  0\\n  7  9  2  0\\n  7 10  2  0\\n  2 11  1  0\\n 27 28  1  0\\n 48 50  2  0\\n 48 51  2  0\\n 28 29  2  0\\n 18 19  1  0\\n 29 30  1  0\\n 19 22  2  0\\n 30 31  2  0\\n 31 32  1  0\\n 21 20  2  0\\n 32 33  2  0\\n 33 28  1  0\\n 20 17  1  0\\n 31 34  1  0\\n 12 13  1  0\\n 34 35  1  0\\n 13 14  2  0\\n 35 36  1  0\\n 21 22  1  0\\n 32 37  1  0\\n 14 15  1  0\\n 36 38  2  0\\n 22 23  1  0\\n 38 39  1  0\\n 15 16  1  0\\n 39 40  2  0\\n 23 24  2  0\\n 40 41  1  0\\n 16 12  2  0\\n 41 42  2  0\\n 42 36  1  0\\n 24 25  1  0\\n 39 43  1  0\\n 17 16  1  0\\n 14 44  1  0\\n 25 26  2  0\\n 44 45  1  0\\n 26 21  1  0\\n 45 46  1  0\\n 46 47  1  0\\n 26 27  1  0\\n 47 48  1  0\\n 17 18  2  0\\n 48 49  1  0\\n 52 53  2  0\\n 53 54  1  0\\n 54 55  2  0\\n 55 56  1  0\\n 56 57  2  0\\n 57 52  1  0\\n 56 58  1  0\\n 58 59  1  0\\n 58 60  2  0\\n 58 61  2  0\\n 53 62  1  0\\nM  END\\n\\n> <chembl_id>\\nCHEMBL1201183\\n\\n> <chembl_pref_name>\\nNone\\n\\n', 'standard_inchi': 'InChI=1S/C29H26ClFN4O4S.2C7H8O3S/c1-40(36,37)12-11-32-16-23-7-10-27(39-23)20-5-8-26-24(14-20)29(34-18-33-26)35-22-6-9-28(25(30)15-22)38-17-19-3-2-4-21(31)13-19;2*1-6-2-4-7(5-3-6)11(8,9)10/h2-10,13-15,18,32H,11-12,16-17H2,1H3,(H,33,34,35);2*2-5H,1H3,(H,8,9,10)', 'standard_inchi_key': 'UWYXLGUQQFPJRI-UHFFFAOYSA-N'}, 'molecule_type': 'Small molecule', 'natural_product': -1, 'oral': False, 'parenteral': False, 'polymer_flag': False, 'pref_name': None, 'prodrug': -1, 'similarity': '100', 'structure_type': 'MOL', 'therapeutic_flag': False, 'topical': False, 'usan_stem': None, 'usan_stem_definition': None, 'usan_substem': None, 'usan_year': None, 'withdrawn_class': None, 'withdrawn_country': None, 'withdrawn_flag': False, 'withdrawn_reason': None, 'withdrawn_year': None}, {'atc_classifications': [], 'availability_type': 1, 'biotherapeutic': None, 'black_box_warning': 1, 'chebi_par_id': None, 'chirality': 2, 'cross_references': [{'xref_id': 'lapatinib%20ditosylate', 'xref_name': 'lapatinib ditosylate', 'xref_src': 'DailyMed'}], 'dosed_ingredient': True, 'first_approval': 2007, 'first_in_class': 0, 'helm_notation': None, 'indication_class': None, 'inorganic_flag': 0, 'max_phase': 4, 'molecule_chembl_id': 'CHEMBL1201179', 'molecule_hierarchy': {'molecule_chembl_id': 'CHEMBL1201179', 'parent_chembl_id': 'CHEMBL554'}, 'molecule_properties': {'alogp': '6.14', 'aromatic_rings': 5, 'cx_logd': '4.40', 'cx_logp': '4.64', 'cx_most_apka': None, 'cx_most_bpka': '7.26', 'full_molformula': 'C43H44ClFN4O11S3', 'full_mwt': '943.49', 'hba': 8, 'hba_lipinski': 8, 'hbd': 2, 'hbd_lipinski': 2, 'heavy_atoms': 40, 'molecular_species': 'NEUTRAL', 'mw_freebase': '581.07', 'mw_monoisotopic': '580.1347', 'num_lipinski_ro5_violations': 2, 'num_ro5_violations': 2, 'psa': '106.35', 'qed_weighted': '0.18', 'ro3_pass': 'N', 'rtb': 11}, 'molecule_structures': {'canonical_smiles': 'CS(=O)(=O)CCNCc1ccc(-c2ccc3ncnc(Nc4ccc(OCc5cccc(F)c5)c(Cl)c4)c3c2)o1.Cc1ccc(S(=O)(=O)O)cc1.Cc1ccc(S(=O)(=O)O)cc1.O', 'molfile': '\\n     RDKit          2D\\n\\n 63 66  0  0  0  0  0  0  0  0999 V2000\\n   11.5944   -1.8833    0.0000 C   0  0  0  0  0  0  0  0  0  0  0  0\\n   11.5932   -2.5940    0.0000 C   0  0  0  0  0  0  0  0  0  0  0  0\\n   12.2081   -2.9485    0.0000 C   0  0  0  0  0  0  0  0  0  0  0  0\\n   12.8203   -2.5935    0.0000 C   0  0  0  0  0  0  0  0  0  0  0  0\\n   12.8175   -1.8797    0.0000 C   0  0  0  0  0  0  0  0  0  0  0  0\\n   12.2063   -1.5289    0.0000 C   0  0  0  0  0  0  0  0  0  0  0  0\\n   13.4297   -1.5235    0.0000 S   0  0  0  0  0  0  0  0  0  0  0  0\\n   14.0443   -1.8756    0.0000 O   0  0  0  0  0  0  0  0  0  0  0  0\\n   13.7792   -0.9042    0.0000 O   0  0  0  0  0  0  0  0  0  0  0  0\\n   13.0708   -0.9042    0.0000 O   0  0  0  0  0  0  0  0  0  0  0  0\\n   10.9796   -2.9478    0.0000 C   0  0  0  0  0  0  0  0  0  0  0  0\\n    1.0618   -0.7741    0.0000 C   0  0  0  0  0  0  0  0  0  0  0  0\\n    0.3535   -0.7741    0.0000 C   0  0  0  0  0  0  0  0  0  0  0  0\\n    0.1342   -1.4457    0.0000 C   0  0  0  0  0  0  0  0  0  0  0  0\\n    0.7076   -1.8658    0.0000 O   0  0  0  0  0  0  0  0  0  0  0  0\\n    1.2810   -1.4457    0.0000 C   0  0  0  0  0  0  0  0  0  0  0  0\\n    1.8944   -1.8000    0.0000 C   0  0  0  0  0  0  0  0  0  0  0  0\\n    1.8932   -2.5107    0.0000 C   0  0  0  0  0  0  0  0  0  0  0  0\\n    2.5081   -2.8652    0.0000 C   0  0  0  0  0  0  0  0  0  0  0  0\\n    2.5063   -1.4455    0.0000 C   0  0  0  0  0  0  0  0  0  0  0  0\\n    3.1175   -1.7963    0.0000 C   0  0  0  0  0  0  0  0  0  0  0  0\\n    3.1185   -2.5070    0.0000 C   0  0  0  0  0  0  0  0  0  0  0  0\\n    3.7336   -2.8599    0.0000 N   0  0  0  0  0  0  0  0  0  0  0  0\\n    4.3479   -2.5031    0.0000 C   0  0  0  0  0  0  0  0  0  0  0  0\\n    4.3434   -1.7897    0.0000 N   0  0  0  0  0  0  0  0  0  0  0  0\\n    3.7279   -1.4400    0.0000 C   0  0  0  0  0  0  0  0  0  0  0  0\\n    3.7238   -0.7317    0.0000 N   0  0  0  0  0  0  0  0  0  0  0  0\\n    4.3351   -0.3739    0.0000 C   0  0  0  0  0  0  0  0  0  0  0  0\\n    4.9472   -0.7270    0.0000 C   0  0  0  0  0  0  0  0  0  0  0  0\\n    5.5581   -0.3699    0.0000 C   0  0  0  0  0  0  0  0  0  0  0  0\\n    5.5543    0.3392    0.0000 C   0  0  0  0  0  0  0  0  0  0  0  0\\n    4.9345    0.6896    0.0000 C   0  0  0  0  0  0  0  0  0  0  0  0\\n    4.3261    0.3304    0.0000 C   0  0  0  0  0  0  0  0  0  0  0  0\\n    6.1652    0.6978    0.0000 O   0  0  0  0  0  0  0  0  0  0  0  0\\n    6.7812    0.3480    0.0000 C   0  0  0  0  0  0  0  0  0  0  0  0\\n    7.3920    0.7066    0.0000 C   0  0  0  0  0  0  0  0  0  0  0  0\\n    4.9279    1.3979    0.0000 Cl  0  0  0  0  0  0  0  0  0  0  0  0\\n    8.0062    0.3548    0.0000 C   0  0  0  0  0  0  0  0  0  0  0  0\\n    8.6166    0.7128    0.0000 C   0  0  0  0  0  0  0  0  0  0  0  0\\n    8.6119    1.4218    0.0000 C   0  0  0  0  0  0  0  0  0  0  0  0\\n    7.9916    1.7714    0.0000 C   0  0  0  0  0  0  0  0  0  0  0  0\\n    7.3837    1.4114    0.0000 C   0  0  0  0  0  0  0  0  0  0  0  0\\n    9.2324    0.3627    0.0000 F   0  0  0  0  0  0  0  0  0  0  0  0\\n   -0.4833   -1.7917    0.0000 C   0  0  0  0  0  0  0  0  0  0  0  0\\n   -1.0921   -1.4296    0.0000 N   0  0  0  0  0  0  0  0  0  0  0  0\\n   -1.7101   -1.7758    0.0000 C   0  0  0  0  0  0  0  0  0  0  0  0\\n   -2.3189   -1.4137    0.0000 C   0  0  0  0  0  0  0  0  0  0  0  0\\n   -2.9369   -1.7599    0.0000 S   0  0  0  0  0  0  0  0  0  0  0  0\\n   -3.5457   -1.3978    0.0000 C   0  0  0  0  0  0  0  0  0  0  0  0\\n   -2.5875   -2.3708    0.0000 O   0  0  0  0  0  0  0  0  0  0  0  0\\n   -3.2958   -2.3708    0.0000 O   0  0  0  0  0  0  0  0  0  0  0  0\\n    8.2569   -1.8833    0.0000 C   0  0  0  0  0  0  0  0  0  0  0  0\\n    8.2557   -2.5940    0.0000 C   0  0  0  0  0  0  0  0  0  0  0  0\\n    8.8706   -2.9485    0.0000 C   0  0  0  0  0  0  0  0  0  0  0  0\\n    9.4828   -2.5935    0.0000 C   0  0  0  0  0  0  0  0  0  0  0  0\\n    9.4800   -1.8797    0.0000 C   0  0  0  0  0  0  0  0  0  0  0  0\\n    8.8688   -1.5289    0.0000 C   0  0  0  0  0  0  0  0  0  0  0  0\\n   10.0922   -1.5235    0.0000 S   0  0  0  0  0  0  0  0  0  0  0  0\\n   10.7068   -1.8756    0.0000 O   0  0  0  0  0  0  0  0  0  0  0  0\\n   10.4417   -0.9042    0.0000 O   0  0  0  0  0  0  0  0  0  0  0  0\\n    9.7333   -0.9042    0.0000 O   0  0  0  0  0  0  0  0  0  0  0  0\\n    7.6421   -2.9478    0.0000 C   0  0  0  0  0  0  0  0  0  0  0  0\\n    6.5458   -2.8583    0.0000 O   0  0  0  0  0  0  0  0  0  0  0  0\\n  1  2  2  0\\n  2  3  1  0\\n  3  4  2  0\\n  4  5  1  0\\n  5  6  2  0\\n  6  1  1  0\\n  5  7  1  0\\n  7  8  1  0\\n  7  9  2  0\\n  7 10  2  0\\n  2 11  1  0\\n 39 40  2  0\\n 23 24  2  0\\n 40 41  1  0\\n 16 12  2  0\\n 41 42  2  0\\n 42 36  1  0\\n 24 25  1  0\\n 39 43  1  0\\n 17 16  1  0\\n 14 44  1  0\\n 25 26  2  0\\n 44 45  1  0\\n 26 21  1  0\\n 45 46  1  0\\n 46 47  1  0\\n 26 27  1  0\\n 47 48  1  0\\n 17 18  2  0\\n 48 49  1  0\\n 27 28  1  0\\n 48 50  2  0\\n 48 51  2  0\\n 28 29  2  0\\n 18 19  1  0\\n 29 30  1  0\\n 19 22  2  0\\n 30 31  2  0\\n 31 32  1  0\\n 21 20  2  0\\n 32 33  2  0\\n 33 28  1  0\\n 20 17  1  0\\n 31 34  1  0\\n 12 13  1  0\\n 34 35  1  0\\n 13 14  2  0\\n 35 36  1  0\\n 21 22  1  0\\n 32 37  1  0\\n 14 15  1  0\\n 36 38  2  0\\n 22 23  1  0\\n 38 39  1  0\\n 15 16  1  0\\n 52 53  2  0\\n 53 54  1  0\\n 54 55  2  0\\n 55 56  1  0\\n 56 57  2  0\\n 57 52  1  0\\n 56 58  1  0\\n 58 59  1  0\\n 58 60  2  0\\n 58 61  2  0\\n 53 62  1  0\\nM  END\\n\\n> <chembl_id>\\nCHEMBL1201179\\n\\n> <chembl_pref_name>\\nLAPATINIB DITOSYLATE\\n\\n', 'standard_inchi': 'InChI=1S/C29H26ClFN4O4S.2C7H8O3S.H2O/c1-40(36,37)12-11-32-16-23-7-10-27(39-23)20-5-8-26-24(14-20)29(34-18-33-26)35-22-6-9-28(25(30)15-22)38-17-19-3-2-4-21(31)13-19;2*1-6-2-4-7(5-3-6)11(8,9)10;/h2-10,13-15,18,32H,11-12,16-17H2,1H3,(H,33,34,35);2*2-5H,1H3,(H,8,9,10);1H2', 'standard_inchi_key': 'XNRVGTHNYCNCFF-UHFFFAOYSA-N'}, 'molecule_type': 'Small molecule', 'natural_product': 0, 'oral': True, 'parenteral': False, 'polymer_flag': False, 'pref_name': 'LAPATINIB DITOSYLATE', 'prodrug': 0, 'similarity': '100', 'structure_type': 'MOL', 'therapeutic_flag': True, 'topical': False, 'usan_stem': '-tinib', 'usan_stem_definition': 'tyrosine kinase inhibitors', 'usan_substem': '-tinib', 'usan_year': 2003, 'withdrawn_class': None, 'withdrawn_country': None, 'withdrawn_flag': False, 'withdrawn_reason': None, 'withdrawn_year': None}, {'atc_classifications': [], 'availability_type': -1, 'biotherapeutic': None, 'black_box_warning': 0, 'chebi_par_id': None, 'chirality': -1, 'cross_references': [], 'dosed_ingredient': False, 'first_approval': None, 'first_in_class': -1, 'helm_notation': None, 'indication_class': None, 'inorganic_flag': -1, 'max_phase': 0, 'molecule_chembl_id': 'CHEMBL1076241', 'molecule_hierarchy': {'molecule_chembl_id': 'CHEMBL1076241', 'parent_chembl_id': 'CHEMBL554'}, 'molecule_properties': {'alogp': '6.14', 'aromatic_rings': 5, 'cx_logd': '4.40', 'cx_logp': '4.64', 'cx_most_apka': None, 'cx_most_bpka': '7.26', 'full_molformula': 'C36H34ClFN4O7S2', 'full_mwt': '753.27', 'hba': 8, 'hba_lipinski': 8, 'hbd': 2, 'hbd_lipinski': 2, 'heavy_atoms': 40, 'molecular_species': 'NEUTRAL', 'mw_freebase': '581.07', 'mw_monoisotopic': '580.1347', 'num_lipinski_ro5_violations': 2, 'num_ro5_violations': 2, 'psa': '106.35', 'qed_weighted': '0.18', 'ro3_pass': 'N', 'rtb': 11}, 'molecule_structures': {'canonical_smiles': 'CS(=O)(=O)CCNCc1ccc(-c2ccc3ncnc(Nc4ccc(OCc5cccc(F)c5)c(Cl)c4)c3c2)o1.Cc1ccc(S(=O)(=O)O)cc1', 'molfile': '\\n     RDKit          2D\\n\\n 51 55  0  0  0  0  0  0  0  0999 V2000\\n   13.5968   -6.6046    0.0000 C   0  0  0  0  0  0  0  0  0  0  0  0\\n   13.5955   -7.4315    0.0000 C   0  0  0  0  0  0  0  0  0  0  0  0\\n   14.3079   -7.8441    0.0000 C   0  0  0  0  0  0  0  0  0  0  0  0\\n   15.0266   -7.4311    0.0000 C   0  0  0  0  0  0  0  0  0  0  0  0\\n   15.0235   -6.6006    0.0000 C   0  0  0  0  0  0  0  0  0  0  0  0\\n   14.3059   -6.1921    0.0000 C   0  0  0  0  0  0  0  0  0  0  0  0\\n   14.3020   -5.3677    0.0000 C   0  0  0  0  0  0  0  0  0  0  0  0\\n   14.3065   -8.6685    0.0000 S   0  0  0  0  0  0  0  0  0  0  0  0\\n   13.5919   -9.0795    0.0000 O   0  0  0  0  0  0  0  0  0  0  0  0\\n   15.0135   -8.2487    0.0000 O   0  0  0  0  0  0  0  0  0  0  0  0\\n   14.7112   -9.3753    0.0000 O   0  0  0  0  0  0  0  0  0  0  0  0\\n    8.6476   -5.8073    0.0000 C   0  0  0  0  0  0  0  0  0  0  0  0\\n    8.6463   -6.6349    0.0000 C   0  0  0  0  0  0  0  0  0  0  0  0\\n    9.3593   -7.0479    0.0000 C   0  0  0  0  0  0  0  0  0  0  0  0\\n    9.3573   -5.3945    0.0000 C   0  0  0  0  0  0  0  0  0  0  0  0\\n   10.0754   -5.8033    0.0000 C   0  0  0  0  0  0  0  0  0  0  0  0\\n   10.0746   -6.6324    0.0000 C   0  0  0  0  0  0  0  0  0  0  0  0\\n   10.7882   -7.0454    0.0000 N   0  0  0  0  0  0  0  0  0  0  0  0\\n   11.5073   -6.6339    0.0000 C   0  0  0  0  0  0  0  0  0  0  0  0\\n   11.5081   -5.8048    0.0000 N   0  0  0  0  0  0  0  0  0  0  0  0\\n   10.7899   -5.3873    0.0000 C   0  0  0  0  0  0  0  0  0  0  0  0\\n   10.7897   -4.5622    0.0000 N   0  0  0  0  0  0  0  0  0  0  0  0\\n   11.5041   -4.1495    0.0000 C   0  0  0  0  0  0  0  0  0  0  0  0\\n   12.2175   -4.5637    0.0000 C   0  0  0  0  0  0  0  0  0  0  0  0\\n   12.9314   -4.1516    0.0000 C   0  0  0  0  0  0  0  0  0  0  0  0\\n   12.9315   -3.3257    0.0000 C   0  0  0  0  0  0  0  0  0  0  0  0\\n   12.2118   -2.9135    0.0000 C   0  0  0  0  0  0  0  0  0  0  0  0\\n   11.5009   -3.3280    0.0000 C   0  0  0  0  0  0  0  0  0  0  0  0\\n   13.6458   -4.5642    0.0000 Cl  0  0  0  0  0  0  0  0  0  0  0  0\\n   13.6453   -2.9119    0.0000 O   0  0  0  0  0  0  0  0  0  0  0  0\\n   14.3606   -3.3232    0.0000 C   0  0  0  0  0  0  0  0  0  0  0  0\\n   15.0744   -2.9096    0.0000 C   0  0  0  0  0  0  0  0  0  0  0  0\\n   15.7867   -3.3215    0.0000 C   0  0  0  0  0  0  0  0  0  0  0  0\\n   16.4999   -2.9085    0.0000 C   0  0  0  0  0  0  0  0  0  0  0  0\\n   16.4991   -2.0826    0.0000 C   0  0  0  0  0  0  0  0  0  0  0  0\\n   15.7789   -1.6714    0.0000 C   0  0  0  0  0  0  0  0  0  0  0  0\\n   15.0685   -2.0868    0.0000 C   0  0  0  0  0  0  0  0  0  0  0  0\\n   17.2150   -3.3202    0.0000 F   0  0  0  0  0  0  0  0  0  0  0  0\\n    7.9328   -5.3945    0.0000 C   0  0  0  0  0  0  0  0  0  0  0  0\\n    7.6454   -4.6246    0.0000 C   0  0  0  0  0  0  0  0  0  0  0  0\\n    6.8212   -4.6595    0.0000 C   0  0  0  0  0  0  0  0  0  0  0  0\\n    6.5996   -5.4543    0.0000 C   0  0  0  0  0  0  0  0  0  0  0  0\\n    7.2869   -5.9104    0.0000 O   0  0  0  0  0  0  0  0  0  0  0  0\\n    5.8272   -5.7419    0.0000 C   0  0  0  0  0  0  0  0  0  0  0  0\\n    5.0965   -5.3586    0.0000 N   0  0  0  0  0  0  0  0  0  0  0  0\\n    4.3993   -5.7996    0.0000 C   0  0  0  0  0  0  0  0  0  0  0  0\\n    3.6688   -5.4163    0.0000 C   0  0  0  0  0  0  0  0  0  0  0  0\\n    2.9714   -5.8573    0.0000 S   0  0  0  0  0  0  0  0  0  0  0  0\\n    2.2409   -5.4739    0.0000 C   0  0  0  0  0  0  0  0  0  0  0  0\\n    2.5158   -6.5478    0.0000 O   0  0  0  0  0  0  0  0  0  0  0  0\\n    3.5155   -6.4685    0.0000 O   0  0  0  0  0  0  0  0  0  0  0  0\\n  6  1  1  0\\n  1  2  2  0\\n  2  3  1  0\\n  3  4  2  0\\n  3  8  1  0\\n  4  5  1  0\\n  5  6  2  0\\n  6  7  1  0\\n  8  9  1  0\\n  8 10  2  0\\n  8 11  2  0\\n 26 30  1  0\\n 18 19  2  0\\n 30 31  1  0\\n 19 20  1  0\\n 31 32  1  0\\n 20 21  2  0\\n 32 33  2  0\\n 16 17  1  0\\n 33 34  1  0\\n 21 22  1  0\\n 34 35  2  0\\n 35 36  1  0\\n 22 23  1  0\\n 36 37  2  0\\n 37 32  1  0\\n 13 14  1  0\\n 34 38  1  0\\n 23 24  2  0\\n 12 39  1  0\\n 39 40  2  0\\n 14 17  2  0\\n 24 25  1  0\\n 12 13  2  0\\n 25 26  2  0\\n 40 41  1  0\\n 41 42  2  0\\n 42 43  1  0\\n 43 39  1  0\\n 16 15  2  0\\n 42 44  1  0\\n 26 27  1  0\\n 44 45  1  0\\n 15 12  1  0\\n 45 46  1  0\\n 27 28  2  0\\n 46 47  1  0\\n 28 23  1  0\\n 47 48  1  0\\n 16 21  1  0\\n 48 49  1  0\\n 25 29  1  0\\n 48 50  2  0\\n 17 18  1  0\\n 48 51  2  0\\nM  END\\n\\n> <chembl_id>\\nCHEMBL1076241\\n\\n> <chembl_pref_name>\\nNone\\n\\n', 'standard_inchi': 'InChI=1S/C29H26ClFN4O4S.C7H8O3S/c1-40(36,37)12-11-32-16-23-7-10-27(39-23)20-5-8-26-24(14-20)29(34-18-33-26)35-22-6-9-28(25(30)15-22)38-17-19-3-2-4-21(31)13-19;1-6-2-4-7(5-3-6)11(8,9)10/h2-10,13-15,18,32H,11-12,16-17H2,1H3,(H,33,34,35);2-5H,1H3,(H,8,9,10)', 'standard_inchi_key': 'OZDXXJABMOYNGY-UHFFFAOYSA-N'}, 'molecule_type': 'Small molecule', 'natural_product': -1, 'oral': False, 'parenteral': False, 'polymer_flag': False, 'pref_name': None, 'prodrug': -1, 'similarity': '100', 'structure_type': 'MOL', 'therapeutic_flag': False, 'topical': False, 'usan_stem': None, 'usan_stem_definition': None, 'usan_substem': None, 'usan_year': None, 'withdrawn_class': None, 'withdrawn_country': None, 'withdrawn_flag': False, 'withdrawn_reason': None, 'withdrawn_year': None}, {'atc_classifications': ['L01XE07'], 'availability_type': 1, 'biotherapeutic': None, 'black_box_warning': 1, 'chebi_par_id': 49603, 'chirality': 2, 'cross_references': [{'xref_id': 'lapatinib%20ditosylate', 'xref_name': 'lapatinib ditosylate', 'xref_src': 'DailyMed'}, {'xref_id': '103905567', 'xref_name': 'SID: 103905567', 'xref_src': 'PubChem'}, {'xref_id': '103905568', 'xref_name': 'SID: 103905568', 'xref_src': 'PubChem'}, {'xref_id': '144206058', 'xref_name': 'SID: 144206058', 'xref_src': 'PubChem'}, {'xref_id': '170465125', 'xref_name': 'SID: 170465125', 'xref_src': 'PubChem'}, {'xref_id': '50100107', 'xref_name': 'SID: 50100107', 'xref_src': 'PubChem'}, {'xref_id': 'Lapatinib', 'xref_name': None, 'xref_src': 'Wikipedia'}], 'dosed_ingredient': True, 'first_approval': 2007, 'first_in_class': 0, 'helm_notation': None, 'indication_class': None, 'inorganic_flag': 0, 'max_phase': 4, 'molecule_chembl_id': 'CHEMBL554', 'molecule_hierarchy': {'molecule_chembl_id': 'CHEMBL554', 'parent_chembl_id': 'CHEMBL554'}, 'molecule_properties': {'alogp': '6.14', 'aromatic_rings': 5, 'cx_logd': '4.40', 'cx_logp': '4.64', 'cx_most_apka': None, 'cx_most_bpka': '7.26', 'full_molformula': 'C29H26ClFN4O4S', 'full_mwt': '581.07', 'hba': 8, 'hba_lipinski': 8, 'hbd': 2, 'hbd_lipinski': 2, 'heavy_atoms': 40, 'molecular_species': 'NEUTRAL', 'mw_freebase': '581.07', 'mw_monoisotopic': '580.1347', 'num_lipinski_ro5_violations': 2, 'num_ro5_violations': 2, 'psa': '106.35', 'qed_weighted': '0.18', 'ro3_pass': 'N', 'rtb': 11}, 'molecule_structures': {'canonical_smiles': 'CS(=O)(=O)CCNCc1ccc(-c2ccc3ncnc(Nc4ccc(OCc5cccc(F)c5)c(Cl)c4)c3c2)o1', 'molfile': '\\n     RDKit          2D\\n\\n 40 44  0  0  0  0  0  0  0  0999 V2000\\n    1.2602   -2.6079    0.0000 C   0  0  0  0  0  0  0  0  0  0  0  0\\n    0.4340   -2.6079    0.0000 C   0  0  0  0  0  0  0  0  0  0  0  0\\n    0.1797   -3.3915    0.0000 C   0  0  0  0  0  0  0  0  0  0  0  0\\n    0.8495   -3.8833    0.0000 O   0  0  0  0  0  0  0  0  0  0  0  0\\n    1.5192   -3.3915    0.0000 C   0  0  0  0  0  0  0  0  0  0  0  0\\n    2.2352   -3.8070    0.0000 C   0  0  0  0  0  0  0  0  0  0  0  0\\n    2.2338   -4.6360    0.0000 C   0  0  0  0  0  0  0  0  0  0  0  0\\n    2.9517   -5.0470    0.0000 C   0  0  0  0  0  0  0  0  0  0  0  0\\n    2.9496   -3.3912    0.0000 C   0  0  0  0  0  0  0  0  0  0  0  0\\n    3.6583   -3.8027    0.0000 C   0  0  0  0  0  0  0  0  0  0  0  0\\n    3.6594   -4.6317    0.0000 C   0  0  0  0  0  0  0  0  0  0  0  0\\n    4.3775   -5.0409    0.0000 N   0  0  0  0  0  0  0  0  0  0  0  0\\n    5.0945   -4.6272    0.0000 C   0  0  0  0  0  0  0  0  0  0  0  0\\n    5.0893   -3.7951    0.0000 N   0  0  0  0  0  0  0  0  0  0  0  0\\n    4.3709   -3.3848    0.0000 C   0  0  0  0  0  0  0  0  0  0  0  0\\n    4.3661   -2.5587    0.0000 N   0  0  0  0  0  0  0  0  0  0  0  0\\n    5.0797   -2.1438    0.0000 C   0  0  0  0  0  0  0  0  0  0  0  0\\n    5.7943   -2.5532    0.0000 C   0  0  0  0  0  0  0  0  0  0  0  0\\n    6.5075   -2.1392    0.0000 C   0  0  0  0  0  0  0  0  0  0  0  0\\n    6.5031   -1.3121    0.0000 C   0  0  0  0  0  0  0  0  0  0  0  0\\n    5.7796   -0.9011    0.0000 C   0  0  0  0  0  0  0  0  0  0  0  0\\n    5.0693   -1.3223    0.0000 C   0  0  0  0  0  0  0  0  0  0  0  0\\n    7.2162   -0.8915    0.0000 O   0  0  0  0  0  0  0  0  0  0  0  0\\n    7.9354   -1.3019    0.0000 C   0  0  0  0  0  0  0  0  0  0  0  0\\n    8.6436   -0.8813    0.0000 C   0  0  0  0  0  0  0  0  0  0  0  0\\n    5.7719   -0.0749    0.0000 Cl  0  0  0  0  0  0  0  0  0  0  0  0\\n    9.3606   -1.2940    0.0000 C   0  0  0  0  0  0  0  0  0  0  0  0\\n   10.0731   -0.8742    0.0000 C   0  0  0  0  0  0  0  0  0  0  0  0\\n   10.0677   -0.0472    0.0000 C   0  0  0  0  0  0  0  0  0  0  0  0\\n    9.3437    0.3582    0.0000 C   0  0  0  0  0  0  0  0  0  0  0  0\\n    8.6340   -0.0593    0.0000 C   0  0  0  0  0  0  0  0  0  0  0  0\\n   10.7920   -1.2849    0.0000 F   0  0  0  0  0  0  0  0  0  0  0  0\\n   -0.5410   -3.7974    0.0000 C   0  0  0  0  0  0  0  0  0  0  0  0\\n   -1.2518   -3.3728    0.0000 N   0  0  0  0  0  0  0  0  0  0  0  0\\n   -1.9684   -3.7790    0.0000 C   0  0  0  0  0  0  0  0  0  0  0  0\\n   -2.6792   -3.3544    0.0000 C   0  0  0  0  0  0  0  0  0  0  0  0\\n   -3.4005   -3.7605    0.0000 S   0  0  0  0  0  0  0  0  0  0  0  0\\n   -4.1113   -3.3359    0.0000 C   0  0  0  0  0  0  0  0  0  0  0  0\\n   -2.9954   -4.4689    0.0000 O   0  0  0  0  0  0  0  0  0  0  0  0\\n   -3.8215   -4.4689    0.0000 O   0  0  0  0  0  0  0  0  0  0  0  0\\n 16 17  1  0\\n 37 39  2  0\\n 37 40  2  0\\n 17 18  2  0\\n  7  8  1  0\\n 18 19  1  0\\n  8 11  2  0\\n 19 20  2  0\\n 20 21  1  0\\n 10  9  2  0\\n 21 22  2  0\\n 22 17  1  0\\n  9  6  1  0\\n 20 23  1  0\\n  1  2  1  0\\n 23 24  1  0\\n  2  3  2  0\\n 24 25  1  0\\n 10 11  1  0\\n 21 26  1  0\\n  3  4  1  0\\n 25 27  2  0\\n 11 12  1  0\\n 27 28  1  0\\n  4  5  1  0\\n 28 29  2  0\\n 12 13  2  0\\n 29 30  1  0\\n  5  1  2  0\\n 30 31  2  0\\n 31 25  1  0\\n 13 14  1  0\\n 28 32  1  0\\n  6  5  1  0\\n  3 33  1  0\\n 14 15  2  0\\n 33 34  1  0\\n 15 10  1  0\\n 34 35  1  0\\n 35 36  1  0\\n 15 16  1  0\\n 36 37  1  0\\n  6  7  2  0\\n 37 38  1  0\\nM  END\\n\\n> <chembl_id>\\nCHEMBL554\\n\\n> <chembl_pref_name>\\nLAPATINIB\\n\\n', 'standard_inchi': 'InChI=1S/C29H26ClFN4O4S/c1-40(36,37)12-11-32-16-23-7-10-27(39-23)20-5-8-26-24(14-20)29(34-18-33-26)35-22-6-9-28(25(30)15-22)38-17-19-3-2-4-21(31)13-19/h2-10,13-15,18,32H,11-12,16-17H2,1H3,(H,33,34,35)', 'standard_inchi_key': 'BCFGMOOMADDAQU-UHFFFAOYSA-N'}, 'molecule_type': 'Small molecule', 'natural_product': 0, 'oral': True, 'parenteral': False, 'polymer_flag': False, 'pref_name': 'LAPATINIB', 'prodrug': 0, 'similarity': '100', 'structure_type': 'MOL', 'therapeutic_flag': True, 'topical': False, 'usan_stem': '-tinib', 'usan_stem_definition': 'tyrosine kinase inhibitors', 'usan_substem': '-tinib', 'usan_year': 2003, 'withdrawn_class': None, 'withdrawn_country': None, 'withdrawn_flag': False, 'withdrawn_reason': None, 'withdrawn_year': None}, '...(remaining elements truncated)...']"
      ]
     },
     "execution_count": 24,
     "metadata": {},
     "output_type": "execute_result"
    }
   ],
   "source": [
    "res"
   ]
  },
  {
   "cell_type": "markdown",
   "metadata": {},
   "source": [
    "## Versions for a parent structure¶"
   ]
  },
  {
   "cell_type": "code",
   "execution_count": 25,
   "metadata": {},
   "outputs": [],
   "source": [
    "# Neostigmine (a parent)...\n",
    "chembl_id = \"CHEMBL278020\""
   ]
  },
  {
   "cell_type": "code",
   "execution_count": 26,
   "metadata": {},
   "outputs": [
    {
     "data": {
      "text/plain": [
       "[{'is_parent': True,\n",
       "  'molecule_chembl_id': 'CHEMBL278020',\n",
       "  'parent_chembl_id': 'CHEMBL278020'},\n",
       " {'is_parent': False,\n",
       "  'molecule_chembl_id': 'CHEMBL54126',\n",
       "  'parent_chembl_id': 'CHEMBL278020'},\n",
       " {'is_parent': False,\n",
       "  'molecule_chembl_id': 'CHEMBL211471',\n",
       "  'parent_chembl_id': 'CHEMBL278020'}]"
      ]
     },
     "execution_count": 26,
     "metadata": {},
     "output_type": "execute_result"
    }
   ],
   "source": [
    "records = new_client.molecule_form.get(chembl_id)['molecule_forms']\n",
    "records"
   ]
  },
  {
   "cell_type": "code",
   "execution_count": 27,
   "metadata": {},
   "outputs": [
    {
     "name": "stdout",
     "output_type": "stream",
     "text": [
      "CHEMBL54126 : CN(C)C(=O)Oc1cccc([N+](C)(C)C)c1.[Br-]\n",
      "CHEMBL211471 : CN(C)C(=O)Oc1cccc([N+](C)(C)C)c1.COS(=O)(=O)[O-]\n"
     ]
    }
   ],
   "source": [
    "for chembl_id in [x[\"molecule_chembl_id\"] for x in records if x[\"is_parent\"] == False]:\n",
    "    record = new_client.molecule.get(chembl_id)          \n",
    "    print(\"{:10s} : {}\".format(chembl_id, record['molecule_structures']['canonical_smiles']))"
   ]
  },
  {
   "cell_type": "markdown",
   "metadata": {},
   "source": [
    "## Drug mechanism(s) of action"
   ]
  },
  {
   "cell_type": "code",
   "execution_count": 28,
   "metadata": {},
   "outputs": [
    {
     "name": "stdout",
     "output_type": "stream",
     "text": [
      "The recorded mechanisms of action of 'CHEMBL554' are...\n",
      "--------------------------------------------------\n",
      "The recorded mechanisms of action of 'CHEMBL1076241' are...\n",
      "--------------------------------------------------\n",
      "The recorded mechanisms of action of 'CHEMBL1201179' are...\n",
      "CHEMBL1201179 : Receptor protein-tyrosine kinase erbB-2 inhibitor\n",
      "CHEMBL1201179 : Epidermal growth factor receptor erbB1 inhibitor\n",
      "--------------------------------------------------\n",
      "The recorded mechanisms of action of 'CHEMBL1201183' are...\n",
      "--------------------------------------------------\n",
      "The recorded mechanisms of action of 'CHEMBL3526325' are...\n",
      "--------------------------------------------------\n"
     ]
    }
   ],
   "source": [
    "# Molecule forms for Lapatinib are used here...\n",
    "for chembl_id in (x[\"molecule_chembl_id\"] for x in new_client.molecule_form.get(\"CHEMBL554\")['molecule_forms']):\n",
    "    print(\"The recorded mechanisms of action of '{}' are...\".format(chembl_id))\n",
    "    mechanism_records = new_client.mechanism.filter(molecule_chembl_id=chembl_id)\n",
    "    if mechanism_records:\n",
    "        for mech_rec in mechanism_records:\n",
    "            print(\"{:10s} : {}\".format(mech_rec[\"molecule_chembl_id\"], mech_rec[\"mechanism_of_action\"]))\n",
    "    print(\"-\" * 50)"
   ]
  },
  {
   "cell_type": "markdown",
   "metadata": {},
   "source": [
    "## Image query"
   ]
  },
  {
   "cell_type": "code",
   "execution_count": 29,
   "metadata": {},
   "outputs": [],
   "source": [
    "# Lapatinib ditosylate monohydrate (Tykerb)\n",
    "chembl_id = \"CHEMBL1201179\""
   ]
  },
  {
   "cell_type": "code",
   "execution_count": 30,
   "metadata": {},
   "outputs": [
    {
     "data": {
      "image/svg+xml": [
       "<svg baseProfile=\"full\" height=\"500px\" version=\"1.1\" viewBox=\"0 0 500 500\" width=\"500px\" xml:space=\"preserve\" xmlns=\"http://www.w3.org/2000/svg\" xmlns:rdkit=\"http://www.rdkit.org/xml\" xmlns:xlink=\"http://www.w3.org/1999/xlink\">\n",
       "<!-- END OF HEADER -->\n",
       "<path class=\"bond-0\" d=\"M 404.201,282.623 L 404.171,300.53\" style=\"fill:none;fill-rule:evenodd;stroke:#000000;stroke-width:2px;stroke-linecap:butt;stroke-linejoin:miter;stroke-opacity:1\"/>\n",
       "<path class=\"bond-0\" d=\"M 408.732,285.317 L 408.711,297.851\" style=\"fill:none;fill-rule:evenodd;stroke:#000000;stroke-width:2px;stroke-linecap:butt;stroke-linejoin:miter;stroke-opacity:1\"/>\n",
       "<path class=\"bond-5\" d=\"M 404.201,282.623 L 419.619,273.693\" style=\"fill:none;fill-rule:evenodd;stroke:#000000;stroke-width:2px;stroke-linecap:butt;stroke-linejoin:miter;stroke-opacity:1\"/>\n",
       "<path class=\"bond-1\" d=\"M 404.171,300.53 L 419.664,309.462\" style=\"fill:none;fill-rule:evenodd;stroke:#000000;stroke-width:2px;stroke-linecap:butt;stroke-linejoin:miter;stroke-opacity:1\"/>\n",
       "<path class=\"bond-10\" d=\"M 404.171,300.53 L 388.711,309.444\" style=\"fill:none;fill-rule:evenodd;stroke:#000000;stroke-width:2px;stroke-linecap:butt;stroke-linejoin:miter;stroke-opacity:1\"/>\n",
       "<path class=\"bond-2\" d=\"M 419.664,309.462 L 435.09,300.517\" style=\"fill:none;fill-rule:evenodd;stroke:#000000;stroke-width:2px;stroke-linecap:butt;stroke-linejoin:miter;stroke-opacity:1\"/>\n",
       "<path class=\"bond-2\" d=\"M 419.703,304.197 L 430.501,297.936\" style=\"fill:none;fill-rule:evenodd;stroke:#000000;stroke-width:2px;stroke-linecap:butt;stroke-linejoin:miter;stroke-opacity:1\"/>\n",
       "<path class=\"bond-3\" d=\"M 435.09,300.517 L 435.019,282.532\" style=\"fill:none;fill-rule:evenodd;stroke:#000000;stroke-width:2px;stroke-linecap:butt;stroke-linejoin:miter;stroke-opacity:1\"/>\n",
       "<path class=\"bond-4\" d=\"M 435.019,282.532 L 419.619,273.693\" style=\"fill:none;fill-rule:evenodd;stroke:#000000;stroke-width:2px;stroke-linecap:butt;stroke-linejoin:miter;stroke-opacity:1\"/>\n",
       "<path class=\"bond-4\" d=\"M 430.451,285.14 L 419.671,278.953\" style=\"fill:none;fill-rule:evenodd;stroke:#000000;stroke-width:2px;stroke-linecap:butt;stroke-linejoin:miter;stroke-opacity:1\"/>\n",
       "<path class=\"bond-6\" d=\"M 435.019,282.532 L 440.21,279.512\" style=\"fill:none;fill-rule:evenodd;stroke:#000000;stroke-width:2px;stroke-linecap:butt;stroke-linejoin:miter;stroke-opacity:1\"/>\n",
       "<path class=\"bond-6\" d=\"M 440.21,279.512 L 445.4,276.492\" style=\"fill:none;fill-rule:evenodd;stroke:#CCCC00;stroke-width:2px;stroke-linecap:butt;stroke-linejoin:miter;stroke-opacity:1\"/>\n",
       "<path class=\"bond-7\" d=\"M 455.488,276.447 L 455.211,276.288\" style=\"fill:none;fill-rule:evenodd;stroke:#CCCC00;stroke-width:2px;stroke-linecap:butt;stroke-linejoin:miter;stroke-opacity:1\"/>\n",
       "<path class=\"bond-7\" d=\"M 455.211,276.288 L 454.935,276.13\" style=\"fill:none;fill-rule:evenodd;stroke:#FF0000;stroke-width:2px;stroke-linecap:butt;stroke-linejoin:miter;stroke-opacity:1\"/>\n",
       "<path class=\"bond-8\" d=\"M 455.974,268.373 L 456.822,266.87\" style=\"fill:none;fill-rule:evenodd;stroke:#CCCC00;stroke-width:2px;stroke-linecap:butt;stroke-linejoin:miter;stroke-opacity:1\"/>\n",
       "<path class=\"bond-8\" d=\"M 456.822,266.87 L 457.67,265.367\" style=\"fill:none;fill-rule:evenodd;stroke:#FF0000;stroke-width:2px;stroke-linecap:butt;stroke-linejoin:miter;stroke-opacity:1\"/>\n",
       "<path class=\"bond-8\" d=\"M 452.024,266.144 L 452.872,264.641\" style=\"fill:none;fill-rule:evenodd;stroke:#CCCC00;stroke-width:2px;stroke-linecap:butt;stroke-linejoin:miter;stroke-opacity:1\"/>\n",
       "<path class=\"bond-8\" d=\"M 452.872,264.641 L 453.721,263.138\" style=\"fill:none;fill-rule:evenodd;stroke:#FF0000;stroke-width:2px;stroke-linecap:butt;stroke-linejoin:miter;stroke-opacity:1\"/>\n",
       "<path class=\"bond-9\" d=\"M 448.756,266.121 L 447.885,264.618\" style=\"fill:none;fill-rule:evenodd;stroke:#CCCC00;stroke-width:2px;stroke-linecap:butt;stroke-linejoin:miter;stroke-opacity:1\"/>\n",
       "<path class=\"bond-9\" d=\"M 447.885,264.618 L 447.014,263.115\" style=\"fill:none;fill-rule:evenodd;stroke:#FF0000;stroke-width:2px;stroke-linecap:butt;stroke-linejoin:miter;stroke-opacity:1\"/>\n",
       "<path class=\"bond-9\" d=\"M 444.832,268.395 L 443.961,266.892\" style=\"fill:none;fill-rule:evenodd;stroke:#CCCC00;stroke-width:2px;stroke-linecap:butt;stroke-linejoin:miter;stroke-opacity:1\"/>\n",
       "<path class=\"bond-9\" d=\"M 443.961,266.892 L 443.09,265.389\" style=\"fill:none;fill-rule:evenodd;stroke:#FF0000;stroke-width:2px;stroke-linecap:butt;stroke-linejoin:miter;stroke-opacity:1\"/>\n",
       "<path class=\"bond-14\" d=\"M 138.819,254.675 L 144.342,271.597\" style=\"fill:none;fill-rule:evenodd;stroke:#000000;stroke-width:2px;stroke-linecap:butt;stroke-linejoin:miter;stroke-opacity:1\"/>\n",
       "<path class=\"bond-14\" d=\"M 135.336,258.621 L 139.202,270.466\" style=\"fill:none;fill-rule:evenodd;stroke:#000000;stroke-width:2px;stroke-linecap:butt;stroke-linejoin:miter;stroke-opacity:1\"/>\n",
       "<path class=\"bond-44\" d=\"M 138.819,254.675 L 120.973,254.675\" style=\"fill:none;fill-rule:evenodd;stroke:#000000;stroke-width:2px;stroke-linecap:butt;stroke-linejoin:miter;stroke-opacity:1\"/>\n",
       "<path class=\"bond-46\" d=\"M 120.973,254.675 L 115.447,271.597\" style=\"fill:none;fill-rule:evenodd;stroke:#000000;stroke-width:2px;stroke-linecap:butt;stroke-linejoin:miter;stroke-opacity:1\"/>\n",
       "<path class=\"bond-46\" d=\"M 124.455,258.621 L 120.587,270.467\" style=\"fill:none;fill-rule:evenodd;stroke:#000000;stroke-width:2px;stroke-linecap:butt;stroke-linejoin:miter;stroke-opacity:1\"/>\n",
       "<path class=\"bond-20\" d=\"M 115.447,271.597 L 99.8884,280.315\" style=\"fill:none;fill-rule:evenodd;stroke:#000000;stroke-width:2px;stroke-linecap:butt;stroke-linejoin:miter;stroke-opacity:1\"/>\n",
       "<path class=\"bond-50\" d=\"M 115.447,271.597 L 119.729,274.734\" style=\"fill:none;fill-rule:evenodd;stroke:#000000;stroke-width:2px;stroke-linecap:butt;stroke-linejoin:miter;stroke-opacity:1\"/>\n",
       "<path class=\"bond-50\" d=\"M 119.729,274.734 L 124.011,277.872\" style=\"fill:none;fill-rule:evenodd;stroke:#FF0000;stroke-width:2px;stroke-linecap:butt;stroke-linejoin:miter;stroke-opacity:1\"/>\n",
       "<path class=\"bond-54\" d=\"M 135.778,277.872 L 140.06,274.734\" style=\"fill:none;fill-rule:evenodd;stroke:#FF0000;stroke-width:2px;stroke-linecap:butt;stroke-linejoin:miter;stroke-opacity:1\"/>\n",
       "<path class=\"bond-54\" d=\"M 140.06,274.734 L 144.342,271.597\" style=\"fill:none;fill-rule:evenodd;stroke:#000000;stroke-width:2px;stroke-linecap:butt;stroke-linejoin:miter;stroke-opacity:1\"/>\n",
       "<path class=\"bond-19\" d=\"M 144.342,271.597 L 159.798,280.524\" style=\"fill:none;fill-rule:evenodd;stroke:#000000;stroke-width:2px;stroke-linecap:butt;stroke-linejoin:miter;stroke-opacity:1\"/>\n",
       "<path class=\"bond-28\" d=\"M 159.798,280.524 L 159.767,298.431\" style=\"fill:none;fill-rule:evenodd;stroke:#000000;stroke-width:2px;stroke-linecap:butt;stroke-linejoin:miter;stroke-opacity:1\"/>\n",
       "<path class=\"bond-28\" d=\"M 164.328,283.218 L 164.307,295.753\" style=\"fill:none;fill-rule:evenodd;stroke:#000000;stroke-width:2px;stroke-linecap:butt;stroke-linejoin:miter;stroke-opacity:1\"/>\n",
       "<path class=\"bond-42\" d=\"M 159.798,280.524 L 175.215,271.592\" style=\"fill:none;fill-rule:evenodd;stroke:#000000;stroke-width:2px;stroke-linecap:butt;stroke-linejoin:miter;stroke-opacity:1\"/>\n",
       "<path class=\"bond-34\" d=\"M 159.767,298.431 L 175.261,307.363\" style=\"fill:none;fill-rule:evenodd;stroke:#000000;stroke-width:2px;stroke-linecap:butt;stroke-linejoin:miter;stroke-opacity:1\"/>\n",
       "<path class=\"bond-36\" d=\"M 175.261,307.363 L 190.64,298.338\" style=\"fill:none;fill-rule:evenodd;stroke:#000000;stroke-width:2px;stroke-linecap:butt;stroke-linejoin:miter;stroke-opacity:1\"/>\n",
       "<path class=\"bond-36\" d=\"M 175.272,302.098 L 186.038,295.78\" style=\"fill:none;fill-rule:evenodd;stroke:#000000;stroke-width:2px;stroke-linecap:butt;stroke-linejoin:miter;stroke-opacity:1\"/>\n",
       "<path class=\"bond-39\" d=\"M 175.215,271.592 L 190.615,280.431\" style=\"fill:none;fill-rule:evenodd;stroke:#000000;stroke-width:2px;stroke-linecap:butt;stroke-linejoin:miter;stroke-opacity:1\"/>\n",
       "<path class=\"bond-39\" d=\"M 175.268,276.851 L 186.048,283.038\" style=\"fill:none;fill-rule:evenodd;stroke:#000000;stroke-width:2px;stroke-linecap:butt;stroke-linejoin:miter;stroke-opacity:1\"/>\n",
       "<path class=\"bond-23\" d=\"M 190.615,280.431 L 205.995,271.453\" style=\"fill:none;fill-rule:evenodd;stroke:#000000;stroke-width:2px;stroke-linecap:butt;stroke-linejoin:miter;stroke-opacity:1\"/>\n",
       "<path class=\"bond-48\" d=\"M 190.615,280.431 L 190.64,298.338\" style=\"fill:none;fill-rule:evenodd;stroke:#000000;stroke-width:2px;stroke-linecap:butt;stroke-linejoin:miter;stroke-opacity:1\"/>\n",
       "<path class=\"bond-52\" d=\"M 190.64,298.338 L 195.66,301.217\" style=\"fill:none;fill-rule:evenodd;stroke:#000000;stroke-width:2px;stroke-linecap:butt;stroke-linejoin:miter;stroke-opacity:1\"/>\n",
       "<path class=\"bond-52\" d=\"M 195.66,301.217 L 200.679,304.097\" style=\"fill:none;fill-rule:evenodd;stroke:#0000FF;stroke-width:2px;stroke-linecap:butt;stroke-linejoin:miter;stroke-opacity:1\"/>\n",
       "<path class=\"bond-12\" d=\"M 211.598,304.058 L 216.607,301.149\" style=\"fill:none;fill-rule:evenodd;stroke:#0000FF;stroke-width:2px;stroke-linecap:butt;stroke-linejoin:miter;stroke-opacity:1\"/>\n",
       "<path class=\"bond-12\" d=\"M 216.607,301.149 L 221.617,298.24\" style=\"fill:none;fill-rule:evenodd;stroke:#000000;stroke-width:2px;stroke-linecap:butt;stroke-linejoin:miter;stroke-opacity:1\"/>\n",
       "<path class=\"bond-12\" d=\"M 210.823,299.264 L 214.33,297.227\" style=\"fill:none;fill-rule:evenodd;stroke:#0000FF;stroke-width:2px;stroke-linecap:butt;stroke-linejoin:miter;stroke-opacity:1\"/>\n",
       "<path class=\"bond-12\" d=\"M 214.33,297.227 L 217.836,295.191\" style=\"fill:none;fill-rule:evenodd;stroke:#000000;stroke-width:2px;stroke-linecap:butt;stroke-linejoin:miter;stroke-opacity:1\"/>\n",
       "<path class=\"bond-17\" d=\"M 221.617,298.24 L 221.58,292.402\" style=\"fill:none;fill-rule:evenodd;stroke:#000000;stroke-width:2px;stroke-linecap:butt;stroke-linejoin:miter;stroke-opacity:1\"/>\n",
       "<path class=\"bond-17\" d=\"M 221.58,292.402 L 221.543,286.564\" style=\"fill:none;fill-rule:evenodd;stroke:#0000FF;stroke-width:2px;stroke-linecap:butt;stroke-linejoin:miter;stroke-opacity:1\"/>\n",
       "<path class=\"bond-21\" d=\"M 216.044,277.163 L 211.019,274.308\" style=\"fill:none;fill-rule:evenodd;stroke:#0000FF;stroke-width:2px;stroke-linecap:butt;stroke-linejoin:miter;stroke-opacity:1\"/>\n",
       "<path class=\"bond-21\" d=\"M 211.019,274.308 L 205.995,271.453\" style=\"fill:none;fill-rule:evenodd;stroke:#000000;stroke-width:2px;stroke-linecap:butt;stroke-linejoin:miter;stroke-opacity:1\"/>\n",
       "<path class=\"bond-21\" d=\"M 212.296,280.249 L 208.779,278.251\" style=\"fill:none;fill-rule:evenodd;stroke:#0000FF;stroke-width:2px;stroke-linecap:butt;stroke-linejoin:miter;stroke-opacity:1\"/>\n",
       "<path class=\"bond-21\" d=\"M 208.779,278.251 L 205.262,276.253\" style=\"fill:none;fill-rule:evenodd;stroke:#000000;stroke-width:2px;stroke-linecap:butt;stroke-linejoin:miter;stroke-opacity:1\"/>\n",
       "<path class=\"bond-26\" d=\"M 205.995,271.453 L 205.962,265.68\" style=\"fill:none;fill-rule:evenodd;stroke:#000000;stroke-width:2px;stroke-linecap:butt;stroke-linejoin:miter;stroke-opacity:1\"/>\n",
       "<path class=\"bond-26\" d=\"M 205.962,265.68 L 205.928,259.906\" style=\"fill:none;fill-rule:evenodd;stroke:#0000FF;stroke-width:2px;stroke-linecap:butt;stroke-linejoin:miter;stroke-opacity:1\"/>\n",
       "<path class=\"bond-30\" d=\"M 216.654,247.308 L 218.974,245.95\" style=\"fill:none;fill-rule:evenodd;stroke:#0000FF;stroke-width:2px;stroke-linecap:butt;stroke-linejoin:miter;stroke-opacity:1\"/>\n",
       "<path class=\"bond-30\" d=\"M 218.974,245.95 L 221.294,244.592\" style=\"fill:none;fill-rule:evenodd;stroke:#000000;stroke-width:2px;stroke-linecap:butt;stroke-linejoin:miter;stroke-opacity:1\"/>\n",
       "<path class=\"bond-33\" d=\"M 221.294,244.592 L 236.717,253.488\" style=\"fill:none;fill-rule:evenodd;stroke:#000000;stroke-width:2px;stroke-linecap:butt;stroke-linejoin:miter;stroke-opacity:1\"/>\n",
       "<path class=\"bond-33\" d=\"M 225.874,241.998 L 236.67,248.225\" style=\"fill:none;fill-rule:evenodd;stroke:#000000;stroke-width:2px;stroke-linecap:butt;stroke-linejoin:miter;stroke-opacity:1\"/>\n",
       "<path class=\"bond-41\" d=\"M 221.294,244.592 L 221.067,226.846\" style=\"fill:none;fill-rule:evenodd;stroke:#000000;stroke-width:2px;stroke-linecap:butt;stroke-linejoin:miter;stroke-opacity:1\"/>\n",
       "<path class=\"bond-35\" d=\"M 236.717,253.488 L 252.109,244.491\" style=\"fill:none;fill-rule:evenodd;stroke:#000000;stroke-width:2px;stroke-linecap:butt;stroke-linejoin:miter;stroke-opacity:1\"/>\n",
       "<path class=\"bond-37\" d=\"M 252.109,244.491 L 252.013,226.624\" style=\"fill:none;fill-rule:evenodd;stroke:#000000;stroke-width:2px;stroke-linecap:butt;stroke-linejoin:miter;stroke-opacity:1\"/>\n",
       "<path class=\"bond-37\" d=\"M 247.56,241.835 L 247.493,229.328\" style=\"fill:none;fill-rule:evenodd;stroke:#000000;stroke-width:2px;stroke-linecap:butt;stroke-linejoin:miter;stroke-opacity:1\"/>\n",
       "<path class=\"bond-38\" d=\"M 252.013,226.624 L 236.397,217.795\" style=\"fill:none;fill-rule:evenodd;stroke:#000000;stroke-width:2px;stroke-linecap:butt;stroke-linejoin:miter;stroke-opacity:1\"/>\n",
       "<path class=\"bond-43\" d=\"M 252.013,226.624 L 256.768,223.833\" style=\"fill:none;fill-rule:evenodd;stroke:#000000;stroke-width:2px;stroke-linecap:butt;stroke-linejoin:miter;stroke-opacity:1\"/>\n",
       "<path class=\"bond-43\" d=\"M 256.768,223.833 L 261.523,221.042\" style=\"fill:none;fill-rule:evenodd;stroke:#FF0000;stroke-width:2px;stroke-linecap:butt;stroke-linejoin:miter;stroke-opacity:1\"/>\n",
       "<path class=\"bond-40\" d=\"M 236.397,217.795 L 221.067,226.846\" style=\"fill:none;fill-rule:evenodd;stroke:#000000;stroke-width:2px;stroke-linecap:butt;stroke-linejoin:miter;stroke-opacity:1\"/>\n",
       "<path class=\"bond-40\" d=\"M 236.403,223.058 L 225.673,229.394\" style=\"fill:none;fill-rule:evenodd;stroke:#000000;stroke-width:2px;stroke-linecap:butt;stroke-linejoin:miter;stroke-opacity:1\"/>\n",
       "<path class=\"bond-49\" d=\"M 236.397,217.795 L 236.343,212.022\" style=\"fill:none;fill-rule:evenodd;stroke:#000000;stroke-width:2px;stroke-linecap:butt;stroke-linejoin:miter;stroke-opacity:1\"/>\n",
       "<path class=\"bond-49\" d=\"M 236.343,212.022 L 236.289,206.248\" style=\"fill:none;fill-rule:evenodd;stroke:#00CC00;stroke-width:2px;stroke-linecap:butt;stroke-linejoin:miter;stroke-opacity:1\"/>\n",
       "<path class=\"bond-45\" d=\"M 273.289,220.93 L 278.108,223.666\" style=\"fill:none;fill-rule:evenodd;stroke:#FF0000;stroke-width:2px;stroke-linecap:butt;stroke-linejoin:miter;stroke-opacity:1\"/>\n",
       "<path class=\"bond-45\" d=\"M 278.108,223.666 L 282.927,226.402\" style=\"fill:none;fill-rule:evenodd;stroke:#000000;stroke-width:2px;stroke-linecap:butt;stroke-linejoin:miter;stroke-opacity:1\"/>\n",
       "<path class=\"bond-47\" d=\"M 282.927,226.402 L 298.317,217.367\" style=\"fill:none;fill-rule:evenodd;stroke:#000000;stroke-width:2px;stroke-linecap:butt;stroke-linejoin:miter;stroke-opacity:1\"/>\n",
       "<path class=\"bond-16\" d=\"M 298.317,217.367 L 298.108,199.609\" style=\"fill:none;fill-rule:evenodd;stroke:#000000;stroke-width:2px;stroke-linecap:butt;stroke-linejoin:miter;stroke-opacity:1\"/>\n",
       "<path class=\"bond-51\" d=\"M 298.317,217.367 L 313.792,226.231\" style=\"fill:none;fill-rule:evenodd;stroke:#000000;stroke-width:2px;stroke-linecap:butt;stroke-linejoin:miter;stroke-opacity:1\"/>\n",
       "<path class=\"bond-51\" d=\"M 302.892,214.761 L 313.725,220.966\" style=\"fill:none;fill-rule:evenodd;stroke:#000000;stroke-width:2px;stroke-linecap:butt;stroke-linejoin:miter;stroke-opacity:1\"/>\n",
       "<path class=\"bond-53\" d=\"M 313.792,226.231 L 329.172,217.211\" style=\"fill:none;fill-rule:evenodd;stroke:#000000;stroke-width:2px;stroke-linecap:butt;stroke-linejoin:miter;stroke-opacity:1\"/>\n",
       "<path class=\"bond-11\" d=\"M 329.172,217.211 L 329.054,199.347\" style=\"fill:none;fill-rule:evenodd;stroke:#000000;stroke-width:2px;stroke-linecap:butt;stroke-linejoin:miter;stroke-opacity:1\"/>\n",
       "<path class=\"bond-11\" d=\"M 324.619,214.561 L 324.536,202.056\" style=\"fill:none;fill-rule:evenodd;stroke:#000000;stroke-width:2px;stroke-linecap:butt;stroke-linejoin:miter;stroke-opacity:1\"/>\n",
       "<path class=\"bond-18\" d=\"M 329.172,217.211 L 334.62,220.308\" style=\"fill:none;fill-rule:evenodd;stroke:#000000;stroke-width:2px;stroke-linecap:butt;stroke-linejoin:miter;stroke-opacity:1\"/>\n",
       "<path class=\"bond-18\" d=\"M 334.62,220.308 L 340.068,223.405\" style=\"fill:none;fill-rule:evenodd;stroke:#33CCCC;stroke-width:2px;stroke-linecap:butt;stroke-linejoin:miter;stroke-opacity:1\"/>\n",
       "<path class=\"bond-13\" d=\"M 329.054,199.347 L 313.424,190.538\" style=\"fill:none;fill-rule:evenodd;stroke:#000000;stroke-width:2px;stroke-linecap:butt;stroke-linejoin:miter;stroke-opacity:1\"/>\n",
       "<path class=\"bond-15\" d=\"M 313.424,190.538 L 298.108,199.609\" style=\"fill:none;fill-rule:evenodd;stroke:#000000;stroke-width:2px;stroke-linecap:butt;stroke-linejoin:miter;stroke-opacity:1\"/>\n",
       "<path class=\"bond-15\" d=\"M 313.438,195.801 L 302.716,202.15\" style=\"fill:none;fill-rule:evenodd;stroke:#000000;stroke-width:2px;stroke-linecap:butt;stroke-linejoin:miter;stroke-opacity:1\"/>\n",
       "<path class=\"bond-22\" d=\"M 99.8884,280.315 L 97.5139,278.903\" style=\"fill:none;fill-rule:evenodd;stroke:#000000;stroke-width:2px;stroke-linecap:butt;stroke-linejoin:miter;stroke-opacity:1\"/>\n",
       "<path class=\"bond-22\" d=\"M 97.5139,278.903 L 95.1395,277.49\" style=\"fill:none;fill-rule:evenodd;stroke:#0000FF;stroke-width:2px;stroke-linecap:butt;stroke-linejoin:miter;stroke-opacity:1\"/>\n",
       "<path class=\"bond-24\" d=\"M 73.6295,277.308 L 71.3035,278.611\" style=\"fill:none;fill-rule:evenodd;stroke:#0000FF;stroke-width:2px;stroke-linecap:butt;stroke-linejoin:miter;stroke-opacity:1\"/>\n",
       "<path class=\"bond-24\" d=\"M 71.3035,278.611 L 68.9776,279.914\" style=\"fill:none;fill-rule:evenodd;stroke:#000000;stroke-width:2px;stroke-linecap:butt;stroke-linejoin:miter;stroke-opacity:1\"/>\n",
       "<path class=\"bond-25\" d=\"M 68.9776,279.914 L 53.6381,270.791\" style=\"fill:none;fill-rule:evenodd;stroke:#000000;stroke-width:2px;stroke-linecap:butt;stroke-linejoin:miter;stroke-opacity:1\"/>\n",
       "<path class=\"bond-27\" d=\"M 53.6381,270.791 L 48.3743,273.739\" style=\"fill:none;fill-rule:evenodd;stroke:#000000;stroke-width:2px;stroke-linecap:butt;stroke-linejoin:miter;stroke-opacity:1\"/>\n",
       "<path class=\"bond-27\" d=\"M 48.3743,273.739 L 43.1106,276.688\" style=\"fill:none;fill-rule:evenodd;stroke:#CCCC00;stroke-width:2px;stroke-linecap:butt;stroke-linejoin:miter;stroke-opacity:1\"/>\n",
       "<path class=\"bond-29\" d=\"M 33.023,276.514 L 27.8751,273.452\" style=\"fill:none;fill-rule:evenodd;stroke:#CCCC00;stroke-width:2px;stroke-linecap:butt;stroke-linejoin:miter;stroke-opacity:1\"/>\n",
       "<path class=\"bond-29\" d=\"M 27.8751,273.452 L 22.7273,270.39\" style=\"fill:none;fill-rule:evenodd;stroke:#000000;stroke-width:2px;stroke-linecap:butt;stroke-linejoin:miter;stroke-opacity:1\"/>\n",
       "<path class=\"bond-31\" d=\"M 39.701,286.939 L 40.5001,288.336\" style=\"fill:none;fill-rule:evenodd;stroke:#CCCC00;stroke-width:2px;stroke-linecap:butt;stroke-linejoin:miter;stroke-opacity:1\"/>\n",
       "<path class=\"bond-31\" d=\"M 40.5001,288.336 L 41.2992,289.733\" style=\"fill:none;fill-rule:evenodd;stroke:#FF0000;stroke-width:2px;stroke-linecap:butt;stroke-linejoin:miter;stroke-opacity:1\"/>\n",
       "<path class=\"bond-31\" d=\"M 43.6379,284.687 L 44.437,286.084\" style=\"fill:none;fill-rule:evenodd;stroke:#CCCC00;stroke-width:2px;stroke-linecap:butt;stroke-linejoin:miter;stroke-opacity:1\"/>\n",
       "<path class=\"bond-31\" d=\"M 44.437,286.084 L 45.2361,287.481\" style=\"fill:none;fill-rule:evenodd;stroke:#FF0000;stroke-width:2px;stroke-linecap:butt;stroke-linejoin:miter;stroke-opacity:1\"/>\n",
       "<path class=\"bond-32\" d=\"M 32.4109,284.664 L 31.5901,286.061\" style=\"fill:none;fill-rule:evenodd;stroke:#CCCC00;stroke-width:2px;stroke-linecap:butt;stroke-linejoin:miter;stroke-opacity:1\"/>\n",
       "<path class=\"bond-32\" d=\"M 31.5901,286.061 L 30.7693,287.458\" style=\"fill:none;fill-rule:evenodd;stroke:#FF0000;stroke-width:2px;stroke-linecap:butt;stroke-linejoin:miter;stroke-opacity:1\"/>\n",
       "<path class=\"bond-32\" d=\"M 36.3213,286.961 L 35.5005,288.359\" style=\"fill:none;fill-rule:evenodd;stroke:#CCCC00;stroke-width:2px;stroke-linecap:butt;stroke-linejoin:miter;stroke-opacity:1\"/>\n",
       "<path class=\"bond-32\" d=\"M 35.5005,288.359 L 34.6797,289.756\" style=\"fill:none;fill-rule:evenodd;stroke:#FF0000;stroke-width:2px;stroke-linecap:butt;stroke-linejoin:miter;stroke-opacity:1\"/>\n",
       "<path class=\"bond-55\" d=\"M 320.109,282.623 L 320.079,300.53\" style=\"fill:none;fill-rule:evenodd;stroke:#000000;stroke-width:2px;stroke-linecap:butt;stroke-linejoin:miter;stroke-opacity:1\"/>\n",
       "<path class=\"bond-55\" d=\"M 324.64,285.317 L 324.619,297.851\" style=\"fill:none;fill-rule:evenodd;stroke:#000000;stroke-width:2px;stroke-linecap:butt;stroke-linejoin:miter;stroke-opacity:1\"/>\n",
       "<path class=\"bond-60\" d=\"M 320.109,282.623 L 335.527,273.693\" style=\"fill:none;fill-rule:evenodd;stroke:#000000;stroke-width:2px;stroke-linecap:butt;stroke-linejoin:miter;stroke-opacity:1\"/>\n",
       "<path class=\"bond-56\" d=\"M 320.079,300.53 L 335.572,309.462\" style=\"fill:none;fill-rule:evenodd;stroke:#000000;stroke-width:2px;stroke-linecap:butt;stroke-linejoin:miter;stroke-opacity:1\"/>\n",
       "<path class=\"bond-65\" d=\"M 320.079,300.53 L 304.618,309.444\" style=\"fill:none;fill-rule:evenodd;stroke:#000000;stroke-width:2px;stroke-linecap:butt;stroke-linejoin:miter;stroke-opacity:1\"/>\n",
       "<path class=\"bond-57\" d=\"M 335.572,309.462 L 350.997,300.517\" style=\"fill:none;fill-rule:evenodd;stroke:#000000;stroke-width:2px;stroke-linecap:butt;stroke-linejoin:miter;stroke-opacity:1\"/>\n",
       "<path class=\"bond-57\" d=\"M 335.611,304.197 L 346.408,297.936\" style=\"fill:none;fill-rule:evenodd;stroke:#000000;stroke-width:2px;stroke-linecap:butt;stroke-linejoin:miter;stroke-opacity:1\"/>\n",
       "<path class=\"bond-58\" d=\"M 350.997,300.517 L 350.926,282.532\" style=\"fill:none;fill-rule:evenodd;stroke:#000000;stroke-width:2px;stroke-linecap:butt;stroke-linejoin:miter;stroke-opacity:1\"/>\n",
       "<path class=\"bond-59\" d=\"M 350.926,282.532 L 335.527,273.693\" style=\"fill:none;fill-rule:evenodd;stroke:#000000;stroke-width:2px;stroke-linecap:butt;stroke-linejoin:miter;stroke-opacity:1\"/>\n",
       "<path class=\"bond-59\" d=\"M 346.359,285.14 L 335.579,278.953\" style=\"fill:none;fill-rule:evenodd;stroke:#000000;stroke-width:2px;stroke-linecap:butt;stroke-linejoin:miter;stroke-opacity:1\"/>\n",
       "<path class=\"bond-61\" d=\"M 350.926,282.532 L 356.117,279.512\" style=\"fill:none;fill-rule:evenodd;stroke:#000000;stroke-width:2px;stroke-linecap:butt;stroke-linejoin:miter;stroke-opacity:1\"/>\n",
       "<path class=\"bond-61\" d=\"M 356.117,279.512 L 361.308,276.492\" style=\"fill:none;fill-rule:evenodd;stroke:#CCCC00;stroke-width:2px;stroke-linecap:butt;stroke-linejoin:miter;stroke-opacity:1\"/>\n",
       "<path class=\"bond-62\" d=\"M 371.395,276.447 L 371.119,276.288\" style=\"fill:none;fill-rule:evenodd;stroke:#CCCC00;stroke-width:2px;stroke-linecap:butt;stroke-linejoin:miter;stroke-opacity:1\"/>\n",
       "<path class=\"bond-62\" d=\"M 371.119,276.288 L 370.842,276.13\" style=\"fill:none;fill-rule:evenodd;stroke:#FF0000;stroke-width:2px;stroke-linecap:butt;stroke-linejoin:miter;stroke-opacity:1\"/>\n",
       "<path class=\"bond-63\" d=\"M 371.881,268.373 L 372.73,266.87\" style=\"fill:none;fill-rule:evenodd;stroke:#CCCC00;stroke-width:2px;stroke-linecap:butt;stroke-linejoin:miter;stroke-opacity:1\"/>\n",
       "<path class=\"bond-63\" d=\"M 372.73,266.87 L 373.578,265.367\" style=\"fill:none;fill-rule:evenodd;stroke:#FF0000;stroke-width:2px;stroke-linecap:butt;stroke-linejoin:miter;stroke-opacity:1\"/>\n",
       "<path class=\"bond-63\" d=\"M 367.932,266.144 L 368.78,264.641\" style=\"fill:none;fill-rule:evenodd;stroke:#CCCC00;stroke-width:2px;stroke-linecap:butt;stroke-linejoin:miter;stroke-opacity:1\"/>\n",
       "<path class=\"bond-63\" d=\"M 368.78,264.641 L 369.628,263.138\" style=\"fill:none;fill-rule:evenodd;stroke:#FF0000;stroke-width:2px;stroke-linecap:butt;stroke-linejoin:miter;stroke-opacity:1\"/>\n",
       "<path class=\"bond-64\" d=\"M 364.663,266.121 L 363.792,264.618\" style=\"fill:none;fill-rule:evenodd;stroke:#CCCC00;stroke-width:2px;stroke-linecap:butt;stroke-linejoin:miter;stroke-opacity:1\"/>\n",
       "<path class=\"bond-64\" d=\"M 363.792,264.618 L 362.921,263.115\" style=\"fill:none;fill-rule:evenodd;stroke:#FF0000;stroke-width:2px;stroke-linecap:butt;stroke-linejoin:miter;stroke-opacity:1\"/>\n",
       "<path class=\"bond-64\" d=\"M 360.739,268.395 L 359.868,266.892\" style=\"fill:none;fill-rule:evenodd;stroke:#CCCC00;stroke-width:2px;stroke-linecap:butt;stroke-linejoin:miter;stroke-opacity:1\"/>\n",
       "<path class=\"bond-64\" d=\"M 359.868,266.892 L 358.997,265.389\" style=\"fill:none;fill-rule:evenodd;stroke:#FF0000;stroke-width:2px;stroke-linecap:butt;stroke-linejoin:miter;stroke-opacity:1\"/>\n",
       "<text style=\"font-size:12px;font-style:normal;font-weight:normal;fill-opacity:1;stroke:none;font-family:sans-serif;text-anchor:start;fill:#CCCC00\" x=\"445.4\" y=\"279.856\"><tspan>S</tspan></text>\n",
       "<text style=\"font-size:12px;font-style:normal;font-weight:normal;fill-opacity:1;stroke:none;font-family:sans-serif;text-anchor:start;fill:#FF0000\" x=\"454.587\" y=\"288.728\"><tspan>OH</tspan></text>\n",
       "<text style=\"font-size:12px;font-style:normal;font-weight:normal;fill-opacity:1;stroke:none;font-family:sans-serif;text-anchor:start;fill:#FF0000\" x=\"453.367\" y=\"264.252\"><tspan>O</tspan></text>\n",
       "<text style=\"font-size:12px;font-style:normal;font-weight:normal;fill-opacity:1;stroke:none;font-family:sans-serif;text-anchor:start;fill:#FF0000\" x=\"435.518\" y=\"264.252\"><tspan>O</tspan></text>\n",
       "<text style=\"font-size:12px;font-style:normal;font-weight:normal;fill-opacity:1;stroke:none;font-family:sans-serif;text-anchor:start;fill:#FF0000\" x=\"124.011\" y=\"288.481\"><tspan>O</tspan></text>\n",
       "<text style=\"font-size:12px;font-style:normal;font-weight:normal;fill-opacity:1;stroke:none;font-family:sans-serif;text-anchor:start;fill:#0000FF\" x=\"200.679\" y=\"313.529\"><tspan>N</tspan></text>\n",
       "<text style=\"font-size:12px;font-style:normal;font-weight:normal;fill-opacity:1;stroke:none;font-family:sans-serif;text-anchor:start;fill:#0000FF\" x=\"216.044\" y=\"286.564\"><tspan>N</tspan></text>\n",
       "<text style=\"font-size:12px;font-style:normal;font-weight:normal;fill-opacity:1;stroke:none;font-family:sans-serif;text-anchor:start;fill:#0000FF\" x=\"194.972\" y=\"259.906\"><tspan>NH</tspan></text>\n",
       "<text style=\"font-size:12px;font-style:normal;font-weight:normal;fill-opacity:1;stroke:none;font-family:sans-serif;text-anchor:start;fill:#FF0000\" x=\"261.523\" y=\"223.888\"><tspan>O</tspan></text>\n",
       "<text style=\"font-size:12px;font-style:normal;font-weight:normal;fill-opacity:1;stroke:none;font-family:sans-serif;text-anchor:start;fill:#00CC00\" x=\"229.092\" y=\"206.248\"><tspan>Cl</tspan></text>\n",
       "<text style=\"font-size:12px;font-style:normal;font-weight:normal;fill-opacity:1;stroke:none;font-family:sans-serif;text-anchor:start;fill:#33CCCC\" x=\"340.068\" y=\"232.331\"><tspan>F</tspan></text>\n",
       "<text style=\"font-size:12px;font-style:normal;font-weight:normal;fill-opacity:1;stroke:none;font-family:sans-serif;text-anchor:start;fill:#0000FF\" x=\"73.6295\" y=\"277.49\"><tspan>NH</tspan></text>\n",
       "<text style=\"font-size:12px;font-style:normal;font-weight:normal;fill-opacity:1;stroke:none;font-family:sans-serif;text-anchor:start;fill:#CCCC00\" x=\"33.023\" y=\"285.813\"><tspan>S</tspan></text>\n",
       "<text style=\"font-size:12px;font-style:normal;font-weight:normal;fill-opacity:1;stroke:none;font-family:sans-serif;text-anchor:start;fill:#FF0000\" x=\"40.9872\" y=\"301.205\"><tspan>O</tspan></text>\n",
       "<text style=\"font-size:12px;font-style:normal;font-weight:normal;fill-opacity:1;stroke:none;font-family:sans-serif;text-anchor:start;fill:#FF0000\" x=\"23.1407\" y=\"301.205\"><tspan>O</tspan></text>\n",
       "<text style=\"font-size:12px;font-style:normal;font-weight:normal;fill-opacity:1;stroke:none;font-family:sans-serif;text-anchor:start;fill:#CCCC00\" x=\"361.308\" y=\"279.856\"><tspan>S</tspan></text>\n",
       "<text style=\"font-size:12px;font-style:normal;font-weight:normal;fill-opacity:1;stroke:none;font-family:sans-serif;text-anchor:start;fill:#FF0000\" x=\"370.494\" y=\"288.728\"><tspan>OH</tspan></text>\n",
       "<text style=\"font-size:12px;font-style:normal;font-weight:normal;fill-opacity:1;stroke:none;font-family:sans-serif;text-anchor:start;fill:#FF0000\" x=\"369.275\" y=\"264.252\"><tspan>O</tspan></text>\n",
       "<text style=\"font-size:12px;font-style:normal;font-weight:normal;fill-opacity:1;stroke:none;font-family:sans-serif;text-anchor:start;fill:#FF0000\" x=\"351.426\" y=\"264.252\"><tspan>O</tspan></text>\n",
       "<text style=\"font-size:12px;font-style:normal;font-weight:normal;fill-opacity:1;stroke:none;font-family:sans-serif;text-anchor:start;fill:#FF0000\" x=\"263.55\" y=\"314.118\"><tspan>H</tspan><tspan style=\"baseline-shift:sub;font-size:9px;\">2</tspan><tspan>O</tspan></text>\n",
       "</svg>"
      ],
      "text/plain": [
       "<IPython.core.display.SVG object>"
      ]
     },
     "execution_count": 30,
     "metadata": {},
     "output_type": "execute_result"
    }
   ],
   "source": [
    "image = new_client.image\n",
    "image.set_format('svg')\n",
    "svg = image.get(chembl_id)\n",
    "SVG(svg)"
   ]
  },
  {
   "cell_type": "markdown",
   "metadata": {},
   "source": [
    "## Bioactivities"
   ]
  },
  {
   "cell_type": "code",
   "execution_count": 31,
   "metadata": {},
   "outputs": [],
   "source": [
    "# Lapatinib\n",
    "chembl_id = \"CHEMBL554\""
   ]
  },
  {
   "cell_type": "code",
   "execution_count": 33,
   "metadata": {
    "scrolled": false
   },
   "outputs": [
    {
     "data": {
      "text/plain": [
       "(2175,\n",
       " [{'activity_comment': None, 'activity_id': 190221, 'activity_properties': [], 'assay_chembl_id': 'CHEMBL674106', 'assay_description': 'Inhibitory activity against epidermal growth factor receptor', 'assay_type': 'B', 'bao_endpoint': 'BAO_0000190', 'bao_format': 'BAO_0000357', 'bao_label': 'single protein format', 'canonical_smiles': 'CS(=O)(=O)CCNCc1ccc(-c2ccc3ncnc(Nc4ccc(OCc5cccc(F)c5)c(Cl)c4)c3c2)o1', 'data_validity_comment': None, 'data_validity_description': None, 'document_chembl_id': 'CHEMBL1146682', 'document_journal': 'Bioorg. Med. Chem. Lett.', 'document_year': 2004, 'ligand_efficiency': {'bei': '13.77', 'le': '0.27', 'lle': '1.86', 'sei': '7.52'}, 'molecule_chembl_id': 'CHEMBL554', 'molecule_pref_name': 'LAPATINIB', 'parent_molecule_chembl_id': 'CHEMBL554', 'pchembl_value': '8.00', 'potential_duplicate': True, 'qudt_units': 'http://www.openphacts.org/units/Nanomolar', 'record_id': 15408, 'relation': '=', 'src_id': 1, 'standard_flag': True, 'standard_relation': '=', 'standard_text_value': None, 'standard_type': 'IC50', 'standard_units': 'nM', 'standard_upper_value': None, 'standard_value': '10.0', 'target_chembl_id': 'CHEMBL203', 'target_organism': 'Homo sapiens', 'target_pref_name': 'Epidermal growth factor receptor erbB1', 'target_tax_id': '9606', 'text_value': None, 'toid': None, 'type': 'IC50', 'units': 'uM', 'uo_units': 'UO_0000065', 'upper_value': None, 'value': '0.01'}, {'activity_comment': None, 'activity_id': 190222, 'activity_properties': [], 'assay_chembl_id': 'CHEMBL682312', 'assay_description': 'Inhibitory activity against ERBB2 receptor kinase', 'assay_type': 'B', 'bao_endpoint': 'BAO_0000190', 'bao_format': 'BAO_0000357', 'bao_label': 'single protein format', 'canonical_smiles': 'CS(=O)(=O)CCNCc1ccc(-c2ccc3ncnc(Nc4ccc(OCc5cccc(F)c5)c(Cl)c4)c3c2)o1', 'data_validity_comment': None, 'data_validity_description': None, 'document_chembl_id': 'CHEMBL1146682', 'document_journal': 'Bioorg. Med. Chem. Lett.', 'document_year': 2004, 'ligand_efficiency': {'bei': '13.85', 'le': '0.27', 'lle': '1.91', 'sei': '7.57'}, 'molecule_chembl_id': 'CHEMBL554', 'molecule_pref_name': 'LAPATINIB', 'parent_molecule_chembl_id': 'CHEMBL554', 'pchembl_value': '8.05', 'potential_duplicate': True, 'qudt_units': 'http://www.openphacts.org/units/Nanomolar', 'record_id': 15408, 'relation': '=', 'src_id': 1, 'standard_flag': True, 'standard_relation': '=', 'standard_text_value': None, 'standard_type': 'IC50', 'standard_units': 'nM', 'standard_upper_value': None, 'standard_value': '9.0', 'target_chembl_id': 'CHEMBL1824', 'target_organism': 'Homo sapiens', 'target_pref_name': 'Receptor protein-tyrosine kinase erbB-2', 'target_tax_id': '9606', 'text_value': None, 'toid': None, 'type': 'IC50', 'units': 'uM', 'uo_units': 'UO_0000065', 'upper_value': None, 'value': '0.009'}])"
      ]
     },
     "execution_count": 33,
     "metadata": {},
     "output_type": "execute_result"
    }
   ],
   "source": [
    "records = new_client.activity.filter(molecule_chembl_id=chembl_id)\n",
    "len(records), records[:2]"
   ]
  },
  {
   "cell_type": "markdown",
   "metadata": {},
   "source": [
    "## Targets"
   ]
  },
  {
   "cell_type": "code",
   "execution_count": 34,
   "metadata": {},
   "outputs": [
    {
     "data": {
      "text/plain": [
       "13382"
      ]
     },
     "execution_count": 34,
     "metadata": {},
     "output_type": "execute_result"
    }
   ],
   "source": [
    "# Like with any other resource type, a complete list of targets can be requested using the client:\n",
    "records = new_client.target.all()\n",
    "len(records)"
   ]
  },
  {
   "cell_type": "code",
   "execution_count": 35,
   "metadata": {
    "collapsed": true
   },
   "outputs": [
    {
     "data": {
      "text/plain": [
       "{'cross_references': [{'xref_id': 'O60706',\n",
       "   'xref_name': None,\n",
       "   'xref_src': 'canSAR-Target'},\n",
       "  {'xref_id': 'ABCC9', 'xref_name': None, 'xref_src': 'Wikipedia'}],\n",
       " 'organism': 'Homo sapiens',\n",
       " 'pref_name': 'Sulfonylurea receptor 2',\n",
       " 'species_group_flag': False,\n",
       " 'target_chembl_id': 'CHEMBL1971',\n",
       " 'target_components': [{'accession': 'O60706',\n",
       "   'component_description': 'ATP-binding cassette sub-family C member 9',\n",
       "   'component_id': 294,\n",
       "   'component_type': 'PROTEIN',\n",
       "   'relationship': 'SINGLE PROTEIN',\n",
       "   'target_component_synonyms': [{'component_synonym': 'ABCC9',\n",
       "     'syn_type': 'GENE_SYMBOL'},\n",
       "    {'component_synonym': 'ATP-binding cassette sub-family C member 9',\n",
       "     'syn_type': 'UNIPROT'},\n",
       "    {'component_synonym': 'Sulfonylurea receptor 2', 'syn_type': 'UNIPROT'},\n",
       "    {'component_synonym': 'SUR2', 'syn_type': 'GENE_SYMBOL_OTHER'}],\n",
       "   'target_component_xrefs': [{'xref_id': 'ABCC9',\n",
       "     'xref_name': 'Cardiomyopathy, dilated, 10; Atrial fibrillation, familial 12; Cantu syndrome',\n",
       "     'xref_src_db': 'CGD'},\n",
       "    {'xref_id': 'ENSG00000069431',\n",
       "     'xref_name': None,\n",
       "     'xref_src_db': 'EnsemblGene'},\n",
       "    {'xref_id': 'O60706', 'xref_name': None, 'xref_src_db': 'ExpressionAtlas'},\n",
       "    {'xref_id': 'GO:0005886',\n",
       "     'xref_name': 'plasma membrane',\n",
       "     'xref_src_db': 'GoComponent'},\n",
       "    {'xref_id': 'GO:0008282',\n",
       "     'xref_name': 'inward rectifying potassium channel',\n",
       "     'xref_src_db': 'GoComponent'},\n",
       "    {'xref_id': 'GO:0016020',\n",
       "     'xref_name': 'membrane',\n",
       "     'xref_src_db': 'GoComponent'},\n",
       "    {'xref_id': 'GO:0016021',\n",
       "     'xref_name': 'integral component of membrane',\n",
       "     'xref_src_db': 'GoComponent'},\n",
       "    {'xref_id': 'GO:0030017',\n",
       "     'xref_name': 'sarcomere',\n",
       "     'xref_src_db': 'GoComponent'},\n",
       "    {'xref_id': 'GO:0031004',\n",
       "     'xref_name': 'potassium ion-transporting ATPase complex',\n",
       "     'xref_src_db': 'GoComponent'},\n",
       "    {'xref_id': 'GO:0000166',\n",
       "     'xref_name': 'nucleotide binding',\n",
       "     'xref_src_db': 'GoFunction'},\n",
       "    {'xref_id': 'GO:0005261',\n",
       "     'xref_name': 'cation channel activity',\n",
       "     'xref_src_db': 'GoFunction'},\n",
       "    {'xref_id': 'GO:0005267',\n",
       "     'xref_name': 'potassium channel activity',\n",
       "     'xref_src_db': 'GoFunction'},\n",
       "    {'xref_id': 'GO:0005524',\n",
       "     'xref_name': 'ATP binding',\n",
       "     'xref_src_db': 'GoFunction'},\n",
       "    {'xref_id': 'GO:0008281',\n",
       "     'xref_name': 'sulfonylurea receptor activity',\n",
       "     'xref_src_db': 'GoFunction'},\n",
       "    {'xref_id': 'GO:0015272',\n",
       "     'xref_name': 'ATP-activated inward rectifier potassium channel activity',\n",
       "     'xref_src_db': 'GoFunction'},\n",
       "    {'xref_id': 'GO:0015459',\n",
       "     'xref_name': 'potassium channel regulator activity',\n",
       "     'xref_src_db': 'GoFunction'},\n",
       "    {'xref_id': 'GO:0016887',\n",
       "     'xref_name': 'ATPase activity',\n",
       "     'xref_src_db': 'GoFunction'},\n",
       "    {'xref_id': 'GO:0019829',\n",
       "     'xref_name': 'ATPase-coupled cation transmembrane transporter activity',\n",
       "     'xref_src_db': 'GoFunction'},\n",
       "    {'xref_id': 'GO:0022857',\n",
       "     'xref_name': 'transmembrane transporter activity',\n",
       "     'xref_src_db': 'GoFunction'},\n",
       "    {'xref_id': 'GO:0042626',\n",
       "     'xref_name': 'ATPase-coupled transmembrane transporter activity',\n",
       "     'xref_src_db': 'GoFunction'},\n",
       "    {'xref_id': 'GO:0044325',\n",
       "     'xref_name': 'ion channel binding',\n",
       "     'xref_src_db': 'GoFunction'},\n",
       "    {'xref_id': 'GO:0006813',\n",
       "     'xref_name': 'potassium ion transport',\n",
       "     'xref_src_db': 'GoProcess'},\n",
       "    {'xref_id': 'GO:0033198',\n",
       "     'xref_name': 'response to ATP',\n",
       "     'xref_src_db': 'GoProcess'},\n",
       "    {'xref_id': 'GO:0051607',\n",
       "     'xref_name': 'defense response to virus',\n",
       "     'xref_src_db': 'GoProcess'},\n",
       "    {'xref_id': 'GO:0055085',\n",
       "     'xref_name': 'transmembrane transport',\n",
       "     'xref_src_db': 'GoProcess'},\n",
       "    {'xref_id': 'GO:0061337',\n",
       "     'xref_name': 'cardiac conduction',\n",
       "     'xref_src_db': 'GoProcess'},\n",
       "    {'xref_id': 'GO:0071805',\n",
       "     'xref_name': 'potassium ion transmembrane transport',\n",
       "     'xref_src_db': 'GoProcess'},\n",
       "    {'xref_id': 'GO:0098655',\n",
       "     'xref_name': 'cation transmembrane transport',\n",
       "     'xref_src_db': 'GoProcess'},\n",
       "    {'xref_id': 'GO:0098662',\n",
       "     'xref_name': 'inorganic cation transmembrane transport',\n",
       "     'xref_src_db': 'GoProcess'},\n",
       "    {'xref_id': 'GO:0150104',\n",
       "     'xref_name': 'transport across blood-brain barrier',\n",
       "     'xref_src_db': 'GoProcess'},\n",
       "    {'xref_id': 'GO:1903779',\n",
       "     'xref_name': 'regulation of cardiac conduction',\n",
       "     'xref_src_db': 'GoProcess'},\n",
       "    {'xref_id': 'GO:1990573',\n",
       "     'xref_name': 'potassium ion import across plasma membrane',\n",
       "     'xref_src_db': 'GoProcess'},\n",
       "    {'xref_id': '2746',\n",
       "     'xref_name': None,\n",
       "     'xref_src_db': 'GuideToPHARMACOLOGY'},\n",
       "    {'xref_id': 'O60706', 'xref_name': None, 'xref_src_db': 'IntAct'},\n",
       "    {'xref_id': 'IPR000388',\n",
       "     'xref_name': 'Sulphorea_rcpt.',\n",
       "     'xref_src_db': 'InterPro'},\n",
       "    {'xref_id': 'IPR001475', 'xref_name': 'ABCC9.', 'xref_src_db': 'InterPro'},\n",
       "    {'xref_id': 'IPR003439',\n",
       "     'xref_name': 'ABC_transporter-like.',\n",
       "     'xref_src_db': 'InterPro'},\n",
       "    {'xref_id': 'IPR003593',\n",
       "     'xref_name': 'AAA+_ATPase.',\n",
       "     'xref_src_db': 'InterPro'},\n",
       "    {'xref_id': 'IPR011527',\n",
       "     'xref_name': 'ABC1_TM_dom.',\n",
       "     'xref_src_db': 'InterPro'},\n",
       "    {'xref_id': 'IPR017871',\n",
       "     'xref_name': 'ABC_transporter_CS.',\n",
       "     'xref_src_db': 'InterPro'},\n",
       "    {'xref_id': 'IPR027417',\n",
       "     'xref_name': 'P-loop_NTPase.',\n",
       "     'xref_src_db': 'InterPro'},\n",
       "    {'xref_id': 'IPR036640',\n",
       "     'xref_name': 'ABC1_TM_sf.',\n",
       "     'xref_src_db': 'InterPro'},\n",
       "    {'xref_id': 'PF00005', 'xref_name': 'ABC_tran', 'xref_src_db': 'Pfam'},\n",
       "    {'xref_id': 'PF00664', 'xref_name': 'ABC_membrane', 'xref_src_db': 'Pfam'},\n",
       "    {'xref_id': 'PA396',\n",
       "     'xref_name': 'ATP-binding cassette, sub-family C (CFTR/MRP), member 9',\n",
       "     'xref_src_db': 'PharmGKB'},\n",
       "    {'xref_id': 'R-HSA-1296025',\n",
       "     'xref_name': 'ATP sensitive Potassium channels.',\n",
       "     'xref_src_db': 'Reactome'},\n",
       "    {'xref_id': 'R-HSA-382556',\n",
       "     'xref_name': 'ABC-family proteins mediated transport.',\n",
       "     'xref_src_db': 'Reactome'},\n",
       "    {'xref_id': 'R-HSA-5578775',\n",
       "     'xref_name': 'Ion homeostasis.',\n",
       "     'xref_src_db': 'Reactome'},\n",
       "    {'xref_id': 'R-HSA-5678420',\n",
       "     'xref_name': 'Defective ABCC9 causes dilated cardiomyopathy 10, familial atrial fibrillation 12 and hypertrichotic osteochondrodysplasia.',\n",
       "     'xref_src_db': 'Reactome'},\n",
       "    {'xref_id': 'O60706', 'xref_name': None, 'xref_src_db': 'UniProt'},\n",
       "    {'xref_id': 'O60707', 'xref_name': None, 'xref_src_db': 'UniProt'}]}],\n",
       " 'target_type': 'SINGLE PROTEIN',\n",
       " 'tax_id': 9606}"
      ]
     },
     "execution_count": 35,
     "metadata": {},
     "output_type": "execute_result"
    }
   ],
   "source": [
    "records[1]"
   ]
  },
  {
   "cell_type": "code",
   "execution_count": 36,
   "metadata": {
    "collapsed": true
   },
   "outputs": [
    {
     "data": {
      "text/plain": [
       "{'cross_references': [{'xref_id': 'CGMP-specific_phosphodiesterase_type_5',\n",
       "   'xref_name': None,\n",
       "   'xref_src': 'Wikipedia'}],\n",
       " 'organism': 'Homo sapiens',\n",
       " 'pref_name': 'Phosphodiesterase 5A',\n",
       " 'species_group_flag': False,\n",
       " 'target_chembl_id': 'CHEMBL1827',\n",
       " 'target_components': [{'accession': 'O76074',\n",
       "   'component_description': \"cGMP-specific 3',5'-cyclic phosphodiesterase\",\n",
       "   'component_id': 124,\n",
       "   'component_type': 'PROTEIN',\n",
       "   'relationship': 'SINGLE PROTEIN',\n",
       "   'target_component_synonyms': [{'component_synonym': '3.1.4.35',\n",
       "     'syn_type': 'EC_NUMBER'},\n",
       "    {'component_synonym': 'CGB-PDE', 'syn_type': 'UNIPROT'},\n",
       "    {'component_synonym': 'cGMP-binding cGMP-specific phosphodiesterase',\n",
       "     'syn_type': 'UNIPROT'},\n",
       "    {'component_synonym': \"cGMP-specific 3',5'-cyclic phosphodiesterase\",\n",
       "     'syn_type': 'UNIPROT'},\n",
       "    {'component_synonym': 'PDE5', 'syn_type': 'GENE_SYMBOL_OTHER'},\n",
       "    {'component_synonym': 'PDE5A', 'syn_type': 'GENE_SYMBOL'}],\n",
       "   'target_component_xrefs': [{'xref_id': 'ENSG00000138735',\n",
       "     'xref_name': None,\n",
       "     'xref_src_db': 'EnsemblGene'},\n",
       "    {'xref_id': 'O76074', 'xref_name': None, 'xref_src_db': 'ExpressionAtlas'},\n",
       "    {'xref_id': 'GO:0005575',\n",
       "     'xref_name': 'cellular_component',\n",
       "     'xref_src_db': 'GoComponent'},\n",
       "    {'xref_id': 'GO:0005829',\n",
       "     'xref_name': 'cytosol',\n",
       "     'xref_src_db': 'GoComponent'},\n",
       "    {'xref_id': 'GO:0000166',\n",
       "     'xref_name': 'nucleotide binding',\n",
       "     'xref_src_db': 'GoFunction'},\n",
       "    {'xref_id': 'GO:0003824',\n",
       "     'xref_name': 'catalytic activity',\n",
       "     'xref_src_db': 'GoFunction'},\n",
       "    {'xref_id': 'GO:0004112',\n",
       "     'xref_name': 'cyclic-nucleotide phosphodiesterase activity',\n",
       "     'xref_src_db': 'GoFunction'},\n",
       "    {'xref_id': 'GO:0004114',\n",
       "     'xref_name': \"3',5'-cyclic-nucleotide phosphodiesterase activity\",\n",
       "     'xref_src_db': 'GoFunction'},\n",
       "    {'xref_id': 'GO:0005515',\n",
       "     'xref_name': 'protein binding',\n",
       "     'xref_src_db': 'GoFunction'},\n",
       "    {'xref_id': 'GO:0008081',\n",
       "     'xref_name': 'phosphoric diester hydrolase activity',\n",
       "     'xref_src_db': 'GoFunction'},\n",
       "    {'xref_id': 'GO:0016787',\n",
       "     'xref_name': 'hydrolase activity',\n",
       "     'xref_src_db': 'GoFunction'},\n",
       "    {'xref_id': 'GO:0030553',\n",
       "     'xref_name': 'cGMP binding',\n",
       "     'xref_src_db': 'GoFunction'},\n",
       "    {'xref_id': 'GO:0046872',\n",
       "     'xref_name': 'metal ion binding',\n",
       "     'xref_src_db': 'GoFunction'},\n",
       "    {'xref_id': 'GO:0047555',\n",
       "     'xref_name': \"3',5'-cyclic-GMP phosphodiesterase activity\",\n",
       "     'xref_src_db': 'GoFunction'},\n",
       "    {'xref_id': 'GO:0007165',\n",
       "     'xref_name': 'signal transduction',\n",
       "     'xref_src_db': 'GoProcess'},\n",
       "    {'xref_id': 'GO:0008152',\n",
       "     'xref_name': 'metabolic process',\n",
       "     'xref_src_db': 'GoProcess'},\n",
       "    {'xref_id': 'GO:0010613',\n",
       "     'xref_name': 'positive regulation of cardiac muscle hypertrophy',\n",
       "     'xref_src_db': 'GoProcess'},\n",
       "    {'xref_id': 'GO:0010749',\n",
       "     'xref_name': 'regulation of nitric oxide mediated signal transduction',\n",
       "     'xref_src_db': 'GoProcess'},\n",
       "    {'xref_id': 'GO:0042130',\n",
       "     'xref_name': 'negative regulation of T cell proliferation',\n",
       "     'xref_src_db': 'GoProcess'},\n",
       "    {'xref_id': 'GO:0043406',\n",
       "     'xref_name': 'positive regulation of MAP kinase activity',\n",
       "     'xref_src_db': 'GoProcess'},\n",
       "    {'xref_id': 'GO:0046068',\n",
       "     'xref_name': 'cGMP metabolic process',\n",
       "     'xref_src_db': 'GoProcess'},\n",
       "    {'xref_id': 'GO:0046069',\n",
       "     'xref_name': 'cGMP catabolic process',\n",
       "     'xref_src_db': 'GoProcess'},\n",
       "    {'xref_id': 'GO:0055118',\n",
       "     'xref_name': 'negative regulation of cardiac muscle contraction',\n",
       "     'xref_src_db': 'GoProcess'},\n",
       "    {'xref_id': 'GO:0055119',\n",
       "     'xref_name': 'relaxation of cardiac muscle',\n",
       "     'xref_src_db': 'GoProcess'},\n",
       "    {'xref_id': 'GO:0060282',\n",
       "     'xref_name': 'positive regulation of oocyte development',\n",
       "     'xref_src_db': 'GoProcess'},\n",
       "    {'xref_id': '1304',\n",
       "     'xref_name': None,\n",
       "     'xref_src_db': 'GuideToPHARMACOLOGY'},\n",
       "    {'xref_id': 'O76074', 'xref_name': None, 'xref_src_db': 'IntAct'},\n",
       "    {'xref_id': 'IPR002073',\n",
       "     'xref_name': 'PDEase_catalytic_dom.',\n",
       "     'xref_src_db': 'InterPro'},\n",
       "    {'xref_id': 'IPR003018', 'xref_name': 'GAF.', 'xref_src_db': 'InterPro'},\n",
       "    {'xref_id': 'IPR003607',\n",
       "     'xref_name': 'HD/PDEase_dom.',\n",
       "     'xref_src_db': 'InterPro'},\n",
       "    {'xref_id': 'IPR023088',\n",
       "     'xref_name': 'PDEase.',\n",
       "     'xref_src_db': 'InterPro'},\n",
       "    {'xref_id': 'IPR023174',\n",
       "     'xref_name': 'PDEase_CS.',\n",
       "     'xref_src_db': 'InterPro'},\n",
       "    {'xref_id': 'IPR029016',\n",
       "     'xref_name': 'GAF-like_dom_sf.',\n",
       "     'xref_src_db': 'InterPro'},\n",
       "    {'xref_id': 'IPR036971',\n",
       "     'xref_name': 'PDEase_catalytic_dom_sf.',\n",
       "     'xref_src_db': 'InterPro'},\n",
       "    {'xref_id': '1RKP', 'xref_name': 'A', 'xref_src_db': 'PDBe'},\n",
       "    {'xref_id': '1T9R', 'xref_name': 'A', 'xref_src_db': 'PDBe'},\n",
       "    {'xref_id': '1T9S', 'xref_name': 'A', 'xref_src_db': 'PDBe'},\n",
       "    {'xref_id': '1TBF', 'xref_name': 'A', 'xref_src_db': 'PDBe'},\n",
       "    {'xref_id': '1UDT', 'xref_name': 'A', 'xref_src_db': 'PDBe'},\n",
       "    {'xref_id': '1UDU', 'xref_name': 'A', 'xref_src_db': 'PDBe'},\n",
       "    {'xref_id': '1UHO', 'xref_name': 'A', 'xref_src_db': 'PDBe'},\n",
       "    {'xref_id': '1XOZ', 'xref_name': 'A', 'xref_src_db': 'PDBe'},\n",
       "    {'xref_id': '1XP0', 'xref_name': 'A', 'xref_src_db': 'PDBe'},\n",
       "    {'xref_id': '2CHM', 'xref_name': 'A', 'xref_src_db': 'PDBe'},\n",
       "    {'xref_id': '2H40', 'xref_name': 'A', 'xref_src_db': 'PDBe'},\n",
       "    {'xref_id': '2H42', 'xref_name': 'A', 'xref_src_db': 'PDBe'},\n",
       "    {'xref_id': '2H44', 'xref_name': 'A', 'xref_src_db': 'PDBe'},\n",
       "    {'xref_id': '2XSS', 'xref_name': 'A', 'xref_src_db': 'PDBe'},\n",
       "    {'xref_id': '3B2R', 'xref_name': 'A', 'xref_src_db': 'PDBe'},\n",
       "    {'xref_id': '3BJC', 'xref_name': 'A', 'xref_src_db': 'PDBe'},\n",
       "    {'xref_id': '3HC8', 'xref_name': 'A', 'xref_src_db': 'PDBe'},\n",
       "    {'xref_id': '3HDZ', 'xref_name': 'A', 'xref_src_db': 'PDBe'},\n",
       "    {'xref_id': '3JWQ', 'xref_name': 'A', 'xref_src_db': 'PDBe'},\n",
       "    {'xref_id': '3JWR', 'xref_name': 'A', 'xref_src_db': 'PDBe'},\n",
       "    {'xref_id': '3LFV', 'xref_name': 'A', 'xref_src_db': 'PDBe'},\n",
       "    {'xref_id': '3MF0', 'xref_name': 'A', 'xref_src_db': 'PDBe'},\n",
       "    {'xref_id': '3SHY', 'xref_name': 'A', 'xref_src_db': 'PDBe'},\n",
       "    {'xref_id': '3SHZ', 'xref_name': 'A', 'xref_src_db': 'PDBe'},\n",
       "    {'xref_id': '3SIE', 'xref_name': 'A', 'xref_src_db': 'PDBe'},\n",
       "    {'xref_id': '3TGE', 'xref_name': 'A', 'xref_src_db': 'PDBe'},\n",
       "    {'xref_id': '3TGG', 'xref_name': 'A', 'xref_src_db': 'PDBe'},\n",
       "    {'xref_id': '4G2W', 'xref_name': 'A', 'xref_src_db': 'PDBe'},\n",
       "    {'xref_id': '4G2Y', 'xref_name': 'A', 'xref_src_db': 'PDBe'},\n",
       "    {'xref_id': '4I9Z', 'xref_name': 'A', 'xref_src_db': 'PDBe'},\n",
       "    {'xref_id': '4IA0', 'xref_name': 'A', 'xref_src_db': 'PDBe'},\n",
       "    {'xref_id': '4MD6', 'xref_name': 'A', 'xref_src_db': 'PDBe'},\n",
       "    {'xref_id': '4OEW', 'xref_name': 'A', 'xref_src_db': 'PDBe'},\n",
       "    {'xref_id': '4OEX', 'xref_name': 'A', 'xref_src_db': 'PDBe'},\n",
       "    {'xref_id': '5JO3', 'xref_name': 'A', 'xref_src_db': 'PDBe'},\n",
       "    {'xref_id': '5ZZ2', 'xref_name': 'A', 'xref_src_db': 'PDBe'},\n",
       "    {'xref_id': '6ACB', 'xref_name': 'A', 'xref_src_db': 'PDBe'},\n",
       "    {'xref_id': 'PF00233', 'xref_name': 'PDEase_I', 'xref_src_db': 'Pfam'},\n",
       "    {'xref_id': 'PF01590', 'xref_name': 'GAF', 'xref_src_db': 'Pfam'},\n",
       "    {'xref_id': 'PA33132',\n",
       "     'xref_name': 'phosphodiesterase 5A, cGMP-specific',\n",
       "     'xref_src_db': 'PharmGKB'},\n",
       "    {'xref_id': 'R-HSA-418457',\n",
       "     'xref_name': 'cGMP effects.',\n",
       "     'xref_src_db': 'Reactome'},\n",
       "    {'xref_id': 'A0AV69', 'xref_name': None, 'xref_src_db': 'UniProt'},\n",
       "    {'xref_id': 'A8K2C4', 'xref_name': None, 'xref_src_db': 'UniProt'},\n",
       "    {'xref_id': 'O75026', 'xref_name': None, 'xref_src_db': 'UniProt'},\n",
       "    {'xref_id': 'O75887', 'xref_name': None, 'xref_src_db': 'UniProt'},\n",
       "    {'xref_id': 'O76074', 'xref_name': None, 'xref_src_db': 'UniProt'},\n",
       "    {'xref_id': 'Q86UI0', 'xref_name': None, 'xref_src_db': 'UniProt'},\n",
       "    {'xref_id': 'Q86V66', 'xref_name': None, 'xref_src_db': 'UniProt'},\n",
       "    {'xref_id': 'Q9Y6Z6', 'xref_name': None, 'xref_src_db': 'UniProt'}]}],\n",
       " 'target_type': 'SINGLE PROTEIN',\n",
       " 'tax_id': 9606}"
      ]
     },
     "execution_count": 36,
     "metadata": {},
     "output_type": "execute_result"
    }
   ],
   "source": [
    "records[2]"
   ]
  },
  {
   "cell_type": "code",
   "execution_count": 38,
   "metadata": {
    "collapsed": true
   },
   "outputs": [
    {
     "data": {
      "text/plain": [
       "{'cross_references': [{'xref_id': 'Heparanase',\n",
       "   'xref_name': None,\n",
       "   'xref_src': 'Wikipedia'}],\n",
       " 'organism': 'Homo sapiens',\n",
       " 'pref_name': 'Heparanase',\n",
       " 'species_group_flag': False,\n",
       " 'target_chembl_id': 'CHEMBL3921',\n",
       " 'target_components': [{'accession': 'Q9Y251',\n",
       "   'component_description': 'Heparanase',\n",
       "   'component_id': 2242,\n",
       "   'component_type': 'PROTEIN',\n",
       "   'relationship': 'SINGLE PROTEIN',\n",
       "   'target_component_synonyms': [{'component_synonym': '3.2.1.166',\n",
       "     'syn_type': 'EC_NUMBER'},\n",
       "    {'component_synonym': 'Endo-glucoronidase', 'syn_type': 'UNIPROT'},\n",
       "    {'component_synonym': 'HEP', 'syn_type': 'GENE_SYMBOL_OTHER'},\n",
       "    {'component_synonym': 'Heparanase', 'syn_type': 'UNIPROT'},\n",
       "    {'component_synonym': 'Heparanase-1', 'syn_type': 'UNIPROT'},\n",
       "    {'component_synonym': 'Heparanase 50 kDa subunit', 'syn_type': 'UNIPROT'},\n",
       "    {'component_synonym': 'Heparanase 8 kDa subunit', 'syn_type': 'UNIPROT'},\n",
       "    {'component_synonym': 'HPA', 'syn_type': 'GENE_SYMBOL_OTHER'},\n",
       "    {'component_synonym': 'Hpa1', 'syn_type': 'UNIPROT'},\n",
       "    {'component_synonym': 'HPA1', 'syn_type': 'GENE_SYMBOL_OTHER'},\n",
       "    {'component_synonym': 'HPR1', 'syn_type': 'GENE_SYMBOL_OTHER'},\n",
       "    {'component_synonym': 'HPSE', 'syn_type': 'GENE_SYMBOL'},\n",
       "    {'component_synonym': 'HPSE1', 'syn_type': 'GENE_SYMBOL_OTHER'},\n",
       "    {'component_synonym': 'HSE1', 'syn_type': 'GENE_SYMBOL_OTHER'}],\n",
       "   'target_component_xrefs': [{'xref_id': 'ENSG00000173083',\n",
       "     'xref_name': None,\n",
       "     'xref_src_db': 'EnsemblGene'},\n",
       "    {'xref_id': 'Q9Y251', 'xref_name': None, 'xref_src_db': 'ExpressionAtlas'},\n",
       "    {'xref_id': 'GO:0005576',\n",
       "     'xref_name': 'extracellular region',\n",
       "     'xref_src_db': 'GoComponent'},\n",
       "    {'xref_id': 'GO:0005634',\n",
       "     'xref_name': 'nucleus',\n",
       "     'xref_src_db': 'GoComponent'},\n",
       "    {'xref_id': 'GO:0005654',\n",
       "     'xref_name': 'nucleoplasm',\n",
       "     'xref_src_db': 'GoComponent'},\n",
       "    {'xref_id': 'GO:0005764',\n",
       "     'xref_name': 'lysosome',\n",
       "     'xref_src_db': 'GoComponent'},\n",
       "    {'xref_id': 'GO:0005765',\n",
       "     'xref_name': 'lysosomal membrane',\n",
       "     'xref_src_db': 'GoComponent'},\n",
       "    {'xref_id': 'GO:0016020',\n",
       "     'xref_name': 'membrane',\n",
       "     'xref_src_db': 'GoComponent'},\n",
       "    {'xref_id': 'GO:0031012',\n",
       "     'xref_name': 'extracellular matrix',\n",
       "     'xref_src_db': 'GoComponent'},\n",
       "    {'xref_id': 'GO:0035580',\n",
       "     'xref_name': 'specific granule lumen',\n",
       "     'xref_src_db': 'GoComponent'},\n",
       "    {'xref_id': 'GO:0043202',\n",
       "     'xref_name': 'lysosomal lumen',\n",
       "     'xref_src_db': 'GoComponent'},\n",
       "    {'xref_id': 'GO:0043231',\n",
       "     'xref_name': 'intracellular membrane-bounded organelle',\n",
       "     'xref_src_db': 'GoComponent'},\n",
       "    {'xref_id': 'GO:0045121',\n",
       "     'xref_name': 'membrane raft',\n",
       "     'xref_src_db': 'GoComponent'},\n",
       "    {'xref_id': 'GO:1904974',\n",
       "     'xref_name': 'heparanase complex',\n",
       "     'xref_src_db': 'GoComponent'},\n",
       "    {'xref_id': 'GO:0004566',\n",
       "     'xref_name': 'beta-glucuronidase activity',\n",
       "     'xref_src_db': 'GoFunction'},\n",
       "    {'xref_id': 'GO:0005515',\n",
       "     'xref_name': 'protein binding',\n",
       "     'xref_src_db': 'GoFunction'},\n",
       "    {'xref_id': 'GO:0016787',\n",
       "     'xref_name': 'hydrolase activity',\n",
       "     'xref_src_db': 'GoFunction'},\n",
       "    {'xref_id': 'GO:0016798',\n",
       "     'xref_name': 'hydrolase activity, acting on glycosyl bonds',\n",
       "     'xref_src_db': 'GoFunction'},\n",
       "    {'xref_id': 'GO:0030305',\n",
       "     'xref_name': 'heparanase activity',\n",
       "     'xref_src_db': 'GoFunction'},\n",
       "    {'xref_id': 'GO:0045545',\n",
       "     'xref_name': 'syndecan binding',\n",
       "     'xref_src_db': 'GoFunction'},\n",
       "    {'xref_id': 'GO:0006027',\n",
       "     'xref_name': 'glycosaminoglycan catabolic process',\n",
       "     'xref_src_db': 'GoProcess'},\n",
       "    {'xref_id': 'GO:0006029',\n",
       "     'xref_name': 'proteoglycan metabolic process',\n",
       "     'xref_src_db': 'GoProcess'},\n",
       "    {'xref_id': 'GO:0007155',\n",
       "     'xref_name': 'cell adhesion',\n",
       "     'xref_src_db': 'GoProcess'},\n",
       "    {'xref_id': 'GO:0007160',\n",
       "     'xref_name': 'cell-matrix adhesion',\n",
       "     'xref_src_db': 'GoProcess'},\n",
       "    {'xref_id': 'GO:0010575',\n",
       "     'xref_name': 'positive regulation of vascular endothelial growth factor production',\n",
       "     'xref_src_db': 'GoProcess'},\n",
       "    {'xref_id': 'GO:0030194',\n",
       "     'xref_name': 'positive regulation of blood coagulation',\n",
       "     'xref_src_db': 'GoProcess'},\n",
       "    {'xref_id': 'GO:0030200',\n",
       "     'xref_name': 'heparan sulfate proteoglycan catabolic process',\n",
       "     'xref_src_db': 'GoProcess'},\n",
       "    {'xref_id': 'GO:0033690',\n",
       "     'xref_name': 'positive regulation of osteoblast proliferation',\n",
       "     'xref_src_db': 'GoProcess'},\n",
       "    {'xref_id': 'GO:0042060',\n",
       "     'xref_name': 'wound healing',\n",
       "     'xref_src_db': 'GoProcess'},\n",
       "    {'xref_id': 'GO:0043312',\n",
       "     'xref_name': 'neutrophil degranulation',\n",
       "     'xref_src_db': 'GoProcess'},\n",
       "    {'xref_id': 'GO:0051797',\n",
       "     'xref_name': 'regulation of hair follicle development',\n",
       "     'xref_src_db': 'GoProcess'},\n",
       "    {'xref_id': 'GO:0051798',\n",
       "     'xref_name': 'positive regulation of hair follicle development',\n",
       "     'xref_src_db': 'GoProcess'},\n",
       "    {'xref_id': 'GO:0051897',\n",
       "     'xref_name': 'positive regulation of protein kinase B signaling',\n",
       "     'xref_src_db': 'GoProcess'},\n",
       "    {'xref_id': 'GO:0060055',\n",
       "     'xref_name': 'angiogenesis involved in wound healing',\n",
       "     'xref_src_db': 'GoProcess'},\n",
       "    {'xref_id': 'GO:0061042',\n",
       "     'xref_name': 'vascular wound healing',\n",
       "     'xref_src_db': 'GoProcess'},\n",
       "    {'xref_id': '2996',\n",
       "     'xref_name': None,\n",
       "     'xref_src_db': 'GuideToPHARMACOLOGY'},\n",
       "    {'xref_id': 'Q9Y251', 'xref_name': None, 'xref_src_db': 'IntAct'},\n",
       "    {'xref_id': 'IPR005199',\n",
       "     'xref_name': 'Glyco_hydro_79.',\n",
       "     'xref_src_db': 'InterPro'},\n",
       "    {'xref_id': 'IPR017853',\n",
       "     'xref_name': 'Glycoside_hydrolase_SF.',\n",
       "     'xref_src_db': 'InterPro'},\n",
       "    {'xref_id': '5E8M', 'xref_name': 'A', 'xref_src_db': 'PDBe'},\n",
       "    {'xref_id': '5E97', 'xref_name': 'A', 'xref_src_db': 'PDBe'},\n",
       "    {'xref_id': '5E98', 'xref_name': 'A', 'xref_src_db': 'PDBe'},\n",
       "    {'xref_id': '5E9B', 'xref_name': 'A', 'xref_src_db': 'PDBe'},\n",
       "    {'xref_id': '5E9C', 'xref_name': 'A', 'xref_src_db': 'PDBe'},\n",
       "    {'xref_id': '5L9Y', 'xref_name': 'A', 'xref_src_db': 'PDBe'},\n",
       "    {'xref_id': '5L9Z', 'xref_name': 'A', 'xref_src_db': 'PDBe'},\n",
       "    {'xref_id': '5LA4', 'xref_name': 'A', 'xref_src_db': 'PDBe'},\n",
       "    {'xref_id': '5LA7', 'xref_name': 'A', 'xref_src_db': 'PDBe'},\n",
       "    {'xref_id': 'PF03662',\n",
       "     'xref_name': 'Glyco_hydro_79n',\n",
       "     'xref_src_db': 'Pfam'},\n",
       "    {'xref_id': 'PA29435',\n",
       "     'xref_name': 'heparanase',\n",
       "     'xref_src_db': 'PharmGKB'},\n",
       "    {'xref_id': 'R-HSA-2024096',\n",
       "     'xref_name': 'HS-GAG degradation.',\n",
       "     'xref_src_db': 'Reactome'},\n",
       "    {'xref_id': 'R-HSA-6798695',\n",
       "     'xref_name': 'Neutrophil degranulation.',\n",
       "     'xref_src_db': 'Reactome'},\n",
       "    {'xref_id': 'A9JIG7', 'xref_name': None, 'xref_src_db': 'UniProt'},\n",
       "    {'xref_id': 'C7F7I3', 'xref_name': None, 'xref_src_db': 'UniProt'},\n",
       "    {'xref_id': 'C7F7I4', 'xref_name': None, 'xref_src_db': 'UniProt'},\n",
       "    {'xref_id': 'E9PCA9', 'xref_name': None, 'xref_src_db': 'UniProt'},\n",
       "    {'xref_id': 'E9PGR1', 'xref_name': None, 'xref_src_db': 'UniProt'},\n",
       "    {'xref_id': 'Q53GE5', 'xref_name': None, 'xref_src_db': 'UniProt'},\n",
       "    {'xref_id': 'Q9UL39', 'xref_name': None, 'xref_src_db': 'UniProt'},\n",
       "    {'xref_id': 'Q9Y251', 'xref_name': None, 'xref_src_db': 'UniProt'}]}],\n",
       " 'target_type': 'SINGLE PROTEIN',\n",
       " 'tax_id': 9606}"
      ]
     },
     "execution_count": 38,
     "metadata": {},
     "output_type": "execute_result"
    }
   ],
   "source": [
    "records[1338]"
   ]
  },
  {
   "cell_type": "code",
   "execution_count": 39,
   "metadata": {
    "collapsed": true
   },
   "outputs": [
    {
     "data": {
      "text/plain": [
       "[{'cross_references': [{'xref_id': 'O43451', 'xref_name': None, 'xref_src': 'canSAR-Target'}, {'xref_id': 'Maltase-glucoamylase', 'xref_name': None, 'xref_src': 'Wikipedia'}], 'organism': 'Homo sapiens', 'pref_name': 'Maltase-glucoamylase', 'species_group_flag': False, 'target_chembl_id': 'CHEMBL2074', 'target_components': [{'accession': 'O43451', 'component_description': 'Maltase-glucoamylase, intestinal', 'component_id': 434, 'component_type': 'PROTEIN', 'relationship': 'SINGLE PROTEIN', 'target_component_synonyms': [{'component_synonym': '3.2.1.20', 'syn_type': 'EC_NUMBER'}, {'component_synonym': '3.2.1.3', 'syn_type': 'EC_NUMBER'}, {'component_synonym': 'Alpha-glucosidase', 'syn_type': 'UNIPROT'}, {'component_synonym': 'Glucan 1,4-alpha-glucosidase', 'syn_type': 'UNIPROT'}, {'component_synonym': 'Glucoamylase', 'syn_type': 'UNIPROT'}, {'component_synonym': 'Maltase', 'syn_type': 'UNIPROT'}, {'component_synonym': 'Maltase-glucoamylase, intestinal', 'syn_type': 'UNIPROT'}, {'component_synonym': 'MGA', 'syn_type': 'GENE_SYMBOL_OTHER'}, {'component_synonym': 'MGAM', 'syn_type': 'GENE_SYMBOL'}, {'component_synonym': 'MGAML', 'syn_type': 'GENE_SYMBOL_OTHER'}], 'target_component_xrefs': [{'xref_id': 'ENSG00000257335', 'xref_name': None, 'xref_src_db': 'EnsemblGene'}, {'xref_id': 'O43451', 'xref_name': None, 'xref_src_db': 'ExpressionAtlas'}, {'xref_id': 'GO:0005886', 'xref_name': 'plasma membrane', 'xref_src_db': 'GoComponent'}, {'xref_id': 'GO:0016020', 'xref_name': 'membrane', 'xref_src_db': 'GoComponent'}, {'xref_id': 'GO:0016021', 'xref_name': 'integral component of membrane', 'xref_src_db': 'GoComponent'}, {'xref_id': 'GO:0016324', 'xref_name': 'apical plasma membrane', 'xref_src_db': 'GoComponent'}, {'xref_id': 'GO:0070062', 'xref_name': 'extracellular exosome', 'xref_src_db': 'GoComponent'}, {'xref_id': 'GO:0070821', 'xref_name': 'tertiary granule membrane', 'xref_src_db': 'GoComponent'}, {'xref_id': 'GO:0101003', 'xref_name': 'ficolin-1-rich granule membrane', 'xref_src_db': 'GoComponent'}, {'xref_id': 'GO:0003824', 'xref_name': 'catalytic activity', 'xref_src_db': 'GoFunction'}, {'xref_id': 'GO:0004339', 'xref_name': 'glucan 1,4-alpha-glucosidase activity', 'xref_src_db': 'GoFunction'}, {'xref_id': 'GO:0004553', 'xref_name': 'hydrolase activity, hydrolyzing O-glycosyl compounds', 'xref_src_db': 'GoFunction'}, {'xref_id': 'GO:0004558', 'xref_name': 'alpha-1,4-glucosidase activity', 'xref_src_db': 'GoFunction'}, {'xref_id': 'GO:0016160', 'xref_name': 'amylase activity', 'xref_src_db': 'GoFunction'}, {'xref_id': 'GO:0016787', 'xref_name': 'hydrolase activity', 'xref_src_db': 'GoFunction'}, {'xref_id': 'GO:0016798', 'xref_name': 'hydrolase activity, acting on glycosyl bonds', 'xref_src_db': 'GoFunction'}, {'xref_id': 'GO:0030246', 'xref_name': 'carbohydrate binding', 'xref_src_db': 'GoFunction'}, {'xref_id': 'GO:0032450', 'xref_name': 'maltose alpha-glucosidase activity', 'xref_src_db': 'GoFunction'}, {'xref_id': 'GO:0090599', 'xref_name': 'alpha-glucosidase activity', 'xref_src_db': 'GoFunction'}, {'xref_id': 'GO:0000023', 'xref_name': 'maltose metabolic process', 'xref_src_db': 'GoProcess'}, {'xref_id': 'GO:0005975', 'xref_name': 'carbohydrate metabolic process', 'xref_src_db': 'GoProcess'}, {'xref_id': 'GO:0005983', 'xref_name': 'starch catabolic process', 'xref_src_db': 'GoProcess'}, {'xref_id': 'GO:0008152', 'xref_name': 'metabolic process', 'xref_src_db': 'GoProcess'}, {'xref_id': 'GO:0043312', 'xref_name': 'neutrophil degranulation', 'xref_src_db': 'GoProcess'}, {'xref_id': 'GO:0044245', 'xref_name': 'polysaccharide digestion', 'xref_src_db': 'GoProcess'}, {'xref_id': '2627', 'xref_name': None, 'xref_src_db': 'GuideToPHARMACOLOGY'}, {'xref_id': 'O43451', 'xref_name': None, 'xref_src_db': 'IntAct'}, {'xref_id': 'IPR000322', 'xref_name': 'Glyco_hydro_31.', 'xref_src_db': 'InterPro'}, {'xref_id': 'IPR000519', 'xref_name': 'P_trefoil_dom.', 'xref_src_db': 'InterPro'}, {'xref_id': 'IPR011013', 'xref_name': 'Gal_mutarotase_sf_dom.', 'xref_src_db': 'InterPro'}, {'xref_id': 'IPR013780', 'xref_name': 'Glyco_hydro_b.', 'xref_src_db': 'InterPro'}, {'xref_id': 'IPR017853', 'xref_name': 'Glycoside_hydrolase_SF.', 'xref_src_db': 'InterPro'}, {'xref_id': 'IPR017957', 'xref_name': 'P_trefoil_CS.', 'xref_src_db': 'InterPro'}, {'xref_id': 'IPR030458', 'xref_name': 'Glyco_hydro_31_AS.', 'xref_src_db': 'InterPro'}, {'xref_id': 'IPR030459', 'xref_name': 'Glyco_hydro_31_CS.', 'xref_src_db': 'InterPro'}, {'xref_id': 'IPR031727', 'xref_name': 'Gal_mutarotase_N.', 'xref_src_db': 'InterPro'}, {'xref_id': '2QLY', 'xref_name': 'A', 'xref_src_db': 'PDBe'}, {'xref_id': '2QMJ', 'xref_name': 'A', 'xref_src_db': 'PDBe'}, {'xref_id': '3CTT', 'xref_name': 'A', 'xref_src_db': 'PDBe'}, {'xref_id': '3L4T', 'xref_name': 'A', 'xref_src_db': 'PDBe'}, {'xref_id': '3L4U', 'xref_name': 'A', 'xref_src_db': 'PDBe'}, {'xref_id': '3L4V', 'xref_name': 'A', 'xref_src_db': 'PDBe'}, {'xref_id': '3L4W', 'xref_name': 'A', 'xref_src_db': 'PDBe'}, {'xref_id': '3L4X', 'xref_name': 'A', 'xref_src_db': 'PDBe'}, {'xref_id': '3L4Y', 'xref_name': 'A', 'xref_src_db': 'PDBe'}, {'xref_id': '3L4Z', 'xref_name': 'A', 'xref_src_db': 'PDBe'}, {'xref_id': '3TON', 'xref_name': 'A', 'xref_src_db': 'PDBe'}, {'xref_id': '3TOP', 'xref_name': 'A', 'xref_src_db': 'PDBe'}, {'xref_id': 'PF00088', 'xref_name': 'Trefoil', 'xref_src_db': 'Pfam'}, {'xref_id': 'PF01055', 'xref_name': 'Glyco_hydro_31', 'xref_src_db': 'Pfam'}, {'xref_id': 'PF16863', 'xref_name': 'NtCtMGAM_N', 'xref_src_db': 'Pfam'}, {'xref_id': 'PA30778', 'xref_name': 'maltase-glucoamylase (alpha-glucosidase)', 'xref_src_db': 'PharmGKB'}, {'xref_id': 'R-HSA-189085', 'xref_name': 'Digestion of dietary carbohydrate.', 'xref_src_db': 'Reactome'}, {'xref_id': 'R-HSA-6798695', 'xref_name': 'Neutrophil degranulation.', 'xref_src_db': 'Reactome'}, {'xref_id': 'O43451', 'xref_name': None, 'xref_src_db': 'UniProt'}, {'xref_id': 'Q0VAX6', 'xref_name': None, 'xref_src_db': 'UniProt'}, {'xref_id': 'Q75ME7', 'xref_name': None, 'xref_src_db': 'UniProt'}, {'xref_id': 'Q86UM5', 'xref_name': None, 'xref_src_db': 'UniProt'}]}], 'target_type': 'SINGLE PROTEIN', 'tax_id': 9606}, {'cross_references': [{'xref_id': 'O60706', 'xref_name': None, 'xref_src': 'canSAR-Target'}, {'xref_id': 'ABCC9', 'xref_name': None, 'xref_src': 'Wikipedia'}], 'organism': 'Homo sapiens', 'pref_name': 'Sulfonylurea receptor 2', 'species_group_flag': False, 'target_chembl_id': 'CHEMBL1971', 'target_components': [{'accession': 'O60706', 'component_description': 'ATP-binding cassette sub-family C member 9', 'component_id': 294, 'component_type': 'PROTEIN', 'relationship': 'SINGLE PROTEIN', 'target_component_synonyms': [{'component_synonym': 'ABCC9', 'syn_type': 'GENE_SYMBOL'}, {'component_synonym': 'ATP-binding cassette sub-family C member 9', 'syn_type': 'UNIPROT'}, {'component_synonym': 'Sulfonylurea receptor 2', 'syn_type': 'UNIPROT'}, {'component_synonym': 'SUR2', 'syn_type': 'GENE_SYMBOL_OTHER'}], 'target_component_xrefs': [{'xref_id': 'ABCC9', 'xref_name': 'Cardiomyopathy, dilated, 10; Atrial fibrillation, familial 12; Cantu syndrome', 'xref_src_db': 'CGD'}, {'xref_id': 'ENSG00000069431', 'xref_name': None, 'xref_src_db': 'EnsemblGene'}, {'xref_id': 'O60706', 'xref_name': None, 'xref_src_db': 'ExpressionAtlas'}, {'xref_id': 'GO:0005886', 'xref_name': 'plasma membrane', 'xref_src_db': 'GoComponent'}, {'xref_id': 'GO:0008282', 'xref_name': 'inward rectifying potassium channel', 'xref_src_db': 'GoComponent'}, {'xref_id': 'GO:0016020', 'xref_name': 'membrane', 'xref_src_db': 'GoComponent'}, {'xref_id': 'GO:0016021', 'xref_name': 'integral component of membrane', 'xref_src_db': 'GoComponent'}, {'xref_id': 'GO:0030017', 'xref_name': 'sarcomere', 'xref_src_db': 'GoComponent'}, {'xref_id': 'GO:0031004', 'xref_name': 'potassium ion-transporting ATPase complex', 'xref_src_db': 'GoComponent'}, {'xref_id': 'GO:0000166', 'xref_name': 'nucleotide binding', 'xref_src_db': 'GoFunction'}, {'xref_id': 'GO:0005261', 'xref_name': 'cation channel activity', 'xref_src_db': 'GoFunction'}, {'xref_id': 'GO:0005267', 'xref_name': 'potassium channel activity', 'xref_src_db': 'GoFunction'}, {'xref_id': 'GO:0005524', 'xref_name': 'ATP binding', 'xref_src_db': 'GoFunction'}, {'xref_id': 'GO:0008281', 'xref_name': 'sulfonylurea receptor activity', 'xref_src_db': 'GoFunction'}, {'xref_id': 'GO:0015272', 'xref_name': 'ATP-activated inward rectifier potassium channel activity', 'xref_src_db': 'GoFunction'}, {'xref_id': 'GO:0015459', 'xref_name': 'potassium channel regulator activity', 'xref_src_db': 'GoFunction'}, {'xref_id': 'GO:0016887', 'xref_name': 'ATPase activity', 'xref_src_db': 'GoFunction'}, {'xref_id': 'GO:0019829', 'xref_name': 'ATPase-coupled cation transmembrane transporter activity', 'xref_src_db': 'GoFunction'}, {'xref_id': 'GO:0022857', 'xref_name': 'transmembrane transporter activity', 'xref_src_db': 'GoFunction'}, {'xref_id': 'GO:0042626', 'xref_name': 'ATPase-coupled transmembrane transporter activity', 'xref_src_db': 'GoFunction'}, {'xref_id': 'GO:0044325', 'xref_name': 'ion channel binding', 'xref_src_db': 'GoFunction'}, {'xref_id': 'GO:0006813', 'xref_name': 'potassium ion transport', 'xref_src_db': 'GoProcess'}, {'xref_id': 'GO:0033198', 'xref_name': 'response to ATP', 'xref_src_db': 'GoProcess'}, {'xref_id': 'GO:0051607', 'xref_name': 'defense response to virus', 'xref_src_db': 'GoProcess'}, {'xref_id': 'GO:0055085', 'xref_name': 'transmembrane transport', 'xref_src_db': 'GoProcess'}, {'xref_id': 'GO:0061337', 'xref_name': 'cardiac conduction', 'xref_src_db': 'GoProcess'}, {'xref_id': 'GO:0071805', 'xref_name': 'potassium ion transmembrane transport', 'xref_src_db': 'GoProcess'}, {'xref_id': 'GO:0098655', 'xref_name': 'cation transmembrane transport', 'xref_src_db': 'GoProcess'}, {'xref_id': 'GO:0098662', 'xref_name': 'inorganic cation transmembrane transport', 'xref_src_db': 'GoProcess'}, {'xref_id': 'GO:0150104', 'xref_name': 'transport across blood-brain barrier', 'xref_src_db': 'GoProcess'}, {'xref_id': 'GO:1903779', 'xref_name': 'regulation of cardiac conduction', 'xref_src_db': 'GoProcess'}, {'xref_id': 'GO:1990573', 'xref_name': 'potassium ion import across plasma membrane', 'xref_src_db': 'GoProcess'}, {'xref_id': '2746', 'xref_name': None, 'xref_src_db': 'GuideToPHARMACOLOGY'}, {'xref_id': 'O60706', 'xref_name': None, 'xref_src_db': 'IntAct'}, {'xref_id': 'IPR000388', 'xref_name': 'Sulphorea_rcpt.', 'xref_src_db': 'InterPro'}, {'xref_id': 'IPR001475', 'xref_name': 'ABCC9.', 'xref_src_db': 'InterPro'}, {'xref_id': 'IPR003439', 'xref_name': 'ABC_transporter-like.', 'xref_src_db': 'InterPro'}, {'xref_id': 'IPR003593', 'xref_name': 'AAA+_ATPase.', 'xref_src_db': 'InterPro'}, {'xref_id': 'IPR011527', 'xref_name': 'ABC1_TM_dom.', 'xref_src_db': 'InterPro'}, {'xref_id': 'IPR017871', 'xref_name': 'ABC_transporter_CS.', 'xref_src_db': 'InterPro'}, {'xref_id': 'IPR027417', 'xref_name': 'P-loop_NTPase.', 'xref_src_db': 'InterPro'}, {'xref_id': 'IPR036640', 'xref_name': 'ABC1_TM_sf.', 'xref_src_db': 'InterPro'}, {'xref_id': 'PF00005', 'xref_name': 'ABC_tran', 'xref_src_db': 'Pfam'}, {'xref_id': 'PF00664', 'xref_name': 'ABC_membrane', 'xref_src_db': 'Pfam'}, {'xref_id': 'PA396', 'xref_name': 'ATP-binding cassette, sub-family C (CFTR/MRP), member 9', 'xref_src_db': 'PharmGKB'}, {'xref_id': 'R-HSA-1296025', 'xref_name': 'ATP sensitive Potassium channels.', 'xref_src_db': 'Reactome'}, {'xref_id': 'R-HSA-382556', 'xref_name': 'ABC-family proteins mediated transport.', 'xref_src_db': 'Reactome'}, {'xref_id': 'R-HSA-5578775', 'xref_name': 'Ion homeostasis.', 'xref_src_db': 'Reactome'}, {'xref_id': 'R-HSA-5678420', 'xref_name': 'Defective ABCC9 causes dilated cardiomyopathy 10, familial atrial fibrillation 12 and hypertrichotic osteochondrodysplasia.', 'xref_src_db': 'Reactome'}, {'xref_id': 'O60706', 'xref_name': None, 'xref_src_db': 'UniProt'}, {'xref_id': 'O60707', 'xref_name': None, 'xref_src_db': 'UniProt'}]}], 'target_type': 'SINGLE PROTEIN', 'tax_id': 9606}, {'cross_references': [{'xref_id': 'CGMP-specific_phosphodiesterase_type_5', 'xref_name': None, 'xref_src': 'Wikipedia'}], 'organism': 'Homo sapiens', 'pref_name': 'Phosphodiesterase 5A', 'species_group_flag': False, 'target_chembl_id': 'CHEMBL1827', 'target_components': [{'accession': 'O76074', 'component_description': \"cGMP-specific 3',5'-cyclic phosphodiesterase\", 'component_id': 124, 'component_type': 'PROTEIN', 'relationship': 'SINGLE PROTEIN', 'target_component_synonyms': [{'component_synonym': '3.1.4.35', 'syn_type': 'EC_NUMBER'}, {'component_synonym': 'CGB-PDE', 'syn_type': 'UNIPROT'}, {'component_synonym': 'cGMP-binding cGMP-specific phosphodiesterase', 'syn_type': 'UNIPROT'}, {'component_synonym': \"cGMP-specific 3',5'-cyclic phosphodiesterase\", 'syn_type': 'UNIPROT'}, {'component_synonym': 'PDE5', 'syn_type': 'GENE_SYMBOL_OTHER'}, {'component_synonym': 'PDE5A', 'syn_type': 'GENE_SYMBOL'}], 'target_component_xrefs': [{'xref_id': 'ENSG00000138735', 'xref_name': None, 'xref_src_db': 'EnsemblGene'}, {'xref_id': 'O76074', 'xref_name': None, 'xref_src_db': 'ExpressionAtlas'}, {'xref_id': 'GO:0005575', 'xref_name': 'cellular_component', 'xref_src_db': 'GoComponent'}, {'xref_id': 'GO:0005829', 'xref_name': 'cytosol', 'xref_src_db': 'GoComponent'}, {'xref_id': 'GO:0000166', 'xref_name': 'nucleotide binding', 'xref_src_db': 'GoFunction'}, {'xref_id': 'GO:0003824', 'xref_name': 'catalytic activity', 'xref_src_db': 'GoFunction'}, {'xref_id': 'GO:0004112', 'xref_name': 'cyclic-nucleotide phosphodiesterase activity', 'xref_src_db': 'GoFunction'}, {'xref_id': 'GO:0004114', 'xref_name': \"3',5'-cyclic-nucleotide phosphodiesterase activity\", 'xref_src_db': 'GoFunction'}, {'xref_id': 'GO:0005515', 'xref_name': 'protein binding', 'xref_src_db': 'GoFunction'}, {'xref_id': 'GO:0008081', 'xref_name': 'phosphoric diester hydrolase activity', 'xref_src_db': 'GoFunction'}, {'xref_id': 'GO:0016787', 'xref_name': 'hydrolase activity', 'xref_src_db': 'GoFunction'}, {'xref_id': 'GO:0030553', 'xref_name': 'cGMP binding', 'xref_src_db': 'GoFunction'}, {'xref_id': 'GO:0046872', 'xref_name': 'metal ion binding', 'xref_src_db': 'GoFunction'}, {'xref_id': 'GO:0047555', 'xref_name': \"3',5'-cyclic-GMP phosphodiesterase activity\", 'xref_src_db': 'GoFunction'}, {'xref_id': 'GO:0007165', 'xref_name': 'signal transduction', 'xref_src_db': 'GoProcess'}, {'xref_id': 'GO:0008152', 'xref_name': 'metabolic process', 'xref_src_db': 'GoProcess'}, {'xref_id': 'GO:0010613', 'xref_name': 'positive regulation of cardiac muscle hypertrophy', 'xref_src_db': 'GoProcess'}, {'xref_id': 'GO:0010749', 'xref_name': 'regulation of nitric oxide mediated signal transduction', 'xref_src_db': 'GoProcess'}, {'xref_id': 'GO:0042130', 'xref_name': 'negative regulation of T cell proliferation', 'xref_src_db': 'GoProcess'}, {'xref_id': 'GO:0043406', 'xref_name': 'positive regulation of MAP kinase activity', 'xref_src_db': 'GoProcess'}, {'xref_id': 'GO:0046068', 'xref_name': 'cGMP metabolic process', 'xref_src_db': 'GoProcess'}, {'xref_id': 'GO:0046069', 'xref_name': 'cGMP catabolic process', 'xref_src_db': 'GoProcess'}, {'xref_id': 'GO:0055118', 'xref_name': 'negative regulation of cardiac muscle contraction', 'xref_src_db': 'GoProcess'}, {'xref_id': 'GO:0055119', 'xref_name': 'relaxation of cardiac muscle', 'xref_src_db': 'GoProcess'}, {'xref_id': 'GO:0060282', 'xref_name': 'positive regulation of oocyte development', 'xref_src_db': 'GoProcess'}, {'xref_id': '1304', 'xref_name': None, 'xref_src_db': 'GuideToPHARMACOLOGY'}, {'xref_id': 'O76074', 'xref_name': None, 'xref_src_db': 'IntAct'}, {'xref_id': 'IPR002073', 'xref_name': 'PDEase_catalytic_dom.', 'xref_src_db': 'InterPro'}, {'xref_id': 'IPR003018', 'xref_name': 'GAF.', 'xref_src_db': 'InterPro'}, {'xref_id': 'IPR003607', 'xref_name': 'HD/PDEase_dom.', 'xref_src_db': 'InterPro'}, {'xref_id': 'IPR023088', 'xref_name': 'PDEase.', 'xref_src_db': 'InterPro'}, {'xref_id': 'IPR023174', 'xref_name': 'PDEase_CS.', 'xref_src_db': 'InterPro'}, {'xref_id': 'IPR029016', 'xref_name': 'GAF-like_dom_sf.', 'xref_src_db': 'InterPro'}, {'xref_id': 'IPR036971', 'xref_name': 'PDEase_catalytic_dom_sf.', 'xref_src_db': 'InterPro'}, {'xref_id': '1RKP', 'xref_name': 'A', 'xref_src_db': 'PDBe'}, {'xref_id': '1T9R', 'xref_name': 'A', 'xref_src_db': 'PDBe'}, {'xref_id': '1T9S', 'xref_name': 'A', 'xref_src_db': 'PDBe'}, {'xref_id': '1TBF', 'xref_name': 'A', 'xref_src_db': 'PDBe'}, {'xref_id': '1UDT', 'xref_name': 'A', 'xref_src_db': 'PDBe'}, {'xref_id': '1UDU', 'xref_name': 'A', 'xref_src_db': 'PDBe'}, {'xref_id': '1UHO', 'xref_name': 'A', 'xref_src_db': 'PDBe'}, {'xref_id': '1XOZ', 'xref_name': 'A', 'xref_src_db': 'PDBe'}, {'xref_id': '1XP0', 'xref_name': 'A', 'xref_src_db': 'PDBe'}, {'xref_id': '2CHM', 'xref_name': 'A', 'xref_src_db': 'PDBe'}, {'xref_id': '2H40', 'xref_name': 'A', 'xref_src_db': 'PDBe'}, {'xref_id': '2H42', 'xref_name': 'A', 'xref_src_db': 'PDBe'}, {'xref_id': '2H44', 'xref_name': 'A', 'xref_src_db': 'PDBe'}, {'xref_id': '2XSS', 'xref_name': 'A', 'xref_src_db': 'PDBe'}, {'xref_id': '3B2R', 'xref_name': 'A', 'xref_src_db': 'PDBe'}, {'xref_id': '3BJC', 'xref_name': 'A', 'xref_src_db': 'PDBe'}, {'xref_id': '3HC8', 'xref_name': 'A', 'xref_src_db': 'PDBe'}, {'xref_id': '3HDZ', 'xref_name': 'A', 'xref_src_db': 'PDBe'}, {'xref_id': '3JWQ', 'xref_name': 'A', 'xref_src_db': 'PDBe'}, {'xref_id': '3JWR', 'xref_name': 'A', 'xref_src_db': 'PDBe'}, {'xref_id': '3LFV', 'xref_name': 'A', 'xref_src_db': 'PDBe'}, {'xref_id': '3MF0', 'xref_name': 'A', 'xref_src_db': 'PDBe'}, {'xref_id': '3SHY', 'xref_name': 'A', 'xref_src_db': 'PDBe'}, {'xref_id': '3SHZ', 'xref_name': 'A', 'xref_src_db': 'PDBe'}, {'xref_id': '3SIE', 'xref_name': 'A', 'xref_src_db': 'PDBe'}, {'xref_id': '3TGE', 'xref_name': 'A', 'xref_src_db': 'PDBe'}, {'xref_id': '3TGG', 'xref_name': 'A', 'xref_src_db': 'PDBe'}, {'xref_id': '4G2W', 'xref_name': 'A', 'xref_src_db': 'PDBe'}, {'xref_id': '4G2Y', 'xref_name': 'A', 'xref_src_db': 'PDBe'}, {'xref_id': '4I9Z', 'xref_name': 'A', 'xref_src_db': 'PDBe'}, {'xref_id': '4IA0', 'xref_name': 'A', 'xref_src_db': 'PDBe'}, {'xref_id': '4MD6', 'xref_name': 'A', 'xref_src_db': 'PDBe'}, {'xref_id': '4OEW', 'xref_name': 'A', 'xref_src_db': 'PDBe'}, {'xref_id': '4OEX', 'xref_name': 'A', 'xref_src_db': 'PDBe'}, {'xref_id': '5JO3', 'xref_name': 'A', 'xref_src_db': 'PDBe'}, {'xref_id': '5ZZ2', 'xref_name': 'A', 'xref_src_db': 'PDBe'}, {'xref_id': '6ACB', 'xref_name': 'A', 'xref_src_db': 'PDBe'}, {'xref_id': 'PF00233', 'xref_name': 'PDEase_I', 'xref_src_db': 'Pfam'}, {'xref_id': 'PF01590', 'xref_name': 'GAF', 'xref_src_db': 'Pfam'}, {'xref_id': 'PA33132', 'xref_name': 'phosphodiesterase 5A, cGMP-specific', 'xref_src_db': 'PharmGKB'}, {'xref_id': 'R-HSA-418457', 'xref_name': 'cGMP effects.', 'xref_src_db': 'Reactome'}, {'xref_id': 'A0AV69', 'xref_name': None, 'xref_src_db': 'UniProt'}, {'xref_id': 'A8K2C4', 'xref_name': None, 'xref_src_db': 'UniProt'}, {'xref_id': 'O75026', 'xref_name': None, 'xref_src_db': 'UniProt'}, {'xref_id': 'O75887', 'xref_name': None, 'xref_src_db': 'UniProt'}, {'xref_id': 'O76074', 'xref_name': None, 'xref_src_db': 'UniProt'}, {'xref_id': 'Q86UI0', 'xref_name': None, 'xref_src_db': 'UniProt'}, {'xref_id': 'Q86V66', 'xref_name': None, 'xref_src_db': 'UniProt'}, {'xref_id': 'Q9Y6Z6', 'xref_name': None, 'xref_src_db': 'UniProt'}]}], 'target_type': 'SINGLE PROTEIN', 'tax_id': 9606}, {'cross_references': [{'xref_id': 'O95180', 'xref_name': None, 'xref_src': 'canSAR-Target'}, {'xref_id': 'CACNA1H', 'xref_name': None, 'xref_src': 'Wikipedia'}], 'organism': 'Homo sapiens', 'pref_name': 'Voltage-gated T-type calcium channel alpha-1H subunit', 'species_group_flag': False, 'target_chembl_id': 'CHEMBL1859', 'target_components': [{'accession': 'O95180', 'component_description': 'Voltage-dependent T-type calcium channel subunit alpha-1H', 'component_id': 167, 'component_type': 'PROTEIN', 'relationship': 'SINGLE PROTEIN', 'target_component_synonyms': [{'component_synonym': 'CACNA1H', 'syn_type': 'GENE_SYMBOL'}, {'component_synonym': 'Low-voltage-activated calcium channel alpha1 3.2 subunit', 'syn_type': 'UNIPROT'}, {'component_synonym': 'Voltage-dependent T-type calcium channel subunit alpha-1H', 'syn_type': 'UNIPROT'}, {'component_synonym': 'Voltage-gated calcium channel subunit alpha Cav3.2', 'syn_type': 'UNIPROT'}], 'target_component_xrefs': [{'xref_id': 'ENSG00000196557', 'xref_name': None, 'xref_src_db': 'EnsemblGene'}, {'xref_id': 'O95180', 'xref_name': None, 'xref_src_db': 'ExpressionAtlas'}, {'xref_id': 'GO:0001518', 'xref_name': 'voltage-gated sodium channel complex', 'xref_src_db': 'GoComponent'}, {'xref_id': 'GO:0005886', 'xref_name': 'plasma membrane', 'xref_src_db': 'GoComponent'}, {'xref_id': 'GO:0005887', 'xref_name': 'integral component of plasma membrane', 'xref_src_db': 'GoComponent'}, {'xref_id': 'GO:0005891', 'xref_name': 'voltage-gated calcium channel complex', 'xref_src_db': 'GoComponent'}, {'xref_id': 'GO:0016020', 'xref_name': 'membrane', 'xref_src_db': 'GoComponent'}, {'xref_id': 'GO:0016021', 'xref_name': 'integral component of membrane', 'xref_src_db': 'GoComponent'}, {'xref_id': 'GO:0043005', 'xref_name': 'neuron projection', 'xref_src_db': 'GoComponent'}, {'xref_id': 'GO:0005216', 'xref_name': 'ion channel activity', 'xref_src_db': 'GoFunction'}, {'xref_id': 'GO:0005244', 'xref_name': 'voltage-gated ion channel activity', 'xref_src_db': 'GoFunction'}, {'xref_id': 'GO:0005245', 'xref_name': 'voltage-gated calcium channel activity', 'xref_src_db': 'GoFunction'}, {'xref_id': 'GO:0005248', 'xref_name': 'voltage-gated sodium channel activity', 'xref_src_db': 'GoFunction'}, {'xref_id': 'GO:0005261', 'xref_name': 'cation channel activity', 'xref_src_db': 'GoFunction'}, {'xref_id': 'GO:0005262', 'xref_name': 'calcium channel activity', 'xref_src_db': 'GoFunction'}, {'xref_id': 'GO:0005515', 'xref_name': 'protein binding', 'xref_src_db': 'GoFunction'}, {'xref_id': 'GO:0008332', 'xref_name': 'low voltage-gated calcium channel activity', 'xref_src_db': 'GoFunction'}, {'xref_id': 'GO:0046872', 'xref_name': 'metal ion binding', 'xref_src_db': 'GoFunction'}, {'xref_id': 'GO:0097110', 'xref_name': 'scaffold protein binding', 'xref_src_db': 'GoFunction'}, {'xref_id': 'GO:0006811', 'xref_name': 'ion transport', 'xref_src_db': 'GoProcess'}, {'xref_id': 'GO:0006816', 'xref_name': 'calcium ion transport', 'xref_src_db': 'GoProcess'}, {'xref_id': 'GO:0006936', 'xref_name': 'muscle contraction', 'xref_src_db': 'GoProcess'}, {'xref_id': 'GO:0007517', 'xref_name': 'muscle organ development', 'xref_src_db': 'GoProcess'}, {'xref_id': 'GO:0007520', 'xref_name': 'myoblast fusion', 'xref_src_db': 'GoProcess'}, {'xref_id': 'GO:0008016', 'xref_name': 'regulation of heart contraction', 'xref_src_db': 'GoProcess'}, {'xref_id': 'GO:0019228', 'xref_name': 'neuronal action potential', 'xref_src_db': 'GoProcess'}, {'xref_id': 'GO:0032342', 'xref_name': 'aldosterone biosynthetic process', 'xref_src_db': 'GoProcess'}, {'xref_id': 'GO:0032870', 'xref_name': 'cellular response to hormone stimulus', 'xref_src_db': 'GoProcess'}, {'xref_id': 'GO:0034651', 'xref_name': 'cortisol biosynthetic process', 'xref_src_db': 'GoProcess'}, {'xref_id': 'GO:0034765', 'xref_name': 'regulation of ion transmembrane transport', 'xref_src_db': 'GoProcess'}, {'xref_id': 'GO:0035725', 'xref_name': 'sodium ion transmembrane transport', 'xref_src_db': 'GoProcess'}, {'xref_id': 'GO:0035865', 'xref_name': 'cellular response to potassium ion', 'xref_src_db': 'GoProcess'}, {'xref_id': 'GO:0042391', 'xref_name': 'regulation of membrane potential', 'xref_src_db': 'GoProcess'}, {'xref_id': 'GO:0045956', 'xref_name': 'positive regulation of calcium ion-dependent exocytosis', 'xref_src_db': 'GoProcess'}, {'xref_id': 'GO:0055085', 'xref_name': 'transmembrane transport', 'xref_src_db': 'GoProcess'}, {'xref_id': 'GO:0070509', 'xref_name': 'calcium ion import', 'xref_src_db': 'GoProcess'}, {'xref_id': 'GO:0070588', 'xref_name': 'calcium ion transmembrane transport', 'xref_src_db': 'GoProcess'}, {'xref_id': 'GO:0086010', 'xref_name': 'membrane depolarization during action potential', 'xref_src_db': 'GoProcess'}, {'xref_id': 'GO:0098662', 'xref_name': 'inorganic cation transmembrane transport', 'xref_src_db': 'GoProcess'}, {'xref_id': 'GO:2000344', 'xref_name': 'positive regulation of acrosome reaction', 'xref_src_db': 'GoProcess'}, {'xref_id': '536', 'xref_name': None, 'xref_src_db': 'GuideToPHARMACOLOGY'}, {'xref_id': 'O95180', 'xref_name': None, 'xref_src_db': 'IntAct'}, {'xref_id': 'IPR005445', 'xref_name': 'VDCC_T_a1.', 'xref_src_db': 'InterPro'}, {'xref_id': 'IPR005821', 'xref_name': 'Ion_trans_dom.', 'xref_src_db': 'InterPro'}, {'xref_id': 'IPR027359', 'xref_name': 'Volt_channel_dom_sf.', 'xref_src_db': 'InterPro'}, {'xref_id': 'PF00520', 'xref_name': 'Ion_trans', 'xref_src_db': 'Pfam'}, {'xref_id': 'PA380', 'xref_name': 'calcium channel, voltage-dependent, T type, alpha 1H subunit', 'xref_src_db': 'PharmGKB'}, {'xref_id': 'O95180', 'xref_name': 'Tclin', 'xref_src_db': 'Pharos'}, {'xref_id': 'R-HSA-419037', 'xref_name': 'NCAM1 interactions.', 'xref_src_db': 'Reactome'}, {'xref_id': 'B5ME00', 'xref_name': None, 'xref_src_db': 'UniProt'}, {'xref_id': 'F8WFD1', 'xref_name': None, 'xref_src_db': 'UniProt'}, {'xref_id': 'O95180', 'xref_name': None, 'xref_src_db': 'UniProt'}, {'xref_id': 'O95802', 'xref_name': None, 'xref_src_db': 'UniProt'}, {'xref_id': 'Q8WWI6', 'xref_name': None, 'xref_src_db': 'UniProt'}, {'xref_id': 'Q96QI6', 'xref_name': None, 'xref_src_db': 'UniProt'}, {'xref_id': 'Q96RZ9', 'xref_name': None, 'xref_src_db': 'UniProt'}, {'xref_id': 'Q9NYY4', 'xref_name': None, 'xref_src_db': 'UniProt'}, {'xref_id': 'Q9NYY5', 'xref_name': None, 'xref_src_db': 'UniProt'}]}], 'target_type': 'SINGLE PROTEIN', 'tax_id': 9606}]"
      ]
     },
     "execution_count": 39,
     "metadata": {},
     "output_type": "execute_result"
    }
   ],
   "source": [
    "records[:4]"
   ]
  },
  {
   "cell_type": "markdown",
   "metadata": {},
   "source": [
    "## ChEMBL ID"
   ]
  },
  {
   "cell_type": "code",
   "execution_count": 40,
   "metadata": {},
   "outputs": [],
   "source": [
    "# Receptor protein-tyrosine kinase erbB-2\n",
    "chembl_id = \"CHEMBL1824\""
   ]
  },
  {
   "cell_type": "code",
   "execution_count": 41,
   "metadata": {
    "scrolled": false
   },
   "outputs": [
    {
     "data": {
      "text/plain": [
       "{'cross_references': [{'xref_id': 'P04626',\n",
       "   'xref_name': None,\n",
       "   'xref_src': 'canSAR-Target'},\n",
       "  {'xref_id': 'HER2/neu', 'xref_name': None, 'xref_src': 'Wikipedia'},\n",
       "  {'xref_id': 'NBK23144',\n",
       "   'xref_name': 'Human epidermal growth factor receptor 2 (HER2)',\n",
       "   'xref_src': 'MICAD'}],\n",
       " 'organism': 'Homo sapiens',\n",
       " 'pref_name': 'Receptor protein-tyrosine kinase erbB-2',\n",
       " 'species_group_flag': False,\n",
       " 'target_chembl_id': 'CHEMBL1824',\n",
       " 'target_components': [{'accession': 'P04626',\n",
       "   'component_description': 'Receptor tyrosine-protein kinase erbB-2',\n",
       "   'component_id': 120,\n",
       "   'component_type': 'PROTEIN',\n",
       "   'relationship': 'SINGLE PROTEIN',\n",
       "   'target_component_synonyms': [{'component_synonym': '2.7.10.1',\n",
       "     'syn_type': 'EC_NUMBER'},\n",
       "    {'component_synonym': 'CD_antigen=CD340', 'syn_type': 'UNIPROT'},\n",
       "    {'component_synonym': 'ERBB2', 'syn_type': 'GENE_SYMBOL'},\n",
       "    {'component_synonym': 'HER2', 'syn_type': 'GENE_SYMBOL_OTHER'},\n",
       "    {'component_synonym': 'Metastatic lymph node gene 19 protein',\n",
       "     'syn_type': 'UNIPROT'},\n",
       "    {'component_synonym': 'MLN19', 'syn_type': 'GENE_SYMBOL_OTHER'},\n",
       "    {'component_synonym': 'MLN 19', 'syn_type': 'UNIPROT'},\n",
       "    {'component_synonym': 'NEU', 'syn_type': 'GENE_SYMBOL_OTHER'},\n",
       "    {'component_synonym': 'NGL', 'syn_type': 'GENE_SYMBOL_OTHER'},\n",
       "    {'component_synonym': 'p185erbB2', 'syn_type': 'UNIPROT'},\n",
       "    {'component_synonym': 'Proto-oncogene c-ErbB-2', 'syn_type': 'UNIPROT'},\n",
       "    {'component_synonym': 'Proto-oncogene Neu', 'syn_type': 'UNIPROT'},\n",
       "    {'component_synonym': 'Receptor tyrosine-protein kinase erbB-2',\n",
       "     'syn_type': 'UNIPROT'},\n",
       "    {'component_synonym': 'Tyrosine kinase-type cell surface receptor HER2',\n",
       "     'syn_type': 'UNIPROT'}],\n",
       "   'target_component_xrefs': [{'xref_id': 'ENSG00000141736',\n",
       "     'xref_name': None,\n",
       "     'xref_src_db': 'EnsemblGene'},\n",
       "    {'xref_id': 'P04626', 'xref_name': None, 'xref_src_db': 'ExpressionAtlas'},\n",
       "    {'xref_id': 'GO:0005634',\n",
       "     'xref_name': 'nucleus',\n",
       "     'xref_src_db': 'GoComponent'},\n",
       "    {'xref_id': 'GO:0005737',\n",
       "     'xref_name': 'cytoplasm',\n",
       "     'xref_src_db': 'GoComponent'},\n",
       "    {'xref_id': 'GO:0005768',\n",
       "     'xref_name': 'endosome',\n",
       "     'xref_src_db': 'GoComponent'},\n",
       "    {'xref_id': 'GO:0005769',\n",
       "     'xref_name': 'early endosome',\n",
       "     'xref_src_db': 'GoComponent'},\n",
       "    {'xref_id': 'GO:0005829',\n",
       "     'xref_name': 'cytosol',\n",
       "     'xref_src_db': 'GoComponent'},\n",
       "    {'xref_id': 'GO:0005886',\n",
       "     'xref_name': 'plasma membrane',\n",
       "     'xref_src_db': 'GoComponent'},\n",
       "    {'xref_id': 'GO:0005887',\n",
       "     'xref_name': 'integral component of plasma membrane',\n",
       "     'xref_src_db': 'GoComponent'},\n",
       "    {'xref_id': 'GO:0009925',\n",
       "     'xref_name': 'basal plasma membrane',\n",
       "     'xref_src_db': 'GoComponent'},\n",
       "    {'xref_id': 'GO:0010008',\n",
       "     'xref_name': 'endosome membrane',\n",
       "     'xref_src_db': 'GoComponent'},\n",
       "    {'xref_id': 'GO:0016020',\n",
       "     'xref_name': 'membrane',\n",
       "     'xref_src_db': 'GoComponent'},\n",
       "    {'xref_id': 'GO:0016021',\n",
       "     'xref_name': 'integral component of membrane',\n",
       "     'xref_src_db': 'GoComponent'},\n",
       "    {'xref_id': 'GO:0016323',\n",
       "     'xref_name': 'basolateral plasma membrane',\n",
       "     'xref_src_db': 'GoComponent'},\n",
       "    {'xref_id': 'GO:0016324',\n",
       "     'xref_name': 'apical plasma membrane',\n",
       "     'xref_src_db': 'GoComponent'},\n",
       "    {'xref_id': 'GO:0031410',\n",
       "     'xref_name': 'cytoplasmic vesicle',\n",
       "     'xref_src_db': 'GoComponent'},\n",
       "    {'xref_id': 'GO:0038143',\n",
       "     'xref_name': 'ERBB3:ERBB2 complex',\n",
       "     'xref_src_db': 'GoComponent'},\n",
       "    {'xref_id': 'GO:0043209',\n",
       "     'xref_name': 'myelin sheath',\n",
       "     'xref_src_db': 'GoComponent'},\n",
       "    {'xref_id': 'GO:0043235',\n",
       "     'xref_name': 'receptor complex',\n",
       "     'xref_src_db': 'GoComponent'},\n",
       "    {'xref_id': 'GO:0048471',\n",
       "     'xref_name': 'perinuclear region of cytoplasm',\n",
       "     'xref_src_db': 'GoComponent'},\n",
       "    {'xref_id': 'GO:0000166',\n",
       "     'xref_name': 'nucleotide binding',\n",
       "     'xref_src_db': 'GoFunction'},\n",
       "    {'xref_id': 'GO:0001042',\n",
       "     'xref_name': 'RNA polymerase I core binding',\n",
       "     'xref_src_db': 'GoFunction'},\n",
       "    {'xref_id': 'GO:0004672',\n",
       "     'xref_name': 'protein kinase activity',\n",
       "     'xref_src_db': 'GoFunction'},\n",
       "    {'xref_id': 'GO:0004713',\n",
       "     'xref_name': 'protein tyrosine kinase activity',\n",
       "     'xref_src_db': 'GoFunction'},\n",
       "    {'xref_id': 'GO:0004714',\n",
       "     'xref_name': 'transmembrane receptor protein tyrosine kinase activity',\n",
       "     'xref_src_db': 'GoFunction'},\n",
       "    {'xref_id': 'GO:0004888',\n",
       "     'xref_name': 'transmembrane signaling receptor activity',\n",
       "     'xref_src_db': 'GoFunction'},\n",
       "    {'xref_id': 'GO:0005515',\n",
       "     'xref_name': 'protein binding',\n",
       "     'xref_src_db': 'GoFunction'},\n",
       "    {'xref_id': 'GO:0005524',\n",
       "     'xref_name': 'ATP binding',\n",
       "     'xref_src_db': 'GoFunction'},\n",
       "    {'xref_id': 'GO:0008022',\n",
       "     'xref_name': 'protein C-terminus binding',\n",
       "     'xref_src_db': 'GoFunction'},\n",
       "    {'xref_id': 'GO:0016301',\n",
       "     'xref_name': 'kinase activity',\n",
       "     'xref_src_db': 'GoFunction'},\n",
       "    {'xref_id': 'GO:0016740',\n",
       "     'xref_name': 'transferase activity',\n",
       "     'xref_src_db': 'GoFunction'},\n",
       "    {'xref_id': 'GO:0019838',\n",
       "     'xref_name': 'growth factor binding',\n",
       "     'xref_src_db': 'GoFunction'},\n",
       "    {'xref_id': 'GO:0019903',\n",
       "     'xref_name': 'protein phosphatase binding',\n",
       "     'xref_src_db': 'GoFunction'},\n",
       "    {'xref_id': 'GO:0042802',\n",
       "     'xref_name': 'identical protein binding',\n",
       "     'xref_src_db': 'GoFunction'},\n",
       "    {'xref_id': 'GO:0043125',\n",
       "     'xref_name': 'ErbB-3 class receptor binding',\n",
       "     'xref_src_db': 'GoFunction'},\n",
       "    {'xref_id': 'GO:0046982',\n",
       "     'xref_name': 'protein heterodimerization activity',\n",
       "     'xref_src_db': 'GoFunction'},\n",
       "    {'xref_id': 'GO:0000165',\n",
       "     'xref_name': 'MAPK cascade',\n",
       "     'xref_src_db': 'GoProcess'},\n",
       "    {'xref_id': 'GO:0001934',\n",
       "     'xref_name': 'positive regulation of protein phosphorylation',\n",
       "     'xref_src_db': 'GoProcess'},\n",
       "    {'xref_id': 'GO:0006357',\n",
       "     'xref_name': 'regulation of transcription by RNA polymerase II',\n",
       "     'xref_src_db': 'GoProcess'},\n",
       "    {'xref_id': 'GO:0006468',\n",
       "     'xref_name': 'protein phosphorylation',\n",
       "     'xref_src_db': 'GoProcess'},\n",
       "    {'xref_id': 'GO:0007165',\n",
       "     'xref_name': 'signal transduction',\n",
       "     'xref_src_db': 'GoProcess'},\n",
       "    {'xref_id': 'GO:0007166',\n",
       "     'xref_name': 'cell surface receptor signaling pathway',\n",
       "     'xref_src_db': 'GoProcess'},\n",
       "    {'xref_id': 'GO:0007167',\n",
       "     'xref_name': 'enzyme linked receptor protein signaling pathway',\n",
       "     'xref_src_db': 'GoProcess'},\n",
       "    {'xref_id': 'GO:0007169',\n",
       "     'xref_name': 'transmembrane receptor protein tyrosine kinase signaling pathway',\n",
       "     'xref_src_db': 'GoProcess'},\n",
       "    {'xref_id': 'GO:0007275',\n",
       "     'xref_name': 'multicellular organism development',\n",
       "     'xref_src_db': 'GoProcess'},\n",
       "    {'xref_id': 'GO:0007399',\n",
       "     'xref_name': 'nervous system development',\n",
       "     'xref_src_db': 'GoProcess'},\n",
       "    {'xref_id': 'GO:0007422',\n",
       "     'xref_name': 'peripheral nervous system development',\n",
       "     'xref_src_db': 'GoProcess'},\n",
       "    {'xref_id': 'GO:0007507',\n",
       "     'xref_name': 'heart development',\n",
       "     'xref_src_db': 'GoProcess'},\n",
       "    {'xref_id': 'GO:0007528',\n",
       "     'xref_name': 'neuromuscular junction development',\n",
       "     'xref_src_db': 'GoProcess'},\n",
       "    {'xref_id': 'GO:0008045',\n",
       "     'xref_name': 'motor neuron axon guidance',\n",
       "     'xref_src_db': 'GoProcess'},\n",
       "    {'xref_id': 'GO:0008284',\n",
       "     'xref_name': 'positive regulation of cell population proliferation',\n",
       "     'xref_src_db': 'GoProcess'},\n",
       "    {'xref_id': 'GO:0010628',\n",
       "     'xref_name': 'positive regulation of gene expression',\n",
       "     'xref_src_db': 'GoProcess'},\n",
       "    {'xref_id': 'GO:0014065',\n",
       "     'xref_name': 'phosphatidylinositol 3-kinase signaling',\n",
       "     'xref_src_db': 'GoProcess'},\n",
       "    {'xref_id': 'GO:0016310',\n",
       "     'xref_name': 'phosphorylation',\n",
       "     'xref_src_db': 'GoProcess'},\n",
       "    {'xref_id': 'GO:0018108',\n",
       "     'xref_name': 'peptidyl-tyrosine phosphorylation',\n",
       "     'xref_src_db': 'GoProcess'},\n",
       "    {'xref_id': 'GO:0030182',\n",
       "     'xref_name': 'neuron differentiation',\n",
       "     'xref_src_db': 'GoProcess'},\n",
       "    {'xref_id': 'GO:0030307',\n",
       "     'xref_name': 'positive regulation of cell growth',\n",
       "     'xref_src_db': 'GoProcess'},\n",
       "    {'xref_id': 'GO:0032886',\n",
       "     'xref_name': 'regulation of microtubule-based process',\n",
       "     'xref_src_db': 'GoProcess'},\n",
       "    {'xref_id': 'GO:0033088',\n",
       "     'xref_name': 'negative regulation of immature T cell proliferation in thymus',\n",
       "     'xref_src_db': 'GoProcess'},\n",
       "    {'xref_id': 'GO:0033674',\n",
       "     'xref_name': 'positive regulation of kinase activity',\n",
       "     'xref_src_db': 'GoProcess'},\n",
       "    {'xref_id': 'GO:0035556',\n",
       "     'xref_name': 'intracellular signal transduction',\n",
       "     'xref_src_db': 'GoProcess'},\n",
       "    {'xref_id': 'GO:0038128',\n",
       "     'xref_name': 'ERBB2 signaling pathway',\n",
       "     'xref_src_db': 'GoProcess'},\n",
       "    {'xref_id': 'GO:0042060',\n",
       "     'xref_name': 'wound healing',\n",
       "     'xref_src_db': 'GoProcess'},\n",
       "    {'xref_id': 'GO:0042552',\n",
       "     'xref_name': 'myelination',\n",
       "     'xref_src_db': 'GoProcess'},\n",
       "    {'xref_id': 'GO:0043406',\n",
       "     'xref_name': 'positive regulation of MAP kinase activity',\n",
       "     'xref_src_db': 'GoProcess'},\n",
       "    {'xref_id': 'GO:0043410',\n",
       "     'xref_name': 'positive regulation of MAPK cascade',\n",
       "     'xref_src_db': 'GoProcess'},\n",
       "    {'xref_id': 'GO:0043547',\n",
       "     'xref_name': 'positive regulation of GTPase activity',\n",
       "     'xref_src_db': 'GoProcess'},\n",
       "    {'xref_id': 'GO:0045727',\n",
       "     'xref_name': 'positive regulation of translation',\n",
       "     'xref_src_db': 'GoProcess'},\n",
       "    {'xref_id': 'GO:0045765',\n",
       "     'xref_name': 'regulation of angiogenesis',\n",
       "     'xref_src_db': 'GoProcess'},\n",
       "    {'xref_id': 'GO:0045785',\n",
       "     'xref_name': 'positive regulation of cell adhesion',\n",
       "     'xref_src_db': 'GoProcess'},\n",
       "    {'xref_id': 'GO:0045943',\n",
       "     'xref_name': 'positive regulation of transcription by RNA polymerase I',\n",
       "     'xref_src_db': 'GoProcess'},\n",
       "    {'xref_id': 'GO:0046777',\n",
       "     'xref_name': 'protein autophosphorylation',\n",
       "     'xref_src_db': 'GoProcess'},\n",
       "    {'xref_id': 'GO:0048709',\n",
       "     'xref_name': 'oligodendrocyte differentiation',\n",
       "     'xref_src_db': 'GoProcess'},\n",
       "    {'xref_id': 'GO:0050679',\n",
       "     'xref_name': 'positive regulation of epithelial cell proliferation',\n",
       "     'xref_src_db': 'GoProcess'},\n",
       "    {'xref_id': 'GO:0051897',\n",
       "     'xref_name': 'positive regulation of protein kinase B signaling',\n",
       "     'xref_src_db': 'GoProcess'},\n",
       "    {'xref_id': 'GO:0070372',\n",
       "     'xref_name': 'regulation of ERK1 and ERK2 cascade',\n",
       "     'xref_src_db': 'GoProcess'},\n",
       "    {'xref_id': 'GO:0071363',\n",
       "     'xref_name': 'cellular response to growth factor stimulus',\n",
       "     'xref_src_db': 'GoProcess'},\n",
       "    {'xref_id': 'GO:0071364',\n",
       "     'xref_name': 'cellular response to epidermal growth factor stimulus',\n",
       "     'xref_src_db': 'GoProcess'},\n",
       "    {'xref_id': 'GO:0090314',\n",
       "     'xref_name': 'positive regulation of protein targeting to membrane',\n",
       "     'xref_src_db': 'GoProcess'},\n",
       "    {'xref_id': 'GO:1901185',\n",
       "     'xref_name': 'negative regulation of ERBB signaling pathway',\n",
       "     'xref_src_db': 'GoProcess'},\n",
       "    {'xref_id': 'GO:2000145',\n",
       "     'xref_name': 'regulation of cell motility',\n",
       "     'xref_src_db': 'GoProcess'},\n",
       "    {'xref_id': '2019',\n",
       "     'xref_name': None,\n",
       "     'xref_src_db': 'GuideToPHARMACOLOGY'},\n",
       "    {'xref_id': 'P04626', 'xref_name': None, 'xref_src_db': 'IntAct'},\n",
       "    {'xref_id': 'IPR000494',\n",
       "     'xref_name': 'Rcpt_L-dom.',\n",
       "     'xref_src_db': 'InterPro'},\n",
       "    {'xref_id': 'IPR000719',\n",
       "     'xref_name': 'Prot_kinase_dom.',\n",
       "     'xref_src_db': 'InterPro'},\n",
       "    {'xref_id': 'IPR001245',\n",
       "     'xref_name': 'Ser-Thr/Tyr_kinase_cat_dom.',\n",
       "     'xref_src_db': 'InterPro'},\n",
       "    {'xref_id': 'IPR006211',\n",
       "     'xref_name': 'Furin-like_Cys-rich_dom.',\n",
       "     'xref_src_db': 'InterPro'},\n",
       "    {'xref_id': 'IPR006212',\n",
       "     'xref_name': 'Furin_repeat.',\n",
       "     'xref_src_db': 'InterPro'},\n",
       "    {'xref_id': 'IPR008266',\n",
       "     'xref_name': 'Tyr_kinase_AS.',\n",
       "     'xref_src_db': 'InterPro'},\n",
       "    {'xref_id': 'IPR009030',\n",
       "     'xref_name': 'Growth_fac_rcpt_cys_sf.',\n",
       "     'xref_src_db': 'InterPro'},\n",
       "    {'xref_id': 'IPR011009',\n",
       "     'xref_name': 'Kinase-like_dom_sf.',\n",
       "     'xref_src_db': 'InterPro'},\n",
       "    {'xref_id': 'IPR016245',\n",
       "     'xref_name': 'Tyr_kinase_EGF/ERB/XmrK_rcpt.',\n",
       "     'xref_src_db': 'InterPro'},\n",
       "    {'xref_id': 'IPR017441',\n",
       "     'xref_name': 'Protein_kinase_ATP_BS.',\n",
       "     'xref_src_db': 'InterPro'},\n",
       "    {'xref_id': 'IPR020635',\n",
       "     'xref_name': 'Tyr_kinase_cat_dom.',\n",
       "     'xref_src_db': 'InterPro'},\n",
       "    {'xref_id': 'IPR032778',\n",
       "     'xref_name': 'GF_recep_IV.',\n",
       "     'xref_src_db': 'InterPro'},\n",
       "    {'xref_id': 'IPR036941',\n",
       "     'xref_name': 'Rcpt_L-dom_sf.',\n",
       "     'xref_src_db': 'InterPro'},\n",
       "    {'xref_id': '1MFG', 'xref_name': 'A', 'xref_src_db': 'PDBe'},\n",
       "    {'xref_id': '1MFL', 'xref_name': 'A', 'xref_src_db': 'PDBe'},\n",
       "    {'xref_id': '1N8Z', 'xref_name': 'A', 'xref_src_db': 'PDBe'},\n",
       "    {'xref_id': '1QR1', 'xref_name': 'A', 'xref_src_db': 'PDBe'},\n",
       "    {'xref_id': '1S78', 'xref_name': 'A', 'xref_src_db': 'PDBe'},\n",
       "    {'xref_id': '2A91', 'xref_name': 'A', 'xref_src_db': 'PDBe'},\n",
       "    {'xref_id': '3BE1', 'xref_name': 'A', 'xref_src_db': 'PDBe'},\n",
       "    {'xref_id': '3H3B', 'xref_name': 'A', 'xref_src_db': 'PDBe'},\n",
       "    {'xref_id': '3MZW', 'xref_name': 'A', 'xref_src_db': 'PDBe'},\n",
       "    {'xref_id': '3N85', 'xref_name': 'A', 'xref_src_db': 'PDBe'},\n",
       "    {'xref_id': '3PP0', 'xref_name': 'A', 'xref_src_db': 'PDBe'},\n",
       "    {'xref_id': '3RCD', 'xref_name': 'A', 'xref_src_db': 'PDBe'},\n",
       "    {'xref_id': '3WLW', 'xref_name': 'A', 'xref_src_db': 'PDBe'},\n",
       "    {'xref_id': '3WSQ', 'xref_name': 'A', 'xref_src_db': 'PDBe'},\n",
       "    {'xref_id': '4GFU', 'xref_name': 'A', 'xref_src_db': 'PDBe'},\n",
       "    {'xref_id': '4HRL', 'xref_name': 'A', 'xref_src_db': 'PDBe'},\n",
       "    {'xref_id': '4HRM', 'xref_name': 'A', 'xref_src_db': 'PDBe'},\n",
       "    {'xref_id': '4HRN', 'xref_name': 'A', 'xref_src_db': 'PDBe'},\n",
       "    {'xref_id': '5K33', 'xref_name': 'A', 'xref_src_db': 'PDBe'},\n",
       "    {'xref_id': '5KWG', 'xref_name': 'A', 'xref_src_db': 'PDBe'},\n",
       "    {'xref_id': '5MY6', 'xref_name': 'A', 'xref_src_db': 'PDBe'},\n",
       "    {'xref_id': '5O4G', 'xref_name': 'A', 'xref_src_db': 'PDBe'},\n",
       "    {'xref_id': '5TQS', 'xref_name': 'A', 'xref_src_db': 'PDBe'},\n",
       "    {'xref_id': '6ATT', 'xref_name': 'A', 'xref_src_db': 'PDBe'},\n",
       "    {'xref_id': '6BGT', 'xref_name': 'A', 'xref_src_db': 'PDBe'},\n",
       "    {'xref_id': '6J71', 'xref_name': 'A', 'xref_src_db': 'PDBe'},\n",
       "    {'xref_id': 'PF00757', 'xref_name': 'Furin-like', 'xref_src_db': 'Pfam'},\n",
       "    {'xref_id': 'PF01030',\n",
       "     'xref_name': 'Recep_L_domain',\n",
       "     'xref_src_db': 'Pfam'},\n",
       "    {'xref_id': 'PF07714', 'xref_name': 'Pkinase_Tyr', 'xref_src_db': 'Pfam'},\n",
       "    {'xref_id': 'PF14843', 'xref_name': 'GF_recep_IV', 'xref_src_db': 'Pfam'},\n",
       "    {'xref_id': 'PA27844',\n",
       "     'xref_name': 'v-erb-b2 erythroblastic leukemia viral oncogene homolog 2, neuro/glioblastoma derived oncogene homolog (avian)',\n",
       "     'xref_src_db': 'PharmGKB'},\n",
       "    {'xref_id': 'P04626', 'xref_name': 'Tclin', 'xref_src_db': 'Pharos'},\n",
       "    {'xref_id': 'R-HSA-1227986',\n",
       "     'xref_name': 'Signaling by ERBB2.',\n",
       "     'xref_src_db': 'Reactome'},\n",
       "    {'xref_id': 'R-HSA-1250196',\n",
       "     'xref_name': 'SHC1 events in ERBB2 signaling.',\n",
       "     'xref_src_db': 'Reactome'},\n",
       "    {'xref_id': 'R-HSA-1251932',\n",
       "     'xref_name': 'PLCG1 events in ERBB2 signaling.',\n",
       "     'xref_src_db': 'Reactome'},\n",
       "    {'xref_id': 'R-HSA-1257604',\n",
       "     'xref_name': 'PIP3 activates AKT signaling.',\n",
       "     'xref_src_db': 'Reactome'},\n",
       "    {'xref_id': 'R-HSA-1306955',\n",
       "     'xref_name': 'GRB7 events in ERBB2 signaling.',\n",
       "     'xref_src_db': 'Reactome'},\n",
       "    {'xref_id': 'R-HSA-1358803',\n",
       "     'xref_name': 'Downregulation of ERBB2:ERBB3 signaling.',\n",
       "     'xref_src_db': 'Reactome'},\n",
       "    {'xref_id': 'R-HSA-1963640',\n",
       "     'xref_name': 'GRB2 events in ERBB2 signaling.',\n",
       "     'xref_src_db': 'Reactome'},\n",
       "    {'xref_id': 'R-HSA-1963642',\n",
       "     'xref_name': 'PI3K events in ERBB2 signaling.',\n",
       "     'xref_src_db': 'Reactome'},\n",
       "    {'xref_id': 'R-HSA-2219530',\n",
       "     'xref_name': 'Constitutive Signaling by Aberrant PI3K in Cancer.',\n",
       "     'xref_src_db': 'Reactome'},\n",
       "    {'xref_id': 'R-HSA-416572',\n",
       "     'xref_name': 'Sema4D induced cell migration and growth-cone collapse.',\n",
       "     'xref_src_db': 'Reactome'},\n",
       "    {'xref_id': 'R-HSA-5673001',\n",
       "     'xref_name': 'RAF/MAP kinase cascade.',\n",
       "     'xref_src_db': 'Reactome'},\n",
       "    {'xref_id': 'R-HSA-6785631',\n",
       "     'xref_name': 'ERBB2 Regulates Cell Motility.',\n",
       "     'xref_src_db': 'Reactome'},\n",
       "    {'xref_id': 'R-HSA-6811558',\n",
       "     'xref_name': 'PI5P, PP2A and IER3 Regulate PI3K/AKT Signaling.',\n",
       "     'xref_src_db': 'Reactome'},\n",
       "    {'xref_id': 'R-HSA-8847993',\n",
       "     'xref_name': 'ERBB2 Activates PTK6 Signaling.',\n",
       "     'xref_src_db': 'Reactome'},\n",
       "    {'xref_id': 'R-HSA-8863795',\n",
       "     'xref_name': 'Downregulation of ERBB2 signaling.',\n",
       "     'xref_src_db': 'Reactome'},\n",
       "    {'xref_id': 'R-HSA-8866910',\n",
       "     'xref_name': 'TFAP2 (AP-2) family regulates transcription of growth factors and their receptors.',\n",
       "     'xref_src_db': 'Reactome'},\n",
       "    {'xref_id': 'B2RZG3', 'xref_name': None, 'xref_src_db': 'UniProt'},\n",
       "    {'xref_id': 'B4DHN3', 'xref_name': None, 'xref_src_db': 'UniProt'},\n",
       "    {'xref_id': 'P04626', 'xref_name': None, 'xref_src_db': 'UniProt'},\n",
       "    {'xref_id': 'Q14256', 'xref_name': None, 'xref_src_db': 'UniProt'},\n",
       "    {'xref_id': 'Q6LDV1', 'xref_name': None, 'xref_src_db': 'UniProt'},\n",
       "    {'xref_id': 'Q9UMK4', 'xref_name': None, 'xref_src_db': 'UniProt'},\n",
       "    {'xref_id': 'X5D2V5', 'xref_name': None, 'xref_src_db': 'UniProt'}]}],\n",
       " 'target_type': 'SINGLE PROTEIN',\n",
       " 'tax_id': 9606}"
      ]
     },
     "execution_count": 41,
     "metadata": {},
     "output_type": "execute_result"
    }
   ],
   "source": [
    "record = new_client.target.get(chembl_id)\n",
    "record"
   ]
  },
  {
   "cell_type": "code",
   "execution_count": 44,
   "metadata": {},
   "outputs": [],
   "source": [
    "# SK-BR-3, a cell line over-expressing erbB-2\n",
    "chembl_id = \"CHEMBL613834\""
   ]
  },
  {
   "cell_type": "code",
   "execution_count": 45,
   "metadata": {},
   "outputs": [
    {
     "data": {
      "text/plain": [
       "{'cross_references': [],\n",
       " 'organism': 'Homo sapiens',\n",
       " 'pref_name': 'SK-BR-3',\n",
       " 'species_group_flag': False,\n",
       " 'target_chembl_id': 'CHEMBL613834',\n",
       " 'target_components': [],\n",
       " 'target_type': 'CELL-LINE',\n",
       " 'tax_id': 9606}"
      ]
     },
     "execution_count": 45,
     "metadata": {},
     "output_type": "execute_result"
    }
   ],
   "source": [
    "record = new_client.target.get(chembl_id)\n",
    "record"
   ]
  },
  {
   "cell_type": "markdown",
   "metadata": {},
   "source": [
    "## UniProt ID"
   ]
  },
  {
   "cell_type": "code",
   "execution_count": 47,
   "metadata": {},
   "outputs": [],
   "source": [
    "# UniProt ID for erbB-2, a target of Lapatinib\n",
    "uniprot_id = \"P04626\""
   ]
  },
  {
   "cell_type": "code",
   "execution_count": 48,
   "metadata": {},
   "outputs": [
    {
     "name": "stdout",
     "output_type": "stream",
     "text": [
      "[('CHEMBL1824', 'Receptor protein-tyrosine kinase erbB-2'), ('CHEMBL2111431', 'Epidermal growth factor receptor and ErbB2 (HER1 and HER2)'), ('CHEMBL2363049', 'Epidermal growth factor receptor'), ('CHEMBL4106134', 'FASN/HER2')]\n"
     ]
    }
   ],
   "source": [
    "records = new_client.target.filter(target_components__accession=uniprot_id)\n",
    "print([(x['target_chembl_id'], x['pref_name']) for x in records])"
   ]
  },
  {
   "cell_type": "markdown",
   "metadata": {},
   "source": [
    "##  Bioactivities"
   ]
  },
  {
   "cell_type": "code",
   "execution_count": 49,
   "metadata": {},
   "outputs": [],
   "source": [
    "# Receptor protein-tyrosine kinase erbB-2\n",
    "chembl_id = \"CHEMBL1824\""
   ]
  },
  {
   "cell_type": "code",
   "execution_count": 50,
   "metadata": {},
   "outputs": [
    {
     "data": {
      "text/plain": [
       "6927"
      ]
     },
     "execution_count": 50,
     "metadata": {},
     "output_type": "execute_result"
    }
   ],
   "source": [
    "records = new_client.activity.filter(target_chembl_id=chembl_id)\n",
    "len(records)"
   ]
  },
  {
   "cell_type": "markdown",
   "metadata": {},
   "source": [
    "## Approved Drugs"
   ]
  },
  {
   "cell_type": "code",
   "execution_count": 52,
   "metadata": {},
   "outputs": [],
   "source": [
    "# Receptor protein-tyrosine kinase erbB-2\n",
    "chembl_id = \"CHEMBL1824\""
   ]
  },
  {
   "cell_type": "code",
   "execution_count": 53,
   "metadata": {},
   "outputs": [
    {
     "name": "stdout",
     "output_type": "stream",
     "text": [
      "CHEMBL180022 : NERATINIB\n",
      "CHEMBL1201179 : LAPATINIB DITOSYLATE\n",
      "CHEMBL1201585 : TRASTUZUMAB\n",
      "CHEMBL1743082 : TRASTUZUMAB EMTANSINE\n",
      "CHEMBL2007641 : PERTUZUMAB\n",
      "CHEMBL2105712 : AFATINIB DIMALEATE\n",
      "CHEMBL2105719 : DACOMITINIB\n",
      "CHEMBL2110732 : DACOMITINIB\n",
      "CHEMBL3989921 : NERATINIB MALEATE\n"
     ]
    }
   ],
   "source": [
    "activities = new_client.mechanism.filter(target_chembl_id=chembl_id)\n",
    "compound_ids = [x['molecule_chembl_id'] for x in activities]\n",
    "approved_drugs = new_client.molecule.filter(molecule_chembl_id__in=compound_ids).filter(max_phase=4)\n",
    "\n",
    "for record in approved_drugs:\n",
    "    print(\"{:10s} : {}\".format(record[\"molecule_chembl_id\"], record[\"pref_name\"]))"
   ]
  },
  {
   "cell_type": "markdown",
   "metadata": {},
   "source": [
    "## Assay details"
   ]
  },
  {
   "cell_type": "code",
   "execution_count": 54,
   "metadata": {},
   "outputs": [],
   "source": [
    "# Inhibitory activity against epidermal growth factor receptor\n",
    "chembl_id = \"CHEMBL674106\""
   ]
  },
  {
   "cell_type": "code",
   "execution_count": 55,
   "metadata": {},
   "outputs": [
    {
     "data": {
      "text/plain": [
       "{'assay_category': None,\n",
       " 'assay_cell_type': None,\n",
       " 'assay_chembl_id': 'CHEMBL674106',\n",
       " 'assay_classifications': [],\n",
       " 'assay_organism': None,\n",
       " 'assay_parameters': [],\n",
       " 'assay_strain': None,\n",
       " 'assay_subcellular_fraction': None,\n",
       " 'assay_tax_id': None,\n",
       " 'assay_test_type': None,\n",
       " 'assay_tissue': None,\n",
       " 'assay_type': 'B',\n",
       " 'assay_type_description': 'Binding',\n",
       " 'bao_format': 'BAO_0000357',\n",
       " 'bao_label': 'single protein format',\n",
       " 'cell_chembl_id': None,\n",
       " 'confidence_description': 'Homologous single protein target assigned',\n",
       " 'confidence_score': 8,\n",
       " 'description': 'Inhibitory activity against epidermal growth factor receptor',\n",
       " 'document_chembl_id': 'CHEMBL1146682',\n",
       " 'relationship_description': 'Homologous protein target assigned',\n",
       " 'relationship_type': 'H',\n",
       " 'src_assay_id': None,\n",
       " 'src_id': 1,\n",
       " 'target_chembl_id': 'CHEMBL203',\n",
       " 'tissue_chembl_id': None}"
      ]
     },
     "execution_count": 55,
     "metadata": {},
     "output_type": "execute_result"
    }
   ],
   "source": [
    "record = new_client.assay.get(chembl_id)\n",
    "record"
   ]
  },
  {
   "cell_type": "markdown",
   "metadata": {},
   "source": [
    "## Bioactivities"
   ]
  },
  {
   "cell_type": "code",
   "execution_count": 56,
   "metadata": {},
   "outputs": [
    {
     "data": {
      "text/plain": [
       "(16,\n",
       " [{'activity_comment': None, 'activity_id': 183887, 'activity_properties': [], 'assay_chembl_id': 'CHEMBL674106', 'assay_description': 'Inhibitory activity against epidermal growth factor receptor', 'assay_type': 'B', 'bao_endpoint': 'BAO_0000190', 'bao_format': 'BAO_0000357', 'bao_label': 'single protein format', 'canonical_smiles': 'Oc1ccc2ncnc(Nc3ccc(OCc4ccccc4)cc3)c2c1', 'data_validity_comment': None, 'data_validity_description': None, 'document_chembl_id': 'CHEMBL1146682', 'document_journal': 'Bioorg. Med. Chem. Lett.', 'document_year': 2004, 'ligand_efficiency': {'bei': '20.41', 'le': '0.37', 'lle': '2.35', 'sei': '10.42'}, 'molecule_chembl_id': 'CHEMBL14932', 'molecule_pref_name': None, 'parent_molecule_chembl_id': 'CHEMBL14932', 'pchembl_value': '7.01', 'potential_duplicate': True, 'qudt_units': 'http://www.openphacts.org/units/Nanomolar', 'record_id': 15404, 'relation': '=', 'src_id': 1, 'standard_flag': True, 'standard_relation': '=', 'standard_text_value': None, 'standard_type': 'IC50', 'standard_units': 'nM', 'standard_upper_value': None, 'standard_value': '98.0', 'target_chembl_id': 'CHEMBL203', 'target_organism': 'Homo sapiens', 'target_pref_name': 'Epidermal growth factor receptor erbB1', 'target_tax_id': '9606', 'text_value': None, 'toid': None, 'type': 'IC50', 'units': 'nM', 'uo_units': 'UO_0000065', 'upper_value': None, 'value': '98.0'}, {'activity_comment': None, 'activity_id': 186628, 'activity_properties': [], 'assay_chembl_id': 'CHEMBL674106', 'assay_description': 'Inhibitory activity against epidermal growth factor receptor', 'assay_type': 'B', 'bao_endpoint': 'BAO_0000190', 'bao_format': 'BAO_0000357', 'bao_label': 'single protein format', 'canonical_smiles': 'C#Cc1cccc(Nc2ncnc3cc(OCCOC)c(OCCOC)cc23)c1', 'data_validity_comment': None, 'data_validity_description': None, 'document_chembl_id': 'CHEMBL1146682', 'document_journal': 'Bioorg. Med. Chem. Lett.', 'document_year': 2004, 'ligand_efficiency': {'bei': '22.88', 'le': '0.42', 'lle': '5.59', 'sei': '12.04'}, 'molecule_chembl_id': 'CHEMBL553', 'molecule_pref_name': 'ERLOTINIB', 'parent_molecule_chembl_id': 'CHEMBL553', 'pchembl_value': '9.00', 'potential_duplicate': True, 'qudt_units': 'http://www.openphacts.org/units/Nanomolar', 'record_id': 15410, 'relation': '=', 'src_id': 1, 'standard_flag': True, 'standard_relation': '=', 'standard_text_value': None, 'standard_type': 'IC50', 'standard_units': 'nM', 'standard_upper_value': None, 'standard_value': '1.0', 'target_chembl_id': 'CHEMBL203', 'target_organism': 'Homo sapiens', 'target_pref_name': 'Epidermal growth factor receptor erbB1', 'target_tax_id': '9606', 'text_value': None, 'toid': None, 'type': 'IC50', 'units': 'uM', 'uo_units': 'UO_0000065', 'upper_value': None, 'value': '0.001'}])"
      ]
     },
     "execution_count": 56,
     "metadata": {},
     "output_type": "execute_result"
    }
   ],
   "source": [
    "records = new_client.activity.filter(assay_chembl_id=chembl_id)\n",
    "len(records), records[:2]"
   ]
  },
  {
   "cell_type": "markdown",
   "metadata": {},
   "source": [
    "## Other resources"
   ]
  },
  {
   "cell_type": "code",
   "execution_count": 57,
   "metadata": {},
   "outputs": [
    {
     "name": "stdout",
     "output_type": "stream",
     "text": [
      "[{'abstract': '', 'authors': 'Estenne G, Dodey P, Renaut P, Leclerc G', 'doc_type': 'PUBLICATION', 'document_chembl_id': 'CHEMBL1128135', 'doi': '10.1016/0960-894X(94)00451-K', 'doi_chembl': None, 'first_page': '15', 'issue': '1', 'journal': 'Bioorg. Med. Chem. Lett.', 'journal_full_title': 'Bioorganic & medicinal chemistry letters.', 'last_page': '18', 'patent_id': None, 'pubmed_id': None, 'src_id': 1, 'title': 'Synthesis and biological evaluation of new arylthiophene analogs of DuP 753', 'volume': '5', 'year': 1995}, {'abstract': '', 'authors': 'Hill DT, Girard GR, Weinstock J, Edwards RM, Weidley EF, Ohlstein E, Peishoff CE, Baker E, Aiyar N', 'doc_type': 'PUBLICATION', 'document_chembl_id': 'CHEMBL1128136', 'doi': '10.1016/0960-894X(94)00456-P', 'doi_chembl': None, 'first_page': '19', 'issue': '1', 'journal': 'Bioorg. Med. Chem. Lett.', 'journal_full_title': 'Bioorganic & medicinal chemistry letters.', 'last_page': '24', 'patent_id': None, 'pubmed_id': None, 'src_id': 1, 'title': 'and -N-[(1-benzyl-1H-imidazol-5-yl)-alkyl]-amino acids as angiotensin II AT-1 antagonists', 'volume': '5', 'year': 1995}, {'abstract': '', 'authors': 'Cornish JA, Murray H, Kemp GD, Gani D', 'doc_type': 'PUBLICATION', 'document_chembl_id': 'CHEMBL1150533', 'doi': '10.1016/0960-894X(94)00452-L', 'doi_chembl': None, 'first_page': '25', 'issue': '1', 'journal': 'Bioorg. Med. Chem. Lett.', 'journal_full_title': 'Bioorganic & medicinal chemistry letters.', 'last_page': '30', 'patent_id': None, 'pubmed_id': None, 'src_id': 1, 'title': 'Inhibitors of the adenovirus type 2 proteinase based on substrate-like tetrapeptide nitriles', 'volume': '5', 'year': 1995}, {'abstract': '', 'authors': 'Kosaka T, Ochiai K, Ohba S, Wakabayashi T, Murota S', 'doc_type': 'PUBLICATION', 'document_chembl_id': 'CHEMBL1128137', 'doi': '10.1016/0960-894X(94)00449-P', 'doi_chembl': None, 'first_page': '35', 'issue': '1', 'journal': 'Bioorg. Med. Chem. Lett.', 'journal_full_title': 'Bioorganic & medicinal chemistry letters.', 'last_page': '38', 'patent_id': None, 'pubmed_id': None, 'src_id': 1, 'title': 'A novel series of highly potent 5-lipoxygenase inhibitors; 2-aryldienylbenzoxazoles', 'volume': '5', 'year': 1995}, '...(remaining elements truncated)...']\n"
     ]
    }
   ],
   "source": [
    "# Documents - retrieve all publications published after 1985 in 5th volume.\n",
    "print(new_client.document.filter(doc_type='PUBLICATION').filter(year__gt=1985).filter(volume=5))"
   ]
  },
  {
   "cell_type": "code",
   "execution_count": 58,
   "metadata": {},
   "outputs": [
    {
     "name": "stdout",
     "output_type": "stream",
     "text": [
      "{'cell_chembl_id': 'CHEMBL3307242', 'cell_description': 'P3HR-1', 'cell_id': 2, 'cell_name': 'P3HR-1', 'cell_source_organism': 'Homo sapiens', 'cell_source_tax_id': 9606, 'cell_source_tissue': 'Lyphoma', 'cellosaurus_id': 'CVCL_2676', 'cl_lincs_id': 'LCL-2024', 'clo_id': 'CLO_0008331', 'efo_id': 'EFO_0002312'}\n"
     ]
    }
   ],
   "source": [
    "# Cell lines:\n",
    "print(new_client.cell_line.get('CHEMBL3307242'))"
   ]
  },
  {
   "cell_type": "code",
   "execution_count": 60,
   "metadata": {},
   "outputs": [
    {
     "name": "stdout",
     "output_type": "stream",
     "text": [
      "[{'l1': 'Enzyme', 'l2': 'Kinase', 'l3': 'Protein Kinase', 'l4': 'CAMK protein kinase group', 'l5': 'CAMK protein kinase CAMK1 family', 'l6': 'CAMK protein kinase AMPK subfamily', 'l7': None, 'l8': None, 'protein_class_id': 409}]\n"
     ]
    }
   ],
   "source": [
    "# Protein class:\n",
    "print(new_client.protein_class.filter(l6=\"CAMK protein kinase AMPK subfamily\"))"
   ]
  },
  {
   "cell_type": "code",
   "execution_count": 61,
   "metadata": {},
   "outputs": [
    {
     "name": "stdout",
     "output_type": "stream",
     "text": [
      "[{'src_description': 'Gene Expression Atlas Compounds', 'src_id': 26, 'src_short_name': 'ATLAS'}]\n"
     ]
    }
   ],
   "source": [
    "# Source:\n",
    "print(new_client.source.filter(src_short_name=\"ATLAS\"))"
   ]
  },
  {
   "cell_type": "code",
   "execution_count": 62,
   "metadata": {},
   "outputs": [
    {
     "name": "stdout",
     "output_type": "stream",
     "text": [
      "{'accession': 'Q72547', 'component_id': 375, 'component_type': 'PROTEIN', 'description': 'Reverse transcriptase/RNaseH', 'go_slims': [{'go_id': 'GO:0003676'}, {'go_id': 'GO:0004518'}, {'go_id': 'GO:0006259'}, {'go_id': 'GO:0009058'}, {'go_id': 'GO:0016740'}, {'go_id': 'GO:0016779'}, {'go_id': 'GO:0034641'}, {'go_id': 'GO:0042802'}, {'go_id': 'GO:0043167'}], 'organism': 'Human immunodeficiency virus 1', 'protein_classifications': [{'protein_classification_id': 646}], 'sequence': 'PISPIETVPVKLKPGMDGPKVKQWPLTEEKIKALVEICTEMEKEGKISKIGPENPYNTPVFAIKKKDSTKWRKLVDFRELNKRTQDFWEVQLGIPHPAGLKKRKSVTVLDVGDAYFSVPLDEDFRKYTAFTIPSINNETPGIRYQYNVLPQGWKGSPAIFQSSMTKILEPFRKQNPDIVIYQYMDDLYVGSDLEIGQHRTKIEELRQHLLRWGLTTPDKKHQKEPPFLWMGYELHPDKWTVQPIVLPEKDSWTVNDIQKLVGKLNWASQIYPGIRVRQLCKLLRGTKALTEVIPLTEEAELELAENREILKEPVHGVYYDPSKDLIAEIQKQGQGQWTYQIYQEPFKNLRTGKYARMRGAHTNDVKQLTEAVQKITTESIVIWGKTPKFKLPIQKETWETWWTEYWQATWIPEWEFVNTPPLVKLWYQLEKEPIVGAETFYVDGAANRETKLGKAGYVTNRGRQKVVTLTDTTNQKTELQAIYLALQDSGLEVNIVTDSQYALGIIQAQPDQSESELVNQIIEQLIKKEKVYLAWVPAHKGIGGNEQVDKLVSAGIRKVLFLDGID', 'target_component_synonyms': [{'component_synonym': 'pol', 'syn_type': 'GENE_SYMBOL'}, {'component_synonym': 'Reverse transcriptase/RNaseH', 'syn_type': 'UNIPROT'}], 'target_component_xrefs': [{'xref_id': 'GO:0003676', 'xref_name': 'nucleic acid binding', 'xref_src_db': 'GoFunction'}, {'xref_id': 'GO:0003964', 'xref_name': 'RNA-directed DNA polymerase activity', 'xref_src_db': 'GoFunction'}, {'xref_id': 'GO:0004523', 'xref_name': 'RNA-DNA hybrid ribonuclease activity', 'xref_src_db': 'GoFunction'}, {'xref_id': 'GO:0016740', 'xref_name': 'transferase activity', 'xref_src_db': 'GoFunction'}, {'xref_id': 'GO:0016779', 'xref_name': 'nucleotidyltransferase activity', 'xref_src_db': 'GoFunction'}, {'xref_id': 'GO:0042802', 'xref_name': 'identical protein binding', 'xref_src_db': 'GoFunction'}, {'xref_id': 'GO:0046872', 'xref_name': 'metal ion binding', 'xref_src_db': 'GoFunction'}, {'xref_id': 'GO:0006278', 'xref_name': 'RNA-dependent DNA biosynthetic process', 'xref_src_db': 'GoProcess'}, {'xref_id': 'GO:0090502', 'xref_name': 'RNA phosphodiester bond hydrolysis, endonucleolytic', 'xref_src_db': 'GoProcess'}, {'xref_id': 'Q72547', 'xref_name': None, 'xref_src_db': 'IntAct'}, {'xref_id': 'IPR000477', 'xref_name': 'RT_dom.', 'xref_src_db': 'InterPro'}, {'xref_id': 'IPR002156', 'xref_name': 'RNaseH_domain.', 'xref_src_db': 'InterPro'}, {'xref_id': 'IPR010659', 'xref_name': 'RVT_connect.', 'xref_src_db': 'InterPro'}, {'xref_id': 'IPR010661', 'xref_name': 'RVT_thumb.', 'xref_src_db': 'InterPro'}, {'xref_id': 'IPR012337', 'xref_name': 'RNaseH-like_sf.', 'xref_src_db': 'InterPro'}, {'xref_id': 'IPR036397', 'xref_name': 'RNaseH_sf.', 'xref_src_db': 'InterPro'}, {'xref_id': '2JLE', 'xref_name': 'A', 'xref_src_db': 'PDBe'}, {'xref_id': '3HYF', 'xref_name': 'A', 'xref_src_db': 'PDBe'}, {'xref_id': 'PF00075', 'xref_name': 'RNase_H', 'xref_src_db': 'Pfam'}, {'xref_id': 'PF00078', 'xref_name': 'RVT_1', 'xref_src_db': 'Pfam'}, {'xref_id': 'PF06815', 'xref_name': 'RVT_connect', 'xref_src_db': 'Pfam'}, {'xref_id': 'PF06817', 'xref_name': 'RVT_thumb', 'xref_src_db': 'Pfam'}, {'xref_id': 'Q72547', 'xref_name': None, 'xref_src_db': 'UniProt'}], 'targets': [{'target_chembl_id': 'CHEMBL247'}], 'tax_id': 11676}\n"
     ]
    }
   ],
   "source": [
    "# Target component:\n",
    "print(new_client.target_component.get(375))"
   ]
  },
  {
   "cell_type": "code",
   "execution_count": 64,
   "metadata": {},
   "outputs": [
    {
     "name": "stdout",
     "output_type": "stream",
     "text": [
      "COMPOUND\n"
     ]
    }
   ],
   "source": [
    " # ChEMBL ID Lookup: check if CHEMBL1 is a molecule, assay or target:\n",
    "print(new_client.chembl_id_lookup.get(\"CHEMBL1\")['entity_type'])"
   ]
  },
  {
   "cell_type": "code",
   "execution_count": 65,
   "metadata": {},
   "outputs": [
    {
     "name": "stdout",
     "output_type": "stream",
     "text": [
      "{'level1': 'H', 'level1_description': 'SYSTEMIC HORMONAL PREPARATIONS, EXCL. SEX HORMONES AND INSULINS', 'level2': 'H03', 'level2_description': 'THYROID THERAPY', 'level3': 'H03A', 'level3_description': 'THYROID PREPARATIONS', 'level4': 'H03AA', 'level4_description': 'Thyroid hormones', 'level5': 'H03AA03', 'who_name': 'combinations of levothyroxine and liothyronine'}\n"
     ]
    }
   ],
   "source": [
    "# ATC class:\n",
    "print(new_client.atc_class.get('H03AA03'))"
   ]
  },
  {
   "cell_type": "markdown",
   "metadata": {},
   "source": [
    "# BioServices \n",
    "https://bioservices.readthedocs.io/en/master/quickstart.html"
   ]
  },
  {
   "cell_type": "code",
   "execution_count": 67,
   "metadata": {
    "scrolled": true
   },
   "outputs": [
    {
     "name": "stdout",
     "output_type": "stream",
     "text": [
      "Creating directory /home/jupyter-rdpharmaplus/.config/bioservices \n",
      "Creating directory /home/jupyter-rdpharmaplus/.cache/bioservices \n",
      "Welcome to Bioservices\n",
      "======================\n",
      "It looks like you do not have a configuration file.\n",
      "We are creating one with default values in /home/jupyter-rdpharmaplus/.config/bioservices/bioservices.cfg .\n",
      "Done\n"
     ]
    },
    {
     "data": {
      "text/plain": [
       "defaultdict(list, {'P43403': ['hsa:7535']})"
      ]
     },
     "execution_count": 67,
     "metadata": {},
     "output_type": "execute_result"
    }
   ],
   "source": [
    "from bioservices.uniprot import UniProt\n",
    "u = UniProt(verbose=False)\n",
    "u.mapping(fr=\"ACC+ID\", to=\"KEGG_ID\", query='P43403')"
   ]
  },
  {
   "cell_type": "markdown",
   "metadata": {},
   "source": [
    "# Chemical Similarity Search in MongoDB"
   ]
  },
  {
   "cell_type": "markdown",
   "metadata": {},
   "source": [
    "https://matt-swain.com/blog/2014-06-03-chemical-similarity-search-in-mongodb"
   ]
  },
  {
   "cell_type": "markdown",
   "metadata": {},
   "source": [
    "ftp://ftp.ebi.ac.uk//pub/databases/chembl/ChEMBLdb/releases/chembl_18/chembl_18.sdf.gz"
   ]
  },
  {
   "cell_type": "code",
   "execution_count": 14,
   "metadata": {},
   "outputs": [],
   "source": [
    "from rdkit import Chem\n",
    "from rdkit.Chem import ChemicalFeatures\n",
    "from rdkit import RDConfig\n",
    "from rdkit.Geometry import Point3D\n",
    "import os\n",
    "import numpy as np\n",
    "import pymongo\n",
    "db = pymongo.MongoClient().chem"
   ]
  },
  {
   "cell_type": "raw",
   "metadata": {},
   "source": [
    "for rdmol in Chem.ForwardSDMolSupplier('chembl_18.sdf'):\n",
    "    if rdmol is None: continue\n",
    "    db.molecules.insert({\n",
    "        'smiles': Chem.MolToSmiles(rdmol, isomericSmiles=True),\n",
    "        'chembl_id': rdmol.GetProp('chembl_id'),\n",
    "        'rdmol': Binary(rdmol.ToBinary()),\n",
    "    })"
   ]
  },
  {
   "cell_type": "markdown",
   "metadata": {},
   "source": [
    "# MongoDB Chemistry"
   ]
  },
  {
   "cell_type": "markdown",
   "metadata": {},
   "source": [
    "https://github.com/mcs07/mongodb-chemistry"
   ]
  },
  {
   "cell_type": "markdown",
   "metadata": {},
   "source": [
    "# Open Babel \n",
    "\n",
    "https://open-babel.readthedocs.io/en/latest/UseTheLibrary/PythonInstall.html"
   ]
  },
  {
   "cell_type": "code",
   "execution_count": 10,
   "metadata": {},
   "outputs": [
    {
     "name": "stdout",
     "output_type": "stream",
     "text": [
      "\n",
      " OpenBabel10072020453D\n",
      "\n",
      "  7  6  0  0  0  0  0  0  0  0999 V2000\n",
      "    1.0144   -0.1101    0.0043 C   0  0  0  0  0  0  0  0  0  0  0  0\n",
      "    2.5108   -0.0835   -0.0092 C   0  0  0  0  0  0  0  0  0  0  0  0\n",
      "    3.1862    0.8258   -0.4693 O   0  0  0  0  0  0  0  0  0  0  0  0\n",
      "    3.4359   -1.5381    0.7270 Br  0  0  0  0  0  0  0  0  0  0  0  0\n",
      "    0.6316    0.8040   -0.4583 H   0  0  0  0  0  0  0  0  0  0  0  0\n",
      "    0.6517   -0.1605    1.0341 H   0  0  0  0  0  0  0  0  0  0  0  0\n",
      "    0.6517   -0.9697   -0.5649 H   0  0  0  0  0  0  0  0  0  0  0  0\n",
      "  1  2  1  0  0  0  0\n",
      "  1  5  1  0  0  0  0\n",
      "  1  6  1  0  0  0  0\n",
      "  1  7  1  0  0  0  0\n",
      "  2  3  2  0  0  0  0\n",
      "  2  4  1  0  0  0  0\n",
      "M  END\n",
      "$$$$\n",
      "\n"
     ]
    }
   ],
   "source": [
    "from openbabel import pybel\n",
    "mol = pybel.readstring(\"smi\", \"CC(=O)Br\")\n",
    "mol.make3D()\n",
    "print(mol.write(\"sdf\"))"
   ]
  },
  {
   "cell_type": "code",
   "execution_count": 13,
   "metadata": {},
   "outputs": [
    {
     "name": "stdout",
     "output_type": "stream",
     "text": [
      "Should print 0 (atoms)\n",
      "0\n",
      "Should print 2 (atoms)\n",
      "2\n",
      "Should print 1 (bond)\n",
      "1\n"
     ]
    }
   ],
   "source": [
    "from openbabel import openbabel\n",
    "\n",
    "mol = openbabel.OBMol()\n",
    "print('Should print 0 (atoms)')\n",
    "print(mol.NumAtoms())\n",
    "\n",
    "a = mol.NewAtom()\n",
    "a.SetAtomicNum(6)   # carbon atom\n",
    "a.SetVector(0.0, 1.0, 2.0) # coordinates\n",
    "\n",
    "b = mol.NewAtom()\n",
    "mol.AddBond(1, 2, 1)   # atoms indexed from 1\n",
    "print('Should print 2 (atoms)')\n",
    "print(mol.NumAtoms())\n",
    "print('Should print 1 (bond)')\n",
    "print(mol.NumBonds())\n",
    "\n",
    "mol.Clear();"
   ]
  },
  {
   "cell_type": "markdown",
   "metadata": {},
   "source": [
    "See more\n",
    "\n",
    "open-babel.readthedocs.io/en/latest/UseTheLibrary/PythonDoc.html"
   ]
  },
  {
   "cell_type": "markdown",
   "metadata": {},
   "source": [
    "# ChemDataExtractor Documentation"
   ]
  },
  {
   "cell_type": "markdown",
   "metadata": {},
   "source": [
    "http://chemdataextractor.org/docs/intro"
   ]
  },
  {
   "cell_type": "code",
   "execution_count": 17,
   "metadata": {},
   "outputs": [],
   "source": [
    "from chemdataextractor import Document\n",
    "\n",
    "doc = Document('UV-vis spectrum of 5,10,15,20-Tetra(4-carboxyphenyl)porphyrin in Tetrahydrofuran (THF).')"
   ]
  },
  {
   "cell_type": "code",
   "execution_count": 18,
   "metadata": {},
   "outputs": [
    {
     "data": {
      "text/html": [
       "<div class=\"cde-document\">\n",
       "<p class=\"cde-paragraph\">UV-vis spectrum of 5,10,15,20-Tetra(4-carboxyphenyl)porphyrin in Tetrahydrofuran (THF).</p>\n",
       "</div>"
      ],
      "text/plain": [
       "<Document: 1 elements>"
      ]
     },
     "execution_count": 18,
     "metadata": {},
     "output_type": "execute_result"
    }
   ],
   "source": [
    "doc"
   ]
  },
  {
   "cell_type": "code",
   "execution_count": 19,
   "metadata": {},
   "outputs": [
    {
     "name": "stdout",
     "output_type": "stream",
     "text": [
      "<Document: 1 elements>\n"
     ]
    }
   ],
   "source": [
    "print(doc)"
   ]
  },
  {
   "cell_type": "code",
   "execution_count": 20,
   "metadata": {},
   "outputs": [
    {
     "data": {
      "text/plain": [
       "[Span('5,10,15,20-Tetra(4-carboxyphenyl)porphyrin', 19, 61),\n",
       " Span('THF', 82, 85),\n",
       " Span('Tetrahydrofuran', 65, 80)]"
      ]
     },
     "execution_count": 20,
     "metadata": {},
     "output_type": "execute_result"
    }
   ],
   "source": [
    "doc.cems"
   ]
  },
  {
   "cell_type": "code",
   "execution_count": 21,
   "metadata": {},
   "outputs": [
    {
     "data": {
      "text/plain": [
       "[(['THF'], ['Tetrahydrofuran'], 'CM')]"
      ]
     },
     "execution_count": 21,
     "metadata": {},
     "output_type": "execute_result"
    }
   ],
   "source": [
    "doc.abbreviation_definitions"
   ]
  },
  {
   "cell_type": "code",
   "execution_count": 22,
   "metadata": {},
   "outputs": [
    {
     "data": {
      "text/plain": [
       "[<Compound>, <Compound>]"
      ]
     },
     "execution_count": 22,
     "metadata": {},
     "output_type": "execute_result"
    }
   ],
   "source": [
    "doc.records"
   ]
  },
  {
   "cell_type": "code",
   "execution_count": 23,
   "metadata": {},
   "outputs": [
    {
     "data": {
      "text/plain": [
       "{'names': ['5,10,15,20-Tetra(4-carboxyphenyl)porphyrin']}"
      ]
     },
     "execution_count": 23,
     "metadata": {},
     "output_type": "execute_result"
    }
   ],
   "source": [
    "doc.records[0].serialize()"
   ]
  },
  {
   "cell_type": "code",
   "execution_count": 24,
   "metadata": {
    "scrolled": true
   },
   "outputs": [
    {
     "data": {
      "text/plain": [
       "{'names': ['Tetrahydrofuran', 'THF']}"
      ]
     },
     "execution_count": 24,
     "metadata": {},
     "output_type": "execute_result"
    }
   ],
   "source": [
    "doc.records[1].serialize()"
   ]
  },
  {
   "cell_type": "code",
   "execution_count": 36,
   "metadata": {},
   "outputs": [],
   "source": [
    "f = open('Paracetamol.pdf', 'rb')"
   ]
  },
  {
   "cell_type": "code",
   "execution_count": 52,
   "metadata": {},
   "outputs": [],
   "source": [
    "from chemdataextractor import Document\n",
    "# from chemdataextractor.reader import *\n",
    "from chemdataextractor.reader import AcsHtmlReader, RscHtmlReader, NlmXmlReader, UsptoXmlReader, CsspHtmlReader, XmlReader, HtmlReader, PdfReader, PlainTextReader\n",
    "from chemdataextractor.model import Compound\n",
    "from chemdataextractor.doc import Paragraph, Heading"
   ]
  },
  {
   "cell_type": "raw",
   "metadata": {},
   "source": [
    "f = open('Paracetamol.html', 'rb')\n",
    "doc = Document.from_file(f, readers=[RscHtmlReader()])"
   ]
  },
  {
   "cell_type": "raw",
   "metadata": {},
   "source": [
    "The available readers are:\n",
    "\n",
    "AcsHtmlReader - For ACS HTML articles\n",
    "RscHtmlReader - For RSC HTML articles\n",
    "NlmXmlReader - For NLM/JATS XML (e.g. from PubMed Central)\n",
    "UsptoXmlReader - For patent XML from the US Patent Office\n",
    "CsspHtmlReader - For ChemSpider SyntheticPages\n",
    "XmlReader - Generic XML\n",
    "HtmlReader - Generic HTML\n",
    "PdfReader - Generic PDF\n",
    "PlainTextReader - Generic plain text\n",
    "The HTML and XML readers can determine document structure such as headings, paragraphs, and tables with high accuracy. However, this is much harder to achieve with the PDF and plain text readers.\n",
    "\n",
    "Note: Always open files in binary mode by using the 'rb' parameter."
   ]
  },
  {
   "cell_type": "raw",
   "metadata": {},
   "source": [
    "Run error some code"
   ]
  },
  {
   "cell_type": "markdown",
   "metadata": {},
   "source": [
    "## Extracting a Custom Property\n",
    "https://github.com/mcs07/ChemDataExtractor/blob/master/examples/extracting_a_custom_property.ipynb"
   ]
  },
  {
   "cell_type": "code",
   "execution_count": 26,
   "metadata": {},
   "outputs": [],
   "source": [
    "from chemdataextractor import Document\n",
    "from chemdataextractor.model import Compound\n",
    "from chemdataextractor.doc import Paragraph, Heading"
   ]
  },
  {
   "cell_type": "code",
   "execution_count": 27,
   "metadata": {},
   "outputs": [],
   "source": [
    "d = Document(\n",
    "    Heading(u'Synthesis of 2,4,6-trinitrotoluene (3a)'),\n",
    "    Paragraph(u'The procedure was followed to yield a pale yellow solid (b.p. 240 °C)')\n",
    ")"
   ]
  },
  {
   "cell_type": "code",
   "execution_count": 28,
   "metadata": {},
   "outputs": [
    {
     "data": {
      "text/html": [
       "<div class=\"cde-document\">\n",
       "<h2 class=\"cde-title\">Synthesis of 2,4,6-trinitrotoluene (3a)</h2>\n",
       "<p class=\"cde-paragraph\">The procedure was followed to yield a pale yellow solid (b.p. 240 °C)</p>\n",
       "</div>"
      ],
      "text/plain": [
       "<Document: 2 elements>"
      ]
     },
     "execution_count": 28,
     "metadata": {},
     "output_type": "execute_result"
    }
   ],
   "source": [
    "d"
   ]
  },
  {
   "cell_type": "code",
   "execution_count": 30,
   "metadata": {},
   "outputs": [
    {
     "data": {
      "text/plain": [
       "[{'names': ['2,4,6-trinitrotoluene'], 'labels': ['3a'], 'roles': ['product']}]"
      ]
     },
     "execution_count": 30,
     "metadata": {},
     "output_type": "execute_result"
    }
   ],
   "source": [
    "d.records.serialize()"
   ]
  },
  {
   "cell_type": "code",
   "execution_count": 31,
   "metadata": {},
   "outputs": [],
   "source": [
    "from chemdataextractor.model import BaseModel, StringType, ListType, ModelType\n",
    "\n",
    "class BoilingPoint(BaseModel):\n",
    "    value = StringType()\n",
    "    units = StringType()\n",
    "    \n",
    "Compound.boiling_points = ListType(ModelType(BoilingPoint))"
   ]
  },
  {
   "cell_type": "code",
   "execution_count": 32,
   "metadata": {},
   "outputs": [],
   "source": [
    "import re\n",
    "from chemdataextractor.parse import R, I, W, Optional, merge\n",
    "\n",
    "prefix = (R(u'^b\\.?p\\.?$', re.I) | I(u'boiling') + I(u'point')).hide()\n",
    "units = (W(u'°') + Optional(R(u'^[CFK]\\.?$')))(u'units').add_action(merge)\n",
    "value = R(u'^\\d+(\\.\\d+)?$')(u'value')\n",
    "bp = (prefix + value + units)(u'bp')"
   ]
  },
  {
   "cell_type": "code",
   "execution_count": 33,
   "metadata": {},
   "outputs": [],
   "source": [
    "from chemdataextractor.parse.base import BaseParser\n",
    "from chemdataextractor.utils import first\n",
    "\n",
    "class BpParser(BaseParser):\n",
    "    root = bp\n",
    "\n",
    "    def interpret(self, result, start, end):\n",
    "        compound = Compound(\n",
    "            boiling_points=[\n",
    "                BoilingPoint(\n",
    "                    value=first(result.xpath('./value/text()')),\n",
    "                    units=first(result.xpath('./units/text()'))\n",
    "                )\n",
    "            ]\n",
    "        )\n",
    "        yield compound"
   ]
  },
  {
   "cell_type": "code",
   "execution_count": 34,
   "metadata": {},
   "outputs": [
    {
     "data": {
      "text/plain": [
       "[{'names': ['2,4,6-trinitrotoluene'], 'labels': ['3a'], 'roles': ['product']}]"
      ]
     },
     "execution_count": 34,
     "metadata": {},
     "output_type": "execute_result"
    }
   ],
   "source": [
    "d = Document(\n",
    "    Heading(u'Synthesis of 2,4,6-trinitrotoluene (3a)'),\n",
    "    Paragraph(u'The procedure was followed to yield a pale yellow solid (b.p. 240 °C)')\n",
    ")\n",
    "\n",
    "d.records.serialize()"
   ]
  },
  {
   "cell_type": "markdown",
   "metadata": {},
   "source": [
    "# MOLVS\n"
   ]
  },
  {
   "cell_type": "code",
   "execution_count": 51,
   "metadata": {},
   "outputs": [
    {
     "ename": "SyntaxError",
     "evalue": "invalid syntax (<ipython-input-51-3b358fccae89>, line 4)",
     "output_type": "error",
     "traceback": [
      "\u001b[0;36m  File \u001b[0;32m\"<ipython-input-51-3b358fccae89>\"\u001b[0;36m, line \u001b[0;32m4\u001b[0m\n\u001b[0;31m    p1 <- ggplot(as.data.frame(simData), aes(x = X, y = Y)) +\u001b[0m\n\u001b[0m                  ^\u001b[0m\n\u001b[0;31mSyntaxError\u001b[0m\u001b[0;31m:\u001b[0m invalid syntax\n"
     ]
    }
   ],
   "source": [
    "%load_ext rpy2.ipython\n",
    "set.seed(864729)\n",
    "simData = cbind(X = runif(100), Y = runif(100))\n",
    "p1 <- ggplot(as.data.frame(simData), aes(x = X, y = Y)) + \n",
    "    geom_point() + geom_vline(xintercept = .5) + geom_hline(yintercept = 0.5) +\n",
    "    ggtitle('100 Uniform Points on the Unit Square') +xlab(\"X\") + ylab(\"Y\") +\n",
    "    theme_bw()"
   ]
  },
  {
   "cell_type": "code",
   "execution_count": 1,
   "metadata": {},
   "outputs": [],
   "source": [
    "import pubchempy as pcp"
   ]
  },
  {
   "cell_type": "code",
   "execution_count": 2,
   "metadata": {},
   "outputs": [
    {
     "data": {
      "text/plain": [
       "[17166, 5283335, 5354833]"
      ]
     },
     "execution_count": 2,
     "metadata": {},
     "output_type": "execute_result"
    }
   ],
   "source": [
    "pcp.get_cids('2-nonenal', 'name', 'substance', list_return='flat')"
   ]
  },
  {
   "cell_type": "raw",
   "metadata": {},
   "source": [
    "df3 = pcp.get_properties(['isomeric_smiles', 'xlogp', 'rotatable_bond_count'], 'nexium', 'name','formula', as_dataframe=True)\n",
    "df3\n"
   ]
  },
  {
   "cell_type": "raw",
   "metadata": {},
   "source": [
    "import requests\n",
    "import pubchempy as pcp\n",
    "sids = pcp.get_sids('Aspirin', 'name')\n",
    "for sid in sids:\n",
    "    s = Substance.from_sid(sid)\n",
    " "
   ]
  },
  {
   "cell_type": "code",
   "execution_count": 5,
   "metadata": {},
   "outputs": [
    {
     "ename": "BadRequestError",
     "evalue": "'PUGREST.BadRequest'",
     "output_type": "error",
     "traceback": [
      "\u001b[1;31m---------------------------------------------------------------------------\u001b[0m",
      "\u001b[1;31mHTTPError\u001b[0m                                 Traceback (most recent call last)",
      "\u001b[1;32m~\\Anaconda3\\lib\\site-packages\\pubchempy.py\u001b[0m in \u001b[0;36mrequest\u001b[1;34m(identifier, namespace, domain, operation, output, searchtype, **kwargs)\u001b[0m\n\u001b[0;32m    270\u001b[0m         \u001b[0mlog\u001b[0m\u001b[1;33m.\u001b[0m\u001b[0mdebug\u001b[0m\u001b[1;33m(\u001b[0m\u001b[1;34m'Request data: %s'\u001b[0m\u001b[1;33m,\u001b[0m \u001b[0mpostdata\u001b[0m\u001b[1;33m)\u001b[0m\u001b[1;33m\u001b[0m\u001b[1;33m\u001b[0m\u001b[0m\n\u001b[1;32m--> 271\u001b[1;33m         \u001b[0mresponse\u001b[0m \u001b[1;33m=\u001b[0m \u001b[0murlopen\u001b[0m\u001b[1;33m(\u001b[0m\u001b[0mapiurl\u001b[0m\u001b[1;33m,\u001b[0m \u001b[0mpostdata\u001b[0m\u001b[1;33m)\u001b[0m\u001b[1;33m\u001b[0m\u001b[1;33m\u001b[0m\u001b[0m\n\u001b[0m\u001b[0;32m    272\u001b[0m         \u001b[1;32mreturn\u001b[0m \u001b[0mresponse\u001b[0m\u001b[1;33m\u001b[0m\u001b[1;33m\u001b[0m\u001b[0m\n",
      "\u001b[1;32m~\\Anaconda3\\lib\\urllib\\request.py\u001b[0m in \u001b[0;36murlopen\u001b[1;34m(url, data, timeout, cafile, capath, cadefault, context)\u001b[0m\n\u001b[0;32m    221\u001b[0m         \u001b[0mopener\u001b[0m \u001b[1;33m=\u001b[0m \u001b[0m_opener\u001b[0m\u001b[1;33m\u001b[0m\u001b[1;33m\u001b[0m\u001b[0m\n\u001b[1;32m--> 222\u001b[1;33m     \u001b[1;32mreturn\u001b[0m \u001b[0mopener\u001b[0m\u001b[1;33m.\u001b[0m\u001b[0mopen\u001b[0m\u001b[1;33m(\u001b[0m\u001b[0murl\u001b[0m\u001b[1;33m,\u001b[0m \u001b[0mdata\u001b[0m\u001b[1;33m,\u001b[0m \u001b[0mtimeout\u001b[0m\u001b[1;33m)\u001b[0m\u001b[1;33m\u001b[0m\u001b[1;33m\u001b[0m\u001b[0m\n\u001b[0m\u001b[0;32m    223\u001b[0m \u001b[1;33m\u001b[0m\u001b[0m\n",
      "\u001b[1;32m~\\Anaconda3\\lib\\urllib\\request.py\u001b[0m in \u001b[0;36mopen\u001b[1;34m(self, fullurl, data, timeout)\u001b[0m\n\u001b[0;32m    530\u001b[0m             \u001b[0mmeth\u001b[0m \u001b[1;33m=\u001b[0m \u001b[0mgetattr\u001b[0m\u001b[1;33m(\u001b[0m\u001b[0mprocessor\u001b[0m\u001b[1;33m,\u001b[0m \u001b[0mmeth_name\u001b[0m\u001b[1;33m)\u001b[0m\u001b[1;33m\u001b[0m\u001b[1;33m\u001b[0m\u001b[0m\n\u001b[1;32m--> 531\u001b[1;33m             \u001b[0mresponse\u001b[0m \u001b[1;33m=\u001b[0m \u001b[0mmeth\u001b[0m\u001b[1;33m(\u001b[0m\u001b[0mreq\u001b[0m\u001b[1;33m,\u001b[0m \u001b[0mresponse\u001b[0m\u001b[1;33m)\u001b[0m\u001b[1;33m\u001b[0m\u001b[1;33m\u001b[0m\u001b[0m\n\u001b[0m\u001b[0;32m    532\u001b[0m \u001b[1;33m\u001b[0m\u001b[0m\n",
      "\u001b[1;32m~\\Anaconda3\\lib\\urllib\\request.py\u001b[0m in \u001b[0;36mhttp_response\u001b[1;34m(self, request, response)\u001b[0m\n\u001b[0;32m    640\u001b[0m             response = self.parent.error(\n\u001b[1;32m--> 641\u001b[1;33m                 'http', request, response, code, msg, hdrs)\n\u001b[0m\u001b[0;32m    642\u001b[0m \u001b[1;33m\u001b[0m\u001b[0m\n",
      "\u001b[1;32m~\\Anaconda3\\lib\\urllib\\request.py\u001b[0m in \u001b[0;36merror\u001b[1;34m(self, proto, *args)\u001b[0m\n\u001b[0;32m    568\u001b[0m             \u001b[0margs\u001b[0m \u001b[1;33m=\u001b[0m \u001b[1;33m(\u001b[0m\u001b[0mdict\u001b[0m\u001b[1;33m,\u001b[0m \u001b[1;34m'default'\u001b[0m\u001b[1;33m,\u001b[0m \u001b[1;34m'http_error_default'\u001b[0m\u001b[1;33m)\u001b[0m \u001b[1;33m+\u001b[0m \u001b[0morig_args\u001b[0m\u001b[1;33m\u001b[0m\u001b[1;33m\u001b[0m\u001b[0m\n\u001b[1;32m--> 569\u001b[1;33m             \u001b[1;32mreturn\u001b[0m \u001b[0mself\u001b[0m\u001b[1;33m.\u001b[0m\u001b[0m_call_chain\u001b[0m\u001b[1;33m(\u001b[0m\u001b[1;33m*\u001b[0m\u001b[0margs\u001b[0m\u001b[1;33m)\u001b[0m\u001b[1;33m\u001b[0m\u001b[1;33m\u001b[0m\u001b[0m\n\u001b[0m\u001b[0;32m    570\u001b[0m \u001b[1;33m\u001b[0m\u001b[0m\n",
      "\u001b[1;32m~\\Anaconda3\\lib\\urllib\\request.py\u001b[0m in \u001b[0;36m_call_chain\u001b[1;34m(self, chain, kind, meth_name, *args)\u001b[0m\n\u001b[0;32m    502\u001b[0m             \u001b[0mfunc\u001b[0m \u001b[1;33m=\u001b[0m \u001b[0mgetattr\u001b[0m\u001b[1;33m(\u001b[0m\u001b[0mhandler\u001b[0m\u001b[1;33m,\u001b[0m \u001b[0mmeth_name\u001b[0m\u001b[1;33m)\u001b[0m\u001b[1;33m\u001b[0m\u001b[1;33m\u001b[0m\u001b[0m\n\u001b[1;32m--> 503\u001b[1;33m             \u001b[0mresult\u001b[0m \u001b[1;33m=\u001b[0m \u001b[0mfunc\u001b[0m\u001b[1;33m(\u001b[0m\u001b[1;33m*\u001b[0m\u001b[0margs\u001b[0m\u001b[1;33m)\u001b[0m\u001b[1;33m\u001b[0m\u001b[1;33m\u001b[0m\u001b[0m\n\u001b[0m\u001b[0;32m    504\u001b[0m             \u001b[1;32mif\u001b[0m \u001b[0mresult\u001b[0m \u001b[1;32mis\u001b[0m \u001b[1;32mnot\u001b[0m \u001b[1;32mNone\u001b[0m\u001b[1;33m:\u001b[0m\u001b[1;33m\u001b[0m\u001b[1;33m\u001b[0m\u001b[0m\n",
      "\u001b[1;32m~\\Anaconda3\\lib\\urllib\\request.py\u001b[0m in \u001b[0;36mhttp_error_default\u001b[1;34m(self, req, fp, code, msg, hdrs)\u001b[0m\n\u001b[0;32m    648\u001b[0m     \u001b[1;32mdef\u001b[0m \u001b[0mhttp_error_default\u001b[0m\u001b[1;33m(\u001b[0m\u001b[0mself\u001b[0m\u001b[1;33m,\u001b[0m \u001b[0mreq\u001b[0m\u001b[1;33m,\u001b[0m \u001b[0mfp\u001b[0m\u001b[1;33m,\u001b[0m \u001b[0mcode\u001b[0m\u001b[1;33m,\u001b[0m \u001b[0mmsg\u001b[0m\u001b[1;33m,\u001b[0m \u001b[0mhdrs\u001b[0m\u001b[1;33m)\u001b[0m\u001b[1;33m:\u001b[0m\u001b[1;33m\u001b[0m\u001b[1;33m\u001b[0m\u001b[0m\n\u001b[1;32m--> 649\u001b[1;33m         \u001b[1;32mraise\u001b[0m \u001b[0mHTTPError\u001b[0m\u001b[1;33m(\u001b[0m\u001b[0mreq\u001b[0m\u001b[1;33m.\u001b[0m\u001b[0mfull_url\u001b[0m\u001b[1;33m,\u001b[0m \u001b[0mcode\u001b[0m\u001b[1;33m,\u001b[0m \u001b[0mmsg\u001b[0m\u001b[1;33m,\u001b[0m \u001b[0mhdrs\u001b[0m\u001b[1;33m,\u001b[0m \u001b[0mfp\u001b[0m\u001b[1;33m)\u001b[0m\u001b[1;33m\u001b[0m\u001b[1;33m\u001b[0m\u001b[0m\n\u001b[0m\u001b[0;32m    650\u001b[0m \u001b[1;33m\u001b[0m\u001b[0m\n",
      "\u001b[1;31mHTTPError\u001b[0m: HTTP Error 400: PUGREST.BadRequest",
      "\nDuring handling of the above exception, another exception occurred:\n",
      "\u001b[1;31mBadRequestError\u001b[0m                           Traceback (most recent call last)",
      "\u001b[1;32m<ipython-input-5-6d62d7bd4149>\u001b[0m in \u001b[0;36m<module>\u001b[1;34m\u001b[0m\n\u001b[1;32m----> 1\u001b[1;33m \u001b[0mpcp\u001b[0m\u001b[1;33m.\u001b[0m\u001b[0mget_compounds\u001b[0m\u001b[1;33m(\u001b[0m\u001b[1;34m'CC'\u001b[0m\u001b[1;33m,\u001b[0m \u001b[1;34m'smiles'\u001b[0m\u001b[1;33m,\u001b[0m \u001b[0msearchtype\u001b[0m\u001b[1;33m=\u001b[0m\u001b[1;34m'substructure'\u001b[0m\u001b[1;33m,\u001b[0m \u001b[0mlistkey_count\u001b[0m\u001b[1;33m=\u001b[0m\u001b[1;36m5\u001b[0m\u001b[1;33m)\u001b[0m\u001b[1;33m\u001b[0m\u001b[1;33m\u001b[0m\u001b[0m\n\u001b[0m\u001b[0;32m      2\u001b[0m \u001b[1;31m# get('C10H21N', 'formula', listkey_count=3, listkey_start=6)\u001b[0m\u001b[1;33m\u001b[0m\u001b[1;33m\u001b[0m\u001b[1;33m\u001b[0m\u001b[0m\n",
      "\u001b[1;32m~\\Anaconda3\\lib\\site-packages\\pubchempy.py\u001b[0m in \u001b[0;36mget_compounds\u001b[1;34m(identifier, namespace, searchtype, as_dataframe, **kwargs)\u001b[0m\n\u001b[0;32m    319\u001b[0m                          \u001b[1;33m:\u001b[0m\u001b[1;32mclass\u001b[0m\u001b[1;33m:\u001b[0m\u001b[0;31m`\u001b[0m\u001b[1;33m~\u001b[0m\u001b[0mpandas\u001b[0m\u001b[1;33m.\u001b[0m\u001b[0mDataFrame\u001b[0m\u001b[0;31m`\u001b[0m \u001b[1;32mand\u001b[0m \u001b[1;32mreturn\u001b[0m \u001b[0mthat\u001b[0m\u001b[1;33m.\u001b[0m\u001b[1;33m\u001b[0m\u001b[1;33m\u001b[0m\u001b[0m\n\u001b[0;32m    320\u001b[0m     \"\"\"\n\u001b[1;32m--> 321\u001b[1;33m     \u001b[0mresults\u001b[0m \u001b[1;33m=\u001b[0m \u001b[0mget_json\u001b[0m\u001b[1;33m(\u001b[0m\u001b[0midentifier\u001b[0m\u001b[1;33m,\u001b[0m \u001b[0mnamespace\u001b[0m\u001b[1;33m,\u001b[0m \u001b[0msearchtype\u001b[0m\u001b[1;33m=\u001b[0m\u001b[0msearchtype\u001b[0m\u001b[1;33m,\u001b[0m \u001b[1;33m**\u001b[0m\u001b[0mkwargs\u001b[0m\u001b[1;33m)\u001b[0m\u001b[1;33m\u001b[0m\u001b[1;33m\u001b[0m\u001b[0m\n\u001b[0m\u001b[0;32m    322\u001b[0m     \u001b[0mcompounds\u001b[0m \u001b[1;33m=\u001b[0m \u001b[1;33m[\u001b[0m\u001b[0mCompound\u001b[0m\u001b[1;33m(\u001b[0m\u001b[0mr\u001b[0m\u001b[1;33m)\u001b[0m \u001b[1;32mfor\u001b[0m \u001b[0mr\u001b[0m \u001b[1;32min\u001b[0m \u001b[0mresults\u001b[0m\u001b[1;33m[\u001b[0m\u001b[1;34m'PC_Compounds'\u001b[0m\u001b[1;33m]\u001b[0m\u001b[1;33m]\u001b[0m \u001b[1;32mif\u001b[0m \u001b[0mresults\u001b[0m \u001b[1;32melse\u001b[0m \u001b[1;33m[\u001b[0m\u001b[1;33m]\u001b[0m\u001b[1;33m\u001b[0m\u001b[1;33m\u001b[0m\u001b[0m\n\u001b[0;32m    323\u001b[0m     \u001b[1;32mif\u001b[0m \u001b[0mas_dataframe\u001b[0m\u001b[1;33m:\u001b[0m\u001b[1;33m\u001b[0m\u001b[1;33m\u001b[0m\u001b[0m\n",
      "\u001b[1;32m~\\Anaconda3\\lib\\site-packages\\pubchempy.py\u001b[0m in \u001b[0;36mget_json\u001b[1;34m(identifier, namespace, domain, operation, searchtype, **kwargs)\u001b[0m\n\u001b[0;32m    297\u001b[0m     \u001b[1;34m\"\"\"Request wrapper that automatically parses JSON response and supresses NotFoundError.\"\"\"\u001b[0m\u001b[1;33m\u001b[0m\u001b[1;33m\u001b[0m\u001b[0m\n\u001b[0;32m    298\u001b[0m     \u001b[1;32mtry\u001b[0m\u001b[1;33m:\u001b[0m\u001b[1;33m\u001b[0m\u001b[1;33m\u001b[0m\u001b[0m\n\u001b[1;32m--> 299\u001b[1;33m         \u001b[1;32mreturn\u001b[0m \u001b[0mjson\u001b[0m\u001b[1;33m.\u001b[0m\u001b[0mloads\u001b[0m\u001b[1;33m(\u001b[0m\u001b[0mget\u001b[0m\u001b[1;33m(\u001b[0m\u001b[0midentifier\u001b[0m\u001b[1;33m,\u001b[0m \u001b[0mnamespace\u001b[0m\u001b[1;33m,\u001b[0m \u001b[0mdomain\u001b[0m\u001b[1;33m,\u001b[0m \u001b[0moperation\u001b[0m\u001b[1;33m,\u001b[0m \u001b[1;34m'JSON'\u001b[0m\u001b[1;33m,\u001b[0m \u001b[0msearchtype\u001b[0m\u001b[1;33m,\u001b[0m \u001b[1;33m**\u001b[0m\u001b[0mkwargs\u001b[0m\u001b[1;33m)\u001b[0m\u001b[1;33m.\u001b[0m\u001b[0mdecode\u001b[0m\u001b[1;33m(\u001b[0m\u001b[1;33m)\u001b[0m\u001b[1;33m)\u001b[0m\u001b[1;33m\u001b[0m\u001b[1;33m\u001b[0m\u001b[0m\n\u001b[0m\u001b[0;32m    300\u001b[0m     \u001b[1;32mexcept\u001b[0m \u001b[0mNotFoundError\u001b[0m \u001b[1;32mas\u001b[0m \u001b[0me\u001b[0m\u001b[1;33m:\u001b[0m\u001b[1;33m\u001b[0m\u001b[1;33m\u001b[0m\u001b[0m\n\u001b[0;32m    301\u001b[0m         \u001b[0mlog\u001b[0m\u001b[1;33m.\u001b[0m\u001b[0minfo\u001b[0m\u001b[1;33m(\u001b[0m\u001b[0me\u001b[0m\u001b[1;33m)\u001b[0m\u001b[1;33m\u001b[0m\u001b[1;33m\u001b[0m\u001b[0m\n",
      "\u001b[1;32m~\\Anaconda3\\lib\\site-packages\\pubchempy.py\u001b[0m in \u001b[0;36mget\u001b[1;34m(identifier, namespace, domain, operation, output, searchtype, **kwargs)\u001b[0m\n\u001b[0;32m    285\u001b[0m             \u001b[1;32mwhile\u001b[0m \u001b[1;34m'Waiting'\u001b[0m \u001b[1;32min\u001b[0m \u001b[0mstatus\u001b[0m \u001b[1;32mand\u001b[0m \u001b[1;34m'ListKey'\u001b[0m \u001b[1;32min\u001b[0m \u001b[0mstatus\u001b[0m\u001b[1;33m[\u001b[0m\u001b[1;34m'Waiting'\u001b[0m\u001b[1;33m]\u001b[0m\u001b[1;33m:\u001b[0m\u001b[1;33m\u001b[0m\u001b[1;33m\u001b[0m\u001b[0m\n\u001b[0;32m    286\u001b[0m                 \u001b[0mtime\u001b[0m\u001b[1;33m.\u001b[0m\u001b[0msleep\u001b[0m\u001b[1;33m(\u001b[0m\u001b[1;36m2\u001b[0m\u001b[1;33m)\u001b[0m\u001b[1;33m\u001b[0m\u001b[1;33m\u001b[0m\u001b[0m\n\u001b[1;32m--> 287\u001b[1;33m                 \u001b[0mresponse\u001b[0m \u001b[1;33m=\u001b[0m \u001b[0mrequest\u001b[0m\u001b[1;33m(\u001b[0m\u001b[0midentifier\u001b[0m\u001b[1;33m,\u001b[0m \u001b[0mnamespace\u001b[0m\u001b[1;33m,\u001b[0m \u001b[0mdomain\u001b[0m\u001b[1;33m,\u001b[0m \u001b[0moperation\u001b[0m\u001b[1;33m,\u001b[0m \u001b[1;34m'JSON'\u001b[0m\u001b[1;33m,\u001b[0m \u001b[1;33m**\u001b[0m\u001b[0mkwargs\u001b[0m\u001b[1;33m)\u001b[0m\u001b[1;33m.\u001b[0m\u001b[0mread\u001b[0m\u001b[1;33m(\u001b[0m\u001b[1;33m)\u001b[0m\u001b[1;33m\u001b[0m\u001b[1;33m\u001b[0m\u001b[0m\n\u001b[0m\u001b[0;32m    288\u001b[0m                 \u001b[0mstatus\u001b[0m \u001b[1;33m=\u001b[0m \u001b[0mjson\u001b[0m\u001b[1;33m.\u001b[0m\u001b[0mloads\u001b[0m\u001b[1;33m(\u001b[0m\u001b[0mresponse\u001b[0m\u001b[1;33m.\u001b[0m\u001b[0mdecode\u001b[0m\u001b[1;33m(\u001b[0m\u001b[1;33m)\u001b[0m\u001b[1;33m)\u001b[0m\u001b[1;33m\u001b[0m\u001b[1;33m\u001b[0m\u001b[0m\n\u001b[0;32m    289\u001b[0m             \u001b[1;32mif\u001b[0m \u001b[1;32mnot\u001b[0m \u001b[0moutput\u001b[0m \u001b[1;33m==\u001b[0m \u001b[1;34m'JSON'\u001b[0m\u001b[1;33m:\u001b[0m\u001b[1;33m\u001b[0m\u001b[1;33m\u001b[0m\u001b[0m\n",
      "\u001b[1;32m~\\Anaconda3\\lib\\site-packages\\pubchempy.py\u001b[0m in \u001b[0;36mrequest\u001b[1;34m(identifier, namespace, domain, operation, output, searchtype, **kwargs)\u001b[0m\n\u001b[0;32m    272\u001b[0m         \u001b[1;32mreturn\u001b[0m \u001b[0mresponse\u001b[0m\u001b[1;33m\u001b[0m\u001b[1;33m\u001b[0m\u001b[0m\n\u001b[0;32m    273\u001b[0m     \u001b[1;32mexcept\u001b[0m \u001b[0mHTTPError\u001b[0m \u001b[1;32mas\u001b[0m \u001b[0me\u001b[0m\u001b[1;33m:\u001b[0m\u001b[1;33m\u001b[0m\u001b[1;33m\u001b[0m\u001b[0m\n\u001b[1;32m--> 274\u001b[1;33m         \u001b[1;32mraise\u001b[0m \u001b[0mPubChemHTTPError\u001b[0m\u001b[1;33m(\u001b[0m\u001b[0me\u001b[0m\u001b[1;33m)\u001b[0m\u001b[1;33m\u001b[0m\u001b[1;33m\u001b[0m\u001b[0m\n\u001b[0m\u001b[0;32m    275\u001b[0m \u001b[1;33m\u001b[0m\u001b[0m\n\u001b[0;32m    276\u001b[0m \u001b[1;33m\u001b[0m\u001b[0m\n",
      "\u001b[1;32m~\\Anaconda3\\lib\\site-packages\\pubchempy.py\u001b[0m in \u001b[0;36m__init__\u001b[1;34m(self, e)\u001b[0m\n\u001b[0;32m   1295\u001b[0m             \u001b[1;32mpass\u001b[0m\u001b[1;33m\u001b[0m\u001b[1;33m\u001b[0m\u001b[0m\n\u001b[0;32m   1296\u001b[0m         \u001b[1;32mif\u001b[0m \u001b[0mself\u001b[0m\u001b[1;33m.\u001b[0m\u001b[0mcode\u001b[0m \u001b[1;33m==\u001b[0m \u001b[1;36m400\u001b[0m\u001b[1;33m:\u001b[0m\u001b[1;33m\u001b[0m\u001b[1;33m\u001b[0m\u001b[0m\n\u001b[1;32m-> 1297\u001b[1;33m             \u001b[1;32mraise\u001b[0m \u001b[0mBadRequestError\u001b[0m\u001b[1;33m(\u001b[0m\u001b[0mself\u001b[0m\u001b[1;33m.\u001b[0m\u001b[0mmsg\u001b[0m\u001b[1;33m)\u001b[0m\u001b[1;33m\u001b[0m\u001b[1;33m\u001b[0m\u001b[0m\n\u001b[0m\u001b[0;32m   1298\u001b[0m         \u001b[1;32melif\u001b[0m \u001b[0mself\u001b[0m\u001b[1;33m.\u001b[0m\u001b[0mcode\u001b[0m \u001b[1;33m==\u001b[0m \u001b[1;36m404\u001b[0m\u001b[1;33m:\u001b[0m\u001b[1;33m\u001b[0m\u001b[1;33m\u001b[0m\u001b[0m\n\u001b[0;32m   1299\u001b[0m             \u001b[1;32mraise\u001b[0m \u001b[0mNotFoundError\u001b[0m\u001b[1;33m(\u001b[0m\u001b[0mself\u001b[0m\u001b[1;33m.\u001b[0m\u001b[0mmsg\u001b[0m\u001b[1;33m)\u001b[0m\u001b[1;33m\u001b[0m\u001b[1;33m\u001b[0m\u001b[0m\n",
      "\u001b[1;31mBadRequestError\u001b[0m: 'PUGREST.BadRequest'"
     ]
    }
   ],
   "source": [
    "pcp.get_compounds('CC', 'smiles', searchtype='substructure', listkey_count=5)\n",
    "# get('C10H21N', 'formula', listkey_count=3, listkey_start=6)"
   ]
  },
  {
   "cell_type": "code",
   "execution_count": null,
   "metadata": {},
   "outputs": [],
   "source": []
  }
 ],
 "metadata": {
  "kernelspec": {
   "display_name": "Python 3",
   "language": "python",
   "name": "python3"
  },
  "language_info": {
   "codemirror_mode": {
    "name": "ipython",
    "version": 3
   },
   "file_extension": ".py",
   "mimetype": "text/x-python",
   "name": "python",
   "nbconvert_exporter": "python",
   "pygments_lexer": "ipython3",
   "version": "3.7.8"
  },
  "widgets": {
   "application/vnd.jupyter.widget-state+json": {
    "state": {},
    "version_major": 2,
    "version_minor": 0
   }
  }
 },
 "nbformat": 4,
 "nbformat_minor": 4
}
